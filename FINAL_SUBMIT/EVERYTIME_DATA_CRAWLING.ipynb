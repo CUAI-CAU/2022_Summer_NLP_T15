{
 "cells": [
  {
   "cell_type": "markdown",
   "id": "8bf0c15c",
   "metadata": {},
   "source": [
    "# 0. 필수 라이브러리 로드"
   ]
  },
  {
   "cell_type": "code",
   "execution_count": 110,
   "id": "aeb2406e",
   "metadata": {},
   "outputs": [],
   "source": [
    "import selenium\n",
    "from bs4 import BeautifulSoup\n",
    "from selenium import webdriver as wd\n",
    "import time\n",
    "import pandas as pd\n",
    "import random\n",
    "from selenium.webdriver.common.keys import Keys\n",
    "from selenium.webdriver.common.by import By"
   ]
  },
  {
   "cell_type": "markdown",
   "id": "fc56de0a",
   "metadata": {},
   "source": [
    "# 1. 에브리타임 강의평가 글 크롤링하는 함수 정의"
   ]
  },
  {
   "cell_type": "code",
   "execution_count": 111,
   "id": "126a1681",
   "metadata": {},
   "outputs": [],
   "source": [
    "def review_scraping(user_agent, path, my_id, my_password, lecture_name, prof_name, campus):\n",
    "    url = 'https://everytime.kr' \n",
    "    options = wd.ChromeOptions()\n",
    "\n",
    "    options.add_argument(\"no-sandbox\")\n",
    "\n",
    "    options.add_argument(\"--disable-dev-shm-usage\")\n",
    "    \n",
    "    options.add_argument(f\"user-agent={user_agent}\")\n",
    "\n",
    "    options.add_argument('window-size=1920,1080')\n",
    "    #path는 ='r/Users/alsrl/CUAI/' 처럼 마지막에 /를 꼭 붙여줘야함\n",
    "        \n",
    "    driver = wd.Chrome(executable_path = path + 'chromedriver.exe', options = options)\n",
    "    driver.maximize_window()\n",
    "    try:\n",
    "        #브라우저 열기\n",
    "        driver.get(url)\n",
    "\n",
    "        #에브리타임이 아니면 오류 발생하는걸 알려줘라!(driver.title로 페이지 제목 확인 가능)\n",
    "        assert \"에브리타임\" in driver.title \n",
    "        driver.find_element(\"xpath\", \"/html/body/aside/div[1]/a[2]\").click()\n",
    "    \n",
    "    \n",
    "        #아이디 비밀번호 입력\n",
    "        driver.find_element(\"xpath\", '//*[@id=\"container\"]/form/p[1]/input').send_keys(my_id)\n",
    "        driver.find_element(\"xpath\", '//*[@id=\"container\"]/form/p[2]/input').send_keys(my_password)\n",
    "\n",
    "        driver.implicitly_wait(time_to_wait=2) #각 클릭마다 쉬게 해줌\n",
    "\n",
    "        #로그인 클릭\n",
    "        driver.find_element(\"xpath\", '//*[@id=\"container\"]/form/p[3]/input').click()\n",
    "\n",
    "        driver.implicitly_wait(time_to_wait=2) \n",
    "        \n",
    "        #강의평가 클릭\n",
    "        driver.find_element(\"xpath\", '//*[@id=\"menu\"]/li[3]/a').click()\n",
    "\n",
    "        driver.implicitly_wait(time_to_wait=2) \n",
    "        \n",
    "        #검색어를 입력할 요소 찾기\n",
    "        search_box = driver.find_element(\"xpath\", '//*[@id=\"container\"]/form/input[1]')\n",
    "\n",
    "        #검색어 입력 & 엔터 \n",
    "        search_box.send_keys(lecture_name)\n",
    "        search_box.send_keys(Keys.ENTER)\n",
    "\n",
    "        driver.implicitly_wait(time_to_wait=2) #각 클릭마다 쉬게 해줌\n",
    "        \n",
    "        #검색 결과 개수를 저장함\n",
    "        h3_tag = driver.find_elements(By.TAG_NAME, 'h3')\n",
    "        \n",
    "        #강의평가를 저장할 빈 리스트\n",
    "        review_lst = []\n",
    "\n",
    "        #개수만큼 반복함\n",
    "        for i in range(1, len(h3_tag) + 1):\n",
    "                \n",
    "            html = driver.page_source \n",
    "            soup = BeautifulSoup(html, 'html.parser')\n",
    "            \n",
    "            #검색결과에서 첫번째를 클릭\n",
    "            driver.find_element(\"xpath\", f'//*[@id=\"container\"]/div/a[{i}]/h3/p[1]').click()\n",
    "            driver.implicitly_wait(time_to_wait=2)\n",
    "            \n",
    "            #교수님 성함 불러오기\n",
    "            p = driver.find_element('xpath','//*[@id=\"container\"]/div[2]/p[2]/span').text\n",
    "            # 캠퍼스 이름 불러오기\n",
    "            c = driver.find_element('xpath','//*[@id=\"container\"]/div[2]/p[1]/span').text\n",
    "            \n",
    "            #검색한 정보와 맞는지 검증\n",
    "            if not (p==prof_name and c==campus):\n",
    "                driver.implicitly_wait(time_to_wait=2)\n",
    "                #뒤로 가야지 나중에 문제 없이 작동\n",
    "                driver.back()\n",
    "                continue\n",
    "            \n",
    "            #강의평가가 있는지 확인\n",
    "            check_empty = driver.find_elements(By.CLASS_NAME, 'empty')\n",
    "            driver.implicitly_wait(time_to_wait=2)\n",
    "            \n",
    "            if len(check_empty) != 3:\n",
    "                html = driver.page_source\n",
    "            \n",
    "            \n",
    "                soup = BeautifulSoup(html, 'html.parser')\n",
    "            \n",
    "                title = soup.find('h2')\n",
    "            \n",
    "                text = soup.select(\"article\")            \n",
    "        \n",
    "            for num in range(len(text)):\n",
    "                if text[num].select_one('div.pay') == None:\n",
    "                    review = text[num].select_one('p.text').text\n",
    "                    review_lst.append(review)\n",
    "\n",
    "            driver.implicitly_wait(time_to_wait=2)\n",
    "            driver.back()\n",
    "        \n",
    "        driver.quit()\n",
    "        \n",
    "        return review_lst\n",
    "        \n",
    "    except:\n",
    "        error = '에러 발생'\n",
    "        return error"
   ]
  },
  {
   "cell_type": "markdown",
   "id": "484f88b9",
   "metadata": {},
   "source": [
    "# 3. 정의한 함수를 이용하여 에브리타임 데이터 가져오기"
   ]
  },
  {
   "cell_type": "code",
   "execution_count": 116,
   "id": "6e93d42f",
   "metadata": {},
   "outputs": [
    {
     "name": "stderr",
     "output_type": "stream",
     "text": [
      "C:\\Users\\Public\\Documents\\ESTsoft\\CreatorTemp\\ipykernel_3928\\3993985574.py:14: DeprecationWarning: executable_path has been deprecated, please pass in a Service object\n",
      "  driver = wd.Chrome(executable_path = path + 'chromedriver.exe', options = options)\n"
     ]
    }
   ],
   "source": [
    "data = review_scraping('Mozilla/5.0 (Windows NT 10.0; Win64; x64) AppleWebKit/537.36 (KHTML, like Gecko) Chrome/103.0.0.0 Safari/537.36',\n",
    "                       '', '개인 아이디', '개인 비밀번호', 'ACT','교수님 성함','서울캠퍼스')"
   ]
  },
  {
   "cell_type": "code",
   "execution_count": 117,
   "id": "e6ba099f",
   "metadata": {
    "scrolled": true
   },
   "outputs": [
    {
     "name": "stdout",
     "output_type": "stream",
     "text": [
      "기말 팀 프로젝트가 제일 중요해요....다른 거 점수 잘 받아봤자.... 팀원 운이 진짜 좋아야할 것 같네요\n",
      "교수님 너무 좋아용 말씀도 친절하시고 최고최고\n"
     ]
    }
   ],
   "source": [
    "print(data[0])\n",
    "print(data[-1])"
   ]
  },
  {
   "cell_type": "markdown",
   "id": "fea5a532",
   "metadata": {},
   "source": [
    "# 4. 가져온 데이터를 데이터 프레임으로 전환하기"
   ]
  },
  {
   "cell_type": "code",
   "execution_count": 120,
   "id": "1ecc842f",
   "metadata": {},
   "outputs": [],
   "source": [
    "df = pd.DataFrame(data)"
   ]
  },
  {
   "cell_type": "code",
   "execution_count": 123,
   "id": "77decd60",
   "metadata": {},
   "outputs": [
    {
     "data": {
      "text/html": [
       "<div>\n",
       "<style scoped>\n",
       "    .dataframe tbody tr th:only-of-type {\n",
       "        vertical-align: middle;\n",
       "    }\n",
       "\n",
       "    .dataframe tbody tr th {\n",
       "        vertical-align: top;\n",
       "    }\n",
       "\n",
       "    .dataframe thead th {\n",
       "        text-align: right;\n",
       "    }\n",
       "</style>\n",
       "<table border=\"1\" class=\"dataframe\">\n",
       "  <thead>\n",
       "    <tr style=\"text-align: right;\">\n",
       "      <th></th>\n",
       "      <th>document</th>\n",
       "    </tr>\n",
       "  </thead>\n",
       "  <tbody>\n",
       "    <tr>\n",
       "      <th>0</th>\n",
       "      <td>기말 팀 프로젝트가 제일 중요해요....다른 거 점수 잘 받아봤자.... 팀원 운이...</td>\n",
       "    </tr>\n",
       "    <tr>\n",
       "      <th>1</th>\n",
       "      <td>교수님이 친절하시고 학생에게 배려를 많이 줍니다! 그래도 팀원을 잘 만나야 한학기 ...</td>\n",
       "    </tr>\n",
       "    <tr>\n",
       "      <th>2</th>\n",
       "      <td>들어보면 왜 평점이 좋은 수업인지 알 수 있습니다 학생 배려를 정말 많이 해주십니다...</td>\n",
       "    </tr>\n",
       "    <tr>\n",
       "      <th>3</th>\n",
       "      <td>기말동영상 ㅈ되면 커버 불가능합니다 개인동영상은 대충하든 열심히하든 다 만점인 걸로...</td>\n",
       "    </tr>\n",
       "    <tr>\n",
       "      <th>4</th>\n",
       "      <td>개인과제는 다 만점 주셨어요. 그래서 팀 프로젝트 반영이 크니까 팀 프로젝트 잘 해...</td>\n",
       "    </tr>\n",
       "    <tr>\n",
       "      <th>...</th>\n",
       "      <td>...</td>\n",
       "    </tr>\n",
       "    <tr>\n",
       "      <th>124</th>\n",
       "      <td>학생들에 대한 배려가 넘치시고 격려도 많이 해주십니다</td>\n",
       "    </tr>\n",
       "    <tr>\n",
       "      <th>125</th>\n",
       "      <td>팀원잘만나고 팀장 잘만나야돼요팀은 랜덤이니 기도하시고 또 기도하세요성실하게하는모습만...</td>\n",
       "    </tr>\n",
       "    <tr>\n",
       "      <th>126</th>\n",
       "      <td>비대면 수업이었는데 교수님 좋으시고 학생들 배려 많이 해주셨어요. 피드백도 꼼꼼히 ...</td>\n",
       "    </tr>\n",
       "    <tr>\n",
       "      <th>127</th>\n",
       "      <td>교수님 수업에 열정도 있으시고 격려와 재미난학습으로 즐겁게 배웠습니다</td>\n",
       "    </tr>\n",
       "    <tr>\n",
       "      <th>128</th>\n",
       "      <td>교수님 너무 좋아용 말씀도 친절하시고 최고최고</td>\n",
       "    </tr>\n",
       "  </tbody>\n",
       "</table>\n",
       "<p>129 rows × 1 columns</p>\n",
       "</div>"
      ],
      "text/plain": [
       "                                              document\n",
       "0    기말 팀 프로젝트가 제일 중요해요....다른 거 점수 잘 받아봤자.... 팀원 운이...\n",
       "1    교수님이 친절하시고 학생에게 배려를 많이 줍니다! 그래도 팀원을 잘 만나야 한학기 ...\n",
       "2    들어보면 왜 평점이 좋은 수업인지 알 수 있습니다 학생 배려를 정말 많이 해주십니다...\n",
       "3    기말동영상 ㅈ되면 커버 불가능합니다 개인동영상은 대충하든 열심히하든 다 만점인 걸로...\n",
       "4    개인과제는 다 만점 주셨어요. 그래서 팀 프로젝트 반영이 크니까 팀 프로젝트 잘 해...\n",
       "..                                                 ...\n",
       "124                      학생들에 대한 배려가 넘치시고 격려도 많이 해주십니다\n",
       "125  팀원잘만나고 팀장 잘만나야돼요팀은 랜덤이니 기도하시고 또 기도하세요성실하게하는모습만...\n",
       "126  비대면 수업이었는데 교수님 좋으시고 학생들 배려 많이 해주셨어요. 피드백도 꼼꼼히 ...\n",
       "127             교수님 수업에 열정도 있으시고 격려와 재미난학습으로 즐겁게 배웠습니다\n",
       "128                          교수님 너무 좋아용 말씀도 친절하시고 최고최고\n",
       "\n",
       "[129 rows x 1 columns]"
      ]
     },
     "execution_count": 123,
     "metadata": {},
     "output_type": "execute_result"
    }
   ],
   "source": [
    "df.columns = ['document']\n",
    "df"
   ]
  },
  {
   "cell_type": "markdown",
   "id": "04541d7c",
   "metadata": {},
   "source": [
    "# 5. 데이터 내보내기"
   ]
  },
  {
   "cell_type": "code",
   "execution_count": 126,
   "id": "f246c56f",
   "metadata": {},
   "outputs": [],
   "source": [
    "df.to_excel('et_data.xlsx', index=False)"
   ]
  }
 ],
 "metadata": {
  "kernelspec": {
   "display_name": "Python 3 (ipykernel)",
   "language": "python",
   "name": "python3"
  },
  "language_info": {
   "codemirror_mode": {
    "name": "ipython",
    "version": 3
   },
   "file_extension": ".py",
   "mimetype": "text/x-python",
   "name": "python",
   "nbconvert_exporter": "python",
   "pygments_lexer": "ipython3",
   "version": "3.9.12"
  }
 },
 "nbformat": 4,
 "nbformat_minor": 5
}
