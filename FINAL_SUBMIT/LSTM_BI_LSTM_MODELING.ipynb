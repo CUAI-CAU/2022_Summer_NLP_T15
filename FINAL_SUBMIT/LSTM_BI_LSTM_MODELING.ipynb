{
  "nbformat": 4,
  "nbformat_minor": 0,
  "metadata": {
    "colab": {
      "name": "LSTM_BI-LSTM_MODELING",
      "provenance": [],
      "collapsed_sections": []
    },
    "kernelspec": {
      "name": "python3",
      "display_name": "Python 3"
    },
    "language_info": {
      "name": "python"
    },
    "gpuClass": "standard",
    "accelerator": "GPU"
  },
  "cells": [
    {
      "cell_type": "markdown",
      "source": [
        "# 0. 구글 드라이브와 연결 및 각종 라이브러리 설정"
      ],
      "metadata": {
        "id": "ecmjLwiHMo5q"
      }
    },
    {
      "cell_type": "markdown",
      "source": [
        "### 구글 드라이브 연동"
      ],
      "metadata": {
        "id": "GGYiNAKx7N8j"
      }
    },
    {
      "cell_type": "code",
      "source": [
        "from google.colab import drive\n",
        "drive.mount('/content/gdrive')"
      ],
      "metadata": {
        "colab": {
          "base_uri": "https://localhost:8080/"
        },
        "id": "fz-h9DUQNRUq",
        "outputId": "f7489d5f-f06b-47cb-fe05-a2efa00e319a"
      },
      "execution_count": 2,
      "outputs": [
        {
          "output_type": "stream",
          "name": "stdout",
          "text": [
            "Drive already mounted at /content/gdrive; to attempt to forcibly remount, call drive.mount(\"/content/gdrive\", force_remount=True).\n"
          ]
        }
      ]
    },
    {
      "cell_type": "markdown",
      "source": [
        "### 필수 라이브러리 설치"
      ],
      "metadata": {
        "id": "q-4e0unb7Rym"
      }
    },
    {
      "cell_type": "code",
      "source": [
        "!pip install konlpy"
      ],
      "metadata": {
        "colab": {
          "base_uri": "https://localhost:8080/"
        },
        "id": "jrv0IQctX84X",
        "outputId": "9cc4095f-07e6-4716-ff09-aa0cee20f1dc"
      },
      "execution_count": 3,
      "outputs": [
        {
          "output_type": "stream",
          "name": "stdout",
          "text": [
            "Looking in indexes: https://pypi.org/simple, https://us-python.pkg.dev/colab-wheels/public/simple/\n",
            "Requirement already satisfied: konlpy in /usr/local/lib/python3.7/dist-packages (0.6.0)\n",
            "Requirement already satisfied: numpy>=1.6 in /usr/local/lib/python3.7/dist-packages (from konlpy) (1.21.6)\n",
            "Requirement already satisfied: JPype1>=0.7.0 in /usr/local/lib/python3.7/dist-packages (from konlpy) (1.4.0)\n",
            "Requirement already satisfied: lxml>=4.1.0 in /usr/local/lib/python3.7/dist-packages (from konlpy) (4.9.1)\n",
            "Requirement already satisfied: typing-extensions in /usr/local/lib/python3.7/dist-packages (from JPype1>=0.7.0->konlpy) (4.1.1)\n"
          ]
        }
      ]
    },
    {
      "cell_type": "markdown",
      "source": [
        "### 필수 라이브러리 로드"
      ],
      "metadata": {
        "id": "KRWiXVMN7U9g"
      }
    },
    {
      "cell_type": "code",
      "source": [
        "import pandas as pd\n",
        "import numpy as np\n",
        "from sklearn.model_selection import train_test_split\n",
        "from konlpy.tag import Okt\n",
        "from tqdm import tqdm\n",
        "from tensorflow.keras.preprocessing.text import Tokenizer\n",
        "from tensorflow.keras.preprocessing.sequence import pad_sequences\n",
        "import matplotlib.pyplot as plt\n",
        "import tensorflow as tf\n",
        "import pickle\n",
        "import sklearn"
      ],
      "metadata": {
        "id": "Xz2Qc3zZNRZU"
      },
      "execution_count": 42,
      "outputs": []
    },
    {
      "cell_type": "markdown",
      "source": [
        "### 폴더 경로 지정"
      ],
      "metadata": {
        "id": "o0nps-3N7m9l"
      }
    },
    {
      "cell_type": "code",
      "source": [
        "path = '/content/gdrive/MyDrive/FINAL_SUBMIT/'"
      ],
      "metadata": {
        "id": "J-4e7vOA7nCX"
      },
      "execution_count": 5,
      "outputs": []
    },
    {
      "cell_type": "markdown",
      "source": [
        "# 1. 데이터 로드"
      ],
      "metadata": {
        "id": "IQogE2WLNRd3"
      }
    },
    {
      "cell_type": "markdown",
      "source": [
        "### 데이터 로드 및 최종 점검"
      ],
      "metadata": {
        "id": "xIB58AHfNRiX"
      }
    },
    {
      "cell_type": "code",
      "source": [
        "data = pd.read_excel(path+'final_data.xlsx', engine='openpyxl')"
      ],
      "metadata": {
        "id": "VpGk5SIZNRm8"
      },
      "execution_count": 5,
      "outputs": []
    },
    {
      "cell_type": "code",
      "source": [
        "data.head(2)"
      ],
      "metadata": {
        "id": "lto9XPTINRq2",
        "colab": {
          "base_uri": "https://localhost:8080/",
          "height": 112
        },
        "outputId": "2d68cad1-bafd-4915-cbcc-7324df5073af"
      },
      "execution_count": 6,
      "outputs": [
        {
          "output_type": "execute_result",
          "data": {
            "text/plain": [
              "                                            document  label\n",
              "0                             어릴 때 보고 지금 다시 봐도 재밌어ㅋㅋ      1\n",
              "1  디자인을 배우는 학생으로 외국 디자이너와 그들이 일군 전통을 통해 발전해가는 문화산...      1"
            ],
            "text/html": [
              "\n",
              "  <div id=\"df-36984fa1-1490-45b9-8a80-ff43ed09b17e\">\n",
              "    <div class=\"colab-df-container\">\n",
              "      <div>\n",
              "<style scoped>\n",
              "    .dataframe tbody tr th:only-of-type {\n",
              "        vertical-align: middle;\n",
              "    }\n",
              "\n",
              "    .dataframe tbody tr th {\n",
              "        vertical-align: top;\n",
              "    }\n",
              "\n",
              "    .dataframe thead th {\n",
              "        text-align: right;\n",
              "    }\n",
              "</style>\n",
              "<table border=\"1\" class=\"dataframe\">\n",
              "  <thead>\n",
              "    <tr style=\"text-align: right;\">\n",
              "      <th></th>\n",
              "      <th>document</th>\n",
              "      <th>label</th>\n",
              "    </tr>\n",
              "  </thead>\n",
              "  <tbody>\n",
              "    <tr>\n",
              "      <th>0</th>\n",
              "      <td>어릴 때 보고 지금 다시 봐도 재밌어ㅋㅋ</td>\n",
              "      <td>1</td>\n",
              "    </tr>\n",
              "    <tr>\n",
              "      <th>1</th>\n",
              "      <td>디자인을 배우는 학생으로 외국 디자이너와 그들이 일군 전통을 통해 발전해가는 문화산...</td>\n",
              "      <td>1</td>\n",
              "    </tr>\n",
              "  </tbody>\n",
              "</table>\n",
              "</div>\n",
              "      <button class=\"colab-df-convert\" onclick=\"convertToInteractive('df-36984fa1-1490-45b9-8a80-ff43ed09b17e')\"\n",
              "              title=\"Convert this dataframe to an interactive table.\"\n",
              "              style=\"display:none;\">\n",
              "        \n",
              "  <svg xmlns=\"http://www.w3.org/2000/svg\" height=\"24px\"viewBox=\"0 0 24 24\"\n",
              "       width=\"24px\">\n",
              "    <path d=\"M0 0h24v24H0V0z\" fill=\"none\"/>\n",
              "    <path d=\"M18.56 5.44l.94 2.06.94-2.06 2.06-.94-2.06-.94-.94-2.06-.94 2.06-2.06.94zm-11 1L8.5 8.5l.94-2.06 2.06-.94-2.06-.94L8.5 2.5l-.94 2.06-2.06.94zm10 10l.94 2.06.94-2.06 2.06-.94-2.06-.94-.94-2.06-.94 2.06-2.06.94z\"/><path d=\"M17.41 7.96l-1.37-1.37c-.4-.4-.92-.59-1.43-.59-.52 0-1.04.2-1.43.59L10.3 9.45l-7.72 7.72c-.78.78-.78 2.05 0 2.83L4 21.41c.39.39.9.59 1.41.59.51 0 1.02-.2 1.41-.59l7.78-7.78 2.81-2.81c.8-.78.8-2.07 0-2.86zM5.41 20L4 18.59l7.72-7.72 1.47 1.35L5.41 20z\"/>\n",
              "  </svg>\n",
              "      </button>\n",
              "      \n",
              "  <style>\n",
              "    .colab-df-container {\n",
              "      display:flex;\n",
              "      flex-wrap:wrap;\n",
              "      gap: 12px;\n",
              "    }\n",
              "\n",
              "    .colab-df-convert {\n",
              "      background-color: #E8F0FE;\n",
              "      border: none;\n",
              "      border-radius: 50%;\n",
              "      cursor: pointer;\n",
              "      display: none;\n",
              "      fill: #1967D2;\n",
              "      height: 32px;\n",
              "      padding: 0 0 0 0;\n",
              "      width: 32px;\n",
              "    }\n",
              "\n",
              "    .colab-df-convert:hover {\n",
              "      background-color: #E2EBFA;\n",
              "      box-shadow: 0px 1px 2px rgba(60, 64, 67, 0.3), 0px 1px 3px 1px rgba(60, 64, 67, 0.15);\n",
              "      fill: #174EA6;\n",
              "    }\n",
              "\n",
              "    [theme=dark] .colab-df-convert {\n",
              "      background-color: #3B4455;\n",
              "      fill: #D2E3FC;\n",
              "    }\n",
              "\n",
              "    [theme=dark] .colab-df-convert:hover {\n",
              "      background-color: #434B5C;\n",
              "      box-shadow: 0px 1px 3px 1px rgba(0, 0, 0, 0.15);\n",
              "      filter: drop-shadow(0px 1px 2px rgba(0, 0, 0, 0.3));\n",
              "      fill: #FFFFFF;\n",
              "    }\n",
              "  </style>\n",
              "\n",
              "      <script>\n",
              "        const buttonEl =\n",
              "          document.querySelector('#df-36984fa1-1490-45b9-8a80-ff43ed09b17e button.colab-df-convert');\n",
              "        buttonEl.style.display =\n",
              "          google.colab.kernel.accessAllowed ? 'block' : 'none';\n",
              "\n",
              "        async function convertToInteractive(key) {\n",
              "          const element = document.querySelector('#df-36984fa1-1490-45b9-8a80-ff43ed09b17e');\n",
              "          const dataTable =\n",
              "            await google.colab.kernel.invokeFunction('convertToInteractive',\n",
              "                                                     [key], {});\n",
              "          if (!dataTable) return;\n",
              "\n",
              "          const docLinkHtml = 'Like what you see? Visit the ' +\n",
              "            '<a target=\"_blank\" href=https://colab.research.google.com/notebooks/data_table.ipynb>data table notebook</a>'\n",
              "            + ' to learn more about interactive tables.';\n",
              "          element.innerHTML = '';\n",
              "          dataTable['output_type'] = 'display_data';\n",
              "          await google.colab.output.renderOutput(dataTable, element);\n",
              "          const docLink = document.createElement('div');\n",
              "          docLink.innerHTML = docLinkHtml;\n",
              "          element.appendChild(docLink);\n",
              "        }\n",
              "      </script>\n",
              "    </div>\n",
              "  </div>\n",
              "  "
            ]
          },
          "metadata": {},
          "execution_count": 6
        }
      ]
    },
    {
      "cell_type": "markdown",
      "source": [
        "# 2. 학습용 데이터와 테스트용 데이터 나누기"
      ],
      "metadata": {
        "id": "Ym3e2grRNSCP"
      }
    },
    {
      "cell_type": "code",
      "source": [
        "train_data, test_data = train_test_split(data, test_size=0.25, random_state=42,stratify = data['label'], shuffle=True)"
      ],
      "metadata": {
        "id": "4sO9NLEnUp7S"
      },
      "execution_count": 7,
      "outputs": []
    },
    {
      "cell_type": "code",
      "source": [
        "train_data.shape, test_data.shape"
      ],
      "metadata": {
        "colab": {
          "base_uri": "https://localhost:8080/"
        },
        "id": "nNSIu9PwUp_9",
        "outputId": "914e6631-35fa-4808-ef06-227132dceb89"
      },
      "execution_count": 8,
      "outputs": [
        {
          "output_type": "execute_result",
          "data": {
            "text/plain": [
              "((219676, 2), (73226, 2))"
            ]
          },
          "metadata": {},
          "execution_count": 8
        }
      ]
    },
    {
      "cell_type": "code",
      "source": [
        "print(\"train_data 클래스별 샘플 개수:\\n\",\n",
        "     {n: v for n, v in zip([0, 1], np.bincount(train_data['label']))}, '긍정의 비율:', train_data['label'].sum()/train_data.shape[0]) \n",
        "print(\"test_data 클래스별 샘플 개수:\\n\",\n",
        "     {n: v for n, v in zip([0, 1], np.bincount(test_data['label']))}, '긍정의 비율:', test_data['label'].sum()/test_data.shape[0]) \n",
        "\n",
        "# 잘 나눠진 것을 볼 수 있다."
      ],
      "metadata": {
        "colab": {
          "base_uri": "https://localhost:8080/"
        },
        "id": "O4sVSqAQUqIe",
        "outputId": "c988e711-d95f-4f10-d590-d09d6f14471d"
      },
      "execution_count": 9,
      "outputs": [
        {
          "output_type": "stream",
          "name": "stdout",
          "text": [
            "train_data 클래스별 샘플 개수:\n",
            " {0: 136320, 1: 83356} 긍정의 비율: 0.3794497350643675\n",
            "test_data 클래스별 샘플 개수:\n",
            " {0: 45440, 1: 27786} 긍정의 비율: 0.3794553846994237\n"
          ]
        }
      ]
    },
    {
      "cell_type": "markdown",
      "source": [
        "# 3. 토큰화"
      ],
      "metadata": {
        "id": "dPiH9XBCUqMX"
      }
    },
    {
      "cell_type": "markdown",
      "source": [
        "### 불용어(조사, 접사 등) 제거 및 토큰화 진행"
      ],
      "metadata": {
        "id": "9qj66r9-Jv4U"
      }
    },
    {
      "cell_type": "code",
      "source": [
        "stopwords = ['ㅋ', 'ㅎ', 'ㅠ', 'ㅉ', 'ㅡ']"
      ],
      "metadata": {
        "id": "GYGgomaNUqQG"
      },
      "execution_count": 10,
      "outputs": []
    },
    {
      "cell_type": "code",
      "source": [
        "okt = Okt()"
      ],
      "metadata": {
        "id": "FCm8uut7UqTx"
      },
      "execution_count": 11,
      "outputs": []
    },
    {
      "cell_type": "code",
      "source": [
        "okt.tagset"
      ],
      "metadata": {
        "colab": {
          "base_uri": "https://localhost:8080/"
        },
        "id": "VsT81d0jtR94",
        "outputId": "1e20f0f0-db46-4e55-f985-d5d043c4f8fa"
      },
      "execution_count": 12,
      "outputs": [
        {
          "output_type": "execute_result",
          "data": {
            "text/plain": [
              "{'Adjective': '형용사',\n",
              " 'Adverb': '부사',\n",
              " 'Alpha': '알파벳',\n",
              " 'Conjunction': '접속사',\n",
              " 'Determiner': '관형사',\n",
              " 'Eomi': '어미',\n",
              " 'Exclamation': '감탄사',\n",
              " 'Foreign': '외국어, 한자 및 기타기호',\n",
              " 'Hashtag': '트위터 해쉬태그',\n",
              " 'Josa': '조사',\n",
              " 'KoreanParticle': '(ex: ㅋㅋ)',\n",
              " 'Noun': '명사',\n",
              " 'Number': '숫자',\n",
              " 'PreEomi': '선어말어미',\n",
              " 'Punctuation': '구두점',\n",
              " 'ScreenName': '트위터 아이디',\n",
              " 'Suffix': '접미사',\n",
              " 'Unknown': '미등록어',\n",
              " 'Verb': '동사'}"
            ]
          },
          "metadata": {},
          "execution_count": 12
        }
      ]
    },
    {
      "cell_type": "code",
      "source": [
        "X_train = []\n",
        "for sentence in tqdm(train_data['document']):\n",
        "    tokenized_sentence = okt.pos(sentence, stem=True) # 토큰화\n",
        "    stopwords_removed_sentence = [word for word, pos in tokenized_sentence if (not word in stopwords) and (not pos in ['Josa', 'Eomi', 'PreEomi', 'Suffix', 'Unknown'])] # 불용어 제거\n",
        "    X_train.append(stopwords_removed_sentence)"
      ],
      "metadata": {
        "colab": {
          "base_uri": "https://localhost:8080/"
        },
        "id": "CnzZdSHxUqXC",
        "outputId": "6dc19a9d-976e-4e5b-f732-34d9918fd111"
      },
      "execution_count": 13,
      "outputs": [
        {
          "output_type": "stream",
          "name": "stderr",
          "text": [
            "100%|██████████| 219676/219676 [09:41<00:00, 377.71it/s]\n"
          ]
        }
      ]
    },
    {
      "cell_type": "code",
      "source": [
        "X_test = []\n",
        "for sentence in tqdm(test_data['document']):\n",
        "    tokenized_sentence = okt.pos(sentence, stem=True) # 토큰화\n",
        "    stopwords_removed_sentence = [word for word, pos in tokenized_sentence if (not word in stopwords) and (not pos in ['Josa', 'Eomi', 'PreEomi', 'Suffix', 'Unknown'])] # 불용어 제거\n",
        "    X_test.append(stopwords_removed_sentence)"
      ],
      "metadata": {
        "colab": {
          "base_uri": "https://localhost:8080/"
        },
        "id": "oQCUmoo_Uqae",
        "outputId": "22b86281-1eff-469f-9725-bae4be486aba"
      },
      "execution_count": 14,
      "outputs": [
        {
          "output_type": "stream",
          "name": "stderr",
          "text": [
            "100%|██████████| 73226/73226 [03:49<00:00, 319.40it/s]\n"
          ]
        }
      ]
    },
    {
      "cell_type": "code",
      "source": [
        "X_train[:2]"
      ],
      "metadata": {
        "id": "v_KlaDbdNSF_",
        "colab": {
          "base_uri": "https://localhost:8080/"
        },
        "outputId": "17f4a5b5-ce53-46d1-9a49-4994e7237ebc"
      },
      "execution_count": 15,
      "outputs": [
        {
          "output_type": "execute_result",
          "data": {
            "text/plain": [
              "[['원작', '감동', '없다', '화려하다', '남다', '최악', '작품'], ['답답하다', '죽다', '줄', '알다']]"
            ]
          },
          "metadata": {},
          "execution_count": 15
        }
      ]
    },
    {
      "cell_type": "markdown",
      "source": [
        "### 단어 집합 생성"
      ],
      "metadata": {
        "id": "KIfSD5duJ5KL"
      }
    },
    {
      "cell_type": "code",
      "source": [
        "tokenizer = Tokenizer()\n",
        "tokenizer.fit_on_texts(X_train)"
      ],
      "metadata": {
        "id": "pcRNvHEDNSJX"
      },
      "execution_count": 16,
      "outputs": []
    },
    {
      "cell_type": "code",
      "source": [
        "len(tokenizer.word_index)"
      ],
      "metadata": {
        "colab": {
          "base_uri": "https://localhost:8080/"
        },
        "id": "Jo4-usv9caWT",
        "outputId": "bef20f0e-fa4c-4f0f-bbf1-fea40dd19593"
      },
      "execution_count": 17,
      "outputs": [
        {
          "output_type": "execute_result",
          "data": {
            "text/plain": [
              "38703"
            ]
          },
          "metadata": {},
          "execution_count": 17
        }
      ]
    },
    {
      "cell_type": "code",
      "source": [
        "threshold = 3\n",
        "total_cnt = len(tokenizer.word_index) # 단어의 수\n",
        "rare_cnt = 0 # 등장 빈도수가 threshold보다 작은 단어의 개수를 카운트\n",
        "total_freq = 0 # 훈련 데이터의 전체 단어 빈도수 총 합\n",
        "rare_freq = 0 # 등장 빈도수가 threshold보다 작은 단어의 등장 빈도수의 총 합\n",
        "\n",
        "# 단어와 빈도수의 쌍(pair)을 key와 value로 받는다.\n",
        "for key, value in tokenizer.word_counts.items():\n",
        "    total_freq = total_freq + value\n",
        "\n",
        "    # 단어의 등장 빈도수가 threshold보다 작으면\n",
        "    if(value < threshold):\n",
        "        rare_cnt = rare_cnt + 1\n",
        "        rare_freq = rare_freq + value\n",
        "\n",
        "print('단어 집합(vocabulary)의 크기 :',total_cnt)\n",
        "print('등장 빈도가 %s번 이하인 희귀 단어의 수: %s'%(threshold - 1, rare_cnt))\n",
        "print(\"단어 집합에서 희귀 단어의 비율:\", (rare_cnt / total_cnt)*100)\n",
        "print(\"전체 등장 빈도에서 희귀 단어 등장 빈도 비율:\", (rare_freq / total_freq)*100)"
      ],
      "metadata": {
        "colab": {
          "base_uri": "https://localhost:8080/"
        },
        "id": "RwpJ4YVpcaez",
        "outputId": "53a4f854-8a84-4c7c-f5c3-f5c70930bf4d"
      },
      "execution_count": 18,
      "outputs": [
        {
          "output_type": "stream",
          "name": "stdout",
          "text": [
            "단어 집합(vocabulary)의 크기 : 38703\n",
            "등장 빈도가 2번 이하인 희귀 단어의 수: 18872\n",
            "단어 집합에서 희귀 단어의 비율: 48.76107795261349\n",
            "전체 등장 빈도에서 희귀 단어 등장 빈도 비율: 1.0970561655961744\n"
          ]
        }
      ]
    },
    {
      "cell_type": "code",
      "source": [
        "# 전체 단어 개수 중 빈도수 2이하인 단어는 제거.\n",
        "# 0번 패딩 토큰을 고려하여 + 1\n",
        "vocab_size = total_cnt - rare_cnt + 1\n",
        "print('단어 집합의 크기 :',vocab_size)"
      ],
      "metadata": {
        "colab": {
          "base_uri": "https://localhost:8080/"
        },
        "id": "FG0QR1Y8cai1",
        "outputId": "104589bf-b1d6-4289-cb26-c13055f58360"
      },
      "execution_count": 19,
      "outputs": [
        {
          "output_type": "stream",
          "name": "stdout",
          "text": [
            "단어 집합의 크기 : 19832\n"
          ]
        }
      ]
    },
    {
      "cell_type": "markdown",
      "source": [
        "### 정수 인코딩 진행"
      ],
      "metadata": {
        "id": "t-vUW6FSKjQJ"
      }
    },
    {
      "cell_type": "code",
      "source": [
        "tokenizer = Tokenizer(vocab_size) #\tthe maximum number of words to keep, based on word frequency. Only the most common num_words-1 words will be kept.\n",
        "tokenizer.fit_on_texts(X_train)\n",
        "X_train = tokenizer.texts_to_sequences(X_train)\n",
        "X_test = tokenizer.texts_to_sequences(X_test)"
      ],
      "metadata": {
        "id": "lAELVKSsNSMs"
      },
      "execution_count": 20,
      "outputs": []
    },
    {
      "cell_type": "code",
      "source": [
        "with open(path+'tokenizer.pickle', 'wb') as handle:\n",
        "    pickle.dump(tokenizer, handle)\n",
        "\n",
        "# tokenizer를 저장"
      ],
      "metadata": {
        "id": "QDOnbWqnLLz6"
      },
      "execution_count": 21,
      "outputs": []
    },
    {
      "cell_type": "code",
      "source": [
        "print(X_train[0])    # 예시"
      ],
      "metadata": {
        "colab": {
          "base_uri": "https://localhost:8080/"
        },
        "id": "j_lrCSg3erjm",
        "outputId": "265a1901-363e-40e7-dc99-48408bb790b9"
      },
      "execution_count": 22,
      "outputs": [
        {
          "output_type": "stream",
          "name": "stdout",
          "text": [
            "[258, 59, 5, 797, 133, 148, 98]\n"
          ]
        }
      ]
    },
    {
      "cell_type": "code",
      "source": [
        "y_train = np.array(train_data['label'])\n",
        "y_test = np.array(test_data['label'])"
      ],
      "metadata": {
        "id": "KxmD2xUpe8fV"
      },
      "execution_count": 23,
      "outputs": []
    },
    {
      "cell_type": "code",
      "source": [
        "drop_train = [index for index, sentence in enumerate(X_train) if len(sentence) < 1]\n",
        "drop_test = [index for index, sentence in enumerate(X_test) if len(sentence) < 1]"
      ],
      "metadata": {
        "id": "YJ1OpxwYfVOa"
      },
      "execution_count": 24,
      "outputs": []
    },
    {
      "cell_type": "code",
      "source": [
        "# 빈 샘플들을 제거\n",
        "X_train = np.delete(X_train, drop_train, axis=0)\n",
        "y_train = np.delete(y_train, drop_train, axis=0)\n",
        "print(len(X_train))\n",
        "print(len(y_train))\n",
        "\n",
        "# 빈 샘플들을 제거\n",
        "X_test = np.delete(X_test, drop_test, axis=0)\n",
        "y_test = np.delete(y_test, drop_test, axis=0)\n",
        "print(len(X_test))\n",
        "print(len(y_test))\n",
        "\n",
        "# 주의: 한번만 실행해야함"
      ],
      "metadata": {
        "colab": {
          "base_uri": "https://localhost:8080/"
        },
        "id": "kEPlqmR5fpyN",
        "outputId": "2c82b46c-1963-47d8-fa62-f76710604088"
      },
      "execution_count": 25,
      "outputs": [
        {
          "output_type": "stream",
          "name": "stdout",
          "text": [
            "219491\n",
            "219491\n",
            "73156\n",
            "73156\n"
          ]
        },
        {
          "output_type": "stream",
          "name": "stderr",
          "text": [
            "/usr/local/lib/python3.7/dist-packages/numpy/lib/function_base.py:4454: VisibleDeprecationWarning: Creating an ndarray from ragged nested sequences (which is a list-or-tuple of lists-or-tuples-or ndarrays with different lengths or shapes) is deprecated. If you meant to do this, you must specify 'dtype=object' when creating the ndarray.\n",
            "  arr = asarray(arr)\n"
          ]
        }
      ]
    },
    {
      "cell_type": "code",
      "source": [
        "print('리뷰의 최대 길이 :',max(len(review) for review in X_train))\n",
        "print('리뷰의 평균 길이 :',sum(map(len, X_train))/len(X_train))\n",
        "plt.hist([len(review) for review in X_train], bins=50)\n",
        "plt.xlabel('length of samples')\n",
        "plt.ylabel('number of samples')\n",
        "plt.show()"
      ],
      "metadata": {
        "colab": {
          "base_uri": "https://localhost:8080/",
          "height": 316
        },
        "id": "3zUoS3zUfp2h",
        "outputId": "597691eb-0cb1-48a0-8e41-a7e79583a43a"
      },
      "execution_count": 26,
      "outputs": [
        {
          "output_type": "stream",
          "name": "stdout",
          "text": [
            "리뷰의 최대 길이 : 66\n",
            "리뷰의 평균 길이 : 9.748017002975065\n"
          ]
        },
        {
          "output_type": "display_data",
          "data": {
            "text/plain": [
              "<Figure size 432x288 with 1 Axes>"
            ],
            "image/png": "[encoded data removed]"
          },
          "metadata": {
            "needs_background": "light"
          }
        }
      ]
    },
    {
      "cell_type": "code",
      "source": [
        "def below_threshold_len(max_len, nested_list):\n",
        "  count = 0\n",
        "  for sentence in nested_list:\n",
        "    if(len(sentence) <= max_len):\n",
        "        count = count + 1\n",
        "  print('전체 샘플 중 길이가 %s 이하인 샘플의 비율: %s'%(max_len, (count / len(nested_list))*100))"
      ],
      "metadata": {
        "id": "062DjJjbfp7e"
      },
      "execution_count": 27,
      "outputs": []
    },
    {
      "cell_type": "code",
      "source": [
        "max_len = 25\n",
        "below_threshold_len(max_len, X_train)"
      ],
      "metadata": {
        "colab": {
          "base_uri": "https://localhost:8080/"
        },
        "id": "rYL5iq8Nfp_s",
        "outputId": "ca864ec9-daca-4208-8357-3aeae43e9b4a"
      },
      "execution_count": 28,
      "outputs": [
        {
          "output_type": "stream",
          "name": "stdout",
          "text": [
            "전체 샘플 중 길이가 25 이하인 샘플의 비율: 94.89136228820317\n"
          ]
        }
      ]
    },
    {
      "cell_type": "code",
      "source": [
        "X_train = pad_sequences(X_train, maxlen=max_len)\n",
        "X_test = pad_sequences(X_test, maxlen=max_len)"
      ],
      "metadata": {
        "id": "RLMzH3WffqD9"
      },
      "execution_count": 29,
      "outputs": []
    },
    {
      "cell_type": "code",
      "source": [
        "X_train"
      ],
      "metadata": {
        "colab": {
          "base_uri": "https://localhost:8080/"
        },
        "id": "-4Cu9mz8fqH9",
        "outputId": "336997a8-dd89-4e40-81f2-5aa21539ff94"
      },
      "execution_count": 30,
      "outputs": [
        {
          "output_type": "execute_result",
          "data": {
            "text/plain": [
              "array([[    0,     0,     0, ...,   133,   148,    98],\n",
              "       [    0,     0,     0, ...,   165,    83,    79],\n",
              "       [    0,     0,     0, ..., 14995,    48,   733],\n",
              "       ...,\n",
              "       [    0,     0,     0, ...,    99,   175,    12],\n",
              "       [    0,     0,     0, ...,   603,    33,    57],\n",
              "       [    0,     0,     0, ...,    51,    43,     1]], dtype=int32)"
            ]
          },
          "metadata": {},
          "execution_count": 30
        }
      ]
    },
    {
      "cell_type": "code",
      "source": [
        "np.save(path+'X_train.npy', X_train)\n",
        "np.save(path+'X_test.npy', X_test)\n",
        "\n",
        "np.save(path+'y_train.npy', y_train)\n",
        "np.save(path+'y_test.npy', y_test)"
      ],
      "metadata": {
        "id": "ODxmx9KzfqMH"
      },
      "execution_count": 31,
      "outputs": []
    },
    {
      "cell_type": "markdown",
      "source": [
        "# 4. 모델 생성 및 학습"
      ],
      "metadata": {
        "id": "qYr375S72_qo"
      }
    },
    {
      "cell_type": "markdown",
      "source": [
        "### 훈련 데이터와 테스트 데이터 로드"
      ],
      "metadata": {
        "id": "YYxGtQcAQBC3"
      }
    },
    {
      "cell_type": "code",
      "source": [
        "X_train = np.load(path+'X_train.npy', allow_pickle=True)\n",
        "X_test = np.load(path+'X_test.npy', allow_pickle=True)\n",
        "\n",
        "y_train = np.load(path+'y_train.npy', allow_pickle=True)\n",
        "y_test = np.load(path+'y_test.npy', allow_pickle=True)"
      ],
      "metadata": {
        "id": "xlFomUu_fqPw"
      },
      "execution_count": 6,
      "outputs": []
    },
    {
      "cell_type": "markdown",
      "source": [
        "### LSTM 모델로 훈련"
      ],
      "metadata": {
        "id": "O29KPs4kQAif"
      }
    },
    {
      "cell_type": "code",
      "source": [
        "from tensorflow.keras.layers import Embedding, Dense, LSTM\n",
        "from tensorflow.keras.models import Sequential\n",
        "from tensorflow.keras.models import load_model\n",
        "from tensorflow.keras.callbacks import EarlyStopping, ModelCheckpoint\n",
        "\n",
        "embedding_dim = 100\n",
        "hidden_units = 128\n",
        "\n",
        "model = Sequential()\n",
        "model.add(Embedding(vocab_size, embedding_dim))\n",
        "model.add(LSTM(hidden_units))\n",
        "model.add(Dense(1, activation='sigmoid'))\n",
        "\n",
        "es = EarlyStopping(monitor='val_loss', mode='min', verbose=1, patience=4)\n",
        "mc = ModelCheckpoint(path+'best_lstm_model.h5', monitor='val_acc', mode='max', verbose=1, save_best_only=True)\n",
        "\n",
        "model.compile(optimizer='rmsprop', loss='binary_crossentropy', metrics=['acc'])\n",
        "\n",
        "with tf.device('/GPU:0'):\n",
        "  history = model.fit(X_train, y_train, epochs=15, callbacks=[es, mc], batch_size=64, validation_split=0.2)"
      ],
      "metadata": {
        "colab": {
          "base_uri": "https://localhost:8080/"
        },
        "id": "jd1e6pXCkWlA",
        "outputId": "17b0a7ff-7669-4cb4-ca3c-f7c45a5315a8"
      },
      "execution_count": 33,
      "outputs": [
        {
          "output_type": "stream",
          "name": "stdout",
          "text": [
            "Epoch 1/15\n",
            "2736/2744 [============================>.] - ETA: 0s - loss: 0.3795 - acc: 0.8333\n",
            "Epoch 1: val_acc improved from -inf to 0.84858, saving model to /content/gdrive/MyDrive/FINAL_SUBMIT/best_lstm_model.h5\n",
            "2744/2744 [==============================] - 28s 7ms/step - loss: 0.3794 - acc: 0.8334 - val_loss: 0.3477 - val_acc: 0.8486\n",
            "Epoch 2/15\n",
            "2741/2744 [============================>.] - ETA: 0s - loss: 0.3221 - acc: 0.8637\n",
            "Epoch 2: val_acc improved from 0.84858 to 0.86068, saving model to /content/gdrive/MyDrive/FINAL_SUBMIT/best_lstm_model.h5\n",
            "2744/2744 [==============================] - 20s 7ms/step - loss: 0.3221 - acc: 0.8637 - val_loss: 0.3256 - val_acc: 0.8607\n",
            "Epoch 3/15\n",
            "2738/2744 [============================>.] - ETA: 0s - loss: 0.2975 - acc: 0.8764\n",
            "Epoch 3: val_acc improved from 0.86068 to 0.86435, saving model to /content/gdrive/MyDrive/FINAL_SUBMIT/best_lstm_model.h5\n",
            "2744/2744 [==============================] - 20s 7ms/step - loss: 0.2975 - acc: 0.8764 - val_loss: 0.3182 - val_acc: 0.8643\n",
            "Epoch 4/15\n",
            "2739/2744 [============================>.] - ETA: 0s - loss: 0.2808 - acc: 0.8846\n",
            "Epoch 4: val_acc improved from 0.86435 to 0.86774, saving model to /content/gdrive/MyDrive/FINAL_SUBMIT/best_lstm_model.h5\n",
            "2744/2744 [==============================] - 20s 7ms/step - loss: 0.2808 - acc: 0.8846 - val_loss: 0.3135 - val_acc: 0.8677\n",
            "Epoch 5/15\n",
            "2744/2744 [==============================] - ETA: 0s - loss: 0.2670 - acc: 0.8922\n",
            "Epoch 5: val_acc did not improve from 0.86774\n",
            "2744/2744 [==============================] - 19s 7ms/step - loss: 0.2670 - acc: 0.8922 - val_loss: 0.3138 - val_acc: 0.8671\n",
            "Epoch 6/15\n",
            "2739/2744 [============================>.] - ETA: 0s - loss: 0.2534 - acc: 0.8985\n",
            "Epoch 6: val_acc did not improve from 0.86774\n",
            "2744/2744 [==============================] - 19s 7ms/step - loss: 0.2535 - acc: 0.8985 - val_loss: 0.3197 - val_acc: 0.8647\n",
            "Epoch 7/15\n",
            "2743/2744 [============================>.] - ETA: 0s - loss: 0.2399 - acc: 0.9049\n",
            "Epoch 7: val_acc did not improve from 0.86774\n",
            "2744/2744 [==============================] - 19s 7ms/step - loss: 0.2399 - acc: 0.9049 - val_loss: 0.3224 - val_acc: 0.8640\n",
            "Epoch 8/15\n",
            "2741/2744 [============================>.] - ETA: 0s - loss: 0.2263 - acc: 0.9107\n",
            "Epoch 8: val_acc did not improve from 0.86774\n",
            "2744/2744 [==============================] - 18s 7ms/step - loss: 0.2263 - acc: 0.9107 - val_loss: 0.3398 - val_acc: 0.8638\n",
            "Epoch 8: early stopping\n"
          ]
        }
      ]
    },
    {
      "cell_type": "markdown",
      "source": [
        "### 훈련된 LSTM 모델 검증"
      ],
      "metadata": {
        "id": "zKChH8wn3YpZ"
      }
    },
    {
      "cell_type": "code",
      "source": [
        "from tensorflow.keras.models import load_model"
      ],
      "metadata": {
        "id": "c2ZxkUoe3cIq"
      },
      "execution_count": 7,
      "outputs": []
    },
    {
      "cell_type": "code",
      "source": [
        "loaded_model1 = load_model(path+'best_lstm_model.h5')\n",
        "print(\"\\n 테스트 정확도: %.4f\" % (loaded_model1.evaluate(X_test, y_test)[1]))"
      ],
      "metadata": {
        "id": "qc6EevPvkY2F",
        "colab": {
          "base_uri": "https://localhost:8080/"
        },
        "outputId": "b7c6bb61-9421-4c9c-9820-f6cb558e8591"
      },
      "execution_count": 8,
      "outputs": [
        {
          "output_type": "stream",
          "name": "stdout",
          "text": [
            "2287/2287 [==============================] - 9s 3ms/step - loss: 0.3122 - acc: 0.8692\n",
            "\n",
            " 테스트 정확도: 0.8692\n"
          ]
        }
      ]
    },
    {
      "cell_type": "code",
      "source": [
        "p1 = loaded_model1.predict(X_test)"
      ],
      "metadata": {
        "id": "VRXNjajGZl5h"
      },
      "execution_count": 37,
      "outputs": []
    },
    {
      "cell_type": "code",
      "source": [
        "predict_label1=[]\n",
        "for i in range(p1.shape[0]):\n",
        "  if p1[i,0] > 0.5:\n",
        "    predict_label1.append(1)\n",
        "  else:\n",
        "    predict_label1.append(0)"
      ],
      "metadata": {
        "id": "Ml56YVcfZ5Hc"
      },
      "execution_count": 38,
      "outputs": []
    },
    {
      "cell_type": "code",
      "source": [
        "print('accuracy:',sklearn.metrics.accuracy_score(predict_label1, y_test))\n",
        "print('f1 score:',sklearn.metrics.f1_score(predict_label1, y_test))"
      ],
      "metadata": {
        "colab": {
          "base_uri": "https://localhost:8080/"
        },
        "id": "GS_B-6X6bxkp",
        "outputId": "7d526b9f-200f-4700-db97-a0f927ac21a2"
      },
      "execution_count": 41,
      "outputs": [
        {
          "output_type": "stream",
          "name": "stdout",
          "text": [
            "accuracy: 0.8692383399857838\n",
            "f1 score: 0.8223650003713882\n"
          ]
        }
      ]
    },
    {
      "cell_type": "markdown",
      "source": [
        "### BI-LSTM 모델로 훈련"
      ],
      "metadata": {
        "id": "ULyG7YisQx3e"
      }
    },
    {
      "cell_type": "code",
      "source": [
        "import re\n",
        "from tensorflow.keras.layers import Embedding, Dense, LSTM, Bidirectional\n",
        "from tensorflow.keras.models import Sequential\n",
        "from tensorflow.keras.models import load_model\n",
        "from tensorflow.keras.callbacks import EarlyStopping, ModelCheckpoint\n",
        "\n",
        "embedding_dim = 100\n",
        "hidden_units = 128\n",
        "\n",
        "model = Sequential()\n",
        "model.add(Embedding(vocab_size, embedding_dim))\n",
        "model.add(Bidirectional(LSTM(hidden_units))) # Bidirectional LSTM을 사용\n",
        "model.add(Dense(1, activation='sigmoid'))\n",
        "\n",
        "es = EarlyStopping(monitor='val_loss', mode='min', verbose=1, patience=4)\n",
        "mc = ModelCheckpoint(path+'best_bilstm_model.h5', monitor='val_acc', mode='max', verbose=1, save_best_only=True)\n",
        "\n",
        "model.compile(optimizer='rmsprop', loss='binary_crossentropy', metrics=['acc'])\n",
        "\n",
        "with tf.device('/GPU:0'):\n",
        "  history = model.fit(X_train, y_train, epochs=15, callbacks=[es, mc], batch_size=256, validation_split=0.2)"
      ],
      "metadata": {
        "colab": {
          "base_uri": "https://localhost:8080/"
        },
        "id": "_ZqSET9jQx-F",
        "outputId": "95fb314a-fe18-4e05-ccf0-0db1184df98a"
      },
      "execution_count": 36,
      "outputs": [
        {
          "output_type": "stream",
          "name": "stdout",
          "text": [
            "Epoch 1/15\n",
            "681/686 [============================>.] - ETA: 0s - loss: 0.3881 - acc: 0.8282\n",
            "Epoch 1: val_acc improved from -inf to 0.84690, saving model to /content/gdrive/MyDrive/FINAL_SUBMIT/best_bilstm_model.h5\n",
            "686/686 [==============================] - 14s 12ms/step - loss: 0.3880 - acc: 0.8282 - val_loss: 0.3544 - val_acc: 0.8469\n",
            "Epoch 2/15\n",
            "682/686 [============================>.] - ETA: 0s - loss: 0.3298 - acc: 0.8596\n",
            "Epoch 2: val_acc improved from 0.84690 to 0.85754, saving model to /content/gdrive/MyDrive/FINAL_SUBMIT/best_bilstm_model.h5\n",
            "686/686 [==============================] - 8s 12ms/step - loss: 0.3298 - acc: 0.8597 - val_loss: 0.3330 - val_acc: 0.8575\n",
            "Epoch 3/15\n",
            "685/686 [============================>.] - ETA: 0s - loss: 0.3040 - acc: 0.8722\n",
            "Epoch 3: val_acc improved from 0.85754 to 0.86123, saving model to /content/gdrive/MyDrive/FINAL_SUBMIT/best_bilstm_model.h5\n",
            "686/686 [==============================] - 7s 11ms/step - loss: 0.3040 - acc: 0.8722 - val_loss: 0.3279 - val_acc: 0.8612\n",
            "Epoch 4/15\n",
            "685/686 [============================>.] - ETA: 0s - loss: 0.2834 - acc: 0.8821\n",
            "Epoch 4: val_acc improved from 0.86123 to 0.86350, saving model to /content/gdrive/MyDrive/FINAL_SUBMIT/best_bilstm_model.h5\n",
            "686/686 [==============================] - 8s 11ms/step - loss: 0.2834 - acc: 0.8821 - val_loss: 0.3182 - val_acc: 0.8635\n",
            "Epoch 5/15\n",
            "685/686 [============================>.] - ETA: 0s - loss: 0.2662 - acc: 0.8911\n",
            "Epoch 5: val_acc improved from 0.86350 to 0.86514, saving model to /content/gdrive/MyDrive/FINAL_SUBMIT/best_bilstm_model.h5\n",
            "686/686 [==============================] - 8s 11ms/step - loss: 0.2662 - acc: 0.8911 - val_loss: 0.3173 - val_acc: 0.8651\n",
            "Epoch 6/15\n",
            "686/686 [==============================] - ETA: 0s - loss: 0.2515 - acc: 0.8990\n",
            "Epoch 6: val_acc improved from 0.86514 to 0.86640, saving model to /content/gdrive/MyDrive/FINAL_SUBMIT/best_bilstm_model.h5\n",
            "686/686 [==============================] - 7s 10ms/step - loss: 0.2515 - acc: 0.8990 - val_loss: 0.3173 - val_acc: 0.8664\n",
            "Epoch 7/15\n",
            "686/686 [==============================] - ETA: 0s - loss: 0.2388 - acc: 0.9049\n",
            "Epoch 7: val_acc did not improve from 0.86640\n",
            "686/686 [==============================] - 7s 10ms/step - loss: 0.2388 - acc: 0.9049 - val_loss: 0.3231 - val_acc: 0.8622\n",
            "Epoch 8/15\n",
            "683/686 [============================>.] - ETA: 0s - loss: 0.2265 - acc: 0.9107\n",
            "Epoch 8: val_acc did not improve from 0.86640\n",
            "686/686 [==============================] - 7s 10ms/step - loss: 0.2264 - acc: 0.9107 - val_loss: 0.3320 - val_acc: 0.8641\n",
            "Epoch 9/15\n",
            "682/686 [============================>.] - ETA: 0s - loss: 0.2146 - acc: 0.9161\n",
            "Epoch 9: val_acc did not improve from 0.86640\n",
            "686/686 [==============================] - 7s 10ms/step - loss: 0.2146 - acc: 0.9162 - val_loss: 0.3425 - val_acc: 0.8597\n",
            "Epoch 9: early stopping\n"
          ]
        }
      ]
    },
    {
      "cell_type": "markdown",
      "source": [
        "### 훈련된 BI-LSTM 모델 검증"
      ],
      "metadata": {
        "id": "WYFgZcQ1QyHE"
      }
    },
    {
      "cell_type": "code",
      "source": [
        "loaded_model2 = load_model(path+'best_bilstm_model.h5')\n",
        "print(\"테스트 정확도: %.4f\" % (loaded_model2.evaluate(X_test, y_test)[1]))"
      ],
      "metadata": {
        "colab": {
          "base_uri": "https://localhost:8080/"
        },
        "id": "bNPJsun5QyKw",
        "outputId": "f5a35d33-20f0-4fd5-8f66-6f16decf69d8"
      },
      "execution_count": 9,
      "outputs": [
        {
          "output_type": "stream",
          "name": "stdout",
          "text": [
            "2287/2287 [==============================] - 10s 4ms/step - loss: 0.3176 - acc: 0.8666\n",
            "테스트 정확도: 0.8666\n"
          ]
        }
      ]
    },
    {
      "cell_type": "code",
      "source": [
        "p2 = loaded_model2.predict(X_test)"
      ],
      "metadata": {
        "id": "oTb_tViEeTkz"
      },
      "execution_count": 43,
      "outputs": []
    },
    {
      "cell_type": "code",
      "source": [
        "predict_label2=[]\n",
        "for i in range(p2.shape[0]):\n",
        "  if p2[i,0] > 0.5:\n",
        "    predict_label2.append(1)\n",
        "  else:\n",
        "    predict_label2.append(0)"
      ],
      "metadata": {
        "id": "o1VoHATZeTsY"
      },
      "execution_count": 44,
      "outputs": []
    },
    {
      "cell_type": "code",
      "source": [
        "print('accuracy:',sklearn.metrics.accuracy_score(predict_label2, y_test))\n",
        "print('f1 score:',sklearn.metrics.f1_score(predict_label2, y_test))"
      ],
      "metadata": {
        "colab": {
          "base_uri": "https://localhost:8080/"
        },
        "id": "LCxsfhY6ejG1",
        "outputId": "738faa9f-dd48-4005-a94e-edeae83b2d9a"
      },
      "execution_count": 45,
      "outputs": [
        {
          "output_type": "stream",
          "name": "stdout",
          "text": [
            "accuracy: 0.8666274809995079\n",
            "f1 score: 0.8216498802712633\n"
          ]
        }
      ]
    }
  ]
}