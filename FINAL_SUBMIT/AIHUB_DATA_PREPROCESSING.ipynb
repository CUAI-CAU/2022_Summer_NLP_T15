{
  "cells": [
    {
      "cell_type": "markdown",
      "metadata": {
        "id": "oK-GK8g-fC9W"
      },
      "source": [
        "# 0. 구글 드라이브 연동 및 필수 라이브러리 설치 및 로드"
      ]
    },
    {
      "cell_type": "markdown",
      "metadata": {
        "id": "XI9Nc19zfMXx"
      },
      "source": [
        "### 구글 드라이브 연동"
      ]
    },
    {
      "cell_type": "code",
      "execution_count": 61,
      "metadata": {
        "colab": {
          "base_uri": "https://localhost:8080/"
        },
        "id": "UkikcXbJcd1-",
        "outputId": "488d5ae7-d7a8-4381-b6c9-b250e2d8576b"
      },
      "outputs": [
        {
          "output_type": "stream",
          "name": "stdout",
          "text": [
            "Drive already mounted at /content/gdrive; to attempt to forcibly remount, call drive.mount(\"/content/gdrive\", force_remount=True).\n"
          ]
        }
      ],
      "source": [
        "from google.colab import drive\n",
        "drive.mount('/content/gdrive')"
      ]
    },
    {
      "cell_type": "markdown",
      "metadata": {
        "id": "gZUaxh-Oc8oK"
      },
      "source": [
        "### 필수 라이브러리 설치"
      ]
    },
    {
      "cell_type": "code",
      "execution_count": 62,
      "metadata": {
        "colab": {
          "base_uri": "https://localhost:8080/"
        },
        "id": "5GCSfXbHeiPu",
        "outputId": "2f318582-0335-4fd4-a6c9-c9a4b57bcee8"
      },
      "outputs": [
        {
          "output_type": "stream",
          "name": "stdout",
          "text": [
            "Looking in indexes: https://pypi.org/simple, https://us-python.pkg.dev/colab-wheels/public/simple/\n",
            "Requirement already satisfied: nltk in /usr/local/lib/python3.7/dist-packages (3.7)\n",
            "Requirement already satisfied: joblib in /usr/local/lib/python3.7/dist-packages (from nltk) (1.1.0)\n",
            "Requirement already satisfied: regex>=2021.8.3 in /usr/local/lib/python3.7/dist-packages (from nltk) (2022.6.2)\n",
            "Requirement already satisfied: tqdm in /usr/local/lib/python3.7/dist-packages (from nltk) (4.64.0)\n",
            "Requirement already satisfied: click in /usr/local/lib/python3.7/dist-packages (from nltk) (7.1.2)\n"
          ]
        }
      ],
      "source": [
        "!pip install nltk"
      ]
    },
    {
      "cell_type": "markdown",
      "metadata": {
        "id": "Dis7mLtkeiVT"
      },
      "source": [
        "### 필수 라이브러리 로드"
      ]
    },
    {
      "cell_type": "code",
      "execution_count": 131,
      "metadata": {
        "id": "usHbCaY_eiaB"
      },
      "outputs": [],
      "source": [
        "import pandas as pd\n",
        "import nltk\n",
        "from nltk.tokenize import sent_tokenize\n",
        "from tqdm import tqdm\n",
        "import re"
      ]
    },
    {
      "cell_type": "code",
      "execution_count": 81,
      "metadata": {
        "id": "7Du7XbadEKcM"
      },
      "outputs": [],
      "source": [
        "# nltk.download()"
      ]
    },
    {
      "cell_type": "markdown",
      "metadata": {
        "id": "FdJP1-T5mPXo"
      },
      "source": [
        "### 폴더 경로 설정"
      ]
    },
    {
      "cell_type": "code",
      "execution_count": 64,
      "metadata": {
        "id": "N5yE_IENmQ4Y"
      },
      "outputs": [],
      "source": [
        "path = '/content/gdrive/MyDrive/FINAL_SUBMIT/'"
      ]
    },
    {
      "cell_type": "markdown",
      "metadata": {
        "id": "XylMZnVveifB"
      },
      "source": [
        "# 1. AI HUB 데이터 로드"
      ]
    },
    {
      "cell_type": "markdown",
      "metadata": {
        "id": "cMw9FbvMeijT"
      },
      "source": [
        "### 데이터 로드 "
      ]
    },
    {
      "cell_type": "code",
      "execution_count": 65,
      "metadata": {
        "id": "AgmQZc7xeinH"
      },
      "outputs": [],
      "source": [
        "train0 = pd.read_excel(path + '감성대화말뭉치(최종데이터)_Training.xlsx', engine='openpyxl')\n",
        "validation0 = pd.read_excel(path + '감성대화말뭉치(최종데이터)_Validation.xlsx', engine='openpyxl')"
      ]
    },
    {
      "cell_type": "markdown",
      "metadata": {
        "id": "lWt7afsfnnjI"
      },
      "source": [
        "### 두 데이터 합치기"
      ]
    },
    {
      "cell_type": "code",
      "execution_count": 66,
      "metadata": {
        "id": "m6uS2o7Eeiqs"
      },
      "outputs": [],
      "source": [
        "aihub0 = pd.concat([train0, validation0], ignore_index=True)"
      ]
    },
    {
      "cell_type": "code",
      "execution_count": 67,
      "metadata": {
        "id": "ONnIn1LueiuW",
        "colab": {
          "base_uri": "https://localhost:8080/"
        },
        "outputId": "2fdda142-e79d-47f2-ec3e-6540c086cd05"
      },
      "outputs": [
        {
          "output_type": "stream",
          "name": "stdout",
          "text": [
            "train0의 sample 수(40879) + validation0의 sample 수(5130) = aihub0의 sample의 수(46009)\n"
          ]
        }
      ],
      "source": [
        "print('train0의 sample 수({}) + validation0의 sample 수({}) = aihub0의 sample의 수({})'.format(train0.shape[0], validation0.shape[0], aihub0.shape[0]))"
      ]
    },
    {
      "cell_type": "markdown",
      "metadata": {
        "id": "BCEcQj4UeiyT"
      },
      "source": [
        "# 2. 데이터 정제"
      ]
    },
    {
      "cell_type": "markdown",
      "metadata": {
        "id": "Fn9Mvg3xei1Z"
      },
      "source": [
        "### aihub 데이터에서 사용할 열 선택"
      ]
    },
    {
      "cell_type": "code",
      "execution_count": 68,
      "metadata": {
        "id": "D1bn5wNJei4q",
        "colab": {
          "base_uri": "https://localhost:8080/"
        },
        "outputId": "eac9b5e3-bdbd-4b36-80f5-d70ba0747bc9"
      },
      "outputs": [
        {
          "output_type": "stream",
          "name": "stdout",
          "text": [
            "사람문장1의 결측값 비율: 0.00%\n",
            "사람문장2의 결측값 비율: 0.00%\n",
            "사람문장3의 결측값 비율: 24.07%\n",
            "사람문장4의 결측값 비율: 96.47%\n"
          ]
        }
      ],
      "source": [
        "for i in range(1,5):\n",
        "  print('사람문장{}의 결측값 비율: {:.2f}%'.format(i, (aihub0['사람문장{}'.format(i)].isnull().sum()/aihub0.shape[0])*100))    # 사람문장4의 결측값 비율이 너무 높으므로 사용하지 않는다."
      ]
    },
    {
      "cell_type": "code",
      "execution_count": 69,
      "metadata": {
        "id": "hZSPDeR248ND",
        "colab": {
          "base_uri": "https://localhost:8080/",
          "height": 112
        },
        "outputId": "598110c6-6a19-46ac-dbe5-33bcf649e388"
      },
      "outputs": [
        {
          "output_type": "execute_result",
          "data": {
            "text/plain": [
              "  감정_대분류                                    사람문장1\n",
              "0     기쁨                아내가 드디어 출산하게 되어서 정말 신이 나.\n",
              "1     불안  당뇨랑 합병증 때문에 먹어야 할 약이 열 가지가 넘어가니까 스트레스야."
            ],
            "text/html": [
              "\n",
              "  <div id=\"df-34ccfcee-607d-4678-a4f4-6bfc645ef3cb\">\n",
              "    <div class=\"colab-df-container\">\n",
              "      <div>\n",
              "<style scoped>\n",
              "    .dataframe tbody tr th:only-of-type {\n",
              "        vertical-align: middle;\n",
              "    }\n",
              "\n",
              "    .dataframe tbody tr th {\n",
              "        vertical-align: top;\n",
              "    }\n",
              "\n",
              "    .dataframe thead th {\n",
              "        text-align: right;\n",
              "    }\n",
              "</style>\n",
              "<table border=\"1\" class=\"dataframe\">\n",
              "  <thead>\n",
              "    <tr style=\"text-align: right;\">\n",
              "      <th></th>\n",
              "      <th>감정_대분류</th>\n",
              "      <th>사람문장1</th>\n",
              "    </tr>\n",
              "  </thead>\n",
              "  <tbody>\n",
              "    <tr>\n",
              "      <th>0</th>\n",
              "      <td>기쁨</td>\n",
              "      <td>아내가 드디어 출산하게 되어서 정말 신이 나.</td>\n",
              "    </tr>\n",
              "    <tr>\n",
              "      <th>1</th>\n",
              "      <td>불안</td>\n",
              "      <td>당뇨랑 합병증 때문에 먹어야 할 약이 열 가지가 넘어가니까 스트레스야.</td>\n",
              "    </tr>\n",
              "  </tbody>\n",
              "</table>\n",
              "</div>\n",
              "      <button class=\"colab-df-convert\" onclick=\"convertToInteractive('df-34ccfcee-607d-4678-a4f4-6bfc645ef3cb')\"\n",
              "              title=\"Convert this dataframe to an interactive table.\"\n",
              "              style=\"display:none;\">\n",
              "        \n",
              "  <svg xmlns=\"http://www.w3.org/2000/svg\" height=\"24px\"viewBox=\"0 0 24 24\"\n",
              "       width=\"24px\">\n",
              "    <path d=\"M0 0h24v24H0V0z\" fill=\"none\"/>\n",
              "    <path d=\"M18.56 5.44l.94 2.06.94-2.06 2.06-.94-2.06-.94-.94-2.06-.94 2.06-2.06.94zm-11 1L8.5 8.5l.94-2.06 2.06-.94-2.06-.94L8.5 2.5l-.94 2.06-2.06.94zm10 10l.94 2.06.94-2.06 2.06-.94-2.06-.94-.94-2.06-.94 2.06-2.06.94z\"/><path d=\"M17.41 7.96l-1.37-1.37c-.4-.4-.92-.59-1.43-.59-.52 0-1.04.2-1.43.59L10.3 9.45l-7.72 7.72c-.78.78-.78 2.05 0 2.83L4 21.41c.39.39.9.59 1.41.59.51 0 1.02-.2 1.41-.59l7.78-7.78 2.81-2.81c.8-.78.8-2.07 0-2.86zM5.41 20L4 18.59l7.72-7.72 1.47 1.35L5.41 20z\"/>\n",
              "  </svg>\n",
              "      </button>\n",
              "      \n",
              "  <style>\n",
              "    .colab-df-container {\n",
              "      display:flex;\n",
              "      flex-wrap:wrap;\n",
              "      gap: 12px;\n",
              "    }\n",
              "\n",
              "    .colab-df-convert {\n",
              "      background-color: #E8F0FE;\n",
              "      border: none;\n",
              "      border-radius: 50%;\n",
              "      cursor: pointer;\n",
              "      display: none;\n",
              "      fill: #1967D2;\n",
              "      height: 32px;\n",
              "      padding: 0 0 0 0;\n",
              "      width: 32px;\n",
              "    }\n",
              "\n",
              "    .colab-df-convert:hover {\n",
              "      background-color: #E2EBFA;\n",
              "      box-shadow: 0px 1px 2px rgba(60, 64, 67, 0.3), 0px 1px 3px 1px rgba(60, 64, 67, 0.15);\n",
              "      fill: #174EA6;\n",
              "    }\n",
              "\n",
              "    [theme=dark] .colab-df-convert {\n",
              "      background-color: #3B4455;\n",
              "      fill: #D2E3FC;\n",
              "    }\n",
              "\n",
              "    [theme=dark] .colab-df-convert:hover {\n",
              "      background-color: #434B5C;\n",
              "      box-shadow: 0px 1px 3px 1px rgba(0, 0, 0, 0.15);\n",
              "      filter: drop-shadow(0px 1px 2px rgba(0, 0, 0, 0.3));\n",
              "      fill: #FFFFFF;\n",
              "    }\n",
              "  </style>\n",
              "\n",
              "      <script>\n",
              "        const buttonEl =\n",
              "          document.querySelector('#df-34ccfcee-607d-4678-a4f4-6bfc645ef3cb button.colab-df-convert');\n",
              "        buttonEl.style.display =\n",
              "          google.colab.kernel.accessAllowed ? 'block' : 'none';\n",
              "\n",
              "        async function convertToInteractive(key) {\n",
              "          const element = document.querySelector('#df-34ccfcee-607d-4678-a4f4-6bfc645ef3cb');\n",
              "          const dataTable =\n",
              "            await google.colab.kernel.invokeFunction('convertToInteractive',\n",
              "                                                     [key], {});\n",
              "          if (!dataTable) return;\n",
              "\n",
              "          const docLinkHtml = 'Like what you see? Visit the ' +\n",
              "            '<a target=\"_blank\" href=https://colab.research.google.com/notebooks/data_table.ipynb>data table notebook</a>'\n",
              "            + ' to learn more about interactive tables.';\n",
              "          element.innerHTML = '';\n",
              "          dataTable['output_type'] = 'display_data';\n",
              "          await google.colab.output.renderOutput(dataTable, element);\n",
              "          const docLink = document.createElement('div');\n",
              "          docLink.innerHTML = docLinkHtml;\n",
              "          element.appendChild(docLink);\n",
              "        }\n",
              "      </script>\n",
              "    </div>\n",
              "  </div>\n",
              "  "
            ]
          },
          "metadata": {},
          "execution_count": 69
        }
      ],
      "source": [
        "aihub0[['감정_대분류','사람문장1']].head(2)"
      ]
    },
    {
      "cell_type": "code",
      "execution_count": 70,
      "metadata": {
        "id": "Eb38B8Vg48mb",
        "colab": {
          "base_uri": "https://localhost:8080/",
          "height": 112
        },
        "outputId": "888b6a49-f85f-4b66-dc30-634e4b8c4ac5"
      },
      "outputs": [
        {
          "output_type": "execute_result",
          "data": {
            "text/plain": [
              "  감정_대분류                        사람문장2\n",
              "0     기쁨                아 지금 정말 신이 나.\n",
              "1     불안  건강할 때 관리 좀 잘할걸 하는 생각이 들더라고."
            ],
            "text/html": [
              "\n",
              "  <div id=\"df-a071684b-2f71-4ec5-a9d8-54d401d452b8\">\n",
              "    <div class=\"colab-df-container\">\n",
              "      <div>\n",
              "<style scoped>\n",
              "    .dataframe tbody tr th:only-of-type {\n",
              "        vertical-align: middle;\n",
              "    }\n",
              "\n",
              "    .dataframe tbody tr th {\n",
              "        vertical-align: top;\n",
              "    }\n",
              "\n",
              "    .dataframe thead th {\n",
              "        text-align: right;\n",
              "    }\n",
              "</style>\n",
              "<table border=\"1\" class=\"dataframe\">\n",
              "  <thead>\n",
              "    <tr style=\"text-align: right;\">\n",
              "      <th></th>\n",
              "      <th>감정_대분류</th>\n",
              "      <th>사람문장2</th>\n",
              "    </tr>\n",
              "  </thead>\n",
              "  <tbody>\n",
              "    <tr>\n",
              "      <th>0</th>\n",
              "      <td>기쁨</td>\n",
              "      <td>아 지금 정말 신이 나.</td>\n",
              "    </tr>\n",
              "    <tr>\n",
              "      <th>1</th>\n",
              "      <td>불안</td>\n",
              "      <td>건강할 때 관리 좀 잘할걸 하는 생각이 들더라고.</td>\n",
              "    </tr>\n",
              "  </tbody>\n",
              "</table>\n",
              "</div>\n",
              "      <button class=\"colab-df-convert\" onclick=\"convertToInteractive('df-a071684b-2f71-4ec5-a9d8-54d401d452b8')\"\n",
              "              title=\"Convert this dataframe to an interactive table.\"\n",
              "              style=\"display:none;\">\n",
              "        \n",
              "  <svg xmlns=\"http://www.w3.org/2000/svg\" height=\"24px\"viewBox=\"0 0 24 24\"\n",
              "       width=\"24px\">\n",
              "    <path d=\"M0 0h24v24H0V0z\" fill=\"none\"/>\n",
              "    <path d=\"M18.56 5.44l.94 2.06.94-2.06 2.06-.94-2.06-.94-.94-2.06-.94 2.06-2.06.94zm-11 1L8.5 8.5l.94-2.06 2.06-.94-2.06-.94L8.5 2.5l-.94 2.06-2.06.94zm10 10l.94 2.06.94-2.06 2.06-.94-2.06-.94-.94-2.06-.94 2.06-2.06.94z\"/><path d=\"M17.41 7.96l-1.37-1.37c-.4-.4-.92-.59-1.43-.59-.52 0-1.04.2-1.43.59L10.3 9.45l-7.72 7.72c-.78.78-.78 2.05 0 2.83L4 21.41c.39.39.9.59 1.41.59.51 0 1.02-.2 1.41-.59l7.78-7.78 2.81-2.81c.8-.78.8-2.07 0-2.86zM5.41 20L4 18.59l7.72-7.72 1.47 1.35L5.41 20z\"/>\n",
              "  </svg>\n",
              "      </button>\n",
              "      \n",
              "  <style>\n",
              "    .colab-df-container {\n",
              "      display:flex;\n",
              "      flex-wrap:wrap;\n",
              "      gap: 12px;\n",
              "    }\n",
              "\n",
              "    .colab-df-convert {\n",
              "      background-color: #E8F0FE;\n",
              "      border: none;\n",
              "      border-radius: 50%;\n",
              "      cursor: pointer;\n",
              "      display: none;\n",
              "      fill: #1967D2;\n",
              "      height: 32px;\n",
              "      padding: 0 0 0 0;\n",
              "      width: 32px;\n",
              "    }\n",
              "\n",
              "    .colab-df-convert:hover {\n",
              "      background-color: #E2EBFA;\n",
              "      box-shadow: 0px 1px 2px rgba(60, 64, 67, 0.3), 0px 1px 3px 1px rgba(60, 64, 67, 0.15);\n",
              "      fill: #174EA6;\n",
              "    }\n",
              "\n",
              "    [theme=dark] .colab-df-convert {\n",
              "      background-color: #3B4455;\n",
              "      fill: #D2E3FC;\n",
              "    }\n",
              "\n",
              "    [theme=dark] .colab-df-convert:hover {\n",
              "      background-color: #434B5C;\n",
              "      box-shadow: 0px 1px 3px 1px rgba(0, 0, 0, 0.15);\n",
              "      filter: drop-shadow(0px 1px 2px rgba(0, 0, 0, 0.3));\n",
              "      fill: #FFFFFF;\n",
              "    }\n",
              "  </style>\n",
              "\n",
              "      <script>\n",
              "        const buttonEl =\n",
              "          document.querySelector('#df-a071684b-2f71-4ec5-a9d8-54d401d452b8 button.colab-df-convert');\n",
              "        buttonEl.style.display =\n",
              "          google.colab.kernel.accessAllowed ? 'block' : 'none';\n",
              "\n",
              "        async function convertToInteractive(key) {\n",
              "          const element = document.querySelector('#df-a071684b-2f71-4ec5-a9d8-54d401d452b8');\n",
              "          const dataTable =\n",
              "            await google.colab.kernel.invokeFunction('convertToInteractive',\n",
              "                                                     [key], {});\n",
              "          if (!dataTable) return;\n",
              "\n",
              "          const docLinkHtml = 'Like what you see? Visit the ' +\n",
              "            '<a target=\"_blank\" href=https://colab.research.google.com/notebooks/data_table.ipynb>data table notebook</a>'\n",
              "            + ' to learn more about interactive tables.';\n",
              "          element.innerHTML = '';\n",
              "          dataTable['output_type'] = 'display_data';\n",
              "          await google.colab.output.renderOutput(dataTable, element);\n",
              "          const docLink = document.createElement('div');\n",
              "          docLink.innerHTML = docLinkHtml;\n",
              "          element.appendChild(docLink);\n",
              "        }\n",
              "      </script>\n",
              "    </div>\n",
              "  </div>\n",
              "  "
            ]
          },
          "metadata": {},
          "execution_count": 70
        }
      ],
      "source": [
        "aihub0[['감정_대분류','사람문장2']].head(2)"
      ]
    },
    {
      "cell_type": "code",
      "execution_count": 71,
      "metadata": {
        "id": "jC0y6KII5PDH",
        "colab": {
          "base_uri": "https://localhost:8080/",
          "height": 143
        },
        "outputId": "4668a2f0-9ea8-496a-a6d0-0ca4385280b4"
      },
      "outputs": [
        {
          "output_type": "execute_result",
          "data": {
            "text/plain": [
              "  감정_대분류                               사람문장3\n",
              "0     기쁨  아기가 점점 클게 벌써 기대가 되네. 내가 많이 놀아줘야지. \n",
              "1     불안          약을 잘 챙겨 먹고 나을 수 있도록 노력해야지.\n",
              "2     당황       중학교 수업을 들을 때보다 훨씬 더 열심히 할 거야."
            ],
            "text/html": [
              "\n",
              "  <div id=\"df-495094f8-15e5-468b-b24d-bf3cb4648742\">\n",
              "    <div class=\"colab-df-container\">\n",
              "      <div>\n",
              "<style scoped>\n",
              "    .dataframe tbody tr th:only-of-type {\n",
              "        vertical-align: middle;\n",
              "    }\n",
              "\n",
              "    .dataframe tbody tr th {\n",
              "        vertical-align: top;\n",
              "    }\n",
              "\n",
              "    .dataframe thead th {\n",
              "        text-align: right;\n",
              "    }\n",
              "</style>\n",
              "<table border=\"1\" class=\"dataframe\">\n",
              "  <thead>\n",
              "    <tr style=\"text-align: right;\">\n",
              "      <th></th>\n",
              "      <th>감정_대분류</th>\n",
              "      <th>사람문장3</th>\n",
              "    </tr>\n",
              "  </thead>\n",
              "  <tbody>\n",
              "    <tr>\n",
              "      <th>0</th>\n",
              "      <td>기쁨</td>\n",
              "      <td>아기가 점점 클게 벌써 기대가 되네. 내가 많이 놀아줘야지.</td>\n",
              "    </tr>\n",
              "    <tr>\n",
              "      <th>1</th>\n",
              "      <td>불안</td>\n",
              "      <td>약을 잘 챙겨 먹고 나을 수 있도록 노력해야지.</td>\n",
              "    </tr>\n",
              "    <tr>\n",
              "      <th>2</th>\n",
              "      <td>당황</td>\n",
              "      <td>중학교 수업을 들을 때보다 훨씬 더 열심히 할 거야.</td>\n",
              "    </tr>\n",
              "  </tbody>\n",
              "</table>\n",
              "</div>\n",
              "      <button class=\"colab-df-convert\" onclick=\"convertToInteractive('df-495094f8-15e5-468b-b24d-bf3cb4648742')\"\n",
              "              title=\"Convert this dataframe to an interactive table.\"\n",
              "              style=\"display:none;\">\n",
              "        \n",
              "  <svg xmlns=\"http://www.w3.org/2000/svg\" height=\"24px\"viewBox=\"0 0 24 24\"\n",
              "       width=\"24px\">\n",
              "    <path d=\"M0 0h24v24H0V0z\" fill=\"none\"/>\n",
              "    <path d=\"M18.56 5.44l.94 2.06.94-2.06 2.06-.94-2.06-.94-.94-2.06-.94 2.06-2.06.94zm-11 1L8.5 8.5l.94-2.06 2.06-.94-2.06-.94L8.5 2.5l-.94 2.06-2.06.94zm10 10l.94 2.06.94-2.06 2.06-.94-2.06-.94-.94-2.06-.94 2.06-2.06.94z\"/><path d=\"M17.41 7.96l-1.37-1.37c-.4-.4-.92-.59-1.43-.59-.52 0-1.04.2-1.43.59L10.3 9.45l-7.72 7.72c-.78.78-.78 2.05 0 2.83L4 21.41c.39.39.9.59 1.41.59.51 0 1.02-.2 1.41-.59l7.78-7.78 2.81-2.81c.8-.78.8-2.07 0-2.86zM5.41 20L4 18.59l7.72-7.72 1.47 1.35L5.41 20z\"/>\n",
              "  </svg>\n",
              "      </button>\n",
              "      \n",
              "  <style>\n",
              "    .colab-df-container {\n",
              "      display:flex;\n",
              "      flex-wrap:wrap;\n",
              "      gap: 12px;\n",
              "    }\n",
              "\n",
              "    .colab-df-convert {\n",
              "      background-color: #E8F0FE;\n",
              "      border: none;\n",
              "      border-radius: 50%;\n",
              "      cursor: pointer;\n",
              "      display: none;\n",
              "      fill: #1967D2;\n",
              "      height: 32px;\n",
              "      padding: 0 0 0 0;\n",
              "      width: 32px;\n",
              "    }\n",
              "\n",
              "    .colab-df-convert:hover {\n",
              "      background-color: #E2EBFA;\n",
              "      box-shadow: 0px 1px 2px rgba(60, 64, 67, 0.3), 0px 1px 3px 1px rgba(60, 64, 67, 0.15);\n",
              "      fill: #174EA6;\n",
              "    }\n",
              "\n",
              "    [theme=dark] .colab-df-convert {\n",
              "      background-color: #3B4455;\n",
              "      fill: #D2E3FC;\n",
              "    }\n",
              "\n",
              "    [theme=dark] .colab-df-convert:hover {\n",
              "      background-color: #434B5C;\n",
              "      box-shadow: 0px 1px 3px 1px rgba(0, 0, 0, 0.15);\n",
              "      filter: drop-shadow(0px 1px 2px rgba(0, 0, 0, 0.3));\n",
              "      fill: #FFFFFF;\n",
              "    }\n",
              "  </style>\n",
              "\n",
              "      <script>\n",
              "        const buttonEl =\n",
              "          document.querySelector('#df-495094f8-15e5-468b-b24d-bf3cb4648742 button.colab-df-convert');\n",
              "        buttonEl.style.display =\n",
              "          google.colab.kernel.accessAllowed ? 'block' : 'none';\n",
              "\n",
              "        async function convertToInteractive(key) {\n",
              "          const element = document.querySelector('#df-495094f8-15e5-468b-b24d-bf3cb4648742');\n",
              "          const dataTable =\n",
              "            await google.colab.kernel.invokeFunction('convertToInteractive',\n",
              "                                                     [key], {});\n",
              "          if (!dataTable) return;\n",
              "\n",
              "          const docLinkHtml = 'Like what you see? Visit the ' +\n",
              "            '<a target=\"_blank\" href=https://colab.research.google.com/notebooks/data_table.ipynb>data table notebook</a>'\n",
              "            + ' to learn more about interactive tables.';\n",
              "          element.innerHTML = '';\n",
              "          dataTable['output_type'] = 'display_data';\n",
              "          await google.colab.output.renderOutput(dataTable, element);\n",
              "          const docLink = document.createElement('div');\n",
              "          docLink.innerHTML = docLinkHtml;\n",
              "          element.appendChild(docLink);\n",
              "        }\n",
              "      </script>\n",
              "    </div>\n",
              "  </div>\n",
              "  "
            ]
          },
          "metadata": {},
          "execution_count": 71
        }
      ],
      "source": [
        "aihub0[['감정_대분류','사람문장3']].head(3)    # 사람문장3은 대화의 뒷 부분이다 보니 감정 대분류와 맞지 않는 경우가 많다. 그러므로 사용하지 않는다."
      ]
    },
    {
      "cell_type": "code",
      "execution_count": 72,
      "metadata": {
        "id": "ZsKItgy45PHO",
        "colab": {
          "base_uri": "https://localhost:8080/",
          "height": 112
        },
        "outputId": "b32e6e52-e9f9-4688-8e25-3d973698ede4"
      },
      "outputs": [
        {
          "output_type": "execute_result",
          "data": {
            "text/plain": [
              "  감정_대분류 사람문장4\n",
              "0     기쁨   NaN\n",
              "1     불안   NaN"
            ],
            "text/html": [
              "\n",
              "  <div id=\"df-a52d29e9-3e2e-4f6d-80f9-95fcb408660e\">\n",
              "    <div class=\"colab-df-container\">\n",
              "      <div>\n",
              "<style scoped>\n",
              "    .dataframe tbody tr th:only-of-type {\n",
              "        vertical-align: middle;\n",
              "    }\n",
              "\n",
              "    .dataframe tbody tr th {\n",
              "        vertical-align: top;\n",
              "    }\n",
              "\n",
              "    .dataframe thead th {\n",
              "        text-align: right;\n",
              "    }\n",
              "</style>\n",
              "<table border=\"1\" class=\"dataframe\">\n",
              "  <thead>\n",
              "    <tr style=\"text-align: right;\">\n",
              "      <th></th>\n",
              "      <th>감정_대분류</th>\n",
              "      <th>사람문장4</th>\n",
              "    </tr>\n",
              "  </thead>\n",
              "  <tbody>\n",
              "    <tr>\n",
              "      <th>0</th>\n",
              "      <td>기쁨</td>\n",
              "      <td>NaN</td>\n",
              "    </tr>\n",
              "    <tr>\n",
              "      <th>1</th>\n",
              "      <td>불안</td>\n",
              "      <td>NaN</td>\n",
              "    </tr>\n",
              "  </tbody>\n",
              "</table>\n",
              "</div>\n",
              "      <button class=\"colab-df-convert\" onclick=\"convertToInteractive('df-a52d29e9-3e2e-4f6d-80f9-95fcb408660e')\"\n",
              "              title=\"Convert this dataframe to an interactive table.\"\n",
              "              style=\"display:none;\">\n",
              "        \n",
              "  <svg xmlns=\"http://www.w3.org/2000/svg\" height=\"24px\"viewBox=\"0 0 24 24\"\n",
              "       width=\"24px\">\n",
              "    <path d=\"M0 0h24v24H0V0z\" fill=\"none\"/>\n",
              "    <path d=\"M18.56 5.44l.94 2.06.94-2.06 2.06-.94-2.06-.94-.94-2.06-.94 2.06-2.06.94zm-11 1L8.5 8.5l.94-2.06 2.06-.94-2.06-.94L8.5 2.5l-.94 2.06-2.06.94zm10 10l.94 2.06.94-2.06 2.06-.94-2.06-.94-.94-2.06-.94 2.06-2.06.94z\"/><path d=\"M17.41 7.96l-1.37-1.37c-.4-.4-.92-.59-1.43-.59-.52 0-1.04.2-1.43.59L10.3 9.45l-7.72 7.72c-.78.78-.78 2.05 0 2.83L4 21.41c.39.39.9.59 1.41.59.51 0 1.02-.2 1.41-.59l7.78-7.78 2.81-2.81c.8-.78.8-2.07 0-2.86zM5.41 20L4 18.59l7.72-7.72 1.47 1.35L5.41 20z\"/>\n",
              "  </svg>\n",
              "      </button>\n",
              "      \n",
              "  <style>\n",
              "    .colab-df-container {\n",
              "      display:flex;\n",
              "      flex-wrap:wrap;\n",
              "      gap: 12px;\n",
              "    }\n",
              "\n",
              "    .colab-df-convert {\n",
              "      background-color: #E8F0FE;\n",
              "      border: none;\n",
              "      border-radius: 50%;\n",
              "      cursor: pointer;\n",
              "      display: none;\n",
              "      fill: #1967D2;\n",
              "      height: 32px;\n",
              "      padding: 0 0 0 0;\n",
              "      width: 32px;\n",
              "    }\n",
              "\n",
              "    .colab-df-convert:hover {\n",
              "      background-color: #E2EBFA;\n",
              "      box-shadow: 0px 1px 2px rgba(60, 64, 67, 0.3), 0px 1px 3px 1px rgba(60, 64, 67, 0.15);\n",
              "      fill: #174EA6;\n",
              "    }\n",
              "\n",
              "    [theme=dark] .colab-df-convert {\n",
              "      background-color: #3B4455;\n",
              "      fill: #D2E3FC;\n",
              "    }\n",
              "\n",
              "    [theme=dark] .colab-df-convert:hover {\n",
              "      background-color: #434B5C;\n",
              "      box-shadow: 0px 1px 3px 1px rgba(0, 0, 0, 0.15);\n",
              "      filter: drop-shadow(0px 1px 2px rgba(0, 0, 0, 0.3));\n",
              "      fill: #FFFFFF;\n",
              "    }\n",
              "  </style>\n",
              "\n",
              "      <script>\n",
              "        const buttonEl =\n",
              "          document.querySelector('#df-a52d29e9-3e2e-4f6d-80f9-95fcb408660e button.colab-df-convert');\n",
              "        buttonEl.style.display =\n",
              "          google.colab.kernel.accessAllowed ? 'block' : 'none';\n",
              "\n",
              "        async function convertToInteractive(key) {\n",
              "          const element = document.querySelector('#df-a52d29e9-3e2e-4f6d-80f9-95fcb408660e');\n",
              "          const dataTable =\n",
              "            await google.colab.kernel.invokeFunction('convertToInteractive',\n",
              "                                                     [key], {});\n",
              "          if (!dataTable) return;\n",
              "\n",
              "          const docLinkHtml = 'Like what you see? Visit the ' +\n",
              "            '<a target=\"_blank\" href=https://colab.research.google.com/notebooks/data_table.ipynb>data table notebook</a>'\n",
              "            + ' to learn more about interactive tables.';\n",
              "          element.innerHTML = '';\n",
              "          dataTable['output_type'] = 'display_data';\n",
              "          await google.colab.output.renderOutput(dataTable, element);\n",
              "          const docLink = document.createElement('div');\n",
              "          docLink.innerHTML = docLinkHtml;\n",
              "          element.appendChild(docLink);\n",
              "        }\n",
              "      </script>\n",
              "    </div>\n",
              "  </div>\n",
              "  "
            ]
          },
          "metadata": {},
          "execution_count": 72
        }
      ],
      "source": [
        "aihub0[['감정_대분류','사람문장4']].head(2)"
      ]
    },
    {
      "cell_type": "markdown",
      "metadata": {
        "id": "QI6dmYcx87kn"
      },
      "source": [
        "### 레이블 설정"
      ]
    },
    {
      "cell_type": "code",
      "execution_count": 73,
      "metadata": {
        "id": "UgJlx_Ubei7m",
        "colab": {
          "base_uri": "https://localhost:8080/"
        },
        "outputId": "c315fdab-2ef3-4db7-a7aa-673ea5b37a9c"
      },
      "outputs": [
        {
          "output_type": "execute_result",
          "data": {
            "text/plain": [
              "불안     8235\n",
              "분노     7793\n",
              "슬픔     7776\n",
              "기쁨     7571\n",
              "상처     7440\n",
              "당황     7192\n",
              "불안        1\n",
              "기쁨        1\n",
              "Name: 감정_대분류, dtype: int64"
            ]
          },
          "metadata": {},
          "execution_count": 73
        }
      ],
      "source": [
        "aihub0['감정_대분류'].value_counts()    # 기쁨을 긍정(1), 나머지를 부정(0)으로 레이블 할 것이다."
      ]
    },
    {
      "cell_type": "markdown",
      "metadata": {
        "id": "WyDv-Bt8ei-v"
      },
      "source": [
        "### aihub0 -> aihub1"
      ]
    },
    {
      "cell_type": "code",
      "execution_count": 74,
      "metadata": {
        "id": "fUvbz1Vx-RKR"
      },
      "outputs": [],
      "source": [
        "aihub1 = aihub0.copy()\n",
        "aihub1 = aihub1[['감정_대분류', '사람문장1', '사람문장2']]\n",
        "\n",
        "aihub1['label'] = 0\n",
        "aihub1.loc[aihub1['감정_대분류']=='기쁨', 'label'] = 1\n",
        "aihub1.loc[aihub1['감정_대분류']=='기쁨 ', 'label'] = 1"
      ]
    },
    {
      "cell_type": "markdown",
      "metadata": {
        "id": "uiYPpXQ-ejBg"
      },
      "source": [
        "### 중복된 값 제거"
      ]
    },
    {
      "cell_type": "code",
      "execution_count": 75,
      "metadata": {
        "id": "L2HqcKnvejE7",
        "colab": {
          "base_uri": "https://localhost:8080/"
        },
        "outputId": "b29896e2-5eaa-4c1c-db76-956b98db1732"
      },
      "outputs": [
        {
          "output_type": "stream",
          "name": "stdout",
          "text": [
            "aihub1의 샘플 수: 46009\n",
            "aihub1['사람문장1']의 종류: 44172\n",
            "aihub1['사람문장2']의 종류: 43517\n"
          ]
        }
      ],
      "source": [
        "print('aihub1의 샘플 수: {}\\naihub1[\\'사람문장1\\']의 종류: {}\\naihub1[\\'사람문장2\\']의 종류: {}'.format(aihub1.shape[0], aihub1['사람문장1'].nunique(), aihub1['사람문장2'].nunique()))\n",
        "# 중복된 값이 존재함을 알 수 있다."
      ]
    },
    {
      "cell_type": "code",
      "execution_count": 76,
      "metadata": {
        "id": "vV0nYe_xejIF"
      },
      "outputs": [],
      "source": [
        "aihub1.drop_duplicates(subset=['사람문장1'], inplace=True, ignore_index=True)\n",
        "aihub1.drop_duplicates(subset=['사람문장2'], inplace=True, ignore_index=True)"
      ]
    },
    {
      "cell_type": "code",
      "execution_count": 77,
      "metadata": {
        "id": "ad4N7TxKejLU",
        "colab": {
          "base_uri": "https://localhost:8080/"
        },
        "outputId": "666b4e49-1e36-4f86-dbdf-648246629390"
      },
      "outputs": [
        {
          "output_type": "stream",
          "name": "stdout",
          "text": [
            "aihub1의 샘플 수: 43314\n",
            "aihub1['사람문장1']의 종류: 43314\n",
            "aihub1['사람문장2']의 종류: 43314\n"
          ]
        }
      ],
      "source": [
        "print('aihub1의 샘플 수: {}\\naihub1[\\'사람문장1\\']의 종류: {}\\naihub1[\\'사람문장2\\']의 종류: {}'.format(aihub1.shape[0], aihub1['사람문장1'].nunique(), aihub1['사람문장2'].nunique()))\n",
        "# 중복된 값이 사라진 것을 볼 수 있다."
      ]
    },
    {
      "cell_type": "markdown",
      "metadata": {
        "id": "iqy0R1XaejOr"
      },
      "source": [
        "### aihub1 -> aihub2_1, aihub2_2"
      ]
    },
    {
      "cell_type": "code",
      "execution_count": 78,
      "metadata": {
        "id": "FQkQSuAcejRn"
      },
      "outputs": [],
      "source": [
        "aihub2 = aihub1.copy()"
      ]
    },
    {
      "cell_type": "code",
      "execution_count": 79,
      "metadata": {
        "id": "a8VPz0-LejU3"
      },
      "outputs": [],
      "source": [
        "aihub2_1 = aihub2[['사람문장1', 'label']]\n",
        "aihub2_2 = aihub2[['사람문장2', 'label']]"
      ]
    },
    {
      "cell_type": "markdown",
      "source": [
        "### 여러 문장으로 구성된 샘플 처리"
      ],
      "metadata": {
        "id": "oN_VgykLs3aQ"
      }
    },
    {
      "cell_type": "code",
      "execution_count": 82,
      "metadata": {
        "id": "ZoSJGA05ejYS",
        "colab": {
          "base_uri": "https://localhost:8080/"
        },
        "outputId": "a884ab36-2a59-4851-c303-74eede0626ce"
      },
      "outputs": [
        {
          "output_type": "stream",
          "name": "stderr",
          "text": [
            "/usr/local/lib/python3.7/dist-packages/ipykernel_launcher.py:1: SettingWithCopyWarning: \n",
            "A value is trying to be set on a copy of a slice from a DataFrame.\n",
            "Try using .loc[row_indexer,col_indexer] = value instead\n",
            "\n",
            "See the caveats in the documentation: https://pandas.pydata.org/pandas-docs/stable/user_guide/indexing.html#returning-a-view-versus-a-copy\n",
            "  \"\"\"Entry point for launching an IPython kernel.\n",
            "/usr/local/lib/python3.7/dist-packages/ipykernel_launcher.py:2: SettingWithCopyWarning: \n",
            "A value is trying to be set on a copy of a slice from a DataFrame.\n",
            "Try using .loc[row_indexer,col_indexer] = value instead\n",
            "\n",
            "See the caveats in the documentation: https://pandas.pydata.org/pandas-docs/stable/user_guide/indexing.html#returning-a-view-versus-a-copy\n",
            "  \n"
          ]
        }
      ],
      "source": [
        "aihub2_1['nsent'] = aihub2_1['사람문장1'].map(sent_tokenize).map(len)\n",
        "aihub2_2['nsent'] = aihub2_2['사람문장2'].map(sent_tokenize).map(len)"
      ]
    },
    {
      "cell_type": "code",
      "execution_count": 93,
      "metadata": {
        "id": "9D0kx0UuejbH",
        "colab": {
          "base_uri": "https://localhost:8080/"
        },
        "outputId": "538c3f0b-ab5b-4de6-dd07-7a814b9ed55b"
      },
      "outputs": [
        {
          "output_type": "stream",
          "name": "stdout",
          "text": [
            "aihub2_1의 nsent(문장의 수):\n",
            "1    31883\n",
            "2    11129\n",
            "3      280\n",
            "4       22\n",
            "Name: nsent, dtype: int64\n",
            "-------------------------\n",
            "aihub2_2의 nsent(문장의 수):\n",
            "1    27151\n",
            "2    15197\n",
            "3      893\n",
            "4       63\n",
            "5        9\n",
            "6        1\n",
            "Name: nsent, dtype: int64\n"
          ]
        }
      ],
      "source": [
        "print('aihub2_1의 nsent(문장의 수):\\n{}'.format(aihub2_1['nsent'].value_counts()))\n",
        "print('-'*25)\n",
        "print('aihub2_2의 nsent(문장의 수):\\n{}'.format(aihub2_2['nsent'].value_counts()))\n",
        "\n",
        "# 샘플이 1~6개의 문장들로 이루어진 것을 알 수 있다. "
      ]
    },
    {
      "cell_type": "code",
      "execution_count": 95,
      "metadata": {
        "id": "Y7cwU-RNejeW",
        "colab": {
          "base_uri": "https://localhost:8080/"
        },
        "outputId": "fed03274-9793-4556-8226-63d83500fc76"
      },
      "outputs": [
        {
          "output_type": "execute_result",
          "data": {
            "text/plain": [
              "3         재취업이 돼서 받게 된 첫 월급으로 온 가족이 외식을 할 예정이야. 너무 행복해.\n",
              "8                친구들이 나를 괴롭혀. 부모님과 선생님께 얘기했는데도 믿어주지 않아.\n",
              "10    새로 간 치과에서 조금 썩기만 한 이를 임플란트를 하라고 했어. 과잉진료는 안 한다더니.\n",
              "13                      아내의 건강이 갑자기 악화됐어. 너무 걱정스럽고 불안해.\n",
              "16            이번에도 고시에 불합격했어. 부모님께 무슨 소리를 들을지 벌써부터 두려워.\n",
              "Name: 사람문장1, dtype: object"
            ]
          },
          "metadata": {},
          "execution_count": 95
        }
      ],
      "source": [
        "aihub2_1.loc[aihub2_1['nsent']==2, '사람문장1'].head()\n",
        "\n",
        "# 문장이 2개인 경우, 보통 '감정 + 그 이유'의 형식을 갖고 있다.\n",
        "# 즉, 문장이 2개인 경우는 분리해서 사용하면 되겠다."
      ]
    },
    {
      "cell_type": "code",
      "execution_count": 96,
      "metadata": {
        "id": "UW8qyuLOejhx",
        "colab": {
          "base_uri": "https://localhost:8080/"
        },
        "outputId": "4c6cba3f-36a7-4c29-8aa9-cf514e96d0db"
      },
      "outputs": [
        {
          "output_type": "execute_result",
          "data": {
            "text/plain": [
              "90         정년퇴직을 하게 되었어. 노후 준비를 다 해놔서 그런지 두렵지 않아. 너무 기뻐.\n",
              "95                요즘 내 진로에 대해서 고민이 많아. 명확한 꿈이 없어. 혼란스러워.\n",
              "187         오빠는 일이 없나 봐. 항상 혼자 방에 틀어박혀 있어. 그런 오빠가 좀 걱정돼.\n",
              "368    항상 피로감은 있었지만 간암일 줄이야. 병원에서 죽을 수도 있다는데 참혹하고 화가 ...\n",
              "636    내 주위에 괴롭힘을 당하는 친구가 있어. 분명 나에게 도움을 청할 거야. 난 그렇게...\n",
              "Name: 사람문장1, dtype: object"
            ]
          },
          "metadata": {},
          "execution_count": 96
        }
      ],
      "source": [
        "aihub2_1.loc[aihub2_1['nsent']==3, '사람문장1'].head()\n",
        "\n",
        "# 문장이 3개인 경우부터는 모든 문장들이 동일한 감정을 나타내지 않거나 애매한 경우가 존재한다.\n",
        "# 그러므로 문장이 3개 이상인 것들은 아예 제외하는 것이 낫다고 판단했다."
      ]
    },
    {
      "cell_type": "markdown",
      "source": [
        "###  aihub2_1, aihub2_2 ->  aihub3"
      ],
      "metadata": {
        "id": "YfYUXsanejlE"
      }
    },
    {
      "cell_type": "code",
      "execution_count": 98,
      "metadata": {
        "id": "FRqlOP83ejoS"
      },
      "outputs": [],
      "source": [
        "aihub2_1.columns = ['document', 'label', 'nsent']\n",
        "aihub2_2.columns = ['document', 'label', 'nsent']\n",
        "\n",
        "# dataframe의 열 이름을 통일한다."
      ]
    },
    {
      "cell_type": "code",
      "execution_count": 100,
      "metadata": {
        "id": "9w0o5eM-ejrY"
      },
      "outputs": [],
      "source": [
        "aihub3 = pd.concat([aihub2_1, aihub2_2], ignore_index=True)"
      ]
    },
    {
      "cell_type": "code",
      "execution_count": 106,
      "metadata": {
        "id": "HlBdpPw1ejuB"
      },
      "outputs": [],
      "source": [
        "aihub3 = aihub3.loc[aihub3['nsent']<=2]\n",
        "\n",
        "# 문장이 3개 이상인 샘플들은 지운다."
      ]
    },
    {
      "cell_type": "markdown",
      "source": [
        "### aihub3 -> aihub4"
      ],
      "metadata": {
        "id": "YN_cb5C3whbj"
      }
    },
    {
      "cell_type": "code",
      "source": [
        "aihub4 = aihub3.copy()"
      ],
      "metadata": {
        "id": "gP0SnZbbutW4"
      },
      "execution_count": 139,
      "outputs": []
    },
    {
      "cell_type": "code",
      "source": [
        "aihub4 = aihub4[['document', 'label']]"
      ],
      "metadata": {
        "id": "PEwVqjDXuta1"
      },
      "execution_count": 140,
      "outputs": []
    },
    {
      "cell_type": "markdown",
      "source": [
        "### 두개의 문장으로 구성된 샘플을 두개의 샘플로 나눈다.(aihub4 -> aihub5)"
      ],
      "metadata": {
        "id": "1wt9kJCluteo"
      }
    },
    {
      "cell_type": "code",
      "source": [
        "# 문장 2개를 각각 하나의 문장으로 분리해줄 함수 정의\n",
        "# 주의: dataframe의 인덱스가 오름차순읋 정렬되어 있어야 한다.\n",
        "def trans_df(df):\n",
        "  temp = pd.DataFrame({'document':[], 'label':[]})\n",
        "  num = 0\n",
        "  for i in tqdm(range(df.shape[0])):\n",
        "    for s in sent_tokenize(df['document'][i]):\n",
        "      temp.loc[num] = [s, int(df['label'][i])]\n",
        "      num = num+1\n",
        "  return temp"
      ],
      "metadata": {
        "id": "g2mu_dtCutiq"
      },
      "execution_count": 141,
      "outputs": []
    },
    {
      "cell_type": "code",
      "source": [
        "aihub4.reset_index(drop=True, inplace=True)\n",
        "\n",
        "# 함수의 인풋 조건에 맞도록 인덱스를 오름차순으로 정렬시킨다."
      ],
      "metadata": {
        "id": "HOE1jSxC1y1t"
      },
      "execution_count": 142,
      "outputs": []
    },
    {
      "cell_type": "code",
      "source": [
        "aihub5 = trans_df(aihub4)\n",
        "\n",
        "# 함수를 이용하여 데이터 프레임의 각 샘플들이 하나의 문장만을 갖도록 만든다."
      ],
      "metadata": {
        "colab": {
          "base_uri": "https://localhost:8080/"
        },
        "id": "4E-5BeUSutmm",
        "outputId": "9c195232-f4d0-4aed-e407-e72e2e2f0094"
      },
      "execution_count": 143,
      "outputs": [
        {
          "output_type": "stream",
          "name": "stderr",
          "text": [
            "100%|██████████| 85360/85360 [14:09<00:00, 100.50it/s]\n"
          ]
        }
      ]
    },
    {
      "cell_type": "markdown",
      "source": [
        "### aihub5 -> aihub6"
      ],
      "metadata": {
        "id": "8uZiFq4Q5dVN"
      }
    },
    {
      "cell_type": "code",
      "source": [
        "aihub6 = aihub5.copy()"
      ],
      "metadata": {
        "id": "rFoCr0x95cnJ"
      },
      "execution_count": 144,
      "outputs": []
    },
    {
      "cell_type": "code",
      "source": [
        "aihub6['document'] = aihub6['document'].map(lambda sent: re.sub('[^ 가-힣]', '', sent))"
      ],
      "metadata": {
        "id": "8mPkqY-Lutqg"
      },
      "execution_count": 145,
      "outputs": []
    },
    {
      "cell_type": "code",
      "source": [
        "aihub6['label'] = aihub6['label'].astype('int64')"
      ],
      "metadata": {
        "id": "Pf9Z-f0xutuv"
      },
      "execution_count": 148,
      "outputs": []
    },
    {
      "cell_type": "markdown",
      "source": [
        "### aihub6 -> aihub7(중복된 값 제거)"
      ],
      "metadata": {
        "id": "Sibt2p6Tutyk"
      }
    },
    {
      "cell_type": "code",
      "source": [
        "aihub7 = aihub6.copy()"
      ],
      "metadata": {
        "id": "HXZfoklf-7kd"
      },
      "execution_count": 153,
      "outputs": []
    },
    {
      "cell_type": "code",
      "source": [
        "print('aihub7의 샘플 수: {}\\naihub7[\\'document\\']의 종류: {}'.format(aihub7.shape[0], aihub7['document'].nunique()))\n",
        "# 중복된 값이 존재함을 알 수 있다."
      ],
      "metadata": {
        "colab": {
          "base_uri": "https://localhost:8080/"
        },
        "id": "q51YSltsut3G",
        "outputId": "0a54f5d2-1d98-4c32-9078-15169b0e537a"
      },
      "execution_count": 155,
      "outputs": [
        {
          "output_type": "stream",
          "name": "stdout",
          "text": [
            "aihub7의 샘플 수: 111686\n",
            "aihub7['document']의 종류: 103945\n"
          ]
        }
      ]
    },
    {
      "cell_type": "code",
      "source": [
        "aihub7 = aihub7.drop_duplicates(subset=['document'], ignore_index=True)"
      ],
      "metadata": {
        "id": "NFCEejkxut7J"
      },
      "execution_count": 156,
      "outputs": []
    },
    {
      "cell_type": "code",
      "source": [
        "print('aihub7의 샘플 수: {}\\naihub7[\\'document\\']의 종류: {}'.format(aihub7.shape[0], aihub7['document'].nunique()))\n",
        "# 중복된 값이 지워진 것을 볼 수 있다."
      ],
      "metadata": {
        "colab": {
          "base_uri": "https://localhost:8080/"
        },
        "id": "PlH4KwjIut-y",
        "outputId": "5646f031-9615-4cd3-f84c-d88111850e55"
      },
      "execution_count": 158,
      "outputs": [
        {
          "output_type": "stream",
          "name": "stdout",
          "text": [
            "aihub7의 샘플 수: 103945\n",
            "aihub7['document']의 종류: 103945\n"
          ]
        }
      ]
    },
    {
      "cell_type": "markdown",
      "source": [
        "# 3. 데이터 내보내기"
      ],
      "metadata": {
        "id": "j1md46A4uuDU"
      }
    },
    {
      "cell_type": "code",
      "source": [
        "aihub7.to_excel(path + 'aihub_data_preprocessed.xlsx', index=False)"
      ],
      "metadata": {
        "id": "NZRG8xknuuHV"
      },
      "execution_count": 159,
      "outputs": []
    }
  ],
  "metadata": {
    "colab": {
      "collapsed_sections": [],
      "name": "AIHUB_DATA_PREPROCESSING",
      "provenance": [],
      "toc_visible": true
    },
    "kernelspec": {
      "display_name": "Python 3",
      "name": "python3"
    },
    "language_info": {
      "name": "python"
    }
  },
  "nbformat": 4,
  "nbformat_minor": 0
}