{
  "nbformat": 4,
  "nbformat_minor": 0,
  "metadata": {
    "colab": {
      "name": "NSMC_DATA_PREPROCESSING",
      "provenance": [],
      "collapsed_sections": [
        "iYDUBOXh7LzZ",
        "RKZsWmV-7MJi",
        "-HacYLBu7MQq",
        "_Mg9QZTR_zLr"
      ]
    },
    "kernelspec": {
      "name": "python3",
      "display_name": "Python 3"
    },
    "language_info": {
      "name": "python"
    }
  },
  "cells": [
    {
      "cell_type": "markdown",
      "source": [
        "# 0. 구글 드라이브 연동 및 필수 라이브러리 설치 및 로드"
      ],
      "metadata": {
        "id": "iEHoGMkW7Fnj"
      }
    },
    {
      "cell_type": "markdown",
      "source": [
        "### 구글 드라이브 연동"
      ],
      "metadata": {
        "id": "iYDUBOXh7LzZ"
      }
    },
    {
      "cell_type": "code",
      "source": [
        "from google.colab import drive\n",
        "drive.mount('/content/gdrive')"
      ],
      "metadata": {
        "colab": {
          "base_uri": "https://localhost:8080/"
        },
        "id": "b6ENcIw07L3Z",
        "outputId": "1d73ee6d-2606-4d9a-f356-1edb20819586"
      },
      "execution_count": 2,
      "outputs": [
        {
          "output_type": "stream",
          "name": "stdout",
          "text": [
            "Mounted at /content/gdrive\n"
          ]
        }
      ]
    },
    {
      "cell_type": "markdown",
      "source": [
        "### 필수 라이브러리 설치"
      ],
      "metadata": {
        "id": "_Ycsh5j27L7F"
      }
    },
    {
      "cell_type": "code",
      "source": [
        "!pip install soynlp"
      ],
      "metadata": {
        "colab": {
          "base_uri": "https://localhost:8080/"
        },
        "id": "ulKNuNsc7L_C",
        "outputId": "e7021bcc-5016-42c4-f07c-24b8f10106e5"
      },
      "execution_count": 28,
      "outputs": [
        {
          "output_type": "stream",
          "name": "stdout",
          "text": [
            "Looking in indexes: https://pypi.org/simple, https://us-python.pkg.dev/colab-wheels/public/simple/\n",
            "Collecting soynlp\n",
            "  Downloading soynlp-0.0.493-py3-none-any.whl (416 kB)\n",
            "\u001b[K     |████████████████████████████████| 416 kB 28.0 MB/s \n",
            "\u001b[?25hRequirement already satisfied: scikit-learn>=0.20.0 in /usr/local/lib/python3.7/dist-packages (from soynlp) (1.0.2)\n",
            "Requirement already satisfied: numpy>=1.12.1 in /usr/local/lib/python3.7/dist-packages (from soynlp) (1.21.6)\n",
            "Requirement already satisfied: scipy>=1.1.0 in /usr/local/lib/python3.7/dist-packages (from soynlp) (1.7.3)\n",
            "Requirement already satisfied: psutil>=5.0.1 in /usr/local/lib/python3.7/dist-packages (from soynlp) (5.4.8)\n",
            "Requirement already satisfied: threadpoolctl>=2.0.0 in /usr/local/lib/python3.7/dist-packages (from scikit-learn>=0.20.0->soynlp) (3.1.0)\n",
            "Requirement already satisfied: joblib>=0.11 in /usr/local/lib/python3.7/dist-packages (from scikit-learn>=0.20.0->soynlp) (1.1.0)\n",
            "Installing collected packages: soynlp\n",
            "Successfully installed soynlp-0.0.493\n"
          ]
        }
      ]
    },
    {
      "cell_type": "code",
      "source": [
        "!pip install git+https://github.com/ssut/py-hanspell.git"
      ],
      "metadata": {
        "colab": {
          "base_uri": "https://localhost:8080/"
        },
        "id": "y3D_kAJuF-BQ",
        "outputId": "c6f3e08a-fa31-40fe-9994-71c44c83d421"
      },
      "execution_count": 40,
      "outputs": [
        {
          "output_type": "stream",
          "name": "stdout",
          "text": [
            "Looking in indexes: https://pypi.org/simple, https://us-python.pkg.dev/colab-wheels/public/simple/\n",
            "Collecting git+https://github.com/ssut/py-hanspell.git\n",
            "  Cloning https://github.com/ssut/py-hanspell.git to /tmp/pip-req-build-ia2oerso\n",
            "  Running command git clone -q https://github.com/ssut/py-hanspell.git /tmp/pip-req-build-ia2oerso\n",
            "Requirement already satisfied: requests in /usr/local/lib/python3.7/dist-packages (from py-hanspell==1.1) (2.23.0)\n",
            "Requirement already satisfied: certifi>=2017.4.17 in /usr/local/lib/python3.7/dist-packages (from requests->py-hanspell==1.1) (2022.6.15)\n",
            "Requirement already satisfied: urllib3!=1.25.0,!=1.25.1,<1.26,>=1.21.1 in /usr/local/lib/python3.7/dist-packages (from requests->py-hanspell==1.1) (1.24.3)\n",
            "Requirement already satisfied: chardet<4,>=3.0.2 in /usr/local/lib/python3.7/dist-packages (from requests->py-hanspell==1.1) (3.0.4)\n",
            "Requirement already satisfied: idna<3,>=2.5 in /usr/local/lib/python3.7/dist-packages (from requests->py-hanspell==1.1) (2.10)\n",
            "Building wheels for collected packages: py-hanspell\n",
            "  Building wheel for py-hanspell (setup.py) ... \u001b[?25l\u001b[?25hdone\n",
            "  Created wheel for py-hanspell: filename=py_hanspell-1.1-py3-none-any.whl size=4868 sha256=375bf78a8ad9d10218e482a1cf92e8b137cb753d4f3a4c35477fdb01245851c0\n",
            "  Stored in directory: /tmp/pip-ephem-wheel-cache-4ourylrn/wheels/ab/f5/7b/d4124bb329c905301baed80e2ae45aa14e824f62ebc3ec2cc4\n",
            "Successfully built py-hanspell\n",
            "Installing collected packages: py-hanspell\n",
            "Successfully installed py-hanspell-1.1\n"
          ]
        }
      ]
    },
    {
      "cell_type": "markdown",
      "source": [
        "### 필수 라이브러리 로드"
      ],
      "metadata": {
        "id": "Qpos26W07MCc"
      }
    },
    {
      "cell_type": "code",
      "source": [
        "import pandas as pd\n",
        "import re\n",
        "from soynlp.normalizer import *\n",
        "import numpy as np\n",
        "from hanspell import spell_checker"
      ],
      "metadata": {
        "id": "V0vQFkM47MGI"
      },
      "execution_count": 41,
      "outputs": []
    },
    {
      "cell_type": "markdown",
      "source": [
        "### 폴더 경로 설정"
      ],
      "metadata": {
        "id": "RKZsWmV-7MJi"
      }
    },
    {
      "cell_type": "code",
      "source": [
        "path = '/content/gdrive/MyDrive/FINAL_SUBMIT/'"
      ],
      "metadata": {
        "id": "MjMTzSlv7MM-"
      },
      "execution_count": 4,
      "outputs": []
    },
    {
      "cell_type": "markdown",
      "source": [
        "# 1. NSMC 데이터 로드"
      ],
      "metadata": {
        "id": "-HacYLBu7MQq"
      }
    },
    {
      "cell_type": "markdown",
      "source": [
        "### 데이터 로드"
      ],
      "metadata": {
        "id": "pmoQSBLP9Z_8"
      }
    },
    {
      "cell_type": "code",
      "source": [
        "nsmc0 = pd.read_csv(path+'nsmc_data.txt', sep='\\t')"
      ],
      "metadata": {
        "id": "-oSUeSSg8xxp"
      },
      "execution_count": 5,
      "outputs": []
    },
    {
      "cell_type": "markdown",
      "source": [
        "### 가져온 데이터 확인"
      ],
      "metadata": {
        "id": "NlsjCiDB8x2q"
      }
    },
    {
      "cell_type": "code",
      "source": [
        "nsmc0.head(2)"
      ],
      "metadata": {
        "colab": {
          "base_uri": "https://localhost:8080/",
          "height": 112
        },
        "id": "6cdVcPih8x7f",
        "outputId": "9f30124e-d52b-461c-d8a0-6a070fd70322"
      },
      "execution_count": 8,
      "outputs": [
        {
          "output_type": "execute_result",
          "data": {
            "text/plain": [
              "        id                                           document  label\n",
              "0  8112052                                어릴때보고 지금다시봐도 재밌어요ㅋㅋ      1\n",
              "1  8132799  디자인을 배우는 학생으로, 외국디자이너와 그들이 일군 전통을 통해 발전해가는 문화산...      1"
            ],
            "text/html": [
              "\n",
              "  <div id=\"df-759ce934-7624-4dd1-a0cf-b109dba8bd54\">\n",
              "    <div class=\"colab-df-container\">\n",
              "      <div>\n",
              "<style scoped>\n",
              "    .dataframe tbody tr th:only-of-type {\n",
              "        vertical-align: middle;\n",
              "    }\n",
              "\n",
              "    .dataframe tbody tr th {\n",
              "        vertical-align: top;\n",
              "    }\n",
              "\n",
              "    .dataframe thead th {\n",
              "        text-align: right;\n",
              "    }\n",
              "</style>\n",
              "<table border=\"1\" class=\"dataframe\">\n",
              "  <thead>\n",
              "    <tr style=\"text-align: right;\">\n",
              "      <th></th>\n",
              "      <th>id</th>\n",
              "      <th>document</th>\n",
              "      <th>label</th>\n",
              "    </tr>\n",
              "  </thead>\n",
              "  <tbody>\n",
              "    <tr>\n",
              "      <th>0</th>\n",
              "      <td>8112052</td>\n",
              "      <td>어릴때보고 지금다시봐도 재밌어요ㅋㅋ</td>\n",
              "      <td>1</td>\n",
              "    </tr>\n",
              "    <tr>\n",
              "      <th>1</th>\n",
              "      <td>8132799</td>\n",
              "      <td>디자인을 배우는 학생으로, 외국디자이너와 그들이 일군 전통을 통해 발전해가는 문화산...</td>\n",
              "      <td>1</td>\n",
              "    </tr>\n",
              "  </tbody>\n",
              "</table>\n",
              "</div>\n",
              "      <button class=\"colab-df-convert\" onclick=\"convertToInteractive('df-759ce934-7624-4dd1-a0cf-b109dba8bd54')\"\n",
              "              title=\"Convert this dataframe to an interactive table.\"\n",
              "              style=\"display:none;\">\n",
              "        \n",
              "  <svg xmlns=\"http://www.w3.org/2000/svg\" height=\"24px\"viewBox=\"0 0 24 24\"\n",
              "       width=\"24px\">\n",
              "    <path d=\"M0 0h24v24H0V0z\" fill=\"none\"/>\n",
              "    <path d=\"M18.56 5.44l.94 2.06.94-2.06 2.06-.94-2.06-.94-.94-2.06-.94 2.06-2.06.94zm-11 1L8.5 8.5l.94-2.06 2.06-.94-2.06-.94L8.5 2.5l-.94 2.06-2.06.94zm10 10l.94 2.06.94-2.06 2.06-.94-2.06-.94-.94-2.06-.94 2.06-2.06.94z\"/><path d=\"M17.41 7.96l-1.37-1.37c-.4-.4-.92-.59-1.43-.59-.52 0-1.04.2-1.43.59L10.3 9.45l-7.72 7.72c-.78.78-.78 2.05 0 2.83L4 21.41c.39.39.9.59 1.41.59.51 0 1.02-.2 1.41-.59l7.78-7.78 2.81-2.81c.8-.78.8-2.07 0-2.86zM5.41 20L4 18.59l7.72-7.72 1.47 1.35L5.41 20z\"/>\n",
              "  </svg>\n",
              "      </button>\n",
              "      \n",
              "  <style>\n",
              "    .colab-df-container {\n",
              "      display:flex;\n",
              "      flex-wrap:wrap;\n",
              "      gap: 12px;\n",
              "    }\n",
              "\n",
              "    .colab-df-convert {\n",
              "      background-color: #E8F0FE;\n",
              "      border: none;\n",
              "      border-radius: 50%;\n",
              "      cursor: pointer;\n",
              "      display: none;\n",
              "      fill: #1967D2;\n",
              "      height: 32px;\n",
              "      padding: 0 0 0 0;\n",
              "      width: 32px;\n",
              "    }\n",
              "\n",
              "    .colab-df-convert:hover {\n",
              "      background-color: #E2EBFA;\n",
              "      box-shadow: 0px 1px 2px rgba(60, 64, 67, 0.3), 0px 1px 3px 1px rgba(60, 64, 67, 0.15);\n",
              "      fill: #174EA6;\n",
              "    }\n",
              "\n",
              "    [theme=dark] .colab-df-convert {\n",
              "      background-color: #3B4455;\n",
              "      fill: #D2E3FC;\n",
              "    }\n",
              "\n",
              "    [theme=dark] .colab-df-convert:hover {\n",
              "      background-color: #434B5C;\n",
              "      box-shadow: 0px 1px 3px 1px rgba(0, 0, 0, 0.15);\n",
              "      filter: drop-shadow(0px 1px 2px rgba(0, 0, 0, 0.3));\n",
              "      fill: #FFFFFF;\n",
              "    }\n",
              "  </style>\n",
              "\n",
              "      <script>\n",
              "        const buttonEl =\n",
              "          document.querySelector('#df-759ce934-7624-4dd1-a0cf-b109dba8bd54 button.colab-df-convert');\n",
              "        buttonEl.style.display =\n",
              "          google.colab.kernel.accessAllowed ? 'block' : 'none';\n",
              "\n",
              "        async function convertToInteractive(key) {\n",
              "          const element = document.querySelector('#df-759ce934-7624-4dd1-a0cf-b109dba8bd54');\n",
              "          const dataTable =\n",
              "            await google.colab.kernel.invokeFunction('convertToInteractive',\n",
              "                                                     [key], {});\n",
              "          if (!dataTable) return;\n",
              "\n",
              "          const docLinkHtml = 'Like what you see? Visit the ' +\n",
              "            '<a target=\"_blank\" href=https://colab.research.google.com/notebooks/data_table.ipynb>data table notebook</a>'\n",
              "            + ' to learn more about interactive tables.';\n",
              "          element.innerHTML = '';\n",
              "          dataTable['output_type'] = 'display_data';\n",
              "          await google.colab.output.renderOutput(dataTable, element);\n",
              "          const docLink = document.createElement('div');\n",
              "          docLink.innerHTML = docLinkHtml;\n",
              "          element.appendChild(docLink);\n",
              "        }\n",
              "      </script>\n",
              "    </div>\n",
              "  </div>\n",
              "  "
            ]
          },
          "metadata": {},
          "execution_count": 8
        }
      ]
    },
    {
      "cell_type": "markdown",
      "source": [
        "### sample의 개수 확인"
      ],
      "metadata": {
        "id": "D-_00MzT8yAF"
      }
    },
    {
      "cell_type": "code",
      "source": [
        "print('nsmc0 sample 수: {}개'.format(nsmc0.shape[0]))"
      ],
      "metadata": {
        "colab": {
          "base_uri": "https://localhost:8080/"
        },
        "id": "gqS7BJO78yEE",
        "outputId": "42eb2968-15c7-44a0-a6df-0e1377dcf3c3"
      },
      "execution_count": 9,
      "outputs": [
        {
          "output_type": "stream",
          "name": "stdout",
          "text": [
            "nsmc0 sample 수: 200000개\n"
          ]
        }
      ]
    },
    {
      "cell_type": "markdown",
      "source": [
        "# 2. 데이터 정제"
      ],
      "metadata": {
        "id": "wqlk2oTB8yIW"
      }
    },
    {
      "cell_type": "markdown",
      "source": [
        "### 결측값 확인 및 제거(nsmc0 -> nsmc1)"
      ],
      "metadata": {
        "id": "_Mg9QZTR_zLr"
      }
    },
    {
      "cell_type": "code",
      "source": [
        "nsmc1 = nsmc0.copy()"
      ],
      "metadata": {
        "id": "pUIZY5xl-crP"
      },
      "execution_count": 15,
      "outputs": []
    },
    {
      "cell_type": "code",
      "source": [
        "nsmc1.isnull().sum()\n",
        "\n",
        "# documnet에 8개의 null 값이 있다는 것을 확인했다."
      ],
      "metadata": {
        "colab": {
          "base_uri": "https://localhost:8080/"
        },
        "id": "SDT-Z-zV-cvi",
        "outputId": "90da96c9-be80-4f6c-adee-e9ed1d161474"
      },
      "execution_count": 16,
      "outputs": [
        {
          "output_type": "execute_result",
          "data": {
            "text/plain": [
              "id          0\n",
              "document    8\n",
              "label       0\n",
              "dtype: int64"
            ]
          },
          "metadata": {},
          "execution_count": 16
        }
      ]
    },
    {
      "cell_type": "code",
      "source": [
        "nsmc1 = nsmc1.dropna(how='any')"
      ],
      "metadata": {
        "id": "1gpgYFHb-czf"
      },
      "execution_count": 17,
      "outputs": []
    },
    {
      "cell_type": "code",
      "source": [
        "nsmc1.isnull().sum()\n",
        "\n",
        "# document에 있는 null 값이 사라진 것을 볼 수 있다.\n",
        "# 주의: 인덱스에 구멍이 뚫렸다."
      ],
      "metadata": {
        "colab": {
          "base_uri": "https://localhost:8080/"
        },
        "id": "tYQdVqOF-c3m",
        "outputId": "efaeb893-ca9f-4149-cde8-8e34de767060"
      },
      "execution_count": 18,
      "outputs": [
        {
          "output_type": "execute_result",
          "data": {
            "text/plain": [
              "id          0\n",
              "document    0\n",
              "label       0\n",
              "dtype: int64"
            ]
          },
          "metadata": {},
          "execution_count": 18
        }
      ]
    },
    {
      "cell_type": "markdown",
      "source": [
        "### 중복된 값 확인 및 제거(nsmc1 -> nsmc2)"
      ],
      "metadata": {
        "id": "eN4Wyby-8yMf"
      }
    },
    {
      "cell_type": "code",
      "source": [
        "nsmc2 = nsmc1.copy()"
      ],
      "metadata": {
        "id": "kTT_apWJ8yQd"
      },
      "execution_count": 19,
      "outputs": []
    },
    {
      "cell_type": "code",
      "source": [
        "print('nsmc2 데이터 샘플의 수: {}'.format(nsmc2.shape[0]))\n",
        "print('nsmc2 데이터의 document 종류의 수: {}'.format(nsmc2['document'].nunique()))\n",
        "\n",
        "# 중복된 값이 있음을 알 수 있다."
      ],
      "metadata": {
        "colab": {
          "base_uri": "https://localhost:8080/"
        },
        "id": "YaqwCHlh8yUK",
        "outputId": "e1a066f7-cdb7-49fc-b463-9b8576a0f127"
      },
      "execution_count": 20,
      "outputs": [
        {
          "output_type": "stream",
          "name": "stdout",
          "text": [
            "nsmc2 데이터 샘플의 수: 199992\n",
            "nsmc2 데이터의 document 종류의 수: 194543\n"
          ]
        }
      ]
    },
    {
      "cell_type": "code",
      "source": [
        "nsmc2 = nsmc2.drop_duplicates(subset=['document'], ignore_index=True)"
      ],
      "metadata": {
        "id": "q0Yg-U5IAWV6"
      },
      "execution_count": 21,
      "outputs": []
    },
    {
      "cell_type": "code",
      "source": [
        "print('nsmc2 데이터 샘플의 수: {}'.format(nsmc2.shape[0]))\n",
        "print('nsmc2 데이터의 document 종류의 수: {}'.format(nsmc2['document'].nunique()))\n",
        "\n",
        "# 중복된 값이 지워진 것을 볼 수 있다."
      ],
      "metadata": {
        "colab": {
          "base_uri": "https://localhost:8080/"
        },
        "id": "umTkBYEQAWZk",
        "outputId": "1856ba0e-22f2-4a2a-c94a-d2a8064415b0"
      },
      "execution_count": 23,
      "outputs": [
        {
          "output_type": "stream",
          "name": "stdout",
          "text": [
            "nsmc2 데이터 샘플의 수: 194543\n",
            "nsmc2 데이터의 document 종류의 수: 194543\n"
          ]
        }
      ]
    },
    {
      "cell_type": "markdown",
      "source": [
        "### 노이즈 제거 및 정규화(nsmc2 -> nsmc3)"
      ],
      "metadata": {
        "id": "LXJ45q7PAWdP"
      }
    },
    {
      "cell_type": "code",
      "source": [
        "nsmc3 = nsmc2.copy()"
      ],
      "metadata": {
        "id": "CV-m8GHFAWgo"
      },
      "execution_count": 24,
      "outputs": []
    },
    {
      "cell_type": "code",
      "source": [
        "nsmc3['document'] = nsmc3['document'].map(lambda sent: re.sub('ㅜ', 'ㅠ', sent))\n",
        "\n",
        "# ㅜ와 ㅠ는 같은 의미이므로 통일한다."
      ],
      "metadata": {
        "id": "FcJS8h9aCHjy"
      },
      "execution_count": 26,
      "outputs": []
    },
    {
      "cell_type": "code",
      "source": [
        "nsmc3['document'] = nsmc3['document'].map(lambda sent: re.sub('[^ㅋㅎㅡㅉㅠ 가-힣]', '', sent))"
      ],
      "metadata": {
        "id": "ved6HIskCHnO"
      },
      "execution_count": 27,
      "outputs": []
    },
    {
      "cell_type": "code",
      "source": [
        "nsmc3['document'] = nsmc3['document'].map(lambda sent: emoticon_normalize(sent, num_repeats=2))\n",
        "\n",
        "# 3개이상 연속된 문자를 2개로 바꾼다.(예시, 'ㅋㅋㅋㅋㅋ' -> 'ㅋㅋ')"
      ],
      "metadata": {
        "id": "6KED78PcCiYN"
      },
      "execution_count": 30,
      "outputs": []
    },
    {
      "cell_type": "code",
      "source": [
        "nsmc3['document'] = nsmc3['document'].map(lambda sent: re.sub('ㅋㅋㅋ','ㅋㅋ',sent))\n",
        "nsmc3['document'] = nsmc3['document'].map(lambda sent: re.sub('ㅎㅎㅎ','ㅎㅎ',sent))\n",
        "nsmc3['document'] = nsmc3['document'].map(lambda sent: re.sub('ㅠㅠㅠ','ㅠㅠ',sent))\n",
        "nsmc3['document'] = nsmc3['document'].map(lambda sent: re.sub('ㅡㅡㅡ','ㅡㅡ',sent))\n",
        "nsmc3['document'] = nsmc3['document'].map(lambda sent: re.sub('ㅉㅉㅉ','ㅉㅉ',sent))\n",
        "\n",
        "# 알 수 없는 이유로 연속된 3개의 문자는 2개의 문자로 바뀌지 않아서 직접 바꿔준다."
      ],
      "metadata": {
        "id": "yjnLTjbHCHrD"
      },
      "execution_count": 31,
      "outputs": []
    },
    {
      "cell_type": "markdown",
      "source": [
        "### 결측값 확인 및 삭제(nsmc3 -> nsmc4)"
      ],
      "metadata": {
        "id": "3-BVN9n1CHuB"
      }
    },
    {
      "cell_type": "code",
      "source": [
        "nsmc4 = nsmc3.copy()"
      ],
      "metadata": {
        "id": "V42G7TUTAWj5"
      },
      "execution_count": 32,
      "outputs": []
    },
    {
      "cell_type": "code",
      "source": [
        "nsmc4['document'] = nsmc4['document'].map(lambda sent: re.sub('^ +', '', sent))\n",
        "nsmc4['document'].replace('', np.nan, inplace=True)\n",
        "\n",
        "# nsmc3의 결측값은 Nan이 아닌 공백 이외의 문자가 없는 string으로 되어있다.\n",
        "# 그러므로 직접 np.nan으로 채워야 한다."
      ],
      "metadata": {
        "id": "29AKmHl7EUmP"
      },
      "execution_count": 34,
      "outputs": []
    },
    {
      "cell_type": "code",
      "source": [
        "nsmc4.isnull().sum()\n",
        "\n",
        "# 결측값이 생긴 것을 볼 수 있다."
      ],
      "metadata": {
        "colab": {
          "base_uri": "https://localhost:8080/"
        },
        "id": "vWl6OJglFEcW",
        "outputId": "9f589554-972d-4414-b69e-c7a29a7b3c7e"
      },
      "execution_count": 35,
      "outputs": [
        {
          "output_type": "execute_result",
          "data": {
            "text/plain": [
              "id             0\n",
              "document    1108\n",
              "label          0\n",
              "dtype: int64"
            ]
          },
          "metadata": {},
          "execution_count": 35
        }
      ]
    },
    {
      "cell_type": "code",
      "source": [
        "nsmc4 = nsmc4.dropna(how='any')"
      ],
      "metadata": {
        "id": "lC8P6oxyEUrS"
      },
      "execution_count": 36,
      "outputs": []
    },
    {
      "cell_type": "code",
      "source": [
        "nsmc4.isnull().sum()\n",
        "\n",
        "# 결측값이 없어진 것을 볼 수 있다.\n",
        "# 주의: 인덱스의 오름차순이 깨져있다."
      ],
      "metadata": {
        "colab": {
          "base_uri": "https://localhost:8080/"
        },
        "id": "cB7gL1L3EUyz",
        "outputId": "2d0714a5-49f2-448b-b8c3-951c57b957f0"
      },
      "execution_count": 37,
      "outputs": [
        {
          "output_type": "execute_result",
          "data": {
            "text/plain": [
              "id          0\n",
              "document    0\n",
              "label       0\n",
              "dtype: int64"
            ]
          },
          "metadata": {},
          "execution_count": 37
        }
      ]
    },
    {
      "cell_type": "markdown",
      "source": [
        "### 중복된 값 확인 및 삭제(nsmc4 -> nsmc5)"
      ],
      "metadata": {
        "id": "aNhspVDpEU2l"
      }
    },
    {
      "cell_type": "code",
      "source": [
        "nsmc5 = nsmc4.copy()"
      ],
      "metadata": {
        "id": "CpCGNCj1FrYY"
      },
      "execution_count": 38,
      "outputs": []
    },
    {
      "cell_type": "code",
      "source": [
        "print('nsmc5 데이터 샘플의 수: {}'.format(nsmc5.shape[0]))\n",
        "print('nsmc5 데이터의 document 종류의 수: {}'.format(nsmc5['document'].nunique()))\n",
        "\n",
        "# 중복된 값이 있음을 알 수 있다."
      ],
      "metadata": {
        "colab": {
          "base_uri": "https://localhost:8080/"
        },
        "id": "wa-xTS_MAWnB",
        "outputId": "52ce9679-67b5-4df2-b806-fecbf764e8d3"
      },
      "execution_count": 39,
      "outputs": [
        {
          "output_type": "stream",
          "name": "stdout",
          "text": [
            "nsmc5 데이터 샘플의 수: 193435\n",
            "nsmc5 데이터의 document 종류의 수: 190368\n"
          ]
        }
      ]
    },
    {
      "cell_type": "code",
      "source": [
        "nsmc5 = nsmc5.drop_duplicates(subset=['document'], ignore_index=True)"
      ],
      "metadata": {
        "id": "SBMrayJgAWqQ"
      },
      "execution_count": 45,
      "outputs": []
    },
    {
      "cell_type": "code",
      "source": [
        "print('nsmc5 데이터 샘플의 수: {}'.format(nsmc5.shape[0]))\n",
        "print('nsmc5 데이터의 document 종류의 수: {}'.format(nsmc5['document'].nunique()))\n",
        "\n",
        "# 중복된 값이 대부분 사라진 것을 볼 수 있다."
      ],
      "metadata": {
        "colab": {
          "base_uri": "https://localhost:8080/"
        },
        "id": "KlDB0pKTAWtY",
        "outputId": "c347b20d-b160-4fe3-e3e2-fbd8df96a734"
      },
      "execution_count": 46,
      "outputs": [
        {
          "output_type": "stream",
          "name": "stdout",
          "text": [
            "nsmc5 데이터 샘플의 수: 190368\n",
            "nsmc5 데이터의 document 종류의 수: 190368\n"
          ]
        }
      ]
    },
    {
      "cell_type": "markdown",
      "source": [
        "### 띄어쓰기 및 맞춤법 교정(nsmc5 -> nsmc6)"
      ],
      "metadata": {
        "id": "ylOYnuQb7MUE"
      }
    },
    {
      "cell_type": "code",
      "source": [
        "def spell_check(sent):\n",
        "  return spell_checker.check(sent).checked\n",
        "\n",
        "# 문장을 넣으주면 맞춤이 교정된 문장을 반환하는 함수이다."
      ],
      "metadata": {
        "id": "cuzgJKD8FigJ"
      },
      "execution_count": 48,
      "outputs": []
    },
    {
      "cell_type": "code",
      "source": [
        "# 이 과정은 시간이 오래걸리기 때문에 팀원 3명에서 분할하여 계산했다.\n",
        "# 즉, 각자 계산한 결과들을 불러와서 합쳐준다."
      ],
      "metadata": {
        "id": "T-sq1uvBFikA"
      },
      "execution_count": 49,
      "outputs": []
    },
    {
      "cell_type": "code",
      "source": [
        "nsmc6_1 = pd.read_excel(path+'done_CJ.xlsx', engine='openpyxl')\n",
        "nsmc6_2 = pd.read_excel(path+'done_KM.xlsx', engine='openpyxl')\n",
        "nsmc6_3 = pd.read_excel(path+'done_MK.xlsx', engine='openpyxl')"
      ],
      "metadata": {
        "id": "qcU1X26OFin_"
      },
      "execution_count": 50,
      "outputs": []
    },
    {
      "cell_type": "code",
      "source": [
        "nsmc6 = pd.concat([nsmc6_1, nsmc6_2, nsmc6_3], ignore_index=True)"
      ],
      "metadata": {
        "id": "JZxoPnycFisR"
      },
      "execution_count": 51,
      "outputs": []
    },
    {
      "cell_type": "code",
      "source": [
        "nsmc6 = nsmc6[['document', 'label']]"
      ],
      "metadata": {
        "id": "4mfliS47Fiwb"
      },
      "execution_count": 52,
      "outputs": []
    },
    {
      "cell_type": "markdown",
      "source": [
        "### 최종 중복값 및 결측값 지우기(nsmc6 -> nsmc7)"
      ],
      "metadata": {
        "id": "At3yhUxWFi0X"
      }
    },
    {
      "cell_type": "code",
      "source": [
        "nsmc7 = nsmc6.copy()"
      ],
      "metadata": {
        "id": "xYm1GTR8Fi4V"
      },
      "execution_count": 54,
      "outputs": []
    },
    {
      "cell_type": "code",
      "source": [
        "nsmc7.isnull().sum()\n",
        "\n",
        "# 결측 값이 없다."
      ],
      "metadata": {
        "colab": {
          "base_uri": "https://localhost:8080/"
        },
        "id": "cgiW7KXWFi73",
        "outputId": "c0904940-8794-46f0-9a0f-6d6f17e2ab9a"
      },
      "execution_count": 55,
      "outputs": [
        {
          "output_type": "execute_result",
          "data": {
            "text/plain": [
              "document    0\n",
              "label       0\n",
              "dtype: int64"
            ]
          },
          "metadata": {},
          "execution_count": 55
        }
      ]
    },
    {
      "cell_type": "code",
      "source": [
        "print('nsmc7 데이터 샘플의 수: {}'.format(nsmc7.shape[0]))\n",
        "print('nsmc7 데이터의 document 종류의 수: {}'.format(nsmc7['document'].nunique()))\n",
        "\n",
        "# 중복된 값이 존재한다."
      ],
      "metadata": {
        "colab": {
          "base_uri": "https://localhost:8080/"
        },
        "id": "PiqPmwEQFi_b",
        "outputId": "ff207057-e9d4-44a9-d440-2a973f320fdc"
      },
      "execution_count": 56,
      "outputs": [
        {
          "output_type": "stream",
          "name": "stdout",
          "text": [
            "nsmc7 데이터 샘플의 수: 190530\n",
            "nsmc7 데이터의 document 종류의 수: 189049\n"
          ]
        }
      ]
    },
    {
      "cell_type": "code",
      "source": [
        "nsmc7 = nsmc7.drop_duplicates(subset=['document'], ignore_index=True)"
      ],
      "metadata": {
        "id": "anmD2TuGFjDK"
      },
      "execution_count": 57,
      "outputs": []
    },
    {
      "cell_type": "code",
      "source": [
        "print('nsmc7 데이터 샘플의 수: {}'.format(nsmc7.shape[0]))\n",
        "print('nsmc7 데이터의 document 종류의 수: {}'.format(nsmc7['document'].nunique()))\n",
        "\n",
        "# 중복된 값이 지워진 것을 볼 수 있다."
      ],
      "metadata": {
        "colab": {
          "base_uri": "https://localhost:8080/"
        },
        "id": "8vY0-e5IFjGr",
        "outputId": "6fdb7eec-d362-439b-b6d6-bcbad869dd0e"
      },
      "execution_count": 58,
      "outputs": [
        {
          "output_type": "stream",
          "name": "stdout",
          "text": [
            "nsmc7 데이터 샘플의 수: 189049\n",
            "nsmc7 데이터의 document 종류의 수: 189049\n"
          ]
        }
      ]
    },
    {
      "cell_type": "markdown",
      "source": [
        "# 3. 데이터 내보내기"
      ],
      "metadata": {
        "id": "iNg9tKysFjKV"
      }
    },
    {
      "cell_type": "code",
      "source": [
        "nsmc7.to_excel(path + 'nsmc_data_preprocessed.xlsx', index=False)"
      ],
      "metadata": {
        "id": "E_KhA-4lFjNV"
      },
      "execution_count": 59,
      "outputs": []
    }
  ]
}