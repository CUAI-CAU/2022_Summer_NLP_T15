{
  "nbformat": 4,
  "nbformat_minor": 0,
  "metadata": {
    "colab": {
      "name": "review_tokenizer",
      "provenance": [],
      "collapsed_sections": []
    },
    "kernelspec": {
      "name": "python3",
      "display_name": "Python 3"
    },
    "language_info": {
      "name": "python"
    }
  },
  "cells": [
    {
      "cell_type": "code",
      "execution_count": null,
      "metadata": {
        "id": "4h0Xzh7ra6s-",
        "colab": {
          "base_uri": "https://localhost:8080/"
        },
        "outputId": "68ee80d1-2f3e-4c2a-8d4c-2cf89172c054"
      },
      "outputs": [
        {
          "output_type": "stream",
          "name": "stdout",
          "text": [
            "Mounted at /content/gdrive\n"
          ]
        }
      ],
      "source": [
        "from google.colab import drive\n",
        "drive.mount('/content/gdrive')"
      ]
    },
    {
      "cell_type": "code",
      "source": [
        "!pip install konlpy"
      ],
      "metadata": {
        "colab": {
          "base_uri": "https://localhost:8080/"
        },
        "id": "cUHo7dk8g41f",
        "outputId": "4a74f2b0-a72a-461c-a316-36a09be10f37"
      },
      "execution_count": null,
      "outputs": [
        {
          "output_type": "stream",
          "name": "stdout",
          "text": [
            "Looking in indexes: https://pypi.org/simple, https://us-python.pkg.dev/colab-wheels/public/simple/\n",
            "Collecting konlpy\n",
            "  Downloading konlpy-0.6.0-py2.py3-none-any.whl (19.4 MB)\n",
            "\u001b[K     |████████████████████████████████| 19.4 MB 1.3 MB/s \n",
            "\u001b[?25hCollecting JPype1>=0.7.0\n",
            "  Downloading JPype1-1.4.0-cp37-cp37m-manylinux_2_5_x86_64.manylinux1_x86_64.whl (453 kB)\n",
            "\u001b[K     |████████████████████████████████| 453 kB 57.3 MB/s \n",
            "\u001b[?25hRequirement already satisfied: numpy>=1.6 in /usr/local/lib/python3.7/dist-packages (from konlpy) (1.21.6)\n",
            "Requirement already satisfied: lxml>=4.1.0 in /usr/local/lib/python3.7/dist-packages (from konlpy) (4.9.1)\n",
            "Requirement already satisfied: typing-extensions in /usr/local/lib/python3.7/dist-packages (from JPype1>=0.7.0->konlpy) (4.1.1)\n",
            "Installing collected packages: JPype1, konlpy\n",
            "Successfully installed JPype1-1.4.0 konlpy-0.6.0\n"
          ]
        }
      ]
    },
    {
      "cell_type": "code",
      "source": [
        "!pip install soynlp"
      ],
      "metadata": {
        "colab": {
          "base_uri": "https://localhost:8080/"
        },
        "id": "R7xhV-P_g7o2",
        "outputId": "dfb0f803-9710-4bbe-96cb-ccb58acbf259"
      },
      "execution_count": null,
      "outputs": [
        {
          "output_type": "stream",
          "name": "stdout",
          "text": [
            "Looking in indexes: https://pypi.org/simple, https://us-python.pkg.dev/colab-wheels/public/simple/\n",
            "Collecting soynlp\n",
            "  Downloading soynlp-0.0.493-py3-none-any.whl (416 kB)\n",
            "\u001b[K     |████████████████████████████████| 416 kB 5.3 MB/s \n",
            "\u001b[?25hRequirement already satisfied: psutil>=5.0.1 in /usr/local/lib/python3.7/dist-packages (from soynlp) (5.4.8)\n",
            "Requirement already satisfied: scipy>=1.1.0 in /usr/local/lib/python3.7/dist-packages (from soynlp) (1.7.3)\n",
            "Requirement already satisfied: scikit-learn>=0.20.0 in /usr/local/lib/python3.7/dist-packages (from soynlp) (1.0.2)\n",
            "Requirement already satisfied: numpy>=1.12.1 in /usr/local/lib/python3.7/dist-packages (from soynlp) (1.21.6)\n",
            "Requirement already satisfied: joblib>=0.11 in /usr/local/lib/python3.7/dist-packages (from scikit-learn>=0.20.0->soynlp) (1.1.0)\n",
            "Requirement already satisfied: threadpoolctl>=2.0.0 in /usr/local/lib/python3.7/dist-packages (from scikit-learn>=0.20.0->soynlp) (3.1.0)\n",
            "Installing collected packages: soynlp\n",
            "Successfully installed soynlp-0.0.493\n"
          ]
        }
      ]
    },
    {
      "cell_type": "code",
      "source": [
        "import nltk\n",
        "nltk.download()"
      ],
      "metadata": {
        "id": "jPEyJVzI0IFP"
      },
      "execution_count": null,
      "outputs": []
    },
    {
      "cell_type": "code",
      "source": [
        "from konlpy.tag import Okt\n",
        "from tqdm import tqdm\n",
        "from tensorflow.keras.preprocessing.text import Tokenizer\n",
        "from tensorflow.keras.preprocessing.sequence import pad_sequences\n",
        "from sklearn.model_selection import train_test_split\n",
        "\n",
        "import matplotlib.pyplot as plt\n",
        "import numpy as np\n",
        "import pandas as pd\n",
        "import nltk\n",
        "import re\n",
        "from soynlp.normalizer import *"
      ],
      "metadata": {
        "id": "R1ulM1d4go4Y"
      },
      "execution_count": null,
      "outputs": []
    },
    {
      "cell_type": "markdown",
      "source": [
        "# 데이터 로드"
      ],
      "metadata": {
        "id": "3BstPehNg-8f"
      }
    },
    {
      "cell_type": "code",
      "source": [
        "path = '/content/gdrive/MyDrive/CUAI/CUAI/하계 프로젝트/'"
      ],
      "metadata": {
        "id": "6Xut-W5wg_6a"
      },
      "execution_count": null,
      "outputs": []
    },
    {
      "cell_type": "code",
      "source": [
        "data = pd.read_excel(path + 'final_data.xlsx', engine='openpyxl')"
      ],
      "metadata": {
        "id": "R3ZdJnYoiL6a"
      },
      "execution_count": null,
      "outputs": []
    },
    {
      "cell_type": "code",
      "source": [
        "data = data[['document', 'label']]\n",
        "data.drop_duplicates(subset=['document'], ignore_index=True)\n",
        "data"
      ],
      "metadata": {
        "colab": {
          "base_uri": "https://localhost:8080/",
          "height": 423
        },
        "id": "WGgt4xsNhdj3",
        "outputId": "4a9f89d3-e0b2-4430-993f-f42d48c5408d"
      },
      "execution_count": null,
      "outputs": [
        {
          "output_type": "execute_result",
          "data": {
            "text/plain": [
              "                                                 document  label\n",
              "0                                  어릴 때 보고 지금 다시 봐도 재밌어ㅋㅋ      1\n",
              "1       디자인을 배우는 학생으로 외국 디자이너와 그들이 일군 전통을 통해 발전해가는 문화산...      1\n",
              "2                        폴리스 스토리 시리즈는부터 뉴까지 버릴게 하나도 없음 최고      1\n",
              "3       와 연기가 진짜 개쩔구나 지루할 거라고 생각했는데 몰입해서 봤다 그래 이런 게 진짜...      1\n",
              "4                              안개 자욱한 밤하늘에 떠 있는 초승달 같은 영화      1\n",
              "...                                                   ...    ...\n",
              "303470                         내가 게을러서 다른 방법을 아직 생각하진 못했어      0\n",
              "303471                      댄스 동호회는 좀 괜찮은 것 같은데 이참에 가입해볼까      0\n",
              "303472                           당장 내일 밥은 어떡하고 내 병원비는 어쩌지      0\n",
              "303473                      응 이제 다들 독립해가지고 명절 아니면 찾아오질 않아      0\n",
              "303474                                   안부전화라도 해주면 좋을 텐데      0\n",
              "\n",
              "[303475 rows x 2 columns]"
            ],
            "text/html": [
              "\n",
              "  <div id=\"df-aa28bdf5-0cdd-4f80-92ce-31f5c96f539a\">\n",
              "    <div class=\"colab-df-container\">\n",
              "      <div>\n",
              "<style scoped>\n",
              "    .dataframe tbody tr th:only-of-type {\n",
              "        vertical-align: middle;\n",
              "    }\n",
              "\n",
              "    .dataframe tbody tr th {\n",
              "        vertical-align: top;\n",
              "    }\n",
              "\n",
              "    .dataframe thead th {\n",
              "        text-align: right;\n",
              "    }\n",
              "</style>\n",
              "<table border=\"1\" class=\"dataframe\">\n",
              "  <thead>\n",
              "    <tr style=\"text-align: right;\">\n",
              "      <th></th>\n",
              "      <th>document</th>\n",
              "      <th>label</th>\n",
              "    </tr>\n",
              "  </thead>\n",
              "  <tbody>\n",
              "    <tr>\n",
              "      <th>0</th>\n",
              "      <td>어릴 때 보고 지금 다시 봐도 재밌어ㅋㅋ</td>\n",
              "      <td>1</td>\n",
              "    </tr>\n",
              "    <tr>\n",
              "      <th>1</th>\n",
              "      <td>디자인을 배우는 학생으로 외국 디자이너와 그들이 일군 전통을 통해 발전해가는 문화산...</td>\n",
              "      <td>1</td>\n",
              "    </tr>\n",
              "    <tr>\n",
              "      <th>2</th>\n",
              "      <td>폴리스 스토리 시리즈는부터 뉴까지 버릴게 하나도 없음 최고</td>\n",
              "      <td>1</td>\n",
              "    </tr>\n",
              "    <tr>\n",
              "      <th>3</th>\n",
              "      <td>와 연기가 진짜 개쩔구나 지루할 거라고 생각했는데 몰입해서 봤다 그래 이런 게 진짜...</td>\n",
              "      <td>1</td>\n",
              "    </tr>\n",
              "    <tr>\n",
              "      <th>4</th>\n",
              "      <td>안개 자욱한 밤하늘에 떠 있는 초승달 같은 영화</td>\n",
              "      <td>1</td>\n",
              "    </tr>\n",
              "    <tr>\n",
              "      <th>...</th>\n",
              "      <td>...</td>\n",
              "      <td>...</td>\n",
              "    </tr>\n",
              "    <tr>\n",
              "      <th>303470</th>\n",
              "      <td>내가 게을러서 다른 방법을 아직 생각하진 못했어</td>\n",
              "      <td>0</td>\n",
              "    </tr>\n",
              "    <tr>\n",
              "      <th>303471</th>\n",
              "      <td>댄스 동호회는 좀 괜찮은 것 같은데 이참에 가입해볼까</td>\n",
              "      <td>0</td>\n",
              "    </tr>\n",
              "    <tr>\n",
              "      <th>303472</th>\n",
              "      <td>당장 내일 밥은 어떡하고 내 병원비는 어쩌지</td>\n",
              "      <td>0</td>\n",
              "    </tr>\n",
              "    <tr>\n",
              "      <th>303473</th>\n",
              "      <td>응 이제 다들 독립해가지고 명절 아니면 찾아오질 않아</td>\n",
              "      <td>0</td>\n",
              "    </tr>\n",
              "    <tr>\n",
              "      <th>303474</th>\n",
              "      <td>안부전화라도 해주면 좋을 텐데</td>\n",
              "      <td>0</td>\n",
              "    </tr>\n",
              "  </tbody>\n",
              "</table>\n",
              "<p>303475 rows × 2 columns</p>\n",
              "</div>\n",
              "      <button class=\"colab-df-convert\" onclick=\"convertToInteractive('df-aa28bdf5-0cdd-4f80-92ce-31f5c96f539a')\"\n",
              "              title=\"Convert this dataframe to an interactive table.\"\n",
              "              style=\"display:none;\">\n",
              "        \n",
              "  <svg xmlns=\"http://www.w3.org/2000/svg\" height=\"24px\"viewBox=\"0 0 24 24\"\n",
              "       width=\"24px\">\n",
              "    <path d=\"M0 0h24v24H0V0z\" fill=\"none\"/>\n",
              "    <path d=\"M18.56 5.44l.94 2.06.94-2.06 2.06-.94-2.06-.94-.94-2.06-.94 2.06-2.06.94zm-11 1L8.5 8.5l.94-2.06 2.06-.94-2.06-.94L8.5 2.5l-.94 2.06-2.06.94zm10 10l.94 2.06.94-2.06 2.06-.94-2.06-.94-.94-2.06-.94 2.06-2.06.94z\"/><path d=\"M17.41 7.96l-1.37-1.37c-.4-.4-.92-.59-1.43-.59-.52 0-1.04.2-1.43.59L10.3 9.45l-7.72 7.72c-.78.78-.78 2.05 0 2.83L4 21.41c.39.39.9.59 1.41.59.51 0 1.02-.2 1.41-.59l7.78-7.78 2.81-2.81c.8-.78.8-2.07 0-2.86zM5.41 20L4 18.59l7.72-7.72 1.47 1.35L5.41 20z\"/>\n",
              "  </svg>\n",
              "      </button>\n",
              "      \n",
              "  <style>\n",
              "    .colab-df-container {\n",
              "      display:flex;\n",
              "      flex-wrap:wrap;\n",
              "      gap: 12px;\n",
              "    }\n",
              "\n",
              "    .colab-df-convert {\n",
              "      background-color: #E8F0FE;\n",
              "      border: none;\n",
              "      border-radius: 50%;\n",
              "      cursor: pointer;\n",
              "      display: none;\n",
              "      fill: #1967D2;\n",
              "      height: 32px;\n",
              "      padding: 0 0 0 0;\n",
              "      width: 32px;\n",
              "    }\n",
              "\n",
              "    .colab-df-convert:hover {\n",
              "      background-color: #E2EBFA;\n",
              "      box-shadow: 0px 1px 2px rgba(60, 64, 67, 0.3), 0px 1px 3px 1px rgba(60, 64, 67, 0.15);\n",
              "      fill: #174EA6;\n",
              "    }\n",
              "\n",
              "    [theme=dark] .colab-df-convert {\n",
              "      background-color: #3B4455;\n",
              "      fill: #D2E3FC;\n",
              "    }\n",
              "\n",
              "    [theme=dark] .colab-df-convert:hover {\n",
              "      background-color: #434B5C;\n",
              "      box-shadow: 0px 1px 3px 1px rgba(0, 0, 0, 0.15);\n",
              "      filter: drop-shadow(0px 1px 2px rgba(0, 0, 0, 0.3));\n",
              "      fill: #FFFFFF;\n",
              "    }\n",
              "  </style>\n",
              "\n",
              "      <script>\n",
              "        const buttonEl =\n",
              "          document.querySelector('#df-aa28bdf5-0cdd-4f80-92ce-31f5c96f539a button.colab-df-convert');\n",
              "        buttonEl.style.display =\n",
              "          google.colab.kernel.accessAllowed ? 'block' : 'none';\n",
              "\n",
              "        async function convertToInteractive(key) {\n",
              "          const element = document.querySelector('#df-aa28bdf5-0cdd-4f80-92ce-31f5c96f539a');\n",
              "          const dataTable =\n",
              "            await google.colab.kernel.invokeFunction('convertToInteractive',\n",
              "                                                     [key], {});\n",
              "          if (!dataTable) return;\n",
              "\n",
              "          const docLinkHtml = 'Like what you see? Visit the ' +\n",
              "            '<a target=\"_blank\" href=https://colab.research.google.com/notebooks/data_table.ipynb>data table notebook</a>'\n",
              "            + ' to learn more about interactive tables.';\n",
              "          element.innerHTML = '';\n",
              "          dataTable['output_type'] = 'display_data';\n",
              "          await google.colab.output.renderOutput(dataTable, element);\n",
              "          const docLink = document.createElement('div');\n",
              "          docLink.innerHTML = docLinkHtml;\n",
              "          element.appendChild(docLink);\n",
              "        }\n",
              "      </script>\n",
              "    </div>\n",
              "  </div>\n",
              "  "
            ]
          },
          "metadata": {},
          "execution_count": 26
        }
      ]
    },
    {
      "cell_type": "code",
      "source": [
        "data1 = data['document']\n",
        "label = data['label']\n",
        "x_train, x_test, y_train, y_test = train_test_split(data1, label, test_size = 0.25, random_state=42, shuffle = True, stratify = label)"
      ],
      "metadata": {
        "id": "IG91spHXitQ-"
      },
      "execution_count": null,
      "outputs": []
    },
    {
      "cell_type": "markdown",
      "source": [
        "# 형태소 분석\n",
        "- 불용어 제거 방법  \n",
        "  - 형태소 분석 시 품사 태깅을 활용하자.\n",
        "    - 품사 태깅을 진행하고  \n",
        "     조사, 접사, 접두사, 접미사를 제거하고 단어사전을 생성. "
      ],
      "metadata": {
        "id": "rIAvaa8N1UPE"
      }
    },
    {
      "cell_type": "code",
      "source": [
        "okt = Okt()\n",
        "#부착되는 품사 태그 기호와 의미 확인\n",
        "okt.tagset"
      ],
      "metadata": {
        "colab": {
          "base_uri": "https://localhost:8080/"
        },
        "id": "_eReM9Gs2g4e",
        "outputId": "934b348b-2a69-4d32-9d09-75bf37ac701b"
      },
      "execution_count": null,
      "outputs": [
        {
          "output_type": "execute_result",
          "data": {
            "text/plain": [
              "{'Adjective': '형용사',\n",
              " 'Adverb': '부사',\n",
              " 'Alpha': '알파벳',\n",
              " 'Conjunction': '접속사',\n",
              " 'Determiner': '관형사',\n",
              " 'Eomi': '어미',\n",
              " 'Exclamation': '감탄사',\n",
              " 'Foreign': '외국어, 한자 및 기타기호',\n",
              " 'Hashtag': '트위터 해쉬태그',\n",
              " 'Josa': '조사',\n",
              " 'KoreanParticle': '(ex: ㅋㅋ)',\n",
              " 'Noun': '명사',\n",
              " 'Number': '숫자',\n",
              " 'PreEomi': '선어말어미',\n",
              " 'Punctuation': '구두점',\n",
              " 'ScreenName': '트위터 아이디',\n",
              " 'Suffix': '접미사',\n",
              " 'Unknown': '미등록어',\n",
              " 'Verb': '동사'}"
            ]
          },
          "metadata": {},
          "execution_count": 28
        }
      ]
    },
    {
      "cell_type": "code",
      "source": [
        "#train_data 형태소 분석\n",
        "stopwords = ['ㅋ', 'ㅎ', 'ㅠ', 'ㅡ', 'ㅉ']\n",
        "stoptags = ['Josa', 'Eomi', 'Suffix']\n",
        "train_data = []\n",
        "\n",
        "for sent in tqdm(x_train):\n",
        "    tokenized_sent = okt.pos(sent)\n",
        "    stopwords_removed_sent = [word[0] for word in tokenized_sent if (not word[1] in stoptags) and (not word[0] in stopwords)]\n",
        "    train_data.append(stopwords_removed_sent)"
      ],
      "metadata": {
        "id": "Ow1d8B452b-B",
        "colab": {
          "base_uri": "https://localhost:8080/"
        },
        "outputId": "ac8cfc61-1b13-4add-b0ec-4c85f2df4f72"
      },
      "execution_count": null,
      "outputs": [
        {
          "output_type": "stream",
          "name": "stderr",
          "text": [
            "100%|██████████| 227606/227606 [11:08<00:00, 340.44it/s]\n"
          ]
        }
      ]
    },
    {
      "cell_type": "code",
      "source": [
        "#test data 형태소 분석\n",
        "test_data = []\n",
        "\n",
        "for sent in tqdm(x_test):\n",
        "    tokenized_sent = okt.pos(sent)\n",
        "    stopwords_removed_sent = [word[0] for word in tokenized_sent if (not word[1] in stoptags) and (not word[0] in stopwords)]\n",
        "    test_data.append(stopwords_removed_sent)"
      ],
      "metadata": {
        "colab": {
          "base_uri": "https://localhost:8080/"
        },
        "id": "vAsOLWRuWhZ1",
        "outputId": "67cffc7e-6a28-4fa0-d5cd-6b8a9b8c5512"
      },
      "execution_count": null,
      "outputs": [
        {
          "output_type": "stream",
          "name": "stderr",
          "text": [
            "100%|██████████| 75869/75869 [04:16<00:00, 295.91it/s]\n"
          ]
        }
      ]
    },
    {
      "cell_type": "markdown",
      "source": [
        "# 정수인코딩 & 패딩\n",
        "- 패딩은 텐서플로 tokenizer의 paddding을 사용 => option은 pre로 설정\n",
        "- 패딩의 길이\n",
        "  1. 95%를 포함하는 길이 => 약 28~30\n",
        "  2. 평균 길이로 해보기"
      ],
      "metadata": {
        "id": "fT8IEVOHUexP"
      }
    },
    {
      "cell_type": "code",
      "source": [
        "tokenizer = Tokenizer()\n",
        "tokenizer.fit_on_texts(train_data) "
      ],
      "metadata": {
        "id": "goIywpz-UuCU"
      },
      "execution_count": null,
      "outputs": []
    },
    {
      "cell_type": "code",
      "source": [
        "len(tokenizer.word_index) #단어 수"
      ],
      "metadata": {
        "colab": {
          "base_uri": "https://localhost:8080/"
        },
        "id": "lmE0OZCZX64z",
        "outputId": "752dcfba-7735-4644-bfaf-44b7cbc77c01"
      },
      "execution_count": null,
      "outputs": [
        {
          "output_type": "execute_result",
          "data": {
            "text/plain": [
              "92617"
            ]
          },
          "metadata": {},
          "execution_count": 32
        }
      ]
    },
    {
      "cell_type": "code",
      "source": [
        "tokenizer.word_index"
      ],
      "metadata": {
        "id": "LvfqZRfeX9yi"
      },
      "execution_count": null,
      "outputs": []
    },
    {
      "cell_type": "code",
      "source": [
        "threshold = 3\n",
        "total_cnt = len(tokenizer.word_index) # 단어의 수\n",
        "rare_cnt = 0 # 등장 빈도수가 threshold보다 작은 단어의 개수를 카운트\n",
        "total_freq = 0 # 훈련 데이터의 전체 단어 빈도수 총 합\n",
        "rare_freq = 0 # 등장 빈도수가 threshold보다 작은 단어의 등장 빈도수의 총 합\n",
        "\n",
        "# 단어와 빈도수의 쌍(pair)을 key와 value로 받는다.\n",
        "for key, value in tokenizer.word_counts.items():\n",
        "    total_freq = total_freq + value\n",
        "\n",
        "    # 단어의 등장 빈도수가 threshold보다 작으면\n",
        "    if(value < threshold):\n",
        "        rare_cnt = rare_cnt + 1\n",
        "        rare_freq = rare_freq + value\n",
        "\n",
        "print('단어 집합(vocabulary)의 크기 :',total_cnt)\n",
        "print('등장 빈도가 %s번 이하인 희귀 단어의 수: %s'%(threshold - 1, rare_cnt))\n",
        "print(\"단어 집합에서 희귀 단어의 비율:\", (rare_cnt / total_cnt)*100)\n",
        "print(\"전체 등장 빈도에서 희귀 단어 등장 빈도 비율:\", (rare_freq / total_freq)*100)"
      ],
      "metadata": {
        "colab": {
          "base_uri": "https://localhost:8080/"
        },
        "id": "58h8SxlVWzYH",
        "outputId": "31d7c830-cf8c-453b-e4d3-604ed6d143f3"
      },
      "execution_count": null,
      "outputs": [
        {
          "output_type": "stream",
          "name": "stdout",
          "text": [
            "단어 집합(vocabulary)의 크기 : 92617\n",
            "등장 빈도가 2번 이하인 희귀 단어의 수: 56935\n",
            "단어 집합에서 희귀 단어의 비율: 61.47359556021033\n",
            "전체 등장 빈도에서 희귀 단어 등장 빈도 비율: 3.1832513037660277\n"
          ]
        }
      ]
    },
    {
      "cell_type": "code",
      "source": [
        "vocab_size = total_cnt - rare_cnt + 1\n",
        "vocab_size"
      ],
      "metadata": {
        "colab": {
          "base_uri": "https://localhost:8080/"
        },
        "id": "R_OU6cchYDo9",
        "outputId": "ea04c8af-7cc1-4d5b-94bb-dd005dde2978"
      },
      "execution_count": null,
      "outputs": [
        {
          "output_type": "execute_result",
          "data": {
            "text/plain": [
              "35683"
            ]
          },
          "metadata": {},
          "execution_count": 35
        }
      ]
    },
    {
      "cell_type": "code",
      "source": [
        "tokenizer = Tokenizer(vocab_size)\n",
        "tokenizer.fit_on_texts(train_data) "
      ],
      "metadata": {
        "id": "J-cLZA2QYRsj"
      },
      "execution_count": null,
      "outputs": []
    },
    {
      "cell_type": "code",
      "source": [
        "X_train = tokenizer.texts_to_sequences(train_data)\n",
        "X_train"
      ],
      "metadata": {
        "id": "aPX1keFxYapB"
      },
      "execution_count": null,
      "outputs": []
    },
    {
      "cell_type": "code",
      "source": [
        "X_test = tokenizer.texts_to_sequences(test_data)"
      ],
      "metadata": {
        "id": "aaXxnJ92Ygkg"
      },
      "execution_count": null,
      "outputs": []
    },
    {
      "cell_type": "code",
      "source": [
        "X_test"
      ],
      "metadata": {
        "id": "joB5WXKmYk_X"
      },
      "execution_count": null,
      "outputs": []
    },
    {
      "cell_type": "code",
      "source": [
        "#X_train결측치 확인\n",
        "drop_train = [index for index, sentence in enumerate(X_train) if len(sentence) < 1] \n",
        "len(drop_train)"
      ],
      "metadata": {
        "colab": {
          "base_uri": "https://localhost:8080/"
        },
        "id": "9v1bfjOwYmfQ",
        "outputId": "5186a71e-bc09-4067-9a63-eb4f229f14b5"
      },
      "execution_count": null,
      "outputs": [
        {
          "output_type": "execute_result",
          "data": {
            "text/plain": [
              "373"
            ]
          },
          "metadata": {},
          "execution_count": 49
        }
      ]
    },
    {
      "cell_type": "code",
      "source": [
        "#모두 넘파이 배열로 바꿔준다.\n",
        "X_train = np.array(X_train)\n",
        "Y_train = np.array(y_train)\n",
        "X_test = np.array(X_test)\n",
        "Y_test = np.array(y_test)"
      ],
      "metadata": {
        "colab": {
          "base_uri": "https://localhost:8080/"
        },
        "id": "JXdKhwRFYwq_",
        "outputId": "e6ec797e-2a64-4a38-dfb7-bfea6f34016c"
      },
      "execution_count": null,
      "outputs": [
        {
          "output_type": "stream",
          "name": "stderr",
          "text": [
            "/usr/local/lib/python3.7/dist-packages/ipykernel_launcher.py:2: VisibleDeprecationWarning: Creating an ndarray from ragged nested sequences (which is a list-or-tuple of lists-or-tuples-or ndarrays with different lengths or shapes) is deprecated. If you meant to do this, you must specify 'dtype=object' when creating the ndarray.\n",
            "  \n",
            "/usr/local/lib/python3.7/dist-packages/ipykernel_launcher.py:4: VisibleDeprecationWarning: Creating an ndarray from ragged nested sequences (which is a list-or-tuple of lists-or-tuples-or ndarrays with different lengths or shapes) is deprecated. If you meant to do this, you must specify 'dtype=object' when creating the ndarray.\n",
            "  after removing the cwd from sys.path.\n"
          ]
        }
      ]
    },
    {
      "cell_type": "code",
      "source": [
        "#Train데이터의 결측치 제거\n",
        "X_train = np.delete(X_train, drop_train, axis=0)\n",
        "Y_train = np.delete(Y_train, drop_train, axis=0)"
      ],
      "metadata": {
        "id": "SKolF7ksYqhe"
      },
      "execution_count": null,
      "outputs": []
    },
    {
      "cell_type": "code",
      "source": [
        "#X_test결측치 확인\n",
        "drop_test = [index for index, sentence in enumerate(X_test) if len(sentence) < 1] \n",
        "\n",
        "#test데이터의 결측치 제거\n",
        "X_test = np.delete(X_test, drop_test, axis=0)\n",
        "Y_test = np.delete(Y_test, drop_test, axis=0)"
      ],
      "metadata": {
        "id": "ZFRfFetkY1zV"
      },
      "execution_count": null,
      "outputs": []
    },
    {
      "cell_type": "markdown",
      "source": [
        "# 에브리타임 강의 데이터"
      ],
      "metadata": {
        "id": "RpFXY4krrVdY"
      }
    },
    {
      "cell_type": "code",
      "source": [
        "review_list = pd.read_csv(path + 'review_list.txt', sep = '\\t', encoding= 'utf-8', header = None)"
      ],
      "metadata": {
        "id": "M9-rJqY1rSLk"
      },
      "execution_count": null,
      "outputs": []
    },
    {
      "cell_type": "code",
      "source": [
        "review_list.columns = ['document']"
      ],
      "metadata": {
        "id": "A7TfTd9Rri_H"
      },
      "execution_count": null,
      "outputs": []
    },
    {
      "cell_type": "code",
      "source": [
        "review_list"
      ],
      "metadata": {
        "colab": {
          "base_uri": "https://localhost:8080/",
          "height": 423
        },
        "id": "U3gLgbkSsPoM",
        "outputId": "ec625dcb-7806-43ce-8ea9-42956836e9c4"
      },
      "execution_count": null,
      "outputs": [
        {
          "output_type": "execute_result",
          "data": {
            "text/plain": [
              "                                               document\n",
              "0     강의는 이해하기 쉽게 설명하시기 때문에 어려움 없이 공부할 수 있어요행동 수정하는 ...\n",
              "1     교수님이 유쾌하시고 이야기도 많이 들려주십니다. 과제도 어려운 편 아니고 조금만 집...\n",
              "2     교수님 너무 좋고 수업도 좋음시험을 잘 본 친구들이 많아서 평균보다 높아도 비쁠나옴...\n",
              "3     처음엔 좀 헷갈릴 순 있는 내용이지만 교수님께서 차근차근 쉽게 잘 알려주신다. 시험...\n",
              "4           수업은 너무 잘 해주셨는데공부 열심히 했는데도 점수를 보니 내가 걸러져있었다ㅠ\n",
              "...                                                 ...\n",
              "6027  뭐.. 제가 드릴말씀은 64명강의에 9명만 A+이라는 점이네요. 교수님이 처음 강의...\n",
              "6028  무난 무난 무난.토론 과제 준비 과정은 힘들다면 힘들지만 나름 새로웠고 무엇보다 세...\n",
              "6029  내용은 평이한 수준인데 문제는 수업 진행이 너무 미숙했다. 그냥 학생들이 앞으로 나...\n",
              "6030  수업에 깊이가 별로 없어요. 그냥 작품해설 한 편 읽어보면 다 알 수 있을 것 같은...\n",
              "6031  하,,..일단 영문과교수라면서 영어발음을 계속틀림발음이 후진게  아니라 발음이 틀림...\n",
              "\n",
              "[6032 rows x 1 columns]"
            ],
            "text/html": [
              "\n",
              "  <div id=\"df-22ef1e77-e5eb-47d9-8d08-7df1a7bfd7d0\">\n",
              "    <div class=\"colab-df-container\">\n",
              "      <div>\n",
              "<style scoped>\n",
              "    .dataframe tbody tr th:only-of-type {\n",
              "        vertical-align: middle;\n",
              "    }\n",
              "\n",
              "    .dataframe tbody tr th {\n",
              "        vertical-align: top;\n",
              "    }\n",
              "\n",
              "    .dataframe thead th {\n",
              "        text-align: right;\n",
              "    }\n",
              "</style>\n",
              "<table border=\"1\" class=\"dataframe\">\n",
              "  <thead>\n",
              "    <tr style=\"text-align: right;\">\n",
              "      <th></th>\n",
              "      <th>document</th>\n",
              "    </tr>\n",
              "  </thead>\n",
              "  <tbody>\n",
              "    <tr>\n",
              "      <th>0</th>\n",
              "      <td>강의는 이해하기 쉽게 설명하시기 때문에 어려움 없이 공부할 수 있어요행동 수정하는 ...</td>\n",
              "    </tr>\n",
              "    <tr>\n",
              "      <th>1</th>\n",
              "      <td>교수님이 유쾌하시고 이야기도 많이 들려주십니다. 과제도 어려운 편 아니고 조금만 집...</td>\n",
              "    </tr>\n",
              "    <tr>\n",
              "      <th>2</th>\n",
              "      <td>교수님 너무 좋고 수업도 좋음시험을 잘 본 친구들이 많아서 평균보다 높아도 비쁠나옴...</td>\n",
              "    </tr>\n",
              "    <tr>\n",
              "      <th>3</th>\n",
              "      <td>처음엔 좀 헷갈릴 순 있는 내용이지만 교수님께서 차근차근 쉽게 잘 알려주신다. 시험...</td>\n",
              "    </tr>\n",
              "    <tr>\n",
              "      <th>4</th>\n",
              "      <td>수업은 너무 잘 해주셨는데공부 열심히 했는데도 점수를 보니 내가 걸러져있었다ㅠ</td>\n",
              "    </tr>\n",
              "    <tr>\n",
              "      <th>...</th>\n",
              "      <td>...</td>\n",
              "    </tr>\n",
              "    <tr>\n",
              "      <th>6027</th>\n",
              "      <td>뭐.. 제가 드릴말씀은 64명강의에 9명만 A+이라는 점이네요. 교수님이 처음 강의...</td>\n",
              "    </tr>\n",
              "    <tr>\n",
              "      <th>6028</th>\n",
              "      <td>무난 무난 무난.토론 과제 준비 과정은 힘들다면 힘들지만 나름 새로웠고 무엇보다 세...</td>\n",
              "    </tr>\n",
              "    <tr>\n",
              "      <th>6029</th>\n",
              "      <td>내용은 평이한 수준인데 문제는 수업 진행이 너무 미숙했다. 그냥 학생들이 앞으로 나...</td>\n",
              "    </tr>\n",
              "    <tr>\n",
              "      <th>6030</th>\n",
              "      <td>수업에 깊이가 별로 없어요. 그냥 작품해설 한 편 읽어보면 다 알 수 있을 것 같은...</td>\n",
              "    </tr>\n",
              "    <tr>\n",
              "      <th>6031</th>\n",
              "      <td>하,,..일단 영문과교수라면서 영어발음을 계속틀림발음이 후진게  아니라 발음이 틀림...</td>\n",
              "    </tr>\n",
              "  </tbody>\n",
              "</table>\n",
              "<p>6032 rows × 1 columns</p>\n",
              "</div>\n",
              "      <button class=\"colab-df-convert\" onclick=\"convertToInteractive('df-22ef1e77-e5eb-47d9-8d08-7df1a7bfd7d0')\"\n",
              "              title=\"Convert this dataframe to an interactive table.\"\n",
              "              style=\"display:none;\">\n",
              "        \n",
              "  <svg xmlns=\"http://www.w3.org/2000/svg\" height=\"24px\"viewBox=\"0 0 24 24\"\n",
              "       width=\"24px\">\n",
              "    <path d=\"M0 0h24v24H0V0z\" fill=\"none\"/>\n",
              "    <path d=\"M18.56 5.44l.94 2.06.94-2.06 2.06-.94-2.06-.94-.94-2.06-.94 2.06-2.06.94zm-11 1L8.5 8.5l.94-2.06 2.06-.94-2.06-.94L8.5 2.5l-.94 2.06-2.06.94zm10 10l.94 2.06.94-2.06 2.06-.94-2.06-.94-.94-2.06-.94 2.06-2.06.94z\"/><path d=\"M17.41 7.96l-1.37-1.37c-.4-.4-.92-.59-1.43-.59-.52 0-1.04.2-1.43.59L10.3 9.45l-7.72 7.72c-.78.78-.78 2.05 0 2.83L4 21.41c.39.39.9.59 1.41.59.51 0 1.02-.2 1.41-.59l7.78-7.78 2.81-2.81c.8-.78.8-2.07 0-2.86zM5.41 20L4 18.59l7.72-7.72 1.47 1.35L5.41 20z\"/>\n",
              "  </svg>\n",
              "      </button>\n",
              "      \n",
              "  <style>\n",
              "    .colab-df-container {\n",
              "      display:flex;\n",
              "      flex-wrap:wrap;\n",
              "      gap: 12px;\n",
              "    }\n",
              "\n",
              "    .colab-df-convert {\n",
              "      background-color: #E8F0FE;\n",
              "      border: none;\n",
              "      border-radius: 50%;\n",
              "      cursor: pointer;\n",
              "      display: none;\n",
              "      fill: #1967D2;\n",
              "      height: 32px;\n",
              "      padding: 0 0 0 0;\n",
              "      width: 32px;\n",
              "    }\n",
              "\n",
              "    .colab-df-convert:hover {\n",
              "      background-color: #E2EBFA;\n",
              "      box-shadow: 0px 1px 2px rgba(60, 64, 67, 0.3), 0px 1px 3px 1px rgba(60, 64, 67, 0.15);\n",
              "      fill: #174EA6;\n",
              "    }\n",
              "\n",
              "    [theme=dark] .colab-df-convert {\n",
              "      background-color: #3B4455;\n",
              "      fill: #D2E3FC;\n",
              "    }\n",
              "\n",
              "    [theme=dark] .colab-df-convert:hover {\n",
              "      background-color: #434B5C;\n",
              "      box-shadow: 0px 1px 3px 1px rgba(0, 0, 0, 0.15);\n",
              "      filter: drop-shadow(0px 1px 2px rgba(0, 0, 0, 0.3));\n",
              "      fill: #FFFFFF;\n",
              "    }\n",
              "  </style>\n",
              "\n",
              "      <script>\n",
              "        const buttonEl =\n",
              "          document.querySelector('#df-22ef1e77-e5eb-47d9-8d08-7df1a7bfd7d0 button.colab-df-convert');\n",
              "        buttonEl.style.display =\n",
              "          google.colab.kernel.accessAllowed ? 'block' : 'none';\n",
              "\n",
              "        async function convertToInteractive(key) {\n",
              "          const element = document.querySelector('#df-22ef1e77-e5eb-47d9-8d08-7df1a7bfd7d0');\n",
              "          const dataTable =\n",
              "            await google.colab.kernel.invokeFunction('convertToInteractive',\n",
              "                                                     [key], {});\n",
              "          if (!dataTable) return;\n",
              "\n",
              "          const docLinkHtml = 'Like what you see? Visit the ' +\n",
              "            '<a target=\"_blank\" href=https://colab.research.google.com/notebooks/data_table.ipynb>data table notebook</a>'\n",
              "            + ' to learn more about interactive tables.';\n",
              "          element.innerHTML = '';\n",
              "          dataTable['output_type'] = 'display_data';\n",
              "          await google.colab.output.renderOutput(dataTable, element);\n",
              "          const docLink = document.createElement('div');\n",
              "          docLink.innerHTML = docLinkHtml;\n",
              "          element.appendChild(docLink);\n",
              "        }\n",
              "      </script>\n",
              "    </div>\n",
              "  </div>\n",
              "  "
            ]
          },
          "metadata": {},
          "execution_count": 40
        }
      ]
    },
    {
      "cell_type": "code",
      "source": [
        "#중복 제거\n",
        "review_list1 = review_list.drop_duplicates(subset=['document'], ignore_index=True)"
      ],
      "metadata": {
        "id": "tftbxxgyrj-l"
      },
      "execution_count": null,
      "outputs": []
    },
    {
      "cell_type": "code",
      "source": [
        "#맞춤법 검사\n",
        "!pip install git+https://github.com/ssut/py-hanspell.git \n",
        "\n",
        "#맞춤법 검사하는 함수\n",
        "from hanspell import spell_checker\n",
        "def spell_check(sent):\n",
        "  return spell_checker.check(sent).checked"
      ],
      "metadata": {
        "colab": {
          "base_uri": "https://localhost:8080/"
        },
        "id": "8whXgh2SsRlD",
        "outputId": "b3181b74-00f0-4919-b617-77a64893c17c"
      },
      "execution_count": null,
      "outputs": [
        {
          "output_type": "stream",
          "name": "stdout",
          "text": [
            "Looking in indexes: https://pypi.org/simple, https://us-python.pkg.dev/colab-wheels/public/simple/\n",
            "Collecting git+https://github.com/ssut/py-hanspell.git\n",
            "  Cloning https://github.com/ssut/py-hanspell.git to /tmp/pip-req-build-cv0h95ay\n",
            "  Running command git clone -q https://github.com/ssut/py-hanspell.git /tmp/pip-req-build-cv0h95ay\n",
            "Requirement already satisfied: requests in /usr/local/lib/python3.7/dist-packages (from py-hanspell==1.1) (2.23.0)\n",
            "Requirement already satisfied: idna<3,>=2.5 in /usr/local/lib/python3.7/dist-packages (from requests->py-hanspell==1.1) (2.10)\n",
            "Requirement already satisfied: urllib3!=1.25.0,!=1.25.1,<1.26,>=1.21.1 in /usr/local/lib/python3.7/dist-packages (from requests->py-hanspell==1.1) (1.24.3)\n",
            "Requirement already satisfied: chardet<4,>=3.0.2 in /usr/local/lib/python3.7/dist-packages (from requests->py-hanspell==1.1) (3.0.4)\n",
            "Requirement already satisfied: certifi>=2017.4.17 in /usr/local/lib/python3.7/dist-packages (from requests->py-hanspell==1.1) (2022.6.15)\n"
          ]
        }
      ]
    },
    {
      "cell_type": "code",
      "source": [
        "review_list1.loc[0]['document']"
      ],
      "metadata": {
        "colab": {
          "base_uri": "https://localhost:8080/",
          "height": 53
        },
        "id": "pK45YcuesiJT",
        "outputId": "dc695934-1cfe-4f4e-f637-6bb2a203b451"
      },
      "execution_count": null,
      "outputs": [
        {
          "output_type": "execute_result",
          "data": {
            "text/plain": [
              "'강의는 이해하기 쉽게 설명하시기 때문에 어려움 없이 공부할 수 있어요행동 수정하는 과제가 하나 있는데 쉽게 할 수 있어서 과제 부담은 적습니다시험이 어려운 것은 아니지만 변별력은 있기 때문에 성적 잘 받으려면 공부좀 해야합니다단순 암기보다는 내용 이해가 좋은 점수 얻는데 도움돼요'"
            ],
            "application/vnd.google.colaboratory.intrinsic+json": {
              "type": "string"
            }
          },
          "metadata": {},
          "execution_count": 60
        }
      ]
    },
    {
      "cell_type": "code",
      "source": [
        "#불용어 제거하는 것\n",
        "def okt_tag_tokenizer(sent):\n",
        "  okt = Okt()\n",
        "  stopwords = ['ㅋ', 'ㅎ', 'ㅠ', 'ㅡ', 'ㅉ']\n",
        "  stoptags = ['Josa', 'Eomi', 'Suffix']\n",
        "  tokenized_sent = okt.pos(sent)\n",
        "  stopwords_removed_sent = [word[0] for word in tokenized_sent if (not word[1] in stoptags) and (not word[0] in stopwords)]\n",
        "  \n",
        "  return stopwords_removed_sent"
      ],
      "metadata": {
        "id": "qbKeAODzyfpf"
      },
      "execution_count": null,
      "outputs": []
    },
    {
      "cell_type": "code",
      "source": [
        "from nltk.tokenize import sent_tokenize\n",
        "def review_preprocessing(sent):\n",
        "  sent = spell_check(sent) #맞춤법 검사\n",
        "  sent_lst = (sent_tokenize(sent)) #문장 토큰화\n",
        "  new_sent_lst = []\n",
        "\n",
        "  for new_sent in sent_lst: #토큰화 & 불용어 제거\n",
        "    new_sent_lst.append(okt_tag_tokenizer(new_sent))\n",
        "  \n",
        "  encoded = tokenizer.texts_to_sequences(new_sent_lst) # 정수 인코딩\n",
        "  padding = pad_sequences(encoded, maxlen = 30) # 패딩\n",
        "\n",
        "  return padding"
      ],
      "metadata": {
        "id": "OuoW7oNqsur4"
      },
      "execution_count": null,
      "outputs": []
    },
    {
      "cell_type": "code",
      "source": [
        "a = review_preprocessing(review_list1.loc[3]['document'])"
      ],
      "metadata": {
        "id": "uLt5CmhOzboL"
      },
      "execution_count": null,
      "outputs": []
    },
    {
      "cell_type": "code",
      "source": [
        "review_list1.loc[3]['document']"
      ],
      "metadata": {
        "colab": {
          "base_uri": "https://localhost:8080/",
          "height": 53
        },
        "id": "nuEp99995_OW",
        "outputId": "5d5078fe-8054-49d2-b188-f3589a611ae2"
      },
      "execution_count": null,
      "outputs": [
        {
          "output_type": "execute_result",
          "data": {
            "text/plain": [
              "'처음엔 좀 헷갈릴 순 있는 내용이지만 교수님께서 차근차근 쉽게 잘 알려주신다. 시험은 어렵진 않지만 변별력이 엄청남..! 그리고 시험 성적 분포가 되게 촘촘하고 동점자도 많은 것 같으니 좋은 성적을 받으려면 꼼꼼하게 공부해야 함.'"
            ],
            "application/vnd.google.colaboratory.intrinsic+json": {
              "type": "string"
            }
          },
          "metadata": {},
          "execution_count": 102
        }
      ]
    },
    {
      "cell_type": "code",
      "source": [
        "from tensorflow.keras.models import load_model\n",
        "\n",
        "loaded_model = load_model(path + 'LSTM_2.h5')"
      ],
      "metadata": {
        "id": "iJtUtp0Oz-qh"
      },
      "execution_count": null,
      "outputs": []
    },
    {
      "cell_type": "code",
      "source": [
        "a = np.array(a)\n",
        "b = a[1].reshape(1, -1)\n",
        "b.shape"
      ],
      "metadata": {
        "colab": {
          "base_uri": "https://localhost:8080/"
        },
        "id": "nylFuiaP21L8",
        "outputId": "b09637ac-9347-479e-d154-d78857480228"
      },
      "execution_count": null,
      "outputs": [
        {
          "output_type": "execute_result",
          "data": {
            "text/plain": [
              "(1, 30)"
            ]
          },
          "metadata": {},
          "execution_count": 121
        }
      ]
    },
    {
      "cell_type": "code",
      "source": [
        "a[1]"
      ],
      "metadata": {
        "colab": {
          "base_uri": "https://localhost:8080/"
        },
        "id": "Ax6MoTXLMIDi",
        "outputId": "53fb4657-2ff4-470b-9271-64dbd1f872c8"
      },
      "execution_count": null,
      "outputs": [
        {
          "output_type": "execute_result",
          "data": {
            "text/plain": [
              "array([   0,    0,    0,    0,    0,    0,    0,    0,    0,    0,    0,\n",
              "          0,    0,    0,    0,    0,    0,    0,    0,    0,    0,    0,\n",
              "          0,    0,    0,    0,    0,    0,  458, 1450], dtype=int32)"
            ]
          },
          "metadata": {},
          "execution_count": 122
        }
      ]
    },
    {
      "cell_type": "code",
      "source": [
        "b"
      ],
      "metadata": {
        "colab": {
          "base_uri": "https://localhost:8080/"
        },
        "id": "6C6FtMjfMGSS",
        "outputId": "fc63b0fe-a039-4ef0-e7d8-31623ce99445"
      },
      "execution_count": null,
      "outputs": [
        {
          "output_type": "execute_result",
          "data": {
            "text/plain": [
              "array([[   0,    0,    0,    0,    0,    0,    0,    0,    0,    0,    0,\n",
              "           0,    0,    0,    0,    0,    0,    0,    0,    0,    0,    0,\n",
              "           0,    0,    0,    0,    0,    0,  458, 1450]], dtype=int32)"
            ]
          },
          "metadata": {},
          "execution_count": 123
        }
      ]
    },
    {
      "cell_type": "code",
      "source": [
        "model.predict(b)"
      ],
      "metadata": {
        "colab": {
          "base_uri": "https://localhost:8080/"
        },
        "id": "HLxj8ma71Kyc",
        "outputId": "93d11b77-8e43-493e-d8c3-8e68189b3498"
      },
      "execution_count": null,
      "outputs": [
        {
          "output_type": "execute_result",
          "data": {
            "text/plain": [
              "array([[0.16027135]], dtype=float32)"
            ]
          },
          "metadata": {},
          "execution_count": 124
        }
      ]
    },
    {
      "cell_type": "code",
      "source": [
        ""
      ],
      "metadata": {
        "id": "E2CfLdQs1lOE"
      },
      "execution_count": null,
      "outputs": []
    }
  ]
}