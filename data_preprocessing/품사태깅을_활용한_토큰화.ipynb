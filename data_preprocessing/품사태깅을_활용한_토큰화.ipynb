{
  "nbformat": 4,
  "nbformat_minor": 0,
  "metadata": {
    "colab": {
      "name": "품사태깅을 활용한 토큰화",
      "provenance": []
    },
    "kernelspec": {
      "name": "python3",
      "display_name": "Python 3"
    },
    "language_info": {
      "name": "python"
    }
  },
  "cells": [
    {
      "cell_type": "code",
      "execution_count": null,
      "metadata": {
        "colab": {
          "base_uri": "https://localhost:8080/"
        },
        "id": "NudnYjKwlRit",
        "outputId": "d0de1c7f-4bf8-45cc-b884-bf5d2b5a6b2e"
      },
      "outputs": [
        {
          "output_type": "stream",
          "name": "stdout",
          "text": [
            "Mounted at /content/drive\n"
          ]
        }
      ],
      "source": [
        "from google.colab import drive\n",
        "drive.mount('/content/drive')"
      ]
    },
    {
      "cell_type": "code",
      "source": [
        "#konlpy 설치\n",
        "!pip install konlpy"
      ],
      "metadata": {
        "colab": {
          "base_uri": "https://localhost:8080/"
        },
        "id": "0QVPV5PNwjCz",
        "outputId": "47df44f1-1fdc-4d25-9695-e1e5b95bae98"
      },
      "execution_count": null,
      "outputs": [
        {
          "output_type": "stream",
          "name": "stdout",
          "text": [
            "Looking in indexes: https://pypi.org/simple, https://us-python.pkg.dev/colab-wheels/public/simple/\n",
            "Collecting konlpy\n",
            "  Downloading konlpy-0.6.0-py2.py3-none-any.whl (19.4 MB)\n",
            "\u001b[K     |████████████████████████████████| 19.4 MB 6.1 MB/s \n",
            "\u001b[?25hRequirement already satisfied: lxml>=4.1.0 in /usr/local/lib/python3.7/dist-packages (from konlpy) (4.9.1)\n",
            "Requirement already satisfied: numpy>=1.6 in /usr/local/lib/python3.7/dist-packages (from konlpy) (1.21.6)\n",
            "Collecting JPype1>=0.7.0\n",
            "  Downloading JPype1-1.4.0-cp37-cp37m-manylinux_2_5_x86_64.manylinux1_x86_64.whl (453 kB)\n",
            "\u001b[K     |████████████████████████████████| 453 kB 58.0 MB/s \n",
            "\u001b[?25hRequirement already satisfied: typing-extensions in /usr/local/lib/python3.7/dist-packages (from JPype1>=0.7.0->konlpy) (4.1.1)\n",
            "Installing collected packages: JPype1, konlpy\n",
            "Successfully installed JPype1-1.4.0 konlpy-0.6.0\n"
          ]
        }
      ]
    },
    {
      "cell_type": "code",
      "source": [
        "#필요한 라이브러리 임포트\n",
        "import pandas as pd\n",
        "from sklearn.model_selection import train_test_split\n",
        "from konlpy.tag import *\n",
        "from tqdm import tqdm\n",
        "from tensorflow.keras.preprocessing.text import Tokenizer\n",
        "from tensorflow.keras.preprocessing.sequence import pad_sequences\n",
        "import numpy as np\n",
        "import matplotlib.pyplot as plt\n",
        "\n",
        "path = '/content/drive/MyDrive/CUAI/CUAI/하계 프로젝트/'"
      ],
      "metadata": {
        "id": "owahcfMD01zL"
      },
      "execution_count": null,
      "outputs": []
    },
    {
      "cell_type": "code",
      "source": [
        "#데이터 로드\n",
        "data = pd.read_excel(path + 'final_data.xlsx', engine='openpyxl')"
      ],
      "metadata": {
        "id": "WIihUmxk05-9"
      },
      "execution_count": null,
      "outputs": []
    },
    {
      "cell_type": "code",
      "source": [
        "data = data.drop_duplicates(subset=['document'], ignore_index=True)"
      ],
      "metadata": {
        "id": "65-6exRv4FqK"
      },
      "execution_count": null,
      "outputs": []
    },
    {
      "cell_type": "code",
      "source": [
        "data1 = data['document']\n",
        "label = data['label']\n",
        "x_train, x_test, y_train, y_test = train_test_split(data1, label, test_size = 0.25, random_state=42, shuffle = True, stratify = label)"
      ],
      "metadata": {
        "id": "-hYG10oG1aUj"
      },
      "execution_count": null,
      "outputs": []
    },
    {
      "cell_type": "markdown",
      "source": [
        "# 형태소 분석\n",
        "- 불용어 제거 방법  \n",
        "  - 형태소 분석 시 품사 태깅을 활용하자.\n",
        "    - 품사 태깅을 진행하고  \n",
        "     조사, 접사, 접두사, 접미사를 제거하고 단어사전을 생성. "
      ],
      "metadata": {
        "id": "rIAvaa8N1UPE"
      }
    },
    {
      "cell_type": "code",
      "source": [
        "okt = Okt()\n",
        "#부착되는 품사 태그 기호와 의미 확인\n",
        "okt.tagset"
      ],
      "metadata": {
        "colab": {
          "base_uri": "https://localhost:8080/"
        },
        "id": "_eReM9Gs2g4e",
        "outputId": "f9b5f7e7-8446-43bc-f24f-78f8882445e7"
      },
      "execution_count": null,
      "outputs": [
        {
          "output_type": "execute_result",
          "data": {
            "text/plain": [
              "{'Adjective': '형용사',\n",
              " 'Adverb': '부사',\n",
              " 'Alpha': '알파벳',\n",
              " 'Conjunction': '접속사',\n",
              " 'Determiner': '관형사',\n",
              " 'Eomi': '어미',\n",
              " 'Exclamation': '감탄사',\n",
              " 'Foreign': '외국어, 한자 및 기타기호',\n",
              " 'Hashtag': '트위터 해쉬태그',\n",
              " 'Josa': '조사',\n",
              " 'KoreanParticle': '(ex: ㅋㅋ)',\n",
              " 'Noun': '명사',\n",
              " 'Number': '숫자',\n",
              " 'PreEomi': '선어말어미',\n",
              " 'Punctuation': '구두점',\n",
              " 'ScreenName': '트위터 아이디',\n",
              " 'Suffix': '접미사',\n",
              " 'Unknown': '미등록어',\n",
              " 'Verb': '동사'}"
            ]
          },
          "metadata": {},
          "execution_count": 14
        }
      ]
    },
    {
      "cell_type": "code",
      "source": [
        "#train_data 형태소 분석\n",
        "stopwords = ['ㅋ', 'ㅎ', 'ㅠ', 'ㅡ', 'ㅉ']\n",
        "stoptags = ['Josa', 'Eomi', 'Suffix']\n",
        "train_data = []\n",
        "\n",
        "for sent in tqdm(x_train):\n",
        "    tokenized_sent = okt.pos(sent)\n",
        "    stopwords_removed_sent = [word[0] for word in tokenized_sent if (not word[1] in stoptags) and (not word[0] in stopwords)]\n",
        "    train_data.append(stopwords_removed_sent)"
      ],
      "metadata": {
        "id": "Ow1d8B452b-B",
        "colab": {
          "base_uri": "https://localhost:8080/"
        },
        "outputId": "4bca42c4-adda-4aa4-dbb1-d45d36cb3136"
      },
      "execution_count": null,
      "outputs": [
        {
          "output_type": "stream",
          "name": "stderr",
          "text": [
            "100%|██████████| 219829/219829 [10:08<00:00, 361.47it/s]\n"
          ]
        }
      ]
    },
    {
      "cell_type": "code",
      "source": [
        "#test data 형태소 분석\n",
        "test_data = []\n",
        "\n",
        "for sent in tqdm(x_test):\n",
        "    tokenized_sent = okt.pos(sent)\n",
        "    stopwords_removed_sent = [word[0] for word in tokenized_sent if (not word[1] in stoptags) and (not word[0] in stopwords)]\n",
        "    test_data.append(stopwords_removed_sent)"
      ],
      "metadata": {
        "colab": {
          "base_uri": "https://localhost:8080/"
        },
        "id": "vAsOLWRuWhZ1",
        "outputId": "7c7c59d7-6ce7-4a8f-abe8-72ac65e3a33a"
      },
      "execution_count": null,
      "outputs": [
        {
          "output_type": "stream",
          "name": "stderr",
          "text": [
            "100%|██████████| 73277/73277 [03:55<00:00, 311.39it/s]\n"
          ]
        }
      ]
    },
    {
      "cell_type": "markdown",
      "source": [
        "## 테스트"
      ],
      "metadata": {
        "id": "1VNvq777UR-e"
      }
    },
    {
      "cell_type": "code",
      "source": [
        "stopwords = ['ㅋ', 'ㅎ', 'ㅠ', 'ㅡ', 'ㅉ']\n",
        "stoptags = ['Josa', 'Eomi', 'Suffix']\n",
        "\n",
        "sent = '와 이게 정말 사실이야ㅠ?'\n",
        "tokenized_sent = okt.pos(sent)\n",
        "stopwords_removed_sent = [word[0] for word in tokenized_sent if (not word[1] in stoptags) or (not word[0] in stopwords)]"
      ],
      "metadata": {
        "id": "fTsfeuN5Sez3"
      },
      "execution_count": null,
      "outputs": []
    },
    {
      "cell_type": "code",
      "source": [
        "stopwords_removed_sent"
      ],
      "metadata": {
        "id": "8oL-JHgJSxLs"
      },
      "execution_count": null,
      "outputs": []
    },
    {
      "cell_type": "code",
      "source": [
        "stopwords_removed_sent2 = [word[0] for word in tokenized_sent if (not word[1] in stoptags) or (word[0] in stopwords)]\n",
        "stopwords_removed_sent2"
      ],
      "metadata": {
        "id": "c62bJYunTC6m"
      },
      "execution_count": null,
      "outputs": []
    },
    {
      "cell_type": "code",
      "source": [
        "okt.pos(sent)"
      ],
      "metadata": {
        "id": "10RucQo_TNjt"
      },
      "execution_count": null,
      "outputs": []
    },
    {
      "cell_type": "code",
      "source": [
        "stopwords_removed_sent3 = [word[0] for word in tokenized_sent if (not word[1] in stoptags) and (not word[0] in stopwords)]\n",
        "stopwords_removed_sent3"
      ],
      "metadata": {
        "id": "bKvSQVVuTQgl"
      },
      "execution_count": null,
      "outputs": []
    },
    {
      "cell_type": "markdown",
      "source": [
        "# 정수인코딩 & 패딩\n",
        "- 패딩은 텐서플로 tokenizer의 paddding을 사용 => option은 pre로 설정\n",
        "- 패딩의 길이\n",
        "  1. 95%를 포함하는 길이 => 약 28~30\n",
        "  2. 평균 길이로 해보기"
      ],
      "metadata": {
        "id": "fT8IEVOHUexP"
      }
    },
    {
      "cell_type": "code",
      "source": [
        "tokenizer = Tokenizer()\n",
        "tokenizer.fit_on_texts(train_data) "
      ],
      "metadata": {
        "id": "goIywpz-UuCU"
      },
      "execution_count": null,
      "outputs": []
    },
    {
      "cell_type": "code",
      "source": [
        "len(tokenizer.word_index) #단어 수"
      ],
      "metadata": {
        "colab": {
          "base_uri": "https://localhost:8080/"
        },
        "id": "lmE0OZCZX64z",
        "outputId": "ecbacc12-d78c-47c6-b0fb-072f36276c6a"
      },
      "execution_count": null,
      "outputs": [
        {
          "output_type": "execute_result",
          "data": {
            "text/plain": [
              "92645"
            ]
          },
          "metadata": {},
          "execution_count": 34
        }
      ]
    },
    {
      "cell_type": "code",
      "source": [
        "tokenizer.word_index"
      ],
      "metadata": {
        "id": "LvfqZRfeX9yi"
      },
      "execution_count": null,
      "outputs": []
    },
    {
      "cell_type": "code",
      "source": [
        "threshold = 3\n",
        "total_cnt = len(tokenizer.word_index) # 단어의 수\n",
        "rare_cnt = 0 # 등장 빈도수가 threshold보다 작은 단어의 개수를 카운트\n",
        "total_freq = 0 # 훈련 데이터의 전체 단어 빈도수 총 합\n",
        "rare_freq = 0 # 등장 빈도수가 threshold보다 작은 단어의 등장 빈도수의 총 합\n",
        "\n",
        "# 단어와 빈도수의 쌍(pair)을 key와 value로 받는다.\n",
        "for key, value in tokenizer.word_counts.items():\n",
        "    total_freq = total_freq + value\n",
        "\n",
        "    # 단어의 등장 빈도수가 threshold보다 작으면\n",
        "    if(value < threshold):\n",
        "        rare_cnt = rare_cnt + 1\n",
        "        rare_freq = rare_freq + value\n",
        "\n",
        "print('단어 집합(vocabulary)의 크기 :',total_cnt)\n",
        "print('등장 빈도가 %s번 이하인 희귀 단어의 수: %s'%(threshold - 1, rare_cnt))\n",
        "print(\"단어 집합에서 희귀 단어의 비율:\", (rare_cnt / total_cnt)*100)\n",
        "print(\"전체 등장 빈도에서 희귀 단어 등장 빈도 비율:\", (rare_freq / total_freq)*100)"
      ],
      "metadata": {
        "colab": {
          "base_uri": "https://localhost:8080/"
        },
        "id": "58h8SxlVWzYH",
        "outputId": "d8f4a340-bf4a-41e5-c401-108d9c039f02"
      },
      "execution_count": null,
      "outputs": [
        {
          "output_type": "stream",
          "name": "stdout",
          "text": [
            "단어 집합(vocabulary)의 크기 : 92645\n",
            "등장 빈도가 2번 이하인 희귀 단어의 수: 57161\n",
            "단어 집합에서 희귀 단어의 비율: 61.698958389551514\n",
            "전체 등장 빈도에서 희귀 단어 등장 빈도 비율: 3.222050191502216\n"
          ]
        }
      ]
    },
    {
      "cell_type": "code",
      "source": [
        "vocab_size = total_cnt - rare_cnt + 1\n",
        "vocab_size"
      ],
      "metadata": {
        "colab": {
          "base_uri": "https://localhost:8080/"
        },
        "id": "R_OU6cchYDo9",
        "outputId": "b9732df3-32c3-4996-87a9-6da5e6f44792"
      },
      "execution_count": null,
      "outputs": [
        {
          "output_type": "execute_result",
          "data": {
            "text/plain": [
              "35485"
            ]
          },
          "metadata": {},
          "execution_count": 40
        }
      ]
    },
    {
      "cell_type": "code",
      "source": [
        "tokenizer = Tokenizer(vocab_size)\n",
        "tokenizer.fit_on_texts(train_data) "
      ],
      "metadata": {
        "id": "J-cLZA2QYRsj"
      },
      "execution_count": null,
      "outputs": []
    },
    {
      "cell_type": "code",
      "source": [
        "X_train = tokenizer.texts_to_sequences(train_data)\n",
        "X_train"
      ],
      "metadata": {
        "id": "aPX1keFxYapB"
      },
      "execution_count": null,
      "outputs": []
    },
    {
      "cell_type": "code",
      "source": [
        "X_test = tokenizer.texts_to_sequences(test_data)"
      ],
      "metadata": {
        "id": "aaXxnJ92Ygkg"
      },
      "execution_count": null,
      "outputs": []
    },
    {
      "cell_type": "code",
      "source": [
        "X_test"
      ],
      "metadata": {
        "id": "joB5WXKmYk_X"
      },
      "execution_count": null,
      "outputs": []
    },
    {
      "cell_type": "code",
      "source": [
        "#X_train결측치 확인\n",
        "drop_train = [index for index, sentence in enumerate(X_train) if len(sentence) < 1] \n",
        "len(drop_train)"
      ],
      "metadata": {
        "colab": {
          "base_uri": "https://localhost:8080/"
        },
        "id": "9v1bfjOwYmfQ",
        "outputId": "af6f33d8-43c0-49f4-aeb5-6132c5f50fc7"
      },
      "execution_count": null,
      "outputs": [
        {
          "output_type": "execute_result",
          "data": {
            "text/plain": [
              "347"
            ]
          },
          "metadata": {},
          "execution_count": 63
        }
      ]
    },
    {
      "cell_type": "code",
      "source": [
        "#모두 넘파이 배열로 바꿔준다.\n",
        "X_train = np.array(X_train)\n",
        "Y_train = np.array(y_train)\n",
        "X_test = np.array(X_test)\n",
        "Y_test = np.array(y_test)"
      ],
      "metadata": {
        "colab": {
          "base_uri": "https://localhost:8080/"
        },
        "id": "JXdKhwRFYwq_",
        "outputId": "2f1c2149-acdc-4a22-8941-c30a6d3a4b00"
      },
      "execution_count": null,
      "outputs": [
        {
          "output_type": "stream",
          "name": "stderr",
          "text": [
            "/usr/local/lib/python3.7/dist-packages/ipykernel_launcher.py:2: VisibleDeprecationWarning: Creating an ndarray from ragged nested sequences (which is a list-or-tuple of lists-or-tuples-or ndarrays with different lengths or shapes) is deprecated. If you meant to do this, you must specify 'dtype=object' when creating the ndarray.\n",
            "  \n",
            "/usr/local/lib/python3.7/dist-packages/ipykernel_launcher.py:4: VisibleDeprecationWarning: Creating an ndarray from ragged nested sequences (which is a list-or-tuple of lists-or-tuples-or ndarrays with different lengths or shapes) is deprecated. If you meant to do this, you must specify 'dtype=object' when creating the ndarray.\n",
            "  after removing the cwd from sys.path.\n"
          ]
        }
      ]
    },
    {
      "cell_type": "code",
      "source": [
        "#Train데이터의 결측치 제거\n",
        "X_train = np.delete(X_train, drop_train, axis=0)\n",
        "Y_train = np.delete(Y_train, drop_train, axis=0)"
      ],
      "metadata": {
        "id": "SKolF7ksYqhe"
      },
      "execution_count": null,
      "outputs": []
    },
    {
      "cell_type": "code",
      "source": [
        "#X_test결측치 확인\n",
        "drop_test = [index for index, sentence in enumerate(X_test) if len(sentence) < 1] \n",
        "\n",
        "#test데이터의 결측치 제거\n",
        "X_test = np.delete(X_test, drop_test, axis=0)\n",
        "Y_test = np.delete(Y_test, drop_test, axis=0)"
      ],
      "metadata": {
        "id": "ZFRfFetkY1zV"
      },
      "execution_count": null,
      "outputs": []
    },
    {
      "cell_type": "markdown",
      "source": [
        "### 패딩"
      ],
      "metadata": {
        "id": "snugcM_ZY7VI"
      }
    },
    {
      "cell_type": "code",
      "source": [
        "print('최대 길이 :',max(len(review) for review in X_train))\n",
        "print('평균 길이 :',sum(map(len, X_train))/len(X_train))\n",
        "plt.hist([len(review) for review in X_train], bins=50)\n",
        "plt.xlabel('length of samples')\n",
        "plt.ylabel('number of samples')\n",
        "plt.show()"
      ],
      "metadata": {
        "colab": {
          "base_uri": "https://localhost:8080/",
          "height": 315
        },
        "id": "-XC-rPP4Y5Kx",
        "outputId": "2b865d26-eed3-445d-c005-ed1df33e4da9"
      },
      "execution_count": null,
      "outputs": [
        {
          "output_type": "stream",
          "name": "stdout",
          "text": [
            "최대 길이 : 66\n",
            "평균 길이 : 9.546254362544536\n"
          ]
        },
        {
          "output_type": "display_data",
          "data": {
            "text/plain": [
              "<Figure size 432x288 with 1 Axes>"
            ],
            "image/png": "[encoded data removed]"
          },
          "metadata": {
            "needs_background": "light"
          }
        }
      ]
    },
    {
      "cell_type": "code",
      "source": [
        "def below_threshold_len(max_len, nested_list):\n",
        "  count = 0\n",
        "  for sentence in nested_list:\n",
        "    if(len(sentence) <= max_len):\n",
        "        count = count + 1\n",
        "  print('전체 샘플 중 길이가 %s 이하인 샘플의 비율: %s'%(max_len, (count / len(nested_list))*100))"
      ],
      "metadata": {
        "id": "JI6wMWUrY9N9"
      },
      "execution_count": null,
      "outputs": []
    },
    {
      "cell_type": "code",
      "source": [
        "max_len = 25\n",
        "below_threshold_len(max_len, X_train)"
      ],
      "metadata": {
        "colab": {
          "base_uri": "https://localhost:8080/"
        },
        "id": "zl12RgXiY_-I",
        "outputId": "4f81291a-fb19-4549-adef-a93f90cbad6c"
      },
      "execution_count": null,
      "outputs": [
        {
          "output_type": "stream",
          "name": "stdout",
          "text": [
            "전체 샘플 중 길이가 25 이하인 샘플의 비율: 95.11941753765684\n"
          ]
        }
      ]
    },
    {
      "cell_type": "code",
      "source": [
        "#패딩 => 길이는 30\n",
        "X_train = pad_sequences(X_train, maxlen=max_len, padding='pre')\n",
        "print(X_train)\n",
        "\n",
        "#파일로 저장\n",
        "np.save(path + 'X_train_padding.npy', X_train)"
      ],
      "metadata": {
        "colab": {
          "base_uri": "https://localhost:8080/"
        },
        "id": "gTZ8ZOebZBRi",
        "outputId": "0ff34d9e-f3e3-43ba-85ef-4f9176c02620"
      },
      "execution_count": null,
      "outputs": [
        {
          "output_type": "stream",
          "name": "stdout",
          "text": [
            "[[    0     0     0 ...    91  1114  6087]\n",
            " [    0     0     0 ...   114   882  3215]\n",
            " [    0     0     0 ...  2454  2346     6]\n",
            " ...\n",
            " [    0     0     0 ...   101     2  2197]\n",
            " [    0     0     0 ...   415    89   134]\n",
            " [    0     0     0 ...   613 11719  6464]]\n"
          ]
        }
      ]
    },
    {
      "cell_type": "code",
      "source": [
        "X_test = pad_sequences(X_test, maxlen =max_len, padding = 'pre')\n",
        "print(X_test)\n",
        "\n",
        "#파일로 저장 \n",
        "np.save(path + 'X_test_padding.npy', X_test)"
      ],
      "metadata": {
        "colab": {
          "base_uri": "https://localhost:8080/"
        },
        "id": "mbOY-NtqZnZd",
        "outputId": "c3f62202-913b-4ca0-e7a8-3de521671284"
      },
      "execution_count": null,
      "outputs": [
        {
          "output_type": "stream",
          "name": "stdout",
          "text": [
            "[[    0     0     0 ...   287  1405 12744]\n",
            " [    0     0     0 ...    37     1 14499]\n",
            " [    0     0     0 ...  5575  5462     1]\n",
            " ...\n",
            " [    0     0     0 ...   130  7137    19]\n",
            " [    0     0     0 ...   519     2  2667]\n",
            " [    0     0     0 ...    40   697   326]]\n"
          ]
        }
      ]
    },
    {
      "cell_type": "code",
      "source": [
        ""
      ],
      "metadata": {
        "id": "NhBg72KKZsrZ"
      },
      "execution_count": null,
      "outputs": []
    }
  ]
}