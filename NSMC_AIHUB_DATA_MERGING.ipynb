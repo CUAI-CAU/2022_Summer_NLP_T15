{
  "nbformat": 4,
  "nbformat_minor": 0,
  "metadata": {
    "colab": {
      "name": "NSMC_AIHUB_DATA_MERGING",
      "provenance": []
    },
    "kernelspec": {
      "name": "python3",
      "display_name": "Python 3"
    },
    "language_info": {
      "name": "python"
    }
  },
  "cells": [
    {
      "cell_type": "markdown",
      "source": [
        "# 0. 구글 드라이브 연동 및 필수 라이브러리 설치 및 로드"
      ],
      "metadata": {
        "id": "b5jYkS3l18x1"
      }
    },
    {
      "cell_type": "markdown",
      "source": [
        "### 구글 드라이브 연동"
      ],
      "metadata": {
        "id": "Ntc9Jpwf2VQU"
      }
    },
    {
      "cell_type": "code",
      "source": [
        "from google.colab import drive\n",
        "drive.mount('/content/gdrive')"
      ],
      "metadata": {
        "colab": {
          "base_uri": "https://localhost:8080/"
        },
        "id": "9QBIwLfu2IxH",
        "outputId": "2e802994-b33f-465d-9b8f-407b36392fb5"
      },
      "execution_count": 4,
      "outputs": [
        {
          "output_type": "stream",
          "name": "stdout",
          "text": [
            "Drive already mounted at /content/gdrive; to attempt to forcibly remount, call drive.mount(\"/content/gdrive\", force_remount=True).\n"
          ]
        }
      ]
    },
    {
      "cell_type": "markdown",
      "source": [
        "### 필수 라이브러리 로드"
      ],
      "metadata": {
        "id": "KBArq3oq2I1O"
      }
    },
    {
      "cell_type": "code",
      "source": [
        "import pandas as pd"
      ],
      "metadata": {
        "id": "YjeeDxzM2I45"
      },
      "execution_count": 25,
      "outputs": []
    },
    {
      "cell_type": "markdown",
      "source": [
        "### 폴더 경로 설정"
      ],
      "metadata": {
        "id": "78dTPDoc2I8i"
      }
    },
    {
      "cell_type": "code",
      "source": [
        "path = '/content/gdrive/MyDrive/FINAL_SUBMIT/'"
      ],
      "metadata": {
        "id": "hYIdyS0G2I__"
      },
      "execution_count": 26,
      "outputs": []
    },
    {
      "cell_type": "markdown",
      "source": [
        "# 1. AI HUB, NSMC 데이터 로드"
      ],
      "metadata": {
        "id": "Ayufb9cF2JDb"
      }
    },
    {
      "cell_type": "markdown",
      "source": [
        "### 데이터 로드"
      ],
      "metadata": {
        "id": "tVTqbkvx7IUv"
      }
    },
    {
      "cell_type": "code",
      "source": [
        "aihub = pd.read_excel(path+'aihub_data_preprocessed.xlsx', engine='openpyxl')\n",
        "nsmc = pd.read_excel(path+'nsmc_data_preprocessed.xlsx', engine='openpyxl')"
      ],
      "metadata": {
        "id": "sbEEW9WI2JGm"
      },
      "execution_count": 35,
      "outputs": []
    },
    {
      "cell_type": "markdown",
      "source": [
        "# 2. 데이터 병합하기"
      ],
      "metadata": {
        "id": "LgcMQtJcAvqw"
      }
    },
    {
      "cell_type": "markdown",
      "source": [
        "### 데이터 합치기"
      ],
      "metadata": {
        "id": "ASXN1CXy2JKN"
      }
    },
    {
      "cell_type": "code",
      "source": [
        "final = pd.concat([nsmc, aihub], ignore_index=True)"
      ],
      "metadata": {
        "id": "WI2h_pNi2JNr"
      },
      "execution_count": 36,
      "outputs": []
    },
    {
      "cell_type": "markdown",
      "source": [
        "### 합친 데이터의 결측된 값 확인 및 처리"
      ],
      "metadata": {
        "id": "TDe3TnaqAKuQ"
      }
    },
    {
      "cell_type": "code",
      "source": [
        "final.isnull().sum()\n",
        "\n",
        "# 결측된 값 확인"
      ],
      "metadata": {
        "colab": {
          "base_uri": "https://localhost:8080/"
        },
        "id": "FEH83WDuALp6",
        "outputId": "d8fbcb54-5978-43dd-cc1b-cd707078e4ed"
      },
      "execution_count": 37,
      "outputs": [
        {
          "output_type": "execute_result",
          "data": {
            "text/plain": [
              "document    1\n",
              "label       0\n",
              "dtype: int64"
            ]
          },
          "metadata": {},
          "execution_count": 37
        }
      ]
    },
    {
      "cell_type": "code",
      "source": [
        "final = final.dropna(subset=['document'])"
      ],
      "metadata": {
        "id": "7tr742mpAUoe"
      },
      "execution_count": 38,
      "outputs": []
    },
    {
      "cell_type": "code",
      "source": [
        "final.isnull().sum()\n",
        "\n",
        "# 결측된 값이 사라진 것을 볼 수 있다."
      ],
      "metadata": {
        "colab": {
          "base_uri": "https://localhost:8080/"
        },
        "id": "EIPljjKfAUr7",
        "outputId": "66c4ef29-9534-443c-c247-90c45df659fb"
      },
      "execution_count": 39,
      "outputs": [
        {
          "output_type": "execute_result",
          "data": {
            "text/plain": [
              "document    0\n",
              "label       0\n",
              "dtype: int64"
            ]
          },
          "metadata": {},
          "execution_count": 39
        }
      ]
    },
    {
      "cell_type": "markdown",
      "source": [
        "### 합친 데이터의 중복된 값 확인 및 처리"
      ],
      "metadata": {
        "id": "TCPU5woc7lJT"
      }
    },
    {
      "cell_type": "code",
      "source": [
        "print('final 데이터 샘플의 수: {}'.format(final.shape[0]))\n",
        "print('final 데이터의 document 종류의 수: {}'.format(final['document'].nunique()))\n",
        "\n",
        "# 중복된 값이 있음을 알 수 있다."
      ],
      "metadata": {
        "colab": {
          "base_uri": "https://localhost:8080/"
        },
        "id": "8Xm_O5ii2JYH",
        "outputId": "f28c130c-2e0d-4874-9727-ec72b28a7712"
      },
      "execution_count": 40,
      "outputs": [
        {
          "output_type": "stream",
          "name": "stdout",
          "text": [
            "final 데이터 샘플의 수: 292993\n",
            "final 데이터의 document 종류의 수: 292902\n"
          ]
        }
      ]
    },
    {
      "cell_type": "code",
      "source": [
        "final = final.drop_duplicates(subset=['document'], ignore_index=True)"
      ],
      "metadata": {
        "id": "3Sas53H02Jbq"
      },
      "execution_count": 41,
      "outputs": []
    },
    {
      "cell_type": "code",
      "source": [
        "print('final 데이터 샘플의 수: {}'.format(final.shape[0]))\n",
        "print('final 데이터의 document 종류의 수: {}'.format(final['document'].nunique()))\n",
        "\n",
        "# 중복된 값이 지워진 것을 볼 수 있다."
      ],
      "metadata": {
        "colab": {
          "base_uri": "https://localhost:8080/"
        },
        "id": "AUL-SxbO2Je-",
        "outputId": "2635ba44-f13d-40ad-d437-1dc35bc60ba7"
      },
      "execution_count": 42,
      "outputs": [
        {
          "output_type": "stream",
          "name": "stdout",
          "text": [
            "final 데이터 샘플의 수: 292902\n",
            "final 데이터의 document 종류의 수: 292902\n"
          ]
        }
      ]
    },
    {
      "cell_type": "markdown",
      "source": [
        "# 3. 데이터 내보내기"
      ],
      "metadata": {
        "id": "nzx9wSUP2KRo"
      }
    },
    {
      "cell_type": "code",
      "source": [
        "final.to_excel(path+'final_data.xlsx', index=False)"
      ],
      "metadata": {
        "id": "Bu7P_TMSBL4j"
      },
      "execution_count": 44,
      "outputs": []
    }
  ]
}