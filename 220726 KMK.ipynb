{
  "nbformat": 4,
  "nbformat_minor": 0,
  "metadata": {
    "colab": {
      "name": "하계플젝-데이터 전처리2",
      "provenance": [],
      "collapsed_sections": []
    },
    "kernelspec": {
      "name": "python3",
      "display_name": "Python 3"
    },
    "language_info": {
      "name": "python"
    }
  },
  "cells": [
    {
      "cell_type": "markdown",
      "source": [
        "# 0. 구글 드라이브와 연결 및 각종 라이브러리 다운로드\n",
        "## 구글 드라이브 연결"
      ],
      "metadata": {
        "id": "90rHXe72lo23"
      }
    },
    {
      "cell_type": "code",
      "execution_count": 126,
      "metadata": {
        "colab": {
          "base_uri": "https://localhost:8080/"
        },
        "id": "2YSaVun9xRN3",
        "outputId": "293dc164-ac57-4feb-ff09-0d6ceb13e597"
      },
      "outputs": [
        {
          "output_type": "stream",
          "name": "stdout",
          "text": [
            "Drive already mounted at /content/drive; to attempt to forcibly remount, call drive.mount(\"/content/drive\", force_remount=True).\n"
          ]
        }
      ],
      "source": [
        "from google.colab import drive\n",
        "drive.mount('/content/drive')"
      ]
    },
    {
      "cell_type": "markdown",
      "source": [
        "## 각종 라이브러리 설치 및 로드"
      ],
      "metadata": {
        "id": "RvdVfq3Clzwt"
      }
    },
    {
      "cell_type": "code",
      "source": [
        "!pip install nltk"
      ],
      "metadata": {
        "colab": {
          "base_uri": "https://localhost:8080/"
        },
        "id": "zrJ0vi5WxgsQ",
        "outputId": "8f9bac63-6765-441f-f0d0-c5195398859c"
      },
      "execution_count": 7,
      "outputs": [
        {
          "output_type": "stream",
          "name": "stdout",
          "text": [
            "Looking in indexes: https://pypi.org/simple, https://us-python.pkg.dev/colab-wheels/public/simple/\n",
            "Requirement already satisfied: nltk in /usr/local/lib/python3.7/dist-packages (3.7)\n",
            "Requirement already satisfied: joblib in /usr/local/lib/python3.7/dist-packages (from nltk) (1.1.0)\n",
            "Requirement already satisfied: regex>=2021.8.3 in /usr/local/lib/python3.7/dist-packages (from nltk) (2022.6.2)\n",
            "Requirement already satisfied: click in /usr/local/lib/python3.7/dist-packages (from nltk) (7.1.2)\n",
            "Requirement already satisfied: tqdm in /usr/local/lib/python3.7/dist-packages (from nltk) (4.64.0)\n"
          ]
        }
      ]
    },
    {
      "cell_type": "code",
      "source": [
        "!pip install konlpy"
      ],
      "metadata": {
        "colab": {
          "base_uri": "https://localhost:8080/"
        },
        "id": "b8vhqI8u3A1V",
        "outputId": "a30da8ba-1b5d-4e33-eea1-e4f4174bdb99"
      },
      "execution_count": 8,
      "outputs": [
        {
          "output_type": "stream",
          "name": "stdout",
          "text": [
            "Looking in indexes: https://pypi.org/simple, https://us-python.pkg.dev/colab-wheels/public/simple/\n",
            "Requirement already satisfied: konlpy in /usr/local/lib/python3.7/dist-packages (0.6.0)\n",
            "Requirement already satisfied: lxml>=4.1.0 in /usr/local/lib/python3.7/dist-packages (from konlpy) (4.2.6)\n",
            "Requirement already satisfied: JPype1>=0.7.0 in /usr/local/lib/python3.7/dist-packages (from konlpy) (1.4.0)\n",
            "Requirement already satisfied: numpy>=1.6 in /usr/local/lib/python3.7/dist-packages (from konlpy) (1.21.6)\n",
            "Requirement already satisfied: typing-extensions in /usr/local/lib/python3.7/dist-packages (from JPype1>=0.7.0->konlpy) (4.1.1)\n"
          ]
        }
      ]
    },
    {
      "cell_type": "code",
      "source": [
        "!pip install soynlp"
      ],
      "metadata": {
        "colab": {
          "base_uri": "https://localhost:8080/"
        },
        "id": "G0gKo_oz8aFX",
        "outputId": "bcd839c1-3209-4164-8fd8-171e2c5b75c2"
      },
      "execution_count": 9,
      "outputs": [
        {
          "output_type": "stream",
          "name": "stdout",
          "text": [
            "Looking in indexes: https://pypi.org/simple, https://us-python.pkg.dev/colab-wheels/public/simple/\n",
            "Requirement already satisfied: soynlp in /usr/local/lib/python3.7/dist-packages (0.0.493)\n",
            "Requirement already satisfied: scipy>=1.1.0 in /usr/local/lib/python3.7/dist-packages (from soynlp) (1.7.3)\n",
            "Requirement already satisfied: scikit-learn>=0.20.0 in /usr/local/lib/python3.7/dist-packages (from soynlp) (1.0.2)\n",
            "Requirement already satisfied: numpy>=1.12.1 in /usr/local/lib/python3.7/dist-packages (from soynlp) (1.21.6)\n",
            "Requirement already satisfied: psutil>=5.0.1 in /usr/local/lib/python3.7/dist-packages (from soynlp) (5.4.8)\n",
            "Requirement already satisfied: threadpoolctl>=2.0.0 in /usr/local/lib/python3.7/dist-packages (from scikit-learn>=0.20.0->soynlp) (3.1.0)\n",
            "Requirement already satisfied: joblib>=0.11 in /usr/local/lib/python3.7/dist-packages (from scikit-learn>=0.20.0->soynlp) (1.1.0)\n"
          ]
        }
      ]
    },
    {
      "cell_type": "code",
      "source": [
        "from konlpy.tag import Okt\n",
        "from tqdm import tqdm\n",
        "from tensorflow.keras.preprocessing.text import Tokenizer\n",
        "from tensorflow.keras.preprocessing.sequence import pad_sequences\n",
        "from sklearn.model_selection import train_test_split\n",
        "\n",
        "import matplotlib.pyplot as plt\n",
        "import numpy as np\n",
        "import pandas as pd\n",
        "import nltk\n",
        "import re\n",
        "from soynlp.normalizer import *"
      ],
      "metadata": {
        "id": "q92WnXLP7T8D"
      },
      "execution_count": 10,
      "outputs": []
    },
    {
      "cell_type": "code",
      "source": [
        "nltk.download()"
      ],
      "metadata": {
        "id": "6v03excIBeG_"
      },
      "execution_count": null,
      "outputs": []
    },
    {
      "cell_type": "markdown",
      "source": [
        "# 1. 데이터 로드\n",
        "## 데이터 로드"
      ],
      "metadata": {
        "id": "cTNo9GjCmtP7"
      }
    },
    {
      "cell_type": "code",
      "source": [
        "path = '/content/drive/MyDrive/CUAI/'\n",
        "train0 = pd.read_excel(path + '감성대화말뭉치(최종데이터)_Training.xlsx', engine = 'openpyxl')\n",
        "validation0 = pd.read_excel(path + '감성대화말뭉치(최종데이터)_Validation.xlsx', engine = 'openpyxl')\n",
        "nsmc0 = pd.read_csv(path + 'nsmc_data.txt', sep = '\\t')"
      ],
      "metadata": {
        "id": "aCESFVWVmrRX"
      },
      "execution_count": 12,
      "outputs": []
    },
    {
      "cell_type": "markdown",
      "source": [
        "### 데이터 확인"
      ],
      "metadata": {
        "id": "92qrLRhpnjlX"
      }
    },
    {
      "cell_type": "code",
      "source": [
        "train0.head(2)"
      ],
      "metadata": {
        "colab": {
          "base_uri": "https://localhost:8080/",
          "height": 295
        },
        "id": "THMndgA3nfjW",
        "outputId": "16d4b8c3-29ee-43ac-f8ae-bfde6aeea69e"
      },
      "execution_count": 13,
      "outputs": [
        {
          "output_type": "execute_result",
          "data": {
            "text/plain": [
              "      번호  연령  성별       상황키워드    신체질환 감정_대분류   감정_소분류  \\\n",
              "0  44164  청년  남성  연애, 결혼, 출산    해당없음     기쁨     신이 난   \n",
              "1   3926  노년  남성      건강, 죽음  만성질환 유     불안  스트레스 받는   \n",
              "\n",
              "                                     사람문장1                     시스템응답1  \\\n",
              "0                아내가 드디어 출산하게 되어서 정말 신이 나.  아내분이 출산을 하시는군요. 정말 축하드려요.   \n",
              "1  당뇨랑 합병증 때문에 먹어야 할 약이 열 가지가 넘어가니까 스트레스야.         약 종류가 많아 번거로우시겠어요.   \n",
              "\n",
              "                         사람문장2                         시스템응답2  \\\n",
              "0                아 지금 정말 신이 나.                      잘 된 일이네요.   \n",
              "1  건강할 때 관리 좀 잘할걸 하는 생각이 들더라고.  현재 상황에서 변화를 주기 위해 어떻게 하면 될까요?   \n",
              "\n",
              "                                사람문장3                        시스템응답3 사람문장4  \\\n",
              "0  아기가 점점 클게 벌써 기대가 되네. 내가 많이 놀아줘야지.   좋은 아빠가 되실 거 같아요. 진심으로 축하드려요.   NaN   \n",
              "1          약을 잘 챙겨 먹고 나을 수 있도록 노력해야지.       약을 잘 챙겨 먹어 건강해지시길 바랄게요.   NaN   \n",
              "\n",
              "  시스템응답4  \n",
              "0    NaN  \n",
              "1    NaN  "
            ],
            "text/html": [
              "\n",
              "  <div id=\"df-e1fca956-b3fa-4a88-98f0-15a38fe6288a\">\n",
              "    <div class=\"colab-df-container\">\n",
              "      <div>\n",
              "<style scoped>\n",
              "    .dataframe tbody tr th:only-of-type {\n",
              "        vertical-align: middle;\n",
              "    }\n",
              "\n",
              "    .dataframe tbody tr th {\n",
              "        vertical-align: top;\n",
              "    }\n",
              "\n",
              "    .dataframe thead th {\n",
              "        text-align: right;\n",
              "    }\n",
              "</style>\n",
              "<table border=\"1\" class=\"dataframe\">\n",
              "  <thead>\n",
              "    <tr style=\"text-align: right;\">\n",
              "      <th></th>\n",
              "      <th>번호</th>\n",
              "      <th>연령</th>\n",
              "      <th>성별</th>\n",
              "      <th>상황키워드</th>\n",
              "      <th>신체질환</th>\n",
              "      <th>감정_대분류</th>\n",
              "      <th>감정_소분류</th>\n",
              "      <th>사람문장1</th>\n",
              "      <th>시스템응답1</th>\n",
              "      <th>사람문장2</th>\n",
              "      <th>시스템응답2</th>\n",
              "      <th>사람문장3</th>\n",
              "      <th>시스템응답3</th>\n",
              "      <th>사람문장4</th>\n",
              "      <th>시스템응답4</th>\n",
              "    </tr>\n",
              "  </thead>\n",
              "  <tbody>\n",
              "    <tr>\n",
              "      <th>0</th>\n",
              "      <td>44164</td>\n",
              "      <td>청년</td>\n",
              "      <td>남성</td>\n",
              "      <td>연애, 결혼, 출산</td>\n",
              "      <td>해당없음</td>\n",
              "      <td>기쁨</td>\n",
              "      <td>신이 난</td>\n",
              "      <td>아내가 드디어 출산하게 되어서 정말 신이 나.</td>\n",
              "      <td>아내분이 출산을 하시는군요. 정말 축하드려요.</td>\n",
              "      <td>아 지금 정말 신이 나.</td>\n",
              "      <td>잘 된 일이네요.</td>\n",
              "      <td>아기가 점점 클게 벌써 기대가 되네. 내가 많이 놀아줘야지.</td>\n",
              "      <td>좋은 아빠가 되실 거 같아요. 진심으로 축하드려요.</td>\n",
              "      <td>NaN</td>\n",
              "      <td>NaN</td>\n",
              "    </tr>\n",
              "    <tr>\n",
              "      <th>1</th>\n",
              "      <td>3926</td>\n",
              "      <td>노년</td>\n",
              "      <td>남성</td>\n",
              "      <td>건강, 죽음</td>\n",
              "      <td>만성질환 유</td>\n",
              "      <td>불안</td>\n",
              "      <td>스트레스 받는</td>\n",
              "      <td>당뇨랑 합병증 때문에 먹어야 할 약이 열 가지가 넘어가니까 스트레스야.</td>\n",
              "      <td>약 종류가 많아 번거로우시겠어요.</td>\n",
              "      <td>건강할 때 관리 좀 잘할걸 하는 생각이 들더라고.</td>\n",
              "      <td>현재 상황에서 변화를 주기 위해 어떻게 하면 될까요?</td>\n",
              "      <td>약을 잘 챙겨 먹고 나을 수 있도록 노력해야지.</td>\n",
              "      <td>약을 잘 챙겨 먹어 건강해지시길 바랄게요.</td>\n",
              "      <td>NaN</td>\n",
              "      <td>NaN</td>\n",
              "    </tr>\n",
              "  </tbody>\n",
              "</table>\n",
              "</div>\n",
              "      <button class=\"colab-df-convert\" onclick=\"convertToInteractive('df-e1fca956-b3fa-4a88-98f0-15a38fe6288a')\"\n",
              "              title=\"Convert this dataframe to an interactive table.\"\n",
              "              style=\"display:none;\">\n",
              "        \n",
              "  <svg xmlns=\"http://www.w3.org/2000/svg\" height=\"24px\"viewBox=\"0 0 24 24\"\n",
              "       width=\"24px\">\n",
              "    <path d=\"M0 0h24v24H0V0z\" fill=\"none\"/>\n",
              "    <path d=\"M18.56 5.44l.94 2.06.94-2.06 2.06-.94-2.06-.94-.94-2.06-.94 2.06-2.06.94zm-11 1L8.5 8.5l.94-2.06 2.06-.94-2.06-.94L8.5 2.5l-.94 2.06-2.06.94zm10 10l.94 2.06.94-2.06 2.06-.94-2.06-.94-.94-2.06-.94 2.06-2.06.94z\"/><path d=\"M17.41 7.96l-1.37-1.37c-.4-.4-.92-.59-1.43-.59-.52 0-1.04.2-1.43.59L10.3 9.45l-7.72 7.72c-.78.78-.78 2.05 0 2.83L4 21.41c.39.39.9.59 1.41.59.51 0 1.02-.2 1.41-.59l7.78-7.78 2.81-2.81c.8-.78.8-2.07 0-2.86zM5.41 20L4 18.59l7.72-7.72 1.47 1.35L5.41 20z\"/>\n",
              "  </svg>\n",
              "      </button>\n",
              "      \n",
              "  <style>\n",
              "    .colab-df-container {\n",
              "      display:flex;\n",
              "      flex-wrap:wrap;\n",
              "      gap: 12px;\n",
              "    }\n",
              "\n",
              "    .colab-df-convert {\n",
              "      background-color: #E8F0FE;\n",
              "      border: none;\n",
              "      border-radius: 50%;\n",
              "      cursor: pointer;\n",
              "      display: none;\n",
              "      fill: #1967D2;\n",
              "      height: 32px;\n",
              "      padding: 0 0 0 0;\n",
              "      width: 32px;\n",
              "    }\n",
              "\n",
              "    .colab-df-convert:hover {\n",
              "      background-color: #E2EBFA;\n",
              "      box-shadow: 0px 1px 2px rgba(60, 64, 67, 0.3), 0px 1px 3px 1px rgba(60, 64, 67, 0.15);\n",
              "      fill: #174EA6;\n",
              "    }\n",
              "\n",
              "    [theme=dark] .colab-df-convert {\n",
              "      background-color: #3B4455;\n",
              "      fill: #D2E3FC;\n",
              "    }\n",
              "\n",
              "    [theme=dark] .colab-df-convert:hover {\n",
              "      background-color: #434B5C;\n",
              "      box-shadow: 0px 1px 3px 1px rgba(0, 0, 0, 0.15);\n",
              "      filter: drop-shadow(0px 1px 2px rgba(0, 0, 0, 0.3));\n",
              "      fill: #FFFFFF;\n",
              "    }\n",
              "  </style>\n",
              "\n",
              "      <script>\n",
              "        const buttonEl =\n",
              "          document.querySelector('#df-e1fca956-b3fa-4a88-98f0-15a38fe6288a button.colab-df-convert');\n",
              "        buttonEl.style.display =\n",
              "          google.colab.kernel.accessAllowed ? 'block' : 'none';\n",
              "\n",
              "        async function convertToInteractive(key) {\n",
              "          const element = document.querySelector('#df-e1fca956-b3fa-4a88-98f0-15a38fe6288a');\n",
              "          const dataTable =\n",
              "            await google.colab.kernel.invokeFunction('convertToInteractive',\n",
              "                                                     [key], {});\n",
              "          if (!dataTable) return;\n",
              "\n",
              "          const docLinkHtml = 'Like what you see? Visit the ' +\n",
              "            '<a target=\"_blank\" href=https://colab.research.google.com/notebooks/data_table.ipynb>data table notebook</a>'\n",
              "            + ' to learn more about interactive tables.';\n",
              "          element.innerHTML = '';\n",
              "          dataTable['output_type'] = 'display_data';\n",
              "          await google.colab.output.renderOutput(dataTable, element);\n",
              "          const docLink = document.createElement('div');\n",
              "          docLink.innerHTML = docLinkHtml;\n",
              "          element.appendChild(docLink);\n",
              "        }\n",
              "      </script>\n",
              "    </div>\n",
              "  </div>\n",
              "  "
            ]
          },
          "metadata": {},
          "execution_count": 13
        }
      ]
    },
    {
      "cell_type": "code",
      "source": [
        "validation0.head(2)"
      ],
      "metadata": {
        "colab": {
          "base_uri": "https://localhost:8080/",
          "height": 312
        },
        "id": "u7s80rR2nn49",
        "outputId": "4a5214e8-c280-4ceb-f898-fd01815c295e"
      },
      "execution_count": 14,
      "outputs": [
        {
          "output_type": "execute_result",
          "data": {
            "text/plain": [
              "      번호   연령  성별       상황키워드  신체질환 감정_대분류 감정_소분류                     사람문장1  \\\n",
              "0  23093   청년  여성  진로, 취업, 직장  해당없음     분노   툴툴대는           요즘 부모님과 많이 부딪혀.   \n",
              "1  32848  청소년  남성        가족관계  해당없음     슬픔    비통한  엄마가 결국 집을 나갔어. 너무 너무 슬퍼.   \n",
              "\n",
              "                                        시스템응답1  \\\n",
              "0                                어떤 일로 부딪히시나요?   \n",
              "1  어머니께서 집을 나가셨다니 정말 슬프셨겠어요. 좀 더 자세히 얘기해주시겠어요?   \n",
              "\n",
              "                                               사람문장2  \\\n",
              "0  난 하고 싶은 일이 있는데 부모님은 안정적인 일만 하라고 하셔. 내 마음대로 하지도...   \n",
              "1  엄마도 엄마만의 인생이 있을 테니 가지 말라고 할 수가 없었어. 그래서 더 마음이 ...   \n",
              "\n",
              "                                시스템응답2                            사람문장3  \\\n",
              "0                    부모님과의 충돌로 힘드시겠군요.  응. 그래도 난 내가 하고 싶은 일을 위해 노력할 거야.   \n",
              "1  정말 많이 답답하셨겠어요. 어떻게 하는 게 기분이 좀 풀릴까요?                       일단 좀 자야겠어.   \n",
              "\n",
              "                       시스템응답3 사람문장4 시스템응답4  \n",
              "0  자신이 하고 싶은 일을 목표로 하기로 하셨군요.   NaN    NaN  \n",
              "1           일단 휴식을 가질 생각이시군요.   NaN    NaN  "
            ],
            "text/html": [
              "\n",
              "  <div id=\"df-b342ee4a-d98b-47d2-82c6-efbf39167358\">\n",
              "    <div class=\"colab-df-container\">\n",
              "      <div>\n",
              "<style scoped>\n",
              "    .dataframe tbody tr th:only-of-type {\n",
              "        vertical-align: middle;\n",
              "    }\n",
              "\n",
              "    .dataframe tbody tr th {\n",
              "        vertical-align: top;\n",
              "    }\n",
              "\n",
              "    .dataframe thead th {\n",
              "        text-align: right;\n",
              "    }\n",
              "</style>\n",
              "<table border=\"1\" class=\"dataframe\">\n",
              "  <thead>\n",
              "    <tr style=\"text-align: right;\">\n",
              "      <th></th>\n",
              "      <th>번호</th>\n",
              "      <th>연령</th>\n",
              "      <th>성별</th>\n",
              "      <th>상황키워드</th>\n",
              "      <th>신체질환</th>\n",
              "      <th>감정_대분류</th>\n",
              "      <th>감정_소분류</th>\n",
              "      <th>사람문장1</th>\n",
              "      <th>시스템응답1</th>\n",
              "      <th>사람문장2</th>\n",
              "      <th>시스템응답2</th>\n",
              "      <th>사람문장3</th>\n",
              "      <th>시스템응답3</th>\n",
              "      <th>사람문장4</th>\n",
              "      <th>시스템응답4</th>\n",
              "    </tr>\n",
              "  </thead>\n",
              "  <tbody>\n",
              "    <tr>\n",
              "      <th>0</th>\n",
              "      <td>23093</td>\n",
              "      <td>청년</td>\n",
              "      <td>여성</td>\n",
              "      <td>진로, 취업, 직장</td>\n",
              "      <td>해당없음</td>\n",
              "      <td>분노</td>\n",
              "      <td>툴툴대는</td>\n",
              "      <td>요즘 부모님과 많이 부딪혀.</td>\n",
              "      <td>어떤 일로 부딪히시나요?</td>\n",
              "      <td>난 하고 싶은 일이 있는데 부모님은 안정적인 일만 하라고 하셔. 내 마음대로 하지도...</td>\n",
              "      <td>부모님과의 충돌로 힘드시겠군요.</td>\n",
              "      <td>응. 그래도 난 내가 하고 싶은 일을 위해 노력할 거야.</td>\n",
              "      <td>자신이 하고 싶은 일을 목표로 하기로 하셨군요.</td>\n",
              "      <td>NaN</td>\n",
              "      <td>NaN</td>\n",
              "    </tr>\n",
              "    <tr>\n",
              "      <th>1</th>\n",
              "      <td>32848</td>\n",
              "      <td>청소년</td>\n",
              "      <td>남성</td>\n",
              "      <td>가족관계</td>\n",
              "      <td>해당없음</td>\n",
              "      <td>슬픔</td>\n",
              "      <td>비통한</td>\n",
              "      <td>엄마가 결국 집을 나갔어. 너무 너무 슬퍼.</td>\n",
              "      <td>어머니께서 집을 나가셨다니 정말 슬프셨겠어요. 좀 더 자세히 얘기해주시겠어요?</td>\n",
              "      <td>엄마도 엄마만의 인생이 있을 테니 가지 말라고 할 수가 없었어. 그래서 더 마음이 ...</td>\n",
              "      <td>정말 많이 답답하셨겠어요. 어떻게 하는 게 기분이 좀 풀릴까요?</td>\n",
              "      <td>일단 좀 자야겠어.</td>\n",
              "      <td>일단 휴식을 가질 생각이시군요.</td>\n",
              "      <td>NaN</td>\n",
              "      <td>NaN</td>\n",
              "    </tr>\n",
              "  </tbody>\n",
              "</table>\n",
              "</div>\n",
              "      <button class=\"colab-df-convert\" onclick=\"convertToInteractive('df-b342ee4a-d98b-47d2-82c6-efbf39167358')\"\n",
              "              title=\"Convert this dataframe to an interactive table.\"\n",
              "              style=\"display:none;\">\n",
              "        \n",
              "  <svg xmlns=\"http://www.w3.org/2000/svg\" height=\"24px\"viewBox=\"0 0 24 24\"\n",
              "       width=\"24px\">\n",
              "    <path d=\"M0 0h24v24H0V0z\" fill=\"none\"/>\n",
              "    <path d=\"M18.56 5.44l.94 2.06.94-2.06 2.06-.94-2.06-.94-.94-2.06-.94 2.06-2.06.94zm-11 1L8.5 8.5l.94-2.06 2.06-.94-2.06-.94L8.5 2.5l-.94 2.06-2.06.94zm10 10l.94 2.06.94-2.06 2.06-.94-2.06-.94-.94-2.06-.94 2.06-2.06.94z\"/><path d=\"M17.41 7.96l-1.37-1.37c-.4-.4-.92-.59-1.43-.59-.52 0-1.04.2-1.43.59L10.3 9.45l-7.72 7.72c-.78.78-.78 2.05 0 2.83L4 21.41c.39.39.9.59 1.41.59.51 0 1.02-.2 1.41-.59l7.78-7.78 2.81-2.81c.8-.78.8-2.07 0-2.86zM5.41 20L4 18.59l7.72-7.72 1.47 1.35L5.41 20z\"/>\n",
              "  </svg>\n",
              "      </button>\n",
              "      \n",
              "  <style>\n",
              "    .colab-df-container {\n",
              "      display:flex;\n",
              "      flex-wrap:wrap;\n",
              "      gap: 12px;\n",
              "    }\n",
              "\n",
              "    .colab-df-convert {\n",
              "      background-color: #E8F0FE;\n",
              "      border: none;\n",
              "      border-radius: 50%;\n",
              "      cursor: pointer;\n",
              "      display: none;\n",
              "      fill: #1967D2;\n",
              "      height: 32px;\n",
              "      padding: 0 0 0 0;\n",
              "      width: 32px;\n",
              "    }\n",
              "\n",
              "    .colab-df-convert:hover {\n",
              "      background-color: #E2EBFA;\n",
              "      box-shadow: 0px 1px 2px rgba(60, 64, 67, 0.3), 0px 1px 3px 1px rgba(60, 64, 67, 0.15);\n",
              "      fill: #174EA6;\n",
              "    }\n",
              "\n",
              "    [theme=dark] .colab-df-convert {\n",
              "      background-color: #3B4455;\n",
              "      fill: #D2E3FC;\n",
              "    }\n",
              "\n",
              "    [theme=dark] .colab-df-convert:hover {\n",
              "      background-color: #434B5C;\n",
              "      box-shadow: 0px 1px 3px 1px rgba(0, 0, 0, 0.15);\n",
              "      filter: drop-shadow(0px 1px 2px rgba(0, 0, 0, 0.3));\n",
              "      fill: #FFFFFF;\n",
              "    }\n",
              "  </style>\n",
              "\n",
              "      <script>\n",
              "        const buttonEl =\n",
              "          document.querySelector('#df-b342ee4a-d98b-47d2-82c6-efbf39167358 button.colab-df-convert');\n",
              "        buttonEl.style.display =\n",
              "          google.colab.kernel.accessAllowed ? 'block' : 'none';\n",
              "\n",
              "        async function convertToInteractive(key) {\n",
              "          const element = document.querySelector('#df-b342ee4a-d98b-47d2-82c6-efbf39167358');\n",
              "          const dataTable =\n",
              "            await google.colab.kernel.invokeFunction('convertToInteractive',\n",
              "                                                     [key], {});\n",
              "          if (!dataTable) return;\n",
              "\n",
              "          const docLinkHtml = 'Like what you see? Visit the ' +\n",
              "            '<a target=\"_blank\" href=https://colab.research.google.com/notebooks/data_table.ipynb>data table notebook</a>'\n",
              "            + ' to learn more about interactive tables.';\n",
              "          element.innerHTML = '';\n",
              "          dataTable['output_type'] = 'display_data';\n",
              "          await google.colab.output.renderOutput(dataTable, element);\n",
              "          const docLink = document.createElement('div');\n",
              "          docLink.innerHTML = docLinkHtml;\n",
              "          element.appendChild(docLink);\n",
              "        }\n",
              "      </script>\n",
              "    </div>\n",
              "  </div>\n",
              "  "
            ]
          },
          "metadata": {},
          "execution_count": 14
        }
      ]
    },
    {
      "cell_type": "code",
      "source": [
        "nsmc0.tail(2)"
      ],
      "metadata": {
        "colab": {
          "base_uri": "https://localhost:8080/",
          "height": 112
        },
        "id": "_vir1MXUnqc2",
        "outputId": "0e2b4a9a-289e-4da4-d86a-0edca87689c3"
      },
      "execution_count": 15,
      "outputs": [
        {
          "output_type": "execute_result",
          "data": {
            "text/plain": [
              "             id                             document  label\n",
              "199998  6908648  왜난 재미없었지 ㅠㅠ 라따뚜이 보고나서 스머프 봐서 그런가 ㅋㅋ      0\n",
              "199999  8548411                      포풍저그가나가신다영차영차영차      0"
            ],
            "text/html": [
              "\n",
              "  <div id=\"df-d9e6cd35-1bc4-4df3-b853-e7d9b749a196\">\n",
              "    <div class=\"colab-df-container\">\n",
              "      <div>\n",
              "<style scoped>\n",
              "    .dataframe tbody tr th:only-of-type {\n",
              "        vertical-align: middle;\n",
              "    }\n",
              "\n",
              "    .dataframe tbody tr th {\n",
              "        vertical-align: top;\n",
              "    }\n",
              "\n",
              "    .dataframe thead th {\n",
              "        text-align: right;\n",
              "    }\n",
              "</style>\n",
              "<table border=\"1\" class=\"dataframe\">\n",
              "  <thead>\n",
              "    <tr style=\"text-align: right;\">\n",
              "      <th></th>\n",
              "      <th>id</th>\n",
              "      <th>document</th>\n",
              "      <th>label</th>\n",
              "    </tr>\n",
              "  </thead>\n",
              "  <tbody>\n",
              "    <tr>\n",
              "      <th>199998</th>\n",
              "      <td>6908648</td>\n",
              "      <td>왜난 재미없었지 ㅠㅠ 라따뚜이 보고나서 스머프 봐서 그런가 ㅋㅋ</td>\n",
              "      <td>0</td>\n",
              "    </tr>\n",
              "    <tr>\n",
              "      <th>199999</th>\n",
              "      <td>8548411</td>\n",
              "      <td>포풍저그가나가신다영차영차영차</td>\n",
              "      <td>0</td>\n",
              "    </tr>\n",
              "  </tbody>\n",
              "</table>\n",
              "</div>\n",
              "      <button class=\"colab-df-convert\" onclick=\"convertToInteractive('df-d9e6cd35-1bc4-4df3-b853-e7d9b749a196')\"\n",
              "              title=\"Convert this dataframe to an interactive table.\"\n",
              "              style=\"display:none;\">\n",
              "        \n",
              "  <svg xmlns=\"http://www.w3.org/2000/svg\" height=\"24px\"viewBox=\"0 0 24 24\"\n",
              "       width=\"24px\">\n",
              "    <path d=\"M0 0h24v24H0V0z\" fill=\"none\"/>\n",
              "    <path d=\"M18.56 5.44l.94 2.06.94-2.06 2.06-.94-2.06-.94-.94-2.06-.94 2.06-2.06.94zm-11 1L8.5 8.5l.94-2.06 2.06-.94-2.06-.94L8.5 2.5l-.94 2.06-2.06.94zm10 10l.94 2.06.94-2.06 2.06-.94-2.06-.94-.94-2.06-.94 2.06-2.06.94z\"/><path d=\"M17.41 7.96l-1.37-1.37c-.4-.4-.92-.59-1.43-.59-.52 0-1.04.2-1.43.59L10.3 9.45l-7.72 7.72c-.78.78-.78 2.05 0 2.83L4 21.41c.39.39.9.59 1.41.59.51 0 1.02-.2 1.41-.59l7.78-7.78 2.81-2.81c.8-.78.8-2.07 0-2.86zM5.41 20L4 18.59l7.72-7.72 1.47 1.35L5.41 20z\"/>\n",
              "  </svg>\n",
              "      </button>\n",
              "      \n",
              "  <style>\n",
              "    .colab-df-container {\n",
              "      display:flex;\n",
              "      flex-wrap:wrap;\n",
              "      gap: 12px;\n",
              "    }\n",
              "\n",
              "    .colab-df-convert {\n",
              "      background-color: #E8F0FE;\n",
              "      border: none;\n",
              "      border-radius: 50%;\n",
              "      cursor: pointer;\n",
              "      display: none;\n",
              "      fill: #1967D2;\n",
              "      height: 32px;\n",
              "      padding: 0 0 0 0;\n",
              "      width: 32px;\n",
              "    }\n",
              "\n",
              "    .colab-df-convert:hover {\n",
              "      background-color: #E2EBFA;\n",
              "      box-shadow: 0px 1px 2px rgba(60, 64, 67, 0.3), 0px 1px 3px 1px rgba(60, 64, 67, 0.15);\n",
              "      fill: #174EA6;\n",
              "    }\n",
              "\n",
              "    [theme=dark] .colab-df-convert {\n",
              "      background-color: #3B4455;\n",
              "      fill: #D2E3FC;\n",
              "    }\n",
              "\n",
              "    [theme=dark] .colab-df-convert:hover {\n",
              "      background-color: #434B5C;\n",
              "      box-shadow: 0px 1px 3px 1px rgba(0, 0, 0, 0.15);\n",
              "      filter: drop-shadow(0px 1px 2px rgba(0, 0, 0, 0.3));\n",
              "      fill: #FFFFFF;\n",
              "    }\n",
              "  </style>\n",
              "\n",
              "      <script>\n",
              "        const buttonEl =\n",
              "          document.querySelector('#df-d9e6cd35-1bc4-4df3-b853-e7d9b749a196 button.colab-df-convert');\n",
              "        buttonEl.style.display =\n",
              "          google.colab.kernel.accessAllowed ? 'block' : 'none';\n",
              "\n",
              "        async function convertToInteractive(key) {\n",
              "          const element = document.querySelector('#df-d9e6cd35-1bc4-4df3-b853-e7d9b749a196');\n",
              "          const dataTable =\n",
              "            await google.colab.kernel.invokeFunction('convertToInteractive',\n",
              "                                                     [key], {});\n",
              "          if (!dataTable) return;\n",
              "\n",
              "          const docLinkHtml = 'Like what you see? Visit the ' +\n",
              "            '<a target=\"_blank\" href=https://colab.research.google.com/notebooks/data_table.ipynb>data table notebook</a>'\n",
              "            + ' to learn more about interactive tables.';\n",
              "          element.innerHTML = '';\n",
              "          dataTable['output_type'] = 'display_data';\n",
              "          await google.colab.output.renderOutput(dataTable, element);\n",
              "          const docLink = document.createElement('div');\n",
              "          docLink.innerHTML = docLinkHtml;\n",
              "          element.appendChild(docLink);\n",
              "        }\n",
              "      </script>\n",
              "    </div>\n",
              "  </div>\n",
              "  "
            ]
          },
          "metadata": {},
          "execution_count": 15
        }
      ]
    },
    {
      "cell_type": "markdown",
      "source": [
        "### Sample 개수 확인"
      ],
      "metadata": {
        "id": "1GQftC5nnuEI"
      }
    },
    {
      "cell_type": "code",
      "source": [
        "print('train0의 sample의 수: {}개'.format(train0.shape[0]))\n",
        "print('validation0의 sample의 수: {}개'.format(validation0.shape[0]))\n",
        "print('nsmc0의 sample의 수: {}개'.format(nsmc0.shape[0]))\n",
        "print('모든 샘플의 수: {}개'.format(train0.shape[0]+validation0.shape[0]+nsmc0.shape[0]))"
      ],
      "metadata": {
        "colab": {
          "base_uri": "https://localhost:8080/"
        },
        "id": "gzfzBFyKnwMy",
        "outputId": "58f5a404-f20c-43bb-ca1b-03b624af6394"
      },
      "execution_count": 16,
      "outputs": [
        {
          "output_type": "stream",
          "name": "stdout",
          "text": [
            "train0의 sample의 수: 40879개\n",
            "validation0의 sample의 수: 5130개\n",
            "nsmc0의 sample의 수: 200000개\n",
            "모든 샘플의 수: 246009개\n"
          ]
        }
      ]
    },
    {
      "cell_type": "markdown",
      "source": [
        "# 2. 데이터 정제\n",
        "## Naver 데이터 확인 및 정제\n",
        "#### 1. 결측값 제거"
      ],
      "metadata": {
        "id": "a_N6uwdinz0x"
      }
    },
    {
      "cell_type": "code",
      "source": [
        "nsmc0.isnull().sum()"
      ],
      "metadata": {
        "colab": {
          "base_uri": "https://localhost:8080/"
        },
        "id": "F83SUVVwnzAa",
        "outputId": "47c67188-e3c2-4c0a-999e-f509e2aec63e"
      },
      "execution_count": 17,
      "outputs": [
        {
          "output_type": "execute_result",
          "data": {
            "text/plain": [
              "id          0\n",
              "document    8\n",
              "label       0\n",
              "dtype: int64"
            ]
          },
          "metadata": {},
          "execution_count": 17
        }
      ]
    },
    {
      "cell_type": "code",
      "source": [
        "#결측값 제거 후 nsmc1에 저장\n",
        "nsmc1 = nsmc0.dropna()"
      ],
      "metadata": {
        "id": "GlJU5lK2n95H"
      },
      "execution_count": 18,
      "outputs": []
    },
    {
      "cell_type": "markdown",
      "source": [
        "#### 2. 중복값 제거"
      ],
      "metadata": {
        "id": "tJBabi-eoFr0"
      }
    },
    {
      "cell_type": "code",
      "source": [
        "# 중복값 개수 확인\n",
        "print('nsmc1의 sample의 수: {}개'.format(nsmc1.shape[0]))\n",
        "print('nsmc1의 document 종류의 수: {}개'.format(nsmc1['document'].nunique()))"
      ],
      "metadata": {
        "colab": {
          "base_uri": "https://localhost:8080/"
        },
        "id": "qPi1JK25oHv_",
        "outputId": "9e3209d6-c5f2-4667-b17a-ede868993e40"
      },
      "execution_count": 19,
      "outputs": [
        {
          "output_type": "stream",
          "name": "stdout",
          "text": [
            "nsmc1의 sample의 수: 199992개\n",
            "nsmc1의 document 종류의 수: 194543개\n"
          ]
        }
      ]
    },
    {
      "cell_type": "code",
      "source": [
        "# 중복 제거 후 nsmc2에 저장\n",
        "nsmc2 = nsmc1.drop_duplicates(subset=['document'], ignore_index=True)"
      ],
      "metadata": {
        "id": "zjoE3sLsoKUz"
      },
      "execution_count": 20,
      "outputs": []
    },
    {
      "cell_type": "code",
      "source": [
        "#중복 제거 확인\n",
        "print('nsmc2의 sample의 수: {}개'.format(nsmc2.shape[0]))\n",
        "print('nsmc2의 document 종류의 수: {}개'.format(nsmc2['document'].nunique()))"
      ],
      "metadata": {
        "colab": {
          "base_uri": "https://localhost:8080/"
        },
        "id": "QpCZB3DNoOiG",
        "outputId": "deb20718-3aeb-41c8-ba48-7c4186a6e713"
      },
      "execution_count": 21,
      "outputs": [
        {
          "output_type": "stream",
          "name": "stdout",
          "text": [
            "nsmc2의 sample의 수: 194543개\n",
            "nsmc2의 document 종류의 수: 194543개\n"
          ]
        }
      ]
    },
    {
      "cell_type": "markdown",
      "source": [
        "#### 3. 노이즈 제거\n",
        "##### 글자가 아닌 것 지우기"
      ],
      "metadata": {
        "id": "QyWRJpfkoR8X"
      }
    },
    {
      "cell_type": "code",
      "source": [
        "nsmc2['document'] = nsmc2['document'].str.replace(\"[^ㄱ-ㅎㅏ-ㅣ가-힣 ]\",\"\")"
      ],
      "metadata": {
        "colab": {
          "base_uri": "https://localhost:8080/"
        },
        "id": "29qmtKNqoft3",
        "outputId": "7f54db16-c00a-4f71-a88f-dbff6baa20a6"
      },
      "execution_count": 22,
      "outputs": [
        {
          "output_type": "stream",
          "name": "stderr",
          "text": [
            "/usr/local/lib/python3.7/dist-packages/ipykernel_launcher.py:1: FutureWarning: The default value of regex will change from True to False in a future version.\n",
            "  \"\"\"Entry point for launching an IPython kernel.\n",
            "/usr/local/lib/python3.7/dist-packages/ipykernel_launcher.py:1: SettingWithCopyWarning: \n",
            "A value is trying to be set on a copy of a slice from a DataFrame.\n",
            "Try using .loc[row_indexer,col_indexer] = value instead\n",
            "\n",
            "See the caveats in the documentation: https://pandas.pydata.org/pandas-docs/stable/user_guide/indexing.html#returning-a-view-versus-a-copy\n",
            "  \"\"\"Entry point for launching an IPython kernel.\n"
          ]
        }
      ]
    },
    {
      "cell_type": "markdown",
      "source": [
        "##### Normalize 진행"
      ],
      "metadata": {
        "id": "L-QDNiqsrFRD"
      }
    },
    {
      "cell_type": "code",
      "source": [
        "#ㅜ를 ㅠ로 바꿔주기\n",
        "nsmc2['document'] = nsmc2['document'].map(lambda sent: re.sub('ㅜ', 'ㅠ', sent))"
      ],
      "metadata": {
        "colab": {
          "base_uri": "https://localhost:8080/"
        },
        "id": "udX3sDiPCgEm",
        "outputId": "c877d826-ca3e-4a2f-c4a1-0fbcaf1a875a"
      },
      "execution_count": 23,
      "outputs": [
        {
          "output_type": "stream",
          "name": "stderr",
          "text": [
            "/usr/local/lib/python3.7/dist-packages/ipykernel_launcher.py:2: SettingWithCopyWarning: \n",
            "A value is trying to be set on a copy of a slice from a DataFrame.\n",
            "Try using .loc[row_indexer,col_indexer] = value instead\n",
            "\n",
            "See the caveats in the documentation: https://pandas.pydata.org/pandas-docs/stable/user_guide/indexing.html#returning-a-view-versus-a-copy\n",
            "  \n"
          ]
        }
      ]
    },
    {
      "cell_type": "code",
      "source": [
        "#normalize진행 => 여러번 연속된 문자를 통일된 문자로 바꿔줌\n",
        "nsmc2['document'] = nsmc2['document'].map(lambda sent: emoticon_normalize(sent, num_repeats=2))"
      ],
      "metadata": {
        "colab": {
          "base_uri": "https://localhost:8080/"
        },
        "id": "N8HwY0UwBXun",
        "outputId": "38a142c0-1a79-459b-d477-4e4d535efb36"
      },
      "execution_count": 24,
      "outputs": [
        {
          "output_type": "stream",
          "name": "stderr",
          "text": [
            "/usr/local/lib/python3.7/dist-packages/ipykernel_launcher.py:2: SettingWithCopyWarning: \n",
            "A value is trying to be set on a copy of a slice from a DataFrame.\n",
            "Try using .loc[row_indexer,col_indexer] = value instead\n",
            "\n",
            "See the caveats in the documentation: https://pandas.pydata.org/pandas-docs/stable/user_guide/indexing.html#returning-a-view-versus-a-copy\n",
            "  \n"
          ]
        }
      ]
    },
    {
      "cell_type": "code",
      "source": [
        "#위에서 normalize를 진행하여도 3개가 연속된 것은 normalize되지 않는것을 확인\n",
        "  #하나하나 바꿔줌\n",
        "nsmc2['document'].map(lambda sent: re.sub('ㅋㅋㅋ', 'ㅋㅋ', sent)) #ㅋㅋㅋ 을 ㅋㅋ으로 바꾸기\n",
        "nsmc2['document'].map(lambda sent: re.sub('ㅎㅎㅎ', 'ㅎㅎ', sent)) #ㅎㅎㅎ 을 ㅎㅎ으로 바꾸기\n",
        "nsmc2['document'].map(lambda sent: re.sub('ㅠㅠㅠ', 'ㅠㅠ', sent)) #ㅠㅠㅠ 을 ㅠㅠ으로 바꾸기\n",
        "nsmc2['document'].map(lambda sent: re.sub('ㅉㅉㅉ', 'ㅉㅉ', sent)) #ㅉㅉㅉ 을 ㅉㅉ으로 바꾸기\n",
        "nsmc2['document'].map(lambda sent: re.sub('ㅡㅡㅡ', 'ㅡㅡ', sent)) #ㅡㅡㅡ 을 ㅡㅡ으로 바꾸기"
      ],
      "metadata": {
        "colab": {
          "base_uri": "https://localhost:8080/"
        },
        "id": "g0FFjnV_B0fX",
        "outputId": "c8b659fc-29ce-4300-f627-d262f5662ead"
      },
      "execution_count": 25,
      "outputs": [
        {
          "output_type": "execute_result",
          "data": {
            "text/plain": [
              "0                                        어릴때보고 지금다시봐도 재밌어ㅋㅋ\n",
              "1         디자인을 배우는 학생으로 외국디자이너와 그들이 일군 전통을 통해 발전해가는 문화산업...\n",
              "2                          폴리스스토리 시리즈는 부터 뉴까지 버릴께 하나도 없음 최고\n",
              "3          와 연기가 진짜 개쩔구나 지루할거라고 생각했는데 몰입해서 봤다 그래 이런게 진짜 영화지\n",
              "4                                안개 자욱한 밤하늘에 떠 있는 초승달 같은 영화\n",
              "                                ...                        \n",
              "194538                                         포켓 몬스터 짜가 ㅡㅡ\n",
              "194539                                                  쓰레기\n",
              "194540                      완전 사이코영화 마지막은 더욱더 이 영화의질을 떨어트린다\n",
              "194541                  왜난 재미없었지 ㅠㅠ 라따뚜이 보고나서 스머프 봐서 그런가 ㅋㅋ\n",
              "194542                                      포풍저그가나가신다영차영차영차\n",
              "Name: document, Length: 194543, dtype: object"
            ]
          },
          "metadata": {},
          "execution_count": 25
        }
      ]
    },
    {
      "cell_type": "markdown",
      "source": [
        "#### 4. 마지막으로 결측치, 중복값 제거"
      ],
      "metadata": {
        "id": "OHau5DEEwiQW"
      }
    },
    {
      "cell_type": "code",
      "source": [
        "#중복값 제거\n",
        "nsmc3 = nsmc2.drop_duplicates(subset=['document'], ignore_index=True)"
      ],
      "metadata": {
        "id": "ytO_d6VMwh5u"
      },
      "execution_count": 26,
      "outputs": []
    },
    {
      "cell_type": "code",
      "source": [
        "#결측치 제거\n",
        "nsmc3 = nsmc3.dropna()"
      ],
      "metadata": {
        "id": "l8TU-yqkwpt6"
      },
      "execution_count": 27,
      "outputs": []
    },
    {
      "cell_type": "markdown",
      "source": [
        "## AI-Hub(train, validation)데이터 전처리\n",
        "#### 1. 결측값 제거 & 필요한 열만 추리기"
      ],
      "metadata": {
        "id": "Kbwl12JEsB_X"
      }
    },
    {
      "cell_type": "code",
      "source": [
        "# 결측값 개수 확인\n",
        "print(train0.isnull().sum())\n",
        "print('-'*20)\n",
        "print(validation0.isnull().sum())"
      ],
      "metadata": {
        "colab": {
          "base_uri": "https://localhost:8080/"
        },
        "id": "sxzD8OwOsBus",
        "outputId": "c44d2060-2344-40eb-a82f-7e16fea03451"
      },
      "execution_count": 28,
      "outputs": [
        {
          "output_type": "stream",
          "name": "stdout",
          "text": [
            "번호            0\n",
            "연령            0\n",
            "성별            0\n",
            "상황키워드         0\n",
            "신체질환          0\n",
            "감정_대분류        0\n",
            "감정_소분류        0\n",
            "사람문장1         0\n",
            "시스템응답1        0\n",
            "사람문장2         0\n",
            "시스템응답2        0\n",
            "사람문장3      9820\n",
            "시스템응답3     9820\n",
            "사람문장4     39407\n",
            "시스템응답4    39517\n",
            "dtype: int64\n",
            "--------------------\n",
            "번호           0\n",
            "연령           0\n",
            "성별           0\n",
            "상황키워드        0\n",
            "신체질환         0\n",
            "감정_대분류       0\n",
            "감정_소분류       0\n",
            "사람문장1        0\n",
            "시스템응답1       0\n",
            "사람문장2        0\n",
            "시스템응답2       0\n",
            "사람문장3     1256\n",
            "시스템응답3    1256\n",
            "사람문장4     4979\n",
            "시스템응답4    4994\n",
            "dtype: int64\n"
          ]
        }
      ]
    },
    {
      "cell_type": "code",
      "source": [
        "# 감정_대분류 표현의 종류 확인 -> 긍정 표현:1, 부정 표현:0으로 변경 예정\n",
        "\n",
        "print(train0['감정_대분류'].value_counts())\n",
        "print('-'*20)\n",
        "print(validation0['감정_대분류'].value_counts())\n",
        "\n",
        "# 출력결과 train0에는 불안과 기쁨이 2종류로 존재하는데\n",
        "# 이는 불안과 기쁨 뒤에 공백이 존재하는 것들이 끼어있어 그런 것"
      ],
      "metadata": {
        "colab": {
          "base_uri": "https://localhost:8080/"
        },
        "id": "nYZHaS-7sTrI",
        "outputId": "0bfcee89-c6b6-452b-9551-f164ff459f39"
      },
      "execution_count": 29,
      "outputs": [
        {
          "output_type": "stream",
          "name": "stdout",
          "text": [
            "불안     7328\n",
            "분노     6920\n",
            "슬픔     6915\n",
            "기쁨     6730\n",
            "상처     6624\n",
            "당황     6360\n",
            "불안        1\n",
            "기쁨        1\n",
            "Name: 감정_대분류, dtype: int64\n",
            "--------------------\n",
            "불안    907\n",
            "분노    873\n",
            "슬픔    861\n",
            "기쁨    841\n",
            "당황    832\n",
            "상처    816\n",
            "Name: 감정_대분류, dtype: int64\n"
          ]
        }
      ]
    },
    {
      "cell_type": "code",
      "source": [
        "# 필요한 열만 가져와 각각 train1, validation1에 저장\n",
        "train1 = train0[['감정_대분류', '사람문장1', '사람문장2']]\n",
        "validation1 = validation0[['감정_대분류', '사람문장1', '사람문장2']]"
      ],
      "metadata": {
        "id": "3qjMHhGQsZJM"
      },
      "execution_count": 30,
      "outputs": []
    },
    {
      "cell_type": "code",
      "source": [
        "# 전체 감정label을 0으로 우선 만든 뒤 '기쁨'에 해당하는 것만 1로 변경\n",
        "\n",
        "train1['label'] = 0\n",
        "validation1['label'] = 0\n",
        "\n",
        "train1.loc[train1['감정_대분류']=='기쁨', 'label'] = 1\n",
        "train1.loc[train1['감정_대분류']=='기쁨 ', 'label'] = 1\n",
        "validation1.loc[validation1['감정_대분류']=='기쁨', 'label'] = 1\n",
        "validation1.loc[validation1['감정_대분류']=='기쁨 ', 'label'] = 1"
      ],
      "metadata": {
        "colab": {
          "base_uri": "https://localhost:8080/"
        },
        "id": "7kkZvvpzsbR5",
        "outputId": "079e7b2e-a162-4580-b68b-fd27b2ff6dff"
      },
      "execution_count": 31,
      "outputs": [
        {
          "output_type": "stream",
          "name": "stderr",
          "text": [
            "/usr/local/lib/python3.7/dist-packages/ipykernel_launcher.py:3: SettingWithCopyWarning: \n",
            "A value is trying to be set on a copy of a slice from a DataFrame.\n",
            "Try using .loc[row_indexer,col_indexer] = value instead\n",
            "\n",
            "See the caveats in the documentation: https://pandas.pydata.org/pandas-docs/stable/user_guide/indexing.html#returning-a-view-versus-a-copy\n",
            "  This is separate from the ipykernel package so we can avoid doing imports until\n",
            "/usr/local/lib/python3.7/dist-packages/ipykernel_launcher.py:4: SettingWithCopyWarning: \n",
            "A value is trying to be set on a copy of a slice from a DataFrame.\n",
            "Try using .loc[row_indexer,col_indexer] = value instead\n",
            "\n",
            "See the caveats in the documentation: https://pandas.pydata.org/pandas-docs/stable/user_guide/indexing.html#returning-a-view-versus-a-copy\n",
            "  after removing the cwd from sys.path.\n",
            "/usr/local/lib/python3.7/dist-packages/pandas/core/indexing.py:1817: SettingWithCopyWarning: \n",
            "A value is trying to be set on a copy of a slice from a DataFrame.\n",
            "Try using .loc[row_indexer,col_indexer] = value instead\n",
            "\n",
            "See the caveats in the documentation: https://pandas.pydata.org/pandas-docs/stable/user_guide/indexing.html#returning-a-view-versus-a-copy\n",
            "  self._setitem_single_column(loc, value, pi)\n"
          ]
        }
      ]
    },
    {
      "cell_type": "code",
      "source": [
        "# 결측 없는지 최종 확인\n",
        "print(train1.isnull().sum())\n",
        "print('-'*20)\n",
        "print(validation1.isnull().sum())"
      ],
      "metadata": {
        "colab": {
          "base_uri": "https://localhost:8080/"
        },
        "id": "n2fYfo1EseAa",
        "outputId": "6a67fcb3-d10a-45bb-85d0-22f5c2b8e508"
      },
      "execution_count": 32,
      "outputs": [
        {
          "output_type": "stream",
          "name": "stdout",
          "text": [
            "감정_대분류    0\n",
            "사람문장1     0\n",
            "사람문장2     0\n",
            "label     0\n",
            "dtype: int64\n",
            "--------------------\n",
            "감정_대분류    0\n",
            "사람문장1     0\n",
            "사람문장2     0\n",
            "label     0\n",
            "dtype: int64\n"
          ]
        }
      ]
    },
    {
      "cell_type": "markdown",
      "source": [
        "#### 2. 중복값 제거"
      ],
      "metadata": {
        "id": "JyDXnILlln6z"
      }
    },
    {
      "cell_type": "code",
      "source": [
        "# 전체 행과 열의 수 확인\n",
        "print(train1.shape)\n",
        "print(validation1.shape)"
      ],
      "metadata": {
        "colab": {
          "base_uri": "https://localhost:8080/"
        },
        "id": "z71_R7lfshVK",
        "outputId": "b8b7174c-a04c-492b-a61f-70c37aaab7b9"
      },
      "execution_count": 33,
      "outputs": [
        {
          "output_type": "stream",
          "name": "stdout",
          "text": [
            "(40879, 4)\n",
            "(5130, 4)\n"
          ]
        }
      ]
    },
    {
      "cell_type": "code",
      "source": [
        "# 사람문장1, 사람문장2, label의 종류 확인\n",
        "\n",
        "print(train1['사람문장1'].nunique(), train1['사람문장2'].nunique(), train1['label'].nunique())\n",
        "print(validation1['사람문장1'].nunique(), validation1['사람문장2'].nunique(), validation1['label'].nunique())\n",
        "\n",
        "# 행의 수와 사람문장의 종류의 수가 같지 않다는 것은\n",
        "# 중복된 문장이 들어가 있다는 뜻!"
      ],
      "metadata": {
        "colab": {
          "base_uri": "https://localhost:8080/"
        },
        "id": "jWR_GqTdsixK",
        "outputId": "7c98e102-2129-4576-ca4b-b8de6bc6f254"
      },
      "execution_count": 34,
      "outputs": [
        {
          "output_type": "stream",
          "name": "stdout",
          "text": [
            "39415 38878 2\n",
            "5103 5096 2\n"
          ]
        }
      ]
    },
    {
      "cell_type": "code",
      "source": [
        "# 중복 제거\n",
        "\n",
        "train1.drop_duplicates(subset=['사람문장1'], inplace=True, ignore_index=True)\n",
        "train1.drop_duplicates(subset=['사람문장2'], inplace=True, ignore_index=True)\n",
        "\n",
        "validation1.drop_duplicates(subset=['사람문장1'], inplace=True, ignore_index=True)\n",
        "validation1.drop_duplicates(subset=['사람문장2'], inplace=True, ignore_index=True)"
      ],
      "metadata": {
        "colab": {
          "base_uri": "https://localhost:8080/"
        },
        "id": "11tqe3DLsk9O",
        "outputId": "dfcc1c50-e184-418d-cdbf-2e53a1bea2ba"
      },
      "execution_count": 35,
      "outputs": [
        {
          "output_type": "stream",
          "name": "stderr",
          "text": [
            "/usr/local/lib/python3.7/dist-packages/pandas/util/_decorators.py:311: SettingWithCopyWarning: \n",
            "A value is trying to be set on a copy of a slice from a DataFrame\n",
            "\n",
            "See the caveats in the documentation: https://pandas.pydata.org/pandas-docs/stable/user_guide/indexing.html#returning-a-view-versus-a-copy\n",
            "  return func(*args, **kwargs)\n"
          ]
        }
      ]
    },
    {
      "cell_type": "code",
      "source": [
        "# 중복 제거 확인\n",
        "print(train1.shape[0], train1['사람문장1'].nunique(), train1['사람문장2'].nunique())\n",
        "print(validation1.shape[0], validation1['사람문장1'].nunique(), validation1['사람문장2'].nunique())"
      ],
      "metadata": {
        "colab": {
          "base_uri": "https://localhost:8080/"
        },
        "id": "BW6oGtaysna7",
        "outputId": "c5ac5492-e223-401c-e986-d13f22722363"
      },
      "execution_count": 36,
      "outputs": [
        {
          "output_type": "stream",
          "name": "stdout",
          "text": [
            "38713 38713 38713\n",
            "5095 5095 5095\n"
          ]
        }
      ]
    },
    {
      "cell_type": "markdown",
      "source": [
        "##### 3. 하나의 document의 문장 개수 확인 & 문장 분리"
      ],
      "metadata": {
        "id": "xDE_4fBbsqPC"
      }
    },
    {
      "cell_type": "code",
      "source": [
        "# train1을 사람문장1(train2_1), 사람문장2(train2_2)로 분리(validation도 동일)\n",
        "\n",
        "train2_sent1 = train1[['사람문장1', 'label']]\n",
        "train2_sent2 = train1[['사람문장2', 'label']]\n",
        "validation2_sent1 = validation1[['사람문장1', 'label']]\n",
        "validation2_sent2 = validation1[['사람문장2', 'label']]"
      ],
      "metadata": {
        "id": "GNPI3XlrspRI"
      },
      "execution_count": 37,
      "outputs": []
    },
    {
      "cell_type": "code",
      "source": [
        "# 문장 개수 파악에 사용할 sent_tokenize를 import\n",
        "from nltk.tokenize import sent_tokenize"
      ],
      "metadata": {
        "id": "zVl9_Bp1tAbn"
      },
      "execution_count": 38,
      "outputs": []
    },
    {
      "cell_type": "code",
      "source": [
        "train2_sent1['nsent'] = train2_sent1['사람문장1'].map(sent_tokenize).map(len)\n",
        "train2_sent2['nsent'] = train2_sent2['사람문장2'].map(sent_tokenize).map(len)\n",
        "validation2_sent1['nsent'] = validation2_sent1['사람문장1'].map(sent_tokenize).map(len)\n",
        "validation2_sent2['nsent'] = validation2_sent2['사람문장2'].map(sent_tokenize).map(len)"
      ],
      "metadata": {
        "colab": {
          "base_uri": "https://localhost:8080/"
        },
        "id": "1IvOW_DJs6Zw",
        "outputId": "85acff05-59a2-413b-8c1b-a65069314e70"
      },
      "execution_count": 39,
      "outputs": [
        {
          "output_type": "stream",
          "name": "stderr",
          "text": [
            "/usr/local/lib/python3.7/dist-packages/ipykernel_launcher.py:1: SettingWithCopyWarning: \n",
            "A value is trying to be set on a copy of a slice from a DataFrame.\n",
            "Try using .loc[row_indexer,col_indexer] = value instead\n",
            "\n",
            "See the caveats in the documentation: https://pandas.pydata.org/pandas-docs/stable/user_guide/indexing.html#returning-a-view-versus-a-copy\n",
            "  \"\"\"Entry point for launching an IPython kernel.\n",
            "/usr/local/lib/python3.7/dist-packages/ipykernel_launcher.py:2: SettingWithCopyWarning: \n",
            "A value is trying to be set on a copy of a slice from a DataFrame.\n",
            "Try using .loc[row_indexer,col_indexer] = value instead\n",
            "\n",
            "See the caveats in the documentation: https://pandas.pydata.org/pandas-docs/stable/user_guide/indexing.html#returning-a-view-versus-a-copy\n",
            "  \n",
            "/usr/local/lib/python3.7/dist-packages/ipykernel_launcher.py:3: SettingWithCopyWarning: \n",
            "A value is trying to be set on a copy of a slice from a DataFrame.\n",
            "Try using .loc[row_indexer,col_indexer] = value instead\n",
            "\n",
            "See the caveats in the documentation: https://pandas.pydata.org/pandas-docs/stable/user_guide/indexing.html#returning-a-view-versus-a-copy\n",
            "  This is separate from the ipykernel package so we can avoid doing imports until\n",
            "/usr/local/lib/python3.7/dist-packages/ipykernel_launcher.py:4: SettingWithCopyWarning: \n",
            "A value is trying to be set on a copy of a slice from a DataFrame.\n",
            "Try using .loc[row_indexer,col_indexer] = value instead\n",
            "\n",
            "See the caveats in the documentation: https://pandas.pydata.org/pandas-docs/stable/user_guide/indexing.html#returning-a-view-versus-a-copy\n",
            "  after removing the cwd from sys.path.\n"
          ]
        }
      ]
    },
    {
      "cell_type": "code",
      "source": [
        "#head찍어보기\n",
        "train2_sent1.head(2)"
      ],
      "metadata": {
        "colab": {
          "base_uri": "https://localhost:8080/",
          "height": 112
        },
        "id": "qVppTELqtDl8",
        "outputId": "564a8e0f-3086-45b3-b9ac-3d2b73a37de3"
      },
      "execution_count": 40,
      "outputs": [
        {
          "output_type": "execute_result",
          "data": {
            "text/plain": [
              "                                     사람문장1  label  nsent\n",
              "0                아내가 드디어 출산하게 되어서 정말 신이 나.      1      1\n",
              "1  당뇨랑 합병증 때문에 먹어야 할 약이 열 가지가 넘어가니까 스트레스야.      0      1"
            ],
            "text/html": [
              "\n",
              "  <div id=\"df-bdd9b987-8885-405d-bf8a-8442d959dd61\">\n",
              "    <div class=\"colab-df-container\">\n",
              "      <div>\n",
              "<style scoped>\n",
              "    .dataframe tbody tr th:only-of-type {\n",
              "        vertical-align: middle;\n",
              "    }\n",
              "\n",
              "    .dataframe tbody tr th {\n",
              "        vertical-align: top;\n",
              "    }\n",
              "\n",
              "    .dataframe thead th {\n",
              "        text-align: right;\n",
              "    }\n",
              "</style>\n",
              "<table border=\"1\" class=\"dataframe\">\n",
              "  <thead>\n",
              "    <tr style=\"text-align: right;\">\n",
              "      <th></th>\n",
              "      <th>사람문장1</th>\n",
              "      <th>label</th>\n",
              "      <th>nsent</th>\n",
              "    </tr>\n",
              "  </thead>\n",
              "  <tbody>\n",
              "    <tr>\n",
              "      <th>0</th>\n",
              "      <td>아내가 드디어 출산하게 되어서 정말 신이 나.</td>\n",
              "      <td>1</td>\n",
              "      <td>1</td>\n",
              "    </tr>\n",
              "    <tr>\n",
              "      <th>1</th>\n",
              "      <td>당뇨랑 합병증 때문에 먹어야 할 약이 열 가지가 넘어가니까 스트레스야.</td>\n",
              "      <td>0</td>\n",
              "      <td>1</td>\n",
              "    </tr>\n",
              "  </tbody>\n",
              "</table>\n",
              "</div>\n",
              "      <button class=\"colab-df-convert\" onclick=\"convertToInteractive('df-bdd9b987-8885-405d-bf8a-8442d959dd61')\"\n",
              "              title=\"Convert this dataframe to an interactive table.\"\n",
              "              style=\"display:none;\">\n",
              "        \n",
              "  <svg xmlns=\"http://www.w3.org/2000/svg\" height=\"24px\"viewBox=\"0 0 24 24\"\n",
              "       width=\"24px\">\n",
              "    <path d=\"M0 0h24v24H0V0z\" fill=\"none\"/>\n",
              "    <path d=\"M18.56 5.44l.94 2.06.94-2.06 2.06-.94-2.06-.94-.94-2.06-.94 2.06-2.06.94zm-11 1L8.5 8.5l.94-2.06 2.06-.94-2.06-.94L8.5 2.5l-.94 2.06-2.06.94zm10 10l.94 2.06.94-2.06 2.06-.94-2.06-.94-.94-2.06-.94 2.06-2.06.94z\"/><path d=\"M17.41 7.96l-1.37-1.37c-.4-.4-.92-.59-1.43-.59-.52 0-1.04.2-1.43.59L10.3 9.45l-7.72 7.72c-.78.78-.78 2.05 0 2.83L4 21.41c.39.39.9.59 1.41.59.51 0 1.02-.2 1.41-.59l7.78-7.78 2.81-2.81c.8-.78.8-2.07 0-2.86zM5.41 20L4 18.59l7.72-7.72 1.47 1.35L5.41 20z\"/>\n",
              "  </svg>\n",
              "      </button>\n",
              "      \n",
              "  <style>\n",
              "    .colab-df-container {\n",
              "      display:flex;\n",
              "      flex-wrap:wrap;\n",
              "      gap: 12px;\n",
              "    }\n",
              "\n",
              "    .colab-df-convert {\n",
              "      background-color: #E8F0FE;\n",
              "      border: none;\n",
              "      border-radius: 50%;\n",
              "      cursor: pointer;\n",
              "      display: none;\n",
              "      fill: #1967D2;\n",
              "      height: 32px;\n",
              "      padding: 0 0 0 0;\n",
              "      width: 32px;\n",
              "    }\n",
              "\n",
              "    .colab-df-convert:hover {\n",
              "      background-color: #E2EBFA;\n",
              "      box-shadow: 0px 1px 2px rgba(60, 64, 67, 0.3), 0px 1px 3px 1px rgba(60, 64, 67, 0.15);\n",
              "      fill: #174EA6;\n",
              "    }\n",
              "\n",
              "    [theme=dark] .colab-df-convert {\n",
              "      background-color: #3B4455;\n",
              "      fill: #D2E3FC;\n",
              "    }\n",
              "\n",
              "    [theme=dark] .colab-df-convert:hover {\n",
              "      background-color: #434B5C;\n",
              "      box-shadow: 0px 1px 3px 1px rgba(0, 0, 0, 0.15);\n",
              "      filter: drop-shadow(0px 1px 2px rgba(0, 0, 0, 0.3));\n",
              "      fill: #FFFFFF;\n",
              "    }\n",
              "  </style>\n",
              "\n",
              "      <script>\n",
              "        const buttonEl =\n",
              "          document.querySelector('#df-bdd9b987-8885-405d-bf8a-8442d959dd61 button.colab-df-convert');\n",
              "        buttonEl.style.display =\n",
              "          google.colab.kernel.accessAllowed ? 'block' : 'none';\n",
              "\n",
              "        async function convertToInteractive(key) {\n",
              "          const element = document.querySelector('#df-bdd9b987-8885-405d-bf8a-8442d959dd61');\n",
              "          const dataTable =\n",
              "            await google.colab.kernel.invokeFunction('convertToInteractive',\n",
              "                                                     [key], {});\n",
              "          if (!dataTable) return;\n",
              "\n",
              "          const docLinkHtml = 'Like what you see? Visit the ' +\n",
              "            '<a target=\"_blank\" href=https://colab.research.google.com/notebooks/data_table.ipynb>data table notebook</a>'\n",
              "            + ' to learn more about interactive tables.';\n",
              "          element.innerHTML = '';\n",
              "          dataTable['output_type'] = 'display_data';\n",
              "          await google.colab.output.renderOutput(dataTable, element);\n",
              "          const docLink = document.createElement('div');\n",
              "          docLink.innerHTML = docLinkHtml;\n",
              "          element.appendChild(docLink);\n",
              "        }\n",
              "      </script>\n",
              "    </div>\n",
              "  </div>\n",
              "  "
            ]
          },
          "metadata": {},
          "execution_count": 40
        }
      ]
    },
    {
      "cell_type": "code",
      "source": [
        "# 문장 개수 확인\n",
        "print(train2_sent1['nsent'].value_counts())\n",
        "print('-'*30)\n",
        "print(train2_sent2['nsent'].value_counts())\n",
        "print('-'*30)\n",
        "print(validation2_sent1['nsent'].value_counts())\n",
        "print('-'*30)\n",
        "print(validation2_sent2['nsent'].value_counts())"
      ],
      "metadata": {
        "colab": {
          "base_uri": "https://localhost:8080/"
        },
        "id": "vF4mBs3etIgc",
        "outputId": "dfc1c834-cd56-4404-e5a1-018fc6816d71"
      },
      "execution_count": 41,
      "outputs": [
        {
          "output_type": "stream",
          "name": "stdout",
          "text": [
            "1    28421\n",
            "2    10033\n",
            "3      239\n",
            "4       20\n",
            "Name: nsent, dtype: int64\n",
            "------------------------------\n",
            "1    24254\n",
            "2    13612\n",
            "3      779\n",
            "4       58\n",
            "5        9\n",
            "6        1\n",
            "Name: nsent, dtype: int64\n",
            "------------------------------\n",
            "1    3810\n",
            "2    1238\n",
            "3      45\n",
            "4       2\n",
            "Name: nsent, dtype: int64\n",
            "------------------------------\n",
            "1    3250\n",
            "2    1724\n",
            "3     116\n",
            "4       5\n",
            "Name: nsent, dtype: int64\n"
          ]
        }
      ]
    },
    {
      "cell_type": "code",
      "source": [
        "# 문장 개수가 2개 이하인 것들만 새로운 변수에 저장\n",
        "\n",
        "train3_sent1 = train2_sent1.loc[train2_sent1['nsent']<=2]\n",
        "train3_sent2 = train2_sent2.loc[train2_sent2['nsent']<=2]\n",
        "validation3_sent1 = validation2_sent1.loc[validation2_sent1['nsent']<=2]\n",
        "validation3_sent2 = validation2_sent2.loc[validation2_sent2['nsent']<=2]\n",
        "train3_sent1.info()"
      ],
      "metadata": {
        "colab": {
          "base_uri": "https://localhost:8080/"
        },
        "id": "_bhc9o3dtNK2",
        "outputId": "be31fe68-fe29-446c-90b9-8a01b1fd757e"
      },
      "execution_count": 42,
      "outputs": [
        {
          "output_type": "stream",
          "name": "stdout",
          "text": [
            "<class 'pandas.core.frame.DataFrame'>\n",
            "Int64Index: 38454 entries, 0 to 38712\n",
            "Data columns (total 3 columns):\n",
            " #   Column  Non-Null Count  Dtype \n",
            "---  ------  --------------  ----- \n",
            " 0   사람문장1   38454 non-null  object\n",
            " 1   label   38454 non-null  int64 \n",
            " 2   nsent   38454 non-null  int64 \n",
            "dtypes: int64(2), object(1)\n",
            "memory usage: 1.2+ MB\n"
          ]
        }
      ]
    },
    {
      "cell_type": "code",
      "source": [
        "# 사람문장이라는 열 이름을 document로 변경\n",
        "train3_sent1.columns = ['document', 'label', 'nsent']\n",
        "train3_sent2.columns = ['document', 'label', 'nsent']\n",
        "validation3_sent1.columns = ['document', 'label', 'nsent']\n",
        "validation3_sent2.columns = ['document', 'label', 'nsent']"
      ],
      "metadata": {
        "id": "dQrqfE_Qtc5R"
      },
      "execution_count": 43,
      "outputs": []
    },
    {
      "cell_type": "code",
      "source": [
        "train3_1 = train3_sent1.reset_index()\n",
        "train3_2 = train3_sent2.reset_index()\n",
        "validation3_1 = validation3_sent1.reset_index()\n",
        "validation3_2 = validation3_sent2.reset_index()"
      ],
      "metadata": {
        "id": "JAkgKvCRveE0"
      },
      "execution_count": 44,
      "outputs": []
    },
    {
      "cell_type": "code",
      "source": [
        "train3_1.tail() #index가 찍히는 모습. 다시 document랑 label만 가져와야 할 것 같다.\n",
        "                  #어차피 trans_df를 거치면 document와 label만 있을 것."
      ],
      "metadata": {
        "colab": {
          "base_uri": "https://localhost:8080/",
          "height": 206
        },
        "id": "pwKSMVNqvisx",
        "outputId": "e7fd8da8-789b-4c6c-d4fe-5d1a5c77c9a4"
      },
      "execution_count": 45,
      "outputs": [
        {
          "output_type": "execute_result",
          "data": {
            "text/plain": [
              "       index                                   document  label  nsent\n",
              "38449  38708    최 영감이 노인들에게 나를 이상한 사람으로 이야기해서 답답하고 억울해.      0      1\n",
              "38450  38709          지난주에 건강검진 결과가 나왔는데 정상이라고 결과가 나왔어.      1      1\n",
              "38451  38710  엄마는 내 꿈인 작가를 응원해 주고는 했는데 지금은 안 그래. 너무 슬퍼.      0      2\n",
              "38452  38711    이렇게 좋은 운동 시설에서 경로 우대로 운동할 수 있다니 참 행운이야.      1      1\n",
              "38453  38712        친구 관계가 너무 힘들어. 베푸는 만큼 돌아오지 않는 것 같아.      0      2"
            ],
            "text/html": [
              "\n",
              "  <div id=\"df-c77a8b2e-1466-4853-8310-acf57744bf2b\">\n",
              "    <div class=\"colab-df-container\">\n",
              "      <div>\n",
              "<style scoped>\n",
              "    .dataframe tbody tr th:only-of-type {\n",
              "        vertical-align: middle;\n",
              "    }\n",
              "\n",
              "    .dataframe tbody tr th {\n",
              "        vertical-align: top;\n",
              "    }\n",
              "\n",
              "    .dataframe thead th {\n",
              "        text-align: right;\n",
              "    }\n",
              "</style>\n",
              "<table border=\"1\" class=\"dataframe\">\n",
              "  <thead>\n",
              "    <tr style=\"text-align: right;\">\n",
              "      <th></th>\n",
              "      <th>index</th>\n",
              "      <th>document</th>\n",
              "      <th>label</th>\n",
              "      <th>nsent</th>\n",
              "    </tr>\n",
              "  </thead>\n",
              "  <tbody>\n",
              "    <tr>\n",
              "      <th>38449</th>\n",
              "      <td>38708</td>\n",
              "      <td>최 영감이 노인들에게 나를 이상한 사람으로 이야기해서 답답하고 억울해.</td>\n",
              "      <td>0</td>\n",
              "      <td>1</td>\n",
              "    </tr>\n",
              "    <tr>\n",
              "      <th>38450</th>\n",
              "      <td>38709</td>\n",
              "      <td>지난주에 건강검진 결과가 나왔는데 정상이라고 결과가 나왔어.</td>\n",
              "      <td>1</td>\n",
              "      <td>1</td>\n",
              "    </tr>\n",
              "    <tr>\n",
              "      <th>38451</th>\n",
              "      <td>38710</td>\n",
              "      <td>엄마는 내 꿈인 작가를 응원해 주고는 했는데 지금은 안 그래. 너무 슬퍼.</td>\n",
              "      <td>0</td>\n",
              "      <td>2</td>\n",
              "    </tr>\n",
              "    <tr>\n",
              "      <th>38452</th>\n",
              "      <td>38711</td>\n",
              "      <td>이렇게 좋은 운동 시설에서 경로 우대로 운동할 수 있다니 참 행운이야.</td>\n",
              "      <td>1</td>\n",
              "      <td>1</td>\n",
              "    </tr>\n",
              "    <tr>\n",
              "      <th>38453</th>\n",
              "      <td>38712</td>\n",
              "      <td>친구 관계가 너무 힘들어. 베푸는 만큼 돌아오지 않는 것 같아.</td>\n",
              "      <td>0</td>\n",
              "      <td>2</td>\n",
              "    </tr>\n",
              "  </tbody>\n",
              "</table>\n",
              "</div>\n",
              "      <button class=\"colab-df-convert\" onclick=\"convertToInteractive('df-c77a8b2e-1466-4853-8310-acf57744bf2b')\"\n",
              "              title=\"Convert this dataframe to an interactive table.\"\n",
              "              style=\"display:none;\">\n",
              "        \n",
              "  <svg xmlns=\"http://www.w3.org/2000/svg\" height=\"24px\"viewBox=\"0 0 24 24\"\n",
              "       width=\"24px\">\n",
              "    <path d=\"M0 0h24v24H0V0z\" fill=\"none\"/>\n",
              "    <path d=\"M18.56 5.44l.94 2.06.94-2.06 2.06-.94-2.06-.94-.94-2.06-.94 2.06-2.06.94zm-11 1L8.5 8.5l.94-2.06 2.06-.94-2.06-.94L8.5 2.5l-.94 2.06-2.06.94zm10 10l.94 2.06.94-2.06 2.06-.94-2.06-.94-.94-2.06-.94 2.06-2.06.94z\"/><path d=\"M17.41 7.96l-1.37-1.37c-.4-.4-.92-.59-1.43-.59-.52 0-1.04.2-1.43.59L10.3 9.45l-7.72 7.72c-.78.78-.78 2.05 0 2.83L4 21.41c.39.39.9.59 1.41.59.51 0 1.02-.2 1.41-.59l7.78-7.78 2.81-2.81c.8-.78.8-2.07 0-2.86zM5.41 20L4 18.59l7.72-7.72 1.47 1.35L5.41 20z\"/>\n",
              "  </svg>\n",
              "      </button>\n",
              "      \n",
              "  <style>\n",
              "    .colab-df-container {\n",
              "      display:flex;\n",
              "      flex-wrap:wrap;\n",
              "      gap: 12px;\n",
              "    }\n",
              "\n",
              "    .colab-df-convert {\n",
              "      background-color: #E8F0FE;\n",
              "      border: none;\n",
              "      border-radius: 50%;\n",
              "      cursor: pointer;\n",
              "      display: none;\n",
              "      fill: #1967D2;\n",
              "      height: 32px;\n",
              "      padding: 0 0 0 0;\n",
              "      width: 32px;\n",
              "    }\n",
              "\n",
              "    .colab-df-convert:hover {\n",
              "      background-color: #E2EBFA;\n",
              "      box-shadow: 0px 1px 2px rgba(60, 64, 67, 0.3), 0px 1px 3px 1px rgba(60, 64, 67, 0.15);\n",
              "      fill: #174EA6;\n",
              "    }\n",
              "\n",
              "    [theme=dark] .colab-df-convert {\n",
              "      background-color: #3B4455;\n",
              "      fill: #D2E3FC;\n",
              "    }\n",
              "\n",
              "    [theme=dark] .colab-df-convert:hover {\n",
              "      background-color: #434B5C;\n",
              "      box-shadow: 0px 1px 3px 1px rgba(0, 0, 0, 0.15);\n",
              "      filter: drop-shadow(0px 1px 2px rgba(0, 0, 0, 0.3));\n",
              "      fill: #FFFFFF;\n",
              "    }\n",
              "  </style>\n",
              "\n",
              "      <script>\n",
              "        const buttonEl =\n",
              "          document.querySelector('#df-c77a8b2e-1466-4853-8310-acf57744bf2b button.colab-df-convert');\n",
              "        buttonEl.style.display =\n",
              "          google.colab.kernel.accessAllowed ? 'block' : 'none';\n",
              "\n",
              "        async function convertToInteractive(key) {\n",
              "          const element = document.querySelector('#df-c77a8b2e-1466-4853-8310-acf57744bf2b');\n",
              "          const dataTable =\n",
              "            await google.colab.kernel.invokeFunction('convertToInteractive',\n",
              "                                                     [key], {});\n",
              "          if (!dataTable) return;\n",
              "\n",
              "          const docLinkHtml = 'Like what you see? Visit the ' +\n",
              "            '<a target=\"_blank\" href=https://colab.research.google.com/notebooks/data_table.ipynb>data table notebook</a>'\n",
              "            + ' to learn more about interactive tables.';\n",
              "          element.innerHTML = '';\n",
              "          dataTable['output_type'] = 'display_data';\n",
              "          await google.colab.output.renderOutput(dataTable, element);\n",
              "          const docLink = document.createElement('div');\n",
              "          docLink.innerHTML = docLinkHtml;\n",
              "          element.appendChild(docLink);\n",
              "        }\n",
              "      </script>\n",
              "    </div>\n",
              "  </div>\n",
              "  "
            ]
          },
          "metadata": {},
          "execution_count": 45
        }
      ]
    },
    {
      "cell_type": "markdown",
      "source": [
        "##### 4.하나의 document로 묶인 2개의 문장들을 각각 다른 document로 분리\n",
        "- 분리할 때는 같은 라벨링을 사용한다."
      ],
      "metadata": {
        "id": "qMDsyiNftovG"
      }
    },
    {
      "cell_type": "code",
      "source": [
        "# 문장 2개를 각각 하나의 문장으로 분리해줄 함수 정의\n",
        "def trans_df(df):\n",
        "  temp = pd.DataFrame({'document':[], 'label':[]}) #빈 데이터 프레임\n",
        "  num = 0\n",
        "  for i in range(df.shape[0]): #인자로 받은 df의 행 개수만큼 반복한다\n",
        "    if(i%10000 == 0):\n",
        "      print(i,'번째') #번호 출력\n",
        "    for s in sent_tokenize(df['document'][i]): #df의 document열의 각 행을 sent_tokenize하여 문장 분리\n",
        "      temp.loc[num] = [s, df['label'][i]] #앞서 정의했던 빈 df의 num번째 행에 차례대로 document와 label을 추가 \n",
        "                                            #같은 i이기 때문에, 같은 라벨이 부여됨.\n",
        "      num = num+1 #다음 행번호\n",
        "  return temp"
      ],
      "metadata": {
        "id": "Ntq1FeY3tm70"
      },
      "execution_count": 46,
      "outputs": []
    },
    {
      "cell_type": "code",
      "source": [
        "#분리한 데이터를 train4, validation4에 저장\n",
        "train4_sent1 = trans_df(train3_1)\n",
        "train4_sent2 = trans_df(train3_2)\n",
        "validation4_sent1 = trans_df(validation3_1)\n",
        "validation4_setn2 = trans_df(validation3_2)"
      ],
      "metadata": {
        "colab": {
          "base_uri": "https://localhost:8080/"
        },
        "id": "v_WwBohLvE2i",
        "outputId": "3f42e716-1e23-4847-d663-75f49b699822"
      },
      "execution_count": 47,
      "outputs": [
        {
          "output_type": "stream",
          "name": "stdout",
          "text": [
            "0 번째\n",
            "10000 번째\n",
            "20000 번째\n",
            "30000 번째\n",
            "0 번째\n",
            "10000 번째\n",
            "20000 번째\n",
            "30000 번째\n",
            "0 번째\n",
            "0 번째\n"
          ]
        }
      ]
    },
    {
      "cell_type": "markdown",
      "source": [
        "##### 5. aihub데이터 합치기 & 문자 아닌것 제거"
      ],
      "metadata": {
        "id": "JQOOGEmTw_qp"
      }
    },
    {
      "cell_type": "code",
      "source": [
        "#데이터 합치기\n",
        "df_list = [train4_sent1, train4_sent2, validation4_sent1, validation4_setn2]\n",
        "train_df = pd.concat(df_list, ignore_index=True)\n",
        "train_df.info()"
      ],
      "metadata": {
        "colab": {
          "base_uri": "https://localhost:8080/"
        },
        "id": "HtCFrXUNwULf",
        "outputId": "3323d2a2-339e-41d9-f9aa-7436753c5a4d"
      },
      "execution_count": 48,
      "outputs": [
        {
          "output_type": "stream",
          "name": "stdout",
          "text": [
            "<class 'pandas.core.frame.DataFrame'>\n",
            "RangeIndex: 112949 entries, 0 to 112948\n",
            "Data columns (total 2 columns):\n",
            " #   Column    Non-Null Count   Dtype  \n",
            "---  ------    --------------   -----  \n",
            " 0   document  112949 non-null  object \n",
            " 1   label     112949 non-null  float64\n",
            "dtypes: float64(1), object(1)\n",
            "memory usage: 1.7+ MB\n"
          ]
        }
      ]
    },
    {
      "cell_type": "code",
      "source": [
        "#문자 아닌것 제거\n",
        "train_df['document'] = train_df['document'].str.replace(\"[^ㄱ-ㅎㅏ-ㅣ가-힣 ]\",\"\")"
      ],
      "metadata": {
        "colab": {
          "base_uri": "https://localhost:8080/"
        },
        "id": "RDO7G6J1xUrS",
        "outputId": "62a99c83-b87a-4e5d-ab09-01d477a46061"
      },
      "execution_count": 49,
      "outputs": [
        {
          "output_type": "stream",
          "name": "stderr",
          "text": [
            "/usr/local/lib/python3.7/dist-packages/ipykernel_launcher.py:2: FutureWarning: The default value of regex will change from True to False in a future version.\n",
            "  \n"
          ]
        }
      ]
    },
    {
      "cell_type": "code",
      "source": [
        "#중복 제거 \n",
        "train_df.drop_duplicates(subset=['document'], inplace=True, ignore_index=True)\n",
        "\n",
        "#결측치 제거\n",
        "train_df = train_df.dropna()"
      ],
      "metadata": {
        "id": "6LVQFkp-0q5X"
      },
      "execution_count": 50,
      "outputs": []
    },
    {
      "cell_type": "code",
      "source": [
        "train_df.columns"
      ],
      "metadata": {
        "colab": {
          "base_uri": "https://localhost:8080/"
        },
        "id": "__2p8kPZ1NDG",
        "outputId": "10d7e6af-c769-4fea-c2b0-0fa41a33b82e"
      },
      "execution_count": 51,
      "outputs": [
        {
          "output_type": "execute_result",
          "data": {
            "text/plain": [
              "Index(['document', 'label'], dtype='object')"
            ]
          },
          "metadata": {},
          "execution_count": 51
        }
      ]
    },
    {
      "cell_type": "code",
      "source": [
        "nsmc4 = nsmc3[['document', 'label']]"
      ],
      "metadata": {
        "id": "BSez-HSv1R_f"
      },
      "execution_count": 52,
      "outputs": []
    },
    {
      "cell_type": "markdown",
      "source": [
        "## Ai-hub데이터와 nsmc데이터 합치기\n",
        "- 파일로 저장하는 것까지 포함\n",
        "  - 파일 이름: train_data.xlsx"
      ],
      "metadata": {
        "id": "WQGb0tY-1FZf"
      }
    },
    {
      "cell_type": "code",
      "source": [
        "data = train_df.append(nsmc4, ignore_index= True)"
      ],
      "metadata": {
        "id": "fuXc4bsJ0-Lx"
      },
      "execution_count": 53,
      "outputs": []
    },
    {
      "cell_type": "code",
      "source": [
        "#중복 제거 \n",
        "data.drop_duplicates(subset=['document'], inplace=True, ignore_index=True)\n",
        "\n",
        "#결측치 제거\n",
        "data = data.dropna()"
      ],
      "metadata": {
        "id": "6s9x6-E91i4V"
      },
      "execution_count": 54,
      "outputs": []
    },
    {
      "cell_type": "code",
      "source": [
        "data.info()"
      ],
      "metadata": {
        "colab": {
          "base_uri": "https://localhost:8080/"
        },
        "id": "tsg6-7Nu1j7n",
        "outputId": "be7755c2-78bf-404b-a51a-6ebce9df5e5c"
      },
      "execution_count": 55,
      "outputs": [
        {
          "output_type": "stream",
          "name": "stdout",
          "text": [
            "<class 'pandas.core.frame.DataFrame'>\n",
            "Int64Index: 294669 entries, 0 to 294668\n",
            "Data columns (total 2 columns):\n",
            " #   Column    Non-Null Count   Dtype  \n",
            "---  ------    --------------   -----  \n",
            " 0   document  294669 non-null  object \n",
            " 1   label     294669 non-null  float64\n",
            "dtypes: float64(1), object(1)\n",
            "memory usage: 6.7+ MB\n"
          ]
        }
      ]
    },
    {
      "cell_type": "code",
      "source": [
        "data.to_excel('/content/drive/MyDrive/CUAI/train_data.xlsx')"
      ],
      "metadata": {
        "id": "O2X9q4cl1vgq"
      },
      "execution_count": 56,
      "outputs": []
    },
    {
      "cell_type": "code",
      "source": [
        "data"
      ],
      "metadata": {
        "colab": {
          "base_uri": "https://localhost:8080/",
          "height": 424
        },
        "id": "iVpRgdYUUIgn",
        "outputId": "4ec3feea-5db7-4e72-aec1-1b6ab1bcb395"
      },
      "execution_count": 61,
      "outputs": [
        {
          "output_type": "execute_result",
          "data": {
            "text/plain": [
              "                                      document  label\n",
              "0                     아내가 드디어 출산하게 되어서 정말 신이 나    1.0\n",
              "1       당뇨랑 합병증 때문에 먹어야 할 약이 열 가지가 넘어가니까 스트레스야    0.0\n",
              "2       고등학교에 올라오니 중학교 때보다 수업이 갑자기 어려워져서 당황스러워    0.0\n",
              "3         재취업이 돼서 받게 된 첫 월급으로 온 가족이 외식을 할 예정이야    1.0\n",
              "4                                       너무 행복해    1.0\n",
              "...                                        ...    ...\n",
              "294664                            개연성이 없어요 별루다    0.0\n",
              "294665                            포켓 몬스터 짜가 ㅡㅡ    0.0\n",
              "294666         완전 사이코영화 마지막은 더욱더 이 영화의질을 떨어트린다    0.0\n",
              "294667     왜난 재미없었지 ㅠㅠ 라따뚜이 보고나서 스머프 봐서 그런가 ㅋㅋ    0.0\n",
              "294668                         포풍저그가나가신다영차영차영차    0.0\n",
              "\n",
              "[294669 rows x 2 columns]"
            ],
            "text/html": [
              "\n",
              "  <div id=\"df-2f33c349-4478-4bb4-b0d9-43d31695ace4\">\n",
              "    <div class=\"colab-df-container\">\n",
              "      <div>\n",
              "<style scoped>\n",
              "    .dataframe tbody tr th:only-of-type {\n",
              "        vertical-align: middle;\n",
              "    }\n",
              "\n",
              "    .dataframe tbody tr th {\n",
              "        vertical-align: top;\n",
              "    }\n",
              "\n",
              "    .dataframe thead th {\n",
              "        text-align: right;\n",
              "    }\n",
              "</style>\n",
              "<table border=\"1\" class=\"dataframe\">\n",
              "  <thead>\n",
              "    <tr style=\"text-align: right;\">\n",
              "      <th></th>\n",
              "      <th>document</th>\n",
              "      <th>label</th>\n",
              "    </tr>\n",
              "  </thead>\n",
              "  <tbody>\n",
              "    <tr>\n",
              "      <th>0</th>\n",
              "      <td>아내가 드디어 출산하게 되어서 정말 신이 나</td>\n",
              "      <td>1.0</td>\n",
              "    </tr>\n",
              "    <tr>\n",
              "      <th>1</th>\n",
              "      <td>당뇨랑 합병증 때문에 먹어야 할 약이 열 가지가 넘어가니까 스트레스야</td>\n",
              "      <td>0.0</td>\n",
              "    </tr>\n",
              "    <tr>\n",
              "      <th>2</th>\n",
              "      <td>고등학교에 올라오니 중학교 때보다 수업이 갑자기 어려워져서 당황스러워</td>\n",
              "      <td>0.0</td>\n",
              "    </tr>\n",
              "    <tr>\n",
              "      <th>3</th>\n",
              "      <td>재취업이 돼서 받게 된 첫 월급으로 온 가족이 외식을 할 예정이야</td>\n",
              "      <td>1.0</td>\n",
              "    </tr>\n",
              "    <tr>\n",
              "      <th>4</th>\n",
              "      <td>너무 행복해</td>\n",
              "      <td>1.0</td>\n",
              "    </tr>\n",
              "    <tr>\n",
              "      <th>...</th>\n",
              "      <td>...</td>\n",
              "      <td>...</td>\n",
              "    </tr>\n",
              "    <tr>\n",
              "      <th>294664</th>\n",
              "      <td>개연성이 없어요 별루다</td>\n",
              "      <td>0.0</td>\n",
              "    </tr>\n",
              "    <tr>\n",
              "      <th>294665</th>\n",
              "      <td>포켓 몬스터 짜가 ㅡㅡ</td>\n",
              "      <td>0.0</td>\n",
              "    </tr>\n",
              "    <tr>\n",
              "      <th>294666</th>\n",
              "      <td>완전 사이코영화 마지막은 더욱더 이 영화의질을 떨어트린다</td>\n",
              "      <td>0.0</td>\n",
              "    </tr>\n",
              "    <tr>\n",
              "      <th>294667</th>\n",
              "      <td>왜난 재미없었지 ㅠㅠ 라따뚜이 보고나서 스머프 봐서 그런가 ㅋㅋ</td>\n",
              "      <td>0.0</td>\n",
              "    </tr>\n",
              "    <tr>\n",
              "      <th>294668</th>\n",
              "      <td>포풍저그가나가신다영차영차영차</td>\n",
              "      <td>0.0</td>\n",
              "    </tr>\n",
              "  </tbody>\n",
              "</table>\n",
              "<p>294669 rows × 2 columns</p>\n",
              "</div>\n",
              "      <button class=\"colab-df-convert\" onclick=\"convertToInteractive('df-2f33c349-4478-4bb4-b0d9-43d31695ace4')\"\n",
              "              title=\"Convert this dataframe to an interactive table.\"\n",
              "              style=\"display:none;\">\n",
              "        \n",
              "  <svg xmlns=\"http://www.w3.org/2000/svg\" height=\"24px\"viewBox=\"0 0 24 24\"\n",
              "       width=\"24px\">\n",
              "    <path d=\"M0 0h24v24H0V0z\" fill=\"none\"/>\n",
              "    <path d=\"M18.56 5.44l.94 2.06.94-2.06 2.06-.94-2.06-.94-.94-2.06-.94 2.06-2.06.94zm-11 1L8.5 8.5l.94-2.06 2.06-.94-2.06-.94L8.5 2.5l-.94 2.06-2.06.94zm10 10l.94 2.06.94-2.06 2.06-.94-2.06-.94-.94-2.06-.94 2.06-2.06.94z\"/><path d=\"M17.41 7.96l-1.37-1.37c-.4-.4-.92-.59-1.43-.59-.52 0-1.04.2-1.43.59L10.3 9.45l-7.72 7.72c-.78.78-.78 2.05 0 2.83L4 21.41c.39.39.9.59 1.41.59.51 0 1.02-.2 1.41-.59l7.78-7.78 2.81-2.81c.8-.78.8-2.07 0-2.86zM5.41 20L4 18.59l7.72-7.72 1.47 1.35L5.41 20z\"/>\n",
              "  </svg>\n",
              "      </button>\n",
              "      \n",
              "  <style>\n",
              "    .colab-df-container {\n",
              "      display:flex;\n",
              "      flex-wrap:wrap;\n",
              "      gap: 12px;\n",
              "    }\n",
              "\n",
              "    .colab-df-convert {\n",
              "      background-color: #E8F0FE;\n",
              "      border: none;\n",
              "      border-radius: 50%;\n",
              "      cursor: pointer;\n",
              "      display: none;\n",
              "      fill: #1967D2;\n",
              "      height: 32px;\n",
              "      padding: 0 0 0 0;\n",
              "      width: 32px;\n",
              "    }\n",
              "\n",
              "    .colab-df-convert:hover {\n",
              "      background-color: #E2EBFA;\n",
              "      box-shadow: 0px 1px 2px rgba(60, 64, 67, 0.3), 0px 1px 3px 1px rgba(60, 64, 67, 0.15);\n",
              "      fill: #174EA6;\n",
              "    }\n",
              "\n",
              "    [theme=dark] .colab-df-convert {\n",
              "      background-color: #3B4455;\n",
              "      fill: #D2E3FC;\n",
              "    }\n",
              "\n",
              "    [theme=dark] .colab-df-convert:hover {\n",
              "      background-color: #434B5C;\n",
              "      box-shadow: 0px 1px 3px 1px rgba(0, 0, 0, 0.15);\n",
              "      filter: drop-shadow(0px 1px 2px rgba(0, 0, 0, 0.3));\n",
              "      fill: #FFFFFF;\n",
              "    }\n",
              "  </style>\n",
              "\n",
              "      <script>\n",
              "        const buttonEl =\n",
              "          document.querySelector('#df-2f33c349-4478-4bb4-b0d9-43d31695ace4 button.colab-df-convert');\n",
              "        buttonEl.style.display =\n",
              "          google.colab.kernel.accessAllowed ? 'block' : 'none';\n",
              "\n",
              "        async function convertToInteractive(key) {\n",
              "          const element = document.querySelector('#df-2f33c349-4478-4bb4-b0d9-43d31695ace4');\n",
              "          const dataTable =\n",
              "            await google.colab.kernel.invokeFunction('convertToInteractive',\n",
              "                                                     [key], {});\n",
              "          if (!dataTable) return;\n",
              "\n",
              "          const docLinkHtml = 'Like what you see? Visit the ' +\n",
              "            '<a target=\"_blank\" href=https://colab.research.google.com/notebooks/data_table.ipynb>data table notebook</a>'\n",
              "            + ' to learn more about interactive tables.';\n",
              "          element.innerHTML = '';\n",
              "          dataTable['output_type'] = 'display_data';\n",
              "          await google.colab.output.renderOutput(dataTable, element);\n",
              "          const docLink = document.createElement('div');\n",
              "          docLink.innerHTML = docLinkHtml;\n",
              "          element.appendChild(docLink);\n",
              "        }\n",
              "      </script>\n",
              "    </div>\n",
              "  </div>\n",
              "  "
            ]
          },
          "metadata": {},
          "execution_count": 61
        }
      ]
    },
    {
      "cell_type": "markdown",
      "source": [
        "##### train, test 데이터 나누기"
      ],
      "metadata": {
        "id": "EEOjzJHkkU_L"
      }
    },
    {
      "cell_type": "code",
      "source": [
        "train_data, test_data = train_test_split(data, test_size=0.25, random_state=42, shuffle=True)"
      ],
      "metadata": {
        "id": "Hd1XZWZqkYDd"
      },
      "execution_count": 94,
      "outputs": []
    },
    {
      "cell_type": "code",
      "source": [
        "train_data['label'].value_counts()[0]/train_data.shape[0]"
      ],
      "metadata": {
        "colab": {
          "base_uri": "https://localhost:8080/"
        },
        "id": "rTJOzUzDkhPY",
        "outputId": "96d3562b-e75a-4ee1-bb06-167516fa459b"
      },
      "execution_count": 95,
      "outputs": [
        {
          "output_type": "execute_result",
          "data": {
            "text/plain": [
              "0.6196623544689843"
            ]
          },
          "metadata": {},
          "execution_count": 95
        }
      ]
    },
    {
      "cell_type": "code",
      "source": [
        "test_data['label'].value_counts()[0]/test_data.shape[0]"
      ],
      "metadata": {
        "colab": {
          "base_uri": "https://localhost:8080/"
        },
        "id": "eC9q5XJ3ki8u",
        "outputId": "0ccd631e-4b44-4f95-c89b-7e0c51f86305"
      },
      "execution_count": 96,
      "outputs": [
        {
          "output_type": "execute_result",
          "data": {
            "text/plain": [
              "0.619672042134984"
            ]
          },
          "metadata": {},
          "execution_count": 96
        }
      ]
    },
    {
      "cell_type": "code",
      "source": [
        "print(train_data.isnull().sum(axis = 0), test_data.isnull().sum(axis=0))"
      ],
      "metadata": {
        "colab": {
          "base_uri": "https://localhost:8080/"
        },
        "id": "dI69y92pk4me",
        "outputId": "94a7787f-5064-41c6-b4f5-d3761ec64f80"
      },
      "execution_count": 98,
      "outputs": [
        {
          "output_type": "stream",
          "name": "stdout",
          "text": [
            "document    0\n",
            "label       0\n",
            "dtype: int64 document    0\n",
            "label       0\n",
            "dtype: int64\n"
          ]
        }
      ]
    },
    {
      "cell_type": "markdown",
      "source": [
        "# 3. 토큰화"
      ],
      "metadata": {
        "id": "OO76XxPP2bQh"
      }
    },
    {
      "cell_type": "code",
      "source": [
        "#레이블을 Y_train, Y_test에 저장\n",
        "Y_train = np.array(train_data['label'])\n",
        "Y_test = np.array(test_data['label'])"
      ],
      "metadata": {
        "id": "Ys1hoiUiwKGl"
      },
      "execution_count": 120,
      "outputs": []
    },
    {
      "cell_type": "code",
      "source": [
        "#불용어 정의\n",
        "stopwords = ['어', '나', '저희', '을', '를', '에', '의', '가', '으로', '로', '에게', '다', '이', '로써', '등', '등등', '여', '조금', '좀','몇',\n",
        "             '하다', '들', '은', '이야', '게', '도', '것', '이야', '는', '내', '에서', '하고', '고', '요즘', '랑']\n",
        "\n",
        "#okt 형태소 분석\n",
        "#def okt_tokens(text):\n",
        "#  okt = Okt()\n",
        "#  aihub_train_x = []\n",
        "#  for i in range(0, len(text)):\n",
        "#    tokenized_sent = okt.morphs(text[i], stem=True)\n",
        "#    stopwords_removed_sent = [word for word in tokenized_sent if not word in stopwords]\n",
        "#    aihub_train_x.append(stopwords_removed_sent)\n",
        "    \n",
        "#  return aihub_train_x\n",
        "\n",
        "#꼬꼬마 형태소 분석\n",
        "#def kkm_tokens(text):\n",
        "#  kkma = Kkma()\n",
        "#  aihub_train_x = []\n",
        "#  for i in range(0, len(text)):\n",
        "#    tokenized_sent =kkma.morphs(text[i])\n",
        "#    stopwords_removed_sent = [word for word in tokenized_sent if not word in stopwords]\n",
        "#    aihub_train_x.append(stopwords_removed_sent)\n",
        "\n",
        "#  return aihub_train_x\n",
        "\n",
        "#코모란 형태소 분석\n",
        "#def komoran_tokens():\n",
        "#  komoran = Komoran()\n",
        "#  aihub_train_x = []\n",
        "#  for i in range(0, len(text)):\n",
        "#    tokenized_sent = komoran.morphs(text[i])\n",
        "##    stopwords_removed_sent = [word for word in tokenized_sent if not word in stopwords]\n",
        "#   aihub_train_x.append(stopwords_removed_sent)\n",
        "\n",
        "okt = Okt()\n",
        "X_train = []\n",
        "for sentence in tqdm(train_data['document']):\n",
        "    tokenized_sentence = okt.morphs(sentence, stem=True) # 토큰화\n",
        "    stopwords_removed_sentence = [word for word in tokenized_sentence if not word in stopwords] # 불용어 제거\n",
        "    X_train.append(stopwords_removed_sentence)"
      ],
      "metadata": {
        "colab": {
          "base_uri": "https://localhost:8080/"
        },
        "id": "ZqZFO6S82rBn",
        "outputId": "87c144e8-dff8-490b-aa18-6850a3451ad5"
      },
      "execution_count": 128,
      "outputs": [
        {
          "output_type": "stream",
          "name": "stderr",
          "text": [
            "100%|██████████| 221001/221001 [20:01<00:00, 183.93it/s]\n"
          ]
        }
      ]
    },
    {
      "cell_type": "code",
      "source": [
        "okt = Okt()\n",
        "X_test = []\n",
        "for sentence in tqdm(test_data['document']):\n",
        "    tokenized_sentence = okt.morphs(sentence, stem=True) # 토큰화\n",
        "    stopwords_removed_sentence = [word for word in tokenized_sentence if not word in stopwords] # 불용어 제거\n",
        "    X_test.append(stopwords_removed_sentence)"
      ],
      "metadata": {
        "colab": {
          "base_uri": "https://localhost:8080/"
        },
        "id": "N4XCjpGIlzA5",
        "outputId": "78bd0b8b-79ad-4011-e9bc-7937b611915f"
      },
      "execution_count": 129,
      "outputs": [
        {
          "output_type": "stream",
          "name": "stderr",
          "text": [
            "100%|██████████| 73668/73668 [07:37<00:00, 160.88it/s]\n"
          ]
        }
      ]
    },
    {
      "cell_type": "markdown",
      "source": [
        "###### 파일로 저장해놓기"
      ],
      "metadata": {
        "id": "TrvcKHM7sYKe"
      }
    },
    {
      "cell_type": "code",
      "source": [
        "#토큰화 된 X_test를 파일로 저장(파일 이름: X_test)\n",
        "X_test = np.array(X_test)\n",
        "np.save('/content/drive/MyDrive/CUAI/X_test.npy', X_test)"
      ],
      "metadata": {
        "colab": {
          "base_uri": "https://localhost:8080/"
        },
        "id": "qb5arsQIsaF2",
        "outputId": "f283a5a8-c20b-4b8a-f9cd-9138afe3e009"
      },
      "execution_count": 130,
      "outputs": [
        {
          "output_type": "stream",
          "name": "stderr",
          "text": [
            "/usr/local/lib/python3.7/dist-packages/ipykernel_launcher.py:2: VisibleDeprecationWarning: Creating an ndarray from ragged nested sequences (which is a list-or-tuple of lists-or-tuples-or ndarrays with different lengths or shapes) is deprecated. If you meant to do this, you must specify 'dtype=object' when creating the ndarray.\n",
            "  \n"
          ]
        }
      ]
    },
    {
      "cell_type": "code",
      "source": [
        "X_test"
      ],
      "metadata": {
        "colab": {
          "base_uri": "https://localhost:8080/"
        },
        "id": "z8yodQFFF_Nv",
        "outputId": "291837d6-d4f4-41ba-ea76-e927207283ae"
      },
      "execution_count": 131,
      "outputs": [
        {
          "output_type": "execute_result",
          "data": {
            "text/plain": [
              "array([list(['네', '엄마', '때문', '우리', '부모님', '죽다', '네', '엄마', '때문', '이라고', '사랑', '뭔', '개', '소리', '냐', '확', '죽이다', '부르다']),\n",
              "       list(['저', '나이', '같다', '영화', 'ㅋ']),\n",
              "       list(['내용', '진짜', '지루함', '재미없다']), ...,\n",
              "       list(['정말', '재미', '없다', '유치원', '생', '이나', '초등학생', '보다', '좋다', '도움', '되다', '같다']),\n",
              "       list(['아이러니', '한', '상황', '황', '망하다', '도출', '점']),\n",
              "       list(['가족', '과', '대화', '않다'])], dtype=object)"
            ]
          },
          "metadata": {},
          "execution_count": 131
        }
      ]
    },
    {
      "cell_type": "code",
      "source": [
        "#토큰화 된 X_train를 파일로 저장(파일이름: X_train)\n",
        "X_train = np.array(X_train)\n",
        "np.save('/content/drive/MyDrive/CUAI/X_train.npy', X_train)"
      ],
      "metadata": {
        "colab": {
          "base_uri": "https://localhost:8080/"
        },
        "id": "tZd0nakIt_y2",
        "outputId": "f5076f0b-b399-4d66-f7d4-78967ddb1a13"
      },
      "execution_count": 132,
      "outputs": [
        {
          "output_type": "stream",
          "name": "stderr",
          "text": [
            "/usr/local/lib/python3.7/dist-packages/ipykernel_launcher.py:2: VisibleDeprecationWarning: Creating an ndarray from ragged nested sequences (which is a list-or-tuple of lists-or-tuples-or ndarrays with different lengths or shapes) is deprecated. If you meant to do this, you must specify 'dtype=object' when creating the ndarray.\n",
            "  \n"
          ]
        }
      ]
    },
    {
      "cell_type": "code",
      "source": [
        "X_train"
      ],
      "metadata": {
        "colab": {
          "base_uri": "https://localhost:8080/"
        },
        "id": "eeeCU0YWGDTL",
        "outputId": "5afe3b23-1b25-48ac-98ce-6ef88a407c28"
      },
      "execution_count": 133,
      "outputs": [
        {
          "output_type": "execute_result",
          "data": {
            "text/plain": [
              "array([list(['의사', '선생님', '당장', '금연', '과', '금주', '않다', '암', '걸리다']),\n",
              "       list(['세번', '째다', '빼다', '별로', '이다', '세번', '쨰', '그나마', '재미', '있다']),\n",
              "       list(['직장', '계속', '따돌림', '당하다', '있다']), ...,\n",
              "       list(['최고', '최고', '사랑', '싶다']),\n",
              "       list(['무스', '졸멋', '걍', '졸멋', '개', '소름']),\n",
              "       list(['전우치', '보다', '맛', '일주일', '살', '있다', 'ㅋㅋ', '말', '뭐'])],\n",
              "      dtype=object)"
            ]
          },
          "metadata": {},
          "execution_count": 133
        }
      ]
    },
    {
      "cell_type": "code",
      "source": [
        "Y_train = np.array(Y_train)\n",
        "np.save('/content/drive/MyDrive/CUAI/Y_train.npy', Y_train)"
      ],
      "metadata": {
        "id": "xi3uHKPWv3TE"
      },
      "execution_count": 134,
      "outputs": []
    },
    {
      "cell_type": "code",
      "source": [
        "Y_test = np.array(Y_test)\n",
        "np.save('/content/drive/MyDrive/CUAI/Y_test.npy', Y_test)"
      ],
      "metadata": {
        "id": "JlFM7GRIwQ7u"
      },
      "execution_count": 135,
      "outputs": []
    },
    {
      "cell_type": "markdown",
      "source": [
        "#### 단어집합 생성 및 크기 확인"
      ],
      "metadata": {
        "id": "6E1l81vN25Zg"
      }
    },
    {
      "cell_type": "code",
      "source": [
        "tokenizer = Tokenizer()\n",
        "tokenizer.fit_on_texts(X_train)"
      ],
      "metadata": {
        "id": "YPAqMqtP20f9"
      },
      "execution_count": 136,
      "outputs": []
    },
    {
      "cell_type": "code",
      "source": [
        "#단어 집합 크기 확인\n",
        "len(tokenizer.word_index)"
      ],
      "metadata": {
        "colab": {
          "base_uri": "https://localhost:8080/"
        },
        "id": "R7H9s6zL273J",
        "outputId": "6ecce206-5972-42d0-f302-1a6b33388f52"
      },
      "execution_count": 137,
      "outputs": [
        {
          "output_type": "execute_result",
          "data": {
            "text/plain": [
              "45922"
            ]
          },
          "metadata": {},
          "execution_count": 137
        }
      ]
    },
    {
      "cell_type": "markdown",
      "source": [
        "##### 단어의 등장 빈도를 고려하여 vocab size 설정"
      ],
      "metadata": {
        "id": "l-FFsm_X23vX"
      }
    },
    {
      "cell_type": "code",
      "source": [
        "threshold = 3\n",
        "total_cnt = len(tokenizer.word_index) # 단어의 수\n",
        "rare_cnt = 0 # 등장 빈도수가 threshold보다 작은 단어의 개수를 카운트\n",
        "total_freq = 0 # 훈련 데이터의 전체 단어 빈도수 총 합\n",
        "rare_freq = 0 # 등장 빈도수가 threshold보다 작은 단어의 등장 빈도수의 총 합\n",
        "\n",
        "# 단어와 빈도수의 쌍(pair)을 key와 value로 받는다.\n",
        "for key, value in tokenizer.word_counts.items():\n",
        "    total_freq = total_freq + value\n",
        "\n",
        "    # 단어의 등장 빈도수가 threshold보다 작으면\n",
        "    if(value < threshold):\n",
        "        rare_cnt = rare_cnt + 1\n",
        "        rare_freq = rare_freq + value\n",
        "\n",
        "print('단어 집합(vocabulary)의 크기 :',total_cnt)\n",
        "print('등장 빈도가 %s번 이하인 희귀 단어의 수: %s'%(threshold - 1, rare_cnt))\n",
        "print(\"단어 집합에서 희귀 단어의 비율:\", (rare_cnt / total_cnt)*100)\n",
        "print(\"전체 등장 빈도에서 희귀 단어 등장 빈도 비율:\", (rare_freq / total_freq)*100)"
      ],
      "metadata": {
        "colab": {
          "base_uri": "https://localhost:8080/"
        },
        "id": "GtEZadXL3D97",
        "outputId": "f0f2d271-a75e-465b-a904-afcba7904d8d"
      },
      "execution_count": 138,
      "outputs": [
        {
          "output_type": "stream",
          "name": "stdout",
          "text": [
            "단어 집합(vocabulary)의 크기 : 45922\n",
            "등장 빈도가 2번 이하인 희귀 단어의 수: 24467\n",
            "단어 집합에서 희귀 단어의 비율: 53.27947389051\n",
            "전체 등장 빈도에서 희귀 단어 등장 빈도 비율: 1.4196493445399678\n"
          ]
        }
      ]
    },
    {
      "cell_type": "code",
      "source": [
        "vocab_size = 21375"
      ],
      "metadata": {
        "id": "hyaGAlPG3KOc"
      },
      "execution_count": 106,
      "outputs": []
    },
    {
      "cell_type": "markdown",
      "source": [
        "##### 정수 인코딩"
      ],
      "metadata": {
        "id": "5nGIRu8l3KmZ"
      }
    },
    {
      "cell_type": "code",
      "source": [
        "X_train = np.load(path + 'X_train.npy', allow_pickle=True)\n",
        "X_test = np.load(path + 'X_test.npy', allow_pickle=True)\n",
        "Y_train = np.load(path + 'Y_train.npy', allow_pickle=True)\n",
        "Y_test = np.load(path + 'Y_test.npy', allow_pickle=True)"
      ],
      "metadata": {
        "id": "fzkzgthFIvxY"
      },
      "execution_count": 205,
      "outputs": []
    },
    {
      "cell_type": "code",
      "source": [
        "X_train.shape"
      ],
      "metadata": {
        "colab": {
          "base_uri": "https://localhost:8080/"
        },
        "id": "KapJpf4mJCqp",
        "outputId": "be69118c-9f76-44db-83d0-e95715eaba84"
      },
      "execution_count": 206,
      "outputs": [
        {
          "output_type": "execute_result",
          "data": {
            "text/plain": [
              "(221001,)"
            ]
          },
          "metadata": {},
          "execution_count": 206
        }
      ]
    },
    {
      "cell_type": "code",
      "source": [
        "Y_train.shape"
      ],
      "metadata": {
        "colab": {
          "base_uri": "https://localhost:8080/"
        },
        "id": "Yov7p6YlJ05f",
        "outputId": "788343cc-eeb4-482c-e425-c9da80a6a5b0"
      },
      "execution_count": 207,
      "outputs": [
        {
          "output_type": "execute_result",
          "data": {
            "text/plain": [
              "(221001,)"
            ]
          },
          "metadata": {},
          "execution_count": 207
        }
      ]
    },
    {
      "cell_type": "code",
      "source": [
        "X_test.shape"
      ],
      "metadata": {
        "colab": {
          "base_uri": "https://localhost:8080/"
        },
        "id": "Z9ftXh81JF5k",
        "outputId": "07a5caf8-ddf0-434d-de09-6467c327f8e7"
      },
      "execution_count": 208,
      "outputs": [
        {
          "output_type": "execute_result",
          "data": {
            "text/plain": [
              "(73668,)"
            ]
          },
          "metadata": {},
          "execution_count": 208
        }
      ]
    },
    {
      "cell_type": "code",
      "source": [
        "Y_test.shape"
      ],
      "metadata": {
        "colab": {
          "base_uri": "https://localhost:8080/"
        },
        "id": "0PePOmHcJ3E2",
        "outputId": "2618be02-9eeb-4099-84ec-339cb597a14c"
      },
      "execution_count": 209,
      "outputs": [
        {
          "output_type": "execute_result",
          "data": {
            "text/plain": [
              "(73668,)"
            ]
          },
          "metadata": {},
          "execution_count": 209
        }
      ]
    },
    {
      "cell_type": "code",
      "source": [
        "tokenizer = Tokenizer(vocab_size)  #vocab size 정의\n",
        "tokenizer.fit_on_texts(X_train)\n",
        "\n",
        "#X_train 정수인코딩 진행\n",
        "X_train = tokenizer.texts_to_sequences(X_train)\n"
      ],
      "metadata": {
        "id": "nzGeMKzU3M3d"
      },
      "execution_count": 210,
      "outputs": []
    },
    {
      "cell_type": "code",
      "source": [
        "#결과 확인\n",
        "X_train[:3]"
      ],
      "metadata": {
        "colab": {
          "base_uri": "https://localhost:8080/"
        },
        "id": "6zMbA_httfpb",
        "outputId": "b2e36754-1a34-46dc-9aad-9ee043b455d3"
      },
      "execution_count": 211,
      "outputs": [
        {
          "output_type": "execute_result",
          "data": {
            "text/plain": [
              "[[790, 435, 1295, 4097, 24, 10607, 10, 557, 396],\n",
              " [2232, 2603, 411, 148, 8, 2232, 762, 75, 3],\n",
              " [249, 159, 759, 229, 3]]"
            ]
          },
          "metadata": {},
          "execution_count": 211
        }
      ]
    },
    {
      "cell_type": "code",
      "source": [
        "#X_test 정수인코딩 진행\n",
        "X_test = tokenizer.texts_to_sequences(X_test)"
      ],
      "metadata": {
        "id": "0UQUQL0otdlQ"
      },
      "execution_count": 212,
      "outputs": []
    },
    {
      "cell_type": "code",
      "source": [
        "#결과 확인\n",
        "X_test[2]"
      ],
      "metadata": {
        "colab": {
          "base_uri": "https://localhost:8080/"
        },
        "id": "a8-z5ItMvnHk",
        "outputId": "176feae2-077a-4dbe-f552-1fa86ad92358"
      },
      "execution_count": 213,
      "outputs": [
        {
          "output_type": "execute_result",
          "data": {
            "text/plain": [
              "[74, 21, 622, 85]"
            ]
          },
          "metadata": {},
          "execution_count": 213
        }
      ]
    },
    {
      "cell_type": "code",
      "source": [
        "#모두 넘파이 배열로 바꿔준다.\n",
        "X_train = np.array(X_train)\n",
        "Y_train = np.array(Y_train)\n",
        "X_test = np.array(X_test)\n",
        "Y_test = np.array(Y_test)"
      ],
      "metadata": {
        "colab": {
          "base_uri": "https://localhost:8080/"
        },
        "id": "ypajVWlTGls1",
        "outputId": "7e724efc-8b0f-47ff-b305-c80f4ec37a86"
      },
      "execution_count": 214,
      "outputs": [
        {
          "output_type": "stream",
          "name": "stderr",
          "text": [
            "/usr/local/lib/python3.7/dist-packages/ipykernel_launcher.py:2: VisibleDeprecationWarning: Creating an ndarray from ragged nested sequences (which is a list-or-tuple of lists-or-tuples-or ndarrays with different lengths or shapes) is deprecated. If you meant to do this, you must specify 'dtype=object' when creating the ndarray.\n",
            "  \n",
            "/usr/local/lib/python3.7/dist-packages/ipykernel_launcher.py:4: VisibleDeprecationWarning: Creating an ndarray from ragged nested sequences (which is a list-or-tuple of lists-or-tuples-or ndarrays with different lengths or shapes) is deprecated. If you meant to do this, you must specify 'dtype=object' when creating the ndarray.\n",
            "  after removing the cwd from sys.path.\n"
          ]
        }
      ]
    },
    {
      "cell_type": "code",
      "source": [
        "#X_train결측치 확인\n",
        "drop_train = [index for index, sentence in enumerate(X_train) if len(sentence) < 1] \n"
      ],
      "metadata": {
        "id": "-ZF-7zOD3r9P"
      },
      "execution_count": 215,
      "outputs": []
    },
    {
      "cell_type": "code",
      "source": [
        "len(drop_train) #결측치 254개 확인"
      ],
      "metadata": {
        "colab": {
          "base_uri": "https://localhost:8080/"
        },
        "id": "A2C5eAO0Z8hw",
        "outputId": "9be96639-c4f0-418b-a9f5-2563e80193b9"
      },
      "execution_count": 216,
      "outputs": [
        {
          "output_type": "execute_result",
          "data": {
            "text/plain": [
              "254"
            ]
          },
          "metadata": {},
          "execution_count": 216
        }
      ]
    },
    {
      "cell_type": "code",
      "source": [
        "#결측치 지우기 전\n",
        "X_train.shape[0]"
      ],
      "metadata": {
        "colab": {
          "base_uri": "https://localhost:8080/"
        },
        "id": "Ke4u7dF5IDTh",
        "outputId": "c4d9a402-3137-457c-ca35-ae05c0502e19"
      },
      "execution_count": 217,
      "outputs": [
        {
          "output_type": "execute_result",
          "data": {
            "text/plain": [
              "221001"
            ]
          },
          "metadata": {},
          "execution_count": 217
        }
      ]
    },
    {
      "cell_type": "code",
      "source": [
        "#Train데이터의 결측치 제거\n",
        "X_train = np.delete(X_train, drop_train, axis=0)\n",
        "Y_train = np.delete(Y_train, drop_train, axis=0)"
      ],
      "metadata": {
        "id": "XTaZzkWrij4G"
      },
      "execution_count": 218,
      "outputs": []
    },
    {
      "cell_type": "code",
      "source": [
        "#결측치 지우고난 후\n",
        "X_train.shape[0]"
      ],
      "metadata": {
        "colab": {
          "base_uri": "https://localhost:8080/"
        },
        "id": "wd6sFwh9H5cS",
        "outputId": "2e9aa446-5080-4d57-a669-f2210b7bfa2b"
      },
      "execution_count": 219,
      "outputs": [
        {
          "output_type": "execute_result",
          "data": {
            "text/plain": [
              "220747"
            ]
          },
          "metadata": {},
          "execution_count": 219
        }
      ]
    },
    {
      "cell_type": "code",
      "source": [
        "#X_test결측치 확인\n",
        "drop_test = [index for index, sentence in enumerate(X_test) if len(sentence) < 1] "
      ],
      "metadata": {
        "id": "U1kmLNgGHLw-"
      },
      "execution_count": 220,
      "outputs": []
    },
    {
      "cell_type": "code",
      "source": [
        "len(drop_test) #108개의 결측치 확인"
      ],
      "metadata": {
        "colab": {
          "base_uri": "https://localhost:8080/"
        },
        "id": "ElB24hX3He6e",
        "outputId": "cf98665c-256c-483e-dab1-799d0bd1c145"
      },
      "execution_count": 221,
      "outputs": [
        {
          "output_type": "execute_result",
          "data": {
            "text/plain": [
              "108"
            ]
          },
          "metadata": {},
          "execution_count": 221
        }
      ]
    },
    {
      "cell_type": "code",
      "source": [
        "#test 결측치 지우기 전\n",
        "X_test.shape[0]"
      ],
      "metadata": {
        "colab": {
          "base_uri": "https://localhost:8080/"
        },
        "id": "jknQhkoTIP7P",
        "outputId": "2e15c0db-e647-4516-de93-09417faa7742"
      },
      "execution_count": 222,
      "outputs": [
        {
          "output_type": "execute_result",
          "data": {
            "text/plain": [
              "73668"
            ]
          },
          "metadata": {},
          "execution_count": 222
        }
      ]
    },
    {
      "cell_type": "code",
      "source": [
        "#test데이터의 결측치 제거\n",
        "X_test = np.delete(X_test, drop_test, axis=0)\n",
        "Y_test = np.delete(Y_test, drop_test, axis=0)"
      ],
      "metadata": {
        "id": "Dy2ruOJxHkBq"
      },
      "execution_count": 223,
      "outputs": []
    },
    {
      "cell_type": "code",
      "source": [
        "#test 결측치 지우고 난 후\n",
        "X_test.shape[0]"
      ],
      "metadata": {
        "colab": {
          "base_uri": "https://localhost:8080/"
        },
        "id": "DJYHUgLDHu4D",
        "outputId": "1993cff9-7518-464d-984a-4f5cc0436986"
      },
      "execution_count": 224,
      "outputs": [
        {
          "output_type": "execute_result",
          "data": {
            "text/plain": [
              "73560"
            ]
          },
          "metadata": {},
          "execution_count": 224
        }
      ]
    },
    {
      "cell_type": "markdown",
      "source": [
        "#### 문장의 길이를 고려하여 패딩 사이즈 설정"
      ],
      "metadata": {
        "id": "5dL7fsWD3c52"
      }
    },
    {
      "cell_type": "code",
      "source": [
        "print('최대 길이 :',max(len(review) for review in X_train))\n",
        "print('평균 길이 :',sum(map(len, X_train))/len(X_train))\n",
        "plt.hist([len(review) for review in X_train], bins=50)\n",
        "plt.xlabel('length of samples')\n",
        "plt.ylabel('number of samples')\n",
        "plt.show()"
      ],
      "metadata": {
        "colab": {
          "base_uri": "https://localhost:8080/",
          "height": 316
        },
        "id": "pxVejAqs3f9N",
        "outputId": "30b3921a-9cf5-40f9-923b-055200198690"
      },
      "execution_count": 87,
      "outputs": [
        {
          "output_type": "stream",
          "name": "stdout",
          "text": [
            "최대 길이 : 68\n",
            "평균 길이 : 9.490146571237558\n"
          ]
        },
        {
          "output_type": "display_data",
          "data": {
            "text/plain": [
              "<Figure size 432x288 with 1 Axes>"
            ],
            "image/png": "[encoded data removed]"
          },
          "metadata": {
            "needs_background": "light"
          }
        }
      ]
    },
    {
      "cell_type": "code",
      "source": [
        "def below_threshold_len(max_len, nested_list):\n",
        "  count = 0\n",
        "  for sentence in nested_list:\n",
        "    if(len(sentence) <= max_len):\n",
        "        count = count + 1\n",
        "  print('전체 샘플 중 길이가 %s 이하인 샘플의 비율: %s'%(max_len, (count / len(nested_list))*100))"
      ],
      "metadata": {
        "id": "B9GU0WLC31zW"
      },
      "execution_count": 88,
      "outputs": []
    },
    {
      "cell_type": "code",
      "source": [
        "max_len = 30\n",
        "below_threshold_len(max_len, X_train)"
      ],
      "metadata": {
        "colab": {
          "base_uri": "https://localhost:8080/"
        },
        "id": "3mdYzrWx33Qz",
        "outputId": "09e245d7-be14-474a-9626-53093993c88c"
      },
      "execution_count": 89,
      "outputs": [
        {
          "output_type": "stream",
          "name": "stdout",
          "text": [
            "전체 샘플 중 길이가 30 이하인 샘플의 비율: 96.63554700358708\n"
          ]
        }
      ]
    },
    {
      "cell_type": "code",
      "source": [
        "#패딩 => 길이는 30\n",
        "X_train = pad_sequences(X_train, maxlen=max_len, padding='post')\n",
        "print(X_train)\n",
        "\n",
        "#파일로 저장\n",
        "np.save('/content/drive/MyDrive/CUAI/X_train_padding.npy', X_train)"
      ],
      "metadata": {
        "colab": {
          "base_uri": "https://localhost:8080/"
        },
        "id": "cF-9_vq735ME",
        "outputId": "9b5a08ea-063d-497d-a200-10dedcde4cd5"
      },
      "execution_count": 228,
      "outputs": [
        {
          "output_type": "stream",
          "name": "stdout",
          "text": [
            "[[  790   435  1295 ...     0     0     0]\n",
            " [ 2232  2603   411 ...     0     0     0]\n",
            " [  249   159   759 ...     0     0     0]\n",
            " ...\n",
            " [   42    42    91 ...     0     0     0]\n",
            " [ 9355 17646   555 ...     0     0     0]\n",
            " [10490     2   856 ...     0     0     0]]\n"
          ]
        }
      ]
    },
    {
      "cell_type": "code",
      "source": [
        "X_test = pad_sequences(X_test, maxlen =max_len, padding = 'post')\n",
        "print(X_test)\n",
        "\n",
        "#파일로 저장 \n",
        "np.save('/content/drive/MyDrive/CUAI/X_test_padding.npy', X_test)"
      ],
      "metadata": {
        "colab": {
          "base_uri": "https://localhost:8080/"
        },
        "id": "JDTvHZMOKhEt",
        "outputId": "aecc5e27-9ae7-42b7-888d-ef47b3c6e93e"
      },
      "execution_count": 229,
      "outputs": [
        {
          "output_type": "stream",
          "name": "stdout",
          "text": [
            "[[  77  180   72 ...    0    0    0]\n",
            " [ 108  182    6 ...    0    0    0]\n",
            " [  74   21  622 ...    0    0    0]\n",
            " ...\n",
            " [  12   75    4 ...    0    0    0]\n",
            " [4927   13  375 ...    0    0    0]\n",
            " [ 140   24  508 ...    0    0    0]]\n"
          ]
        }
      ]
    },
    {
      "cell_type": "code",
      "source": [
        ""
      ],
      "metadata": {
        "id": "2o0lPuqz7KRj"
      },
      "execution_count": null,
      "outputs": []
    },
    {
      "cell_type": "markdown",
      "source": [
        "# 4. 모델 정의 및 임베딩 레이어 구축"
      ],
      "metadata": {
        "id": "DEjVMnTW3-sy"
      }
    }
  ]
}