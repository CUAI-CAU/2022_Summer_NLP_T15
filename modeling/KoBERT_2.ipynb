{
  "nbformat": 4,
  "nbformat_minor": 0,
  "metadata": {
    "colab": {
      "name": "KoBERT_2",
      "provenance": [],
      "collapsed_sections": []
    },
    "kernelspec": {
      "name": "python3",
      "display_name": "Python 3"
    },
    "language_info": {
      "name": "python"
    },
    "gpuClass": "standard",
    "accelerator": "GPU"
  },
  "cells": [
    {
      "cell_type": "markdown",
      "source": [
        "## KoBERT 모델 불러와서 예측하기"
      ],
      "metadata": {
        "id": "esHj31NqtRYE"
      }
    },
    {
      "cell_type": "code",
      "source": [
        "from google.colab import drive\n",
        "drive.mount('/content/gdrive')"
      ],
      "metadata": {
        "colab": {
          "base_uri": "https://localhost:8080/"
        },
        "id": "8QzHPbEVqJ2Z",
        "outputId": "513ece08-25d2-4587-fde8-a78b70c1d533"
      },
      "execution_count": null,
      "outputs": [
        {
          "output_type": "stream",
          "name": "stdout",
          "text": [
            "Drive already mounted at /content/gdrive; to attempt to forcibly remount, call drive.mount(\"/content/gdrive\", force_remount=True).\n"
          ]
        }
      ]
    },
    {
      "cell_type": "code",
      "source": [
        "#KoBERT모델 불러오기\n",
        "!pip install 'git+https://github.com/SKTBrain/KoBERT.git#egg=kobert_tokenizer&subdirectory=kobert_hf'"
      ],
      "metadata": {
        "id": "AlhXyylFqaaS"
      },
      "execution_count": null,
      "outputs": []
    },
    {
      "cell_type": "code",
      "source": [
        "!pip install git+https://git@github.com/SKTBrain/KoBERT.git@master"
      ],
      "metadata": {
        "id": "Bcdl2Ko4qeid"
      },
      "execution_count": null,
      "outputs": []
    },
    {
      "cell_type": "code",
      "source": [
        "!pip install gluonnlp"
      ],
      "metadata": {
        "colab": {
          "base_uri": "https://localhost:8080/"
        },
        "id": "X5ckpFj_qWqg",
        "outputId": "eb00915e-8d68-4af6-f3fe-b39d9ceaae66"
      },
      "execution_count": null,
      "outputs": [
        {
          "output_type": "stream",
          "name": "stdout",
          "text": [
            "Looking in indexes: https://pypi.org/simple, https://us-python.pkg.dev/colab-wheels/public/simple/\n",
            "Requirement already satisfied: gluonnlp in /usr/local/lib/python3.7/dist-packages (0.10.0)\n",
            "Requirement already satisfied: packaging in /usr/local/lib/python3.7/dist-packages (from gluonnlp) (21.3)\n",
            "Requirement already satisfied: numpy>=1.16.0 in /usr/local/lib/python3.7/dist-packages (from gluonnlp) (1.21.6)\n",
            "Requirement already satisfied: cython in /usr/local/lib/python3.7/dist-packages (from gluonnlp) (0.29.32)\n",
            "Requirement already satisfied: pyparsing!=3.0.5,>=2.0.2 in /usr/local/lib/python3.7/dist-packages (from packaging->gluonnlp) (3.0.9)\n"
          ]
        }
      ]
    },
    {
      "cell_type": "code",
      "source": [
        "import torch\n",
        "import torch\n",
        "import pandas as pd\n",
        "from torch import nn\n",
        "import torch.nn.functional as F\n",
        "import torch.optim as optim\n",
        "from torch.utils.data import Dataset, DataLoader\n",
        "import gluonnlp as nlp\n",
        "import numpy as np\n",
        "from tqdm import tqdm, tqdm_notebook\n",
        "import tensorflow as tf"
      ],
      "metadata": {
        "id": "JbaCs1UQp-gh"
      },
      "execution_count": null,
      "outputs": []
    },
    {
      "cell_type": "code",
      "source": [
        "from kobert.utils import get_tokenizer\n",
        "from kobert.pytorch_kobert import get_pytorch_kobert_model\n",
        "\n",
        "from transformers import AdamW\n",
        "from transformers.optimization import get_cosine_schedule_with_warmup\n",
        "from transformers import BertModel"
      ],
      "metadata": {
        "id": "IaHCqV_2u2Zo"
      },
      "execution_count": null,
      "outputs": []
    },
    {
      "cell_type": "code",
      "source": [
        "class BERTDataset(Dataset):\n",
        "    def __init__(self, dataset, sent_idx, label_idx, bert_tokenizer,vocab, max_len,\n",
        "                 pad, pair):\n",
        "   \n",
        "        transform = nlp.data.BERTSentenceTransform(\n",
        "            bert_tokenizer, max_seq_length=max_len,vocab=vocab, pad=pad, pair=pair)\n",
        "        \n",
        "        self.sentences = [transform([i[sent_idx]]) for i in dataset]\n",
        "        self.labels = [np.int32(i[label_idx]) for i in dataset]\n",
        "\n",
        "    def __getitem__(self, i):\n",
        "        return (self.sentences[i] + (self.labels[i], ))\n",
        "\n",
        "\n",
        "    def __len__(self):\n",
        "        return (len(self.labels))"
      ],
      "metadata": {
        "id": "TKBIrq6Oq7r3"
      },
      "execution_count": null,
      "outputs": []
    },
    {
      "cell_type": "code",
      "source": [
        "class BERTClassifier(nn.Module):\n",
        "    def __init__(self,\n",
        "                 bert,\n",
        "                 hidden_size = 768,\n",
        "                 num_classes = 2, \n",
        "                 dr_rate=None,\n",
        "                 params=None):\n",
        "        super(BERTClassifier, self).__init__()\n",
        "        self.bert = bert\n",
        "        self.dr_rate = dr_rate\n",
        "                 \n",
        "        self.classifier = nn.Linear(hidden_size , num_classes)\n",
        "        if dr_rate:\n",
        "            self.dropout = nn.Dropout(p=dr_rate)\n",
        "    \n",
        "    def gen_attention_mask(self, token_ids, valid_length):\n",
        "        attention_mask = torch.zeros_like(token_ids)\n",
        "        for i, v in enumerate(valid_length):\n",
        "            attention_mask[i][:v] = 1\n",
        "        return attention_mask.float()\n",
        "\n",
        "    def forward(self, token_ids, valid_length, segment_ids):\n",
        "        attention_mask = self.gen_attention_mask(token_ids, valid_length)\n",
        "        \n",
        "        _, pooler = self.bert(input_ids = token_ids, token_type_ids = segment_ids.long(), attention_mask = attention_mask.float().to(token_ids.device))\n",
        "        if self.dr_rate:\n",
        "            out = self.dropout(pooler)\n",
        "        return self.classifier(out)"
      ],
      "metadata": {
        "id": "u7vWwS_Kr7kY"
      },
      "execution_count": null,
      "outputs": []
    },
    {
      "cell_type": "code",
      "source": [
        "#CPU사용시\n",
        "#device = torch.device(\"cpu:0\")\n",
        "\n",
        "#GPU 사용 시\n",
        "device = torch.device(\"cuda:0\")"
      ],
      "metadata": {
        "id": "pHK5oPZErqo_"
      },
      "execution_count": null,
      "outputs": []
    },
    {
      "cell_type": "code",
      "source": [
        "#모델 불러오기\n",
        "path = '/content/gdrive/MyDrive/CUAI/CUAI/하계 프로젝트/'\n",
        "model = torch.load(path + 'KoBERT_감정분석2.pt')  # 전체 모델을 통째로 불러옴, 클래스 선언 필수\n",
        "#GPU사용 불가일 경우, map_location=torch.device('cpu') 해줘야 함\n",
        "model.load_state_dict(torch.load(path + 'model_state_dict2.pt'))  # state_dict를 불러 온 후, 모델에 저장"
      ],
      "metadata": {
        "id": "UNPOqNwFtTpV",
        "colab": {
          "base_uri": "https://localhost:8080/"
        },
        "outputId": "fb99dea3-20d8-4fb6-e0bb-838b3f0fa8bd"
      },
      "execution_count": null,
      "outputs": [
        {
          "output_type": "execute_result",
          "data": {
            "text/plain": [
              "<All keys matched successfully>"
            ]
          },
          "metadata": {},
          "execution_count": 11
        }
      ]
    },
    {
      "cell_type": "code",
      "source": [
        "data = pd.read_excel('/content/gdrive/MyDrive/CUAI/CUAI/하계 프로젝트/final_data.xlsx', engine = 'openpyxl')"
      ],
      "metadata": {
        "id": "YgfyJAK92unZ"
      },
      "execution_count": null,
      "outputs": []
    },
    {
      "cell_type": "code",
      "source": [
        "from sklearn.model_selection import train_test_split\n",
        "train_data, test_data = train_test_split(data, random_state=42, shuffle = True, stratify = data['label'])"
      ],
      "metadata": {
        "id": "igFYzW2gpdVY"
      },
      "execution_count": null,
      "outputs": []
    },
    {
      "cell_type": "code",
      "source": [
        "train_data = train_data[['document', 'label']]\n",
        "test_data = test_data[['document', 'label']]"
      ],
      "metadata": {
        "id": "6YVJ8r2NpxQn"
      },
      "execution_count": null,
      "outputs": []
    },
    {
      "cell_type": "code",
      "source": [
        "#BERTDataset에 들어가는 데이터의 형식은 기존의 train_data, test_data와 다르다.\n",
        "  #리스트 안에 리스트가 있는 형식으로 들어가야 하는 것 같다.\n",
        "    #data = [['나 오늘 기분이 좋아', 1], ['오늘 날씨가 너무 안좋아서 꿀꿀하네', 0]] 이런 식으로\n",
        "    #따라서 기존의 train_data, test_data를 위의 형식으로 바꿔야 한다.\n",
        "train_data_list = []\n",
        "for sent, label in zip(train_data['document'], train_data['label']):\n",
        "  data = []\n",
        "  data.append(sent)\n",
        "  data.append(str(label))\n",
        "  train_data_list.append(data)"
      ],
      "metadata": {
        "id": "YbgRU1-cp7CI"
      },
      "execution_count": null,
      "outputs": []
    },
    {
      "cell_type": "code",
      "source": [
        "train_data_list[1]"
      ],
      "metadata": {
        "colab": {
          "base_uri": "https://localhost:8080/"
        },
        "id": "VXdA_qnVTkJX",
        "outputId": "f61cab52-cfc6-40b7-907d-68fe7b13bced"
      },
      "execution_count": null,
      "outputs": [
        {
          "output_type": "execute_result",
          "data": {
            "text/plain": [
              "['다시 보고 싶다 앙코르 해주면 좋겠다', '1']"
            ]
          },
          "metadata": {},
          "execution_count": 16
        }
      ]
    },
    {
      "cell_type": "code",
      "source": [
        "test_data_list = []\n",
        "for sent, label in zip(test_data['document'], test_data['label']):\n",
        "  data = []\n",
        "  data.append(sent)\n",
        "  data.append(str(label))\n",
        "  test_data_list.append(data)"
      ],
      "metadata": {
        "id": "aXE9dHmpwWaL"
      },
      "execution_count": null,
      "outputs": []
    },
    {
      "cell_type": "code",
      "source": [
        "test_data_list[1]"
      ],
      "metadata": {
        "colab": {
          "base_uri": "https://localhost:8080/"
        },
        "id": "d8OhLTlkTr2R",
        "outputId": "8eaa50a8-3ea4-4afe-b987-16fff7cc56c3"
      },
      "execution_count": null,
      "outputs": [
        {
          "output_type": "execute_result",
          "data": {
            "text/plain": [
              "['삼식이 짱 드래건도 짱', '1']"
            ]
          },
          "metadata": {},
          "execution_count": 18
        }
      ]
    },
    {
      "cell_type": "code",
      "source": [
        "bertmodel, vocab = get_pytorch_kobert_model(cachedir=\".cache\")"
      ],
      "metadata": {
        "colab": {
          "base_uri": "https://localhost:8080/"
        },
        "id": "4oAHuGjfuyyj",
        "outputId": "58a76a5e-0286-45c1-e8a4-3c237606bdfd"
      },
      "execution_count": null,
      "outputs": [
        {
          "output_type": "stream",
          "name": "stdout",
          "text": [
            "using cached model. /content/.cache/kobert_v1.zip\n",
            "using cached model. /content/.cache/kobert_news_wiki_ko_cased-1087f8699e.spiece\n"
          ]
        }
      ]
    },
    {
      "cell_type": "code",
      "source": [
        "tokenizer = get_tokenizer()\n",
        "tok = nlp.data.BERTSPTokenizer(tokenizer, vocab, lower=False)"
      ],
      "metadata": {
        "colab": {
          "base_uri": "https://localhost:8080/"
        },
        "id": "AhzqrEtxuyrf",
        "outputId": "7a24ed0d-c1af-4698-dbae-871d4865b9ee"
      },
      "execution_count": null,
      "outputs": [
        {
          "output_type": "stream",
          "name": "stdout",
          "text": [
            "using cached model. /content/.cache/kobert_news_wiki_ko_cased-1087f8699e.spiece\n"
          ]
        }
      ]
    },
    {
      "cell_type": "code",
      "source": [
        "max_len = 25\n",
        "batch_size = 64\n",
        "warmup_ratio = 0.1\n",
        "num_epochs = 15\n",
        "max_grad_norm = 1\n",
        "log_interval = 100\n",
        "learning_rate =  5e-5\n",
        "data_train = BERTDataset(train_data_list, 0, 1, tok, vocab, max_len, True, False)\n",
        "data_test = BERTDataset(test_data_list, 0, 1, tok, vocab, max_len, True, False)"
      ],
      "metadata": {
        "id": "J948HRw9IGGe"
      },
      "execution_count": null,
      "outputs": []
    },
    {
      "cell_type": "code",
      "source": [
        "train_dataloader = torch.utils.data.DataLoader(data_train, batch_size=batch_size, num_workers=2)\n",
        "test_dataloader = torch.utils.data.DataLoader(data_test, batch_size=batch_size, num_workers=2)"
      ],
      "metadata": {
        "id": "VVIcOebIFtec"
      },
      "execution_count": null,
      "outputs": []
    },
    {
      "cell_type": "code",
      "source": [
        "def predict(sent):\n",
        "    data = [sent, '1']\n",
        "    data_set = [data]\n",
        "    test_data = BERTDataset(data_set, 0, 1, tok, vocab, max_len, True, False)\n",
        "    test_dataloader = torch.utils.data.DataLoader(test_data, batch_size=128, num_workers=2)\n",
        "  \n",
        "\n",
        "    model.eval()\n",
        "    with torch.no_grad():\n",
        "        for batch_id, (token_ids, valid_length, segment_ids, label) in enumerate(test_dataloader):\n",
        "            token_ids = token_ids.long().to(device)\n",
        "            segment_ids = segment_ids.long().to(device)\n",
        "\n",
        "            valid_length= valid_length\n",
        "            label = label.long().to(device)\n",
        "\n",
        "            out = model(token_ids, valid_length, segment_ids)\n",
        "            \n",
        "            test = []\n",
        "            prob = []\n",
        "            for i in out:\n",
        "                logits = i\n",
        "                logits = logits.detach().cpu().numpy()\n",
        "                if np.argmax(logits) == 0:\n",
        "                    test.append('부정')\n",
        "                    prob.append(logits[0])\n",
        "                elif np.argmax(logits) == 1:\n",
        "                    test.append('긍정')\n",
        "                    prob.append(logits[1])\n",
        "            print('{}일 확률: {}'.format(test[0], float(torch.sigmoid(torch.tensor(prob)))))"
      ],
      "metadata": {
        "id": "Bza5k3ngvaoO"
      },
      "execution_count": null,
      "outputs": []
    },
    {
      "cell_type": "code",
      "source": [
        "out = predict('내용이해  진짜 잘 되게 설명해주시고 친절하십니다과제도 없고 시험만 잘 보면 되니까 깔끔한듯')"
      ],
      "metadata": {
        "colab": {
          "base_uri": "https://localhost:8080/"
        },
        "id": "EnGEMOSaxz4w",
        "outputId": "a882dc70-2372-4427-ecf3-41530483b27a"
      },
      "execution_count": null,
      "outputs": [
        {
          "output_type": "stream",
          "name": "stdout",
          "text": [
            "긍정일 확률: 0.9796695709228516\n"
          ]
        }
      ]
    },
    {
      "cell_type": "markdown",
      "source": [
        "## confusion matrix"
      ],
      "metadata": {
        "id": "7AyHg07HEvxs"
      }
    },
    {
      "cell_type": "code",
      "source": [
        "def calc_accuracy(X,Y):\n",
        "    max_vals, max_indices = torch.max(X, 1)\n",
        "    train_acc = (max_indices == Y).sum().data.cpu().numpy()/max_indices.size()[0]\n",
        "    return train_acc"
      ],
      "metadata": {
        "id": "sdjFgxylF2ns"
      },
      "execution_count": null,
      "outputs": []
    },
    {
      "cell_type": "code",
      "source": [
        "#GPU캐시 삭제해주기\n",
        "import torch, gc\n",
        "gc.collect()\n",
        "torch.cuda.empty_cache()"
      ],
      "metadata": {
        "id": "9wLoveQUGyX8"
      },
      "execution_count": null,
      "outputs": []
    },
    {
      "cell_type": "code",
      "source": [
        "with torch.no_grad():\n",
        "    prob = []\n",
        "    for batch_id, (token_ids, valid_length, segment_ids, label) in tqdm(enumerate(test_dataloader), total=len(test_dataloader)):\n",
        "        token_ids = token_ids.long().to(device)\n",
        "        segment_ids = segment_ids.long().to(device)\n",
        "        valid_length= valid_length\n",
        "        label = label.long().to(device)\n",
        "        out = model(token_ids, valid_length, segment_ids)\n",
        "        prob.append(out)\n",
        "\n",
        "print(prob)"
      ],
      "metadata": {
        "id": "DelfajR6FOXH"
      },
      "execution_count": null,
      "outputs": []
    },
    {
      "cell_type": "code",
      "source": [
        "prob1 = torch.cat(prob, 0) #prob를 torch로 바꾸기\n",
        "y_pred = torch.sigmoid(prob1) #torch.sigmoid \n",
        "y_pred = torch.argmax(y_pred, 1).detach().cpu().numpy() #예측 값 => detach로 grad 빼주고 => 넘파이 배열로 변환\n",
        "y_pred"
      ],
      "metadata": {
        "colab": {
          "base_uri": "https://localhost:8080/"
        },
        "id": "dZyi8py4LInS",
        "outputId": "b872868e-ad9b-4825-b1a8-76a8d8832e74"
      },
      "execution_count": null,
      "outputs": [
        {
          "output_type": "execute_result",
          "data": {
            "text/plain": [
              "array([1, 1, 0, ..., 0, 0, 0])"
            ]
          },
          "metadata": {},
          "execution_count": 28
        }
      ]
    },
    {
      "cell_type": "code",
      "source": [
        "test_labels = test_data['label'].values #label을 넘파이 배열로 바꿈"
      ],
      "metadata": {
        "id": "FMg2iQWkMKwz"
      },
      "execution_count": null,
      "outputs": []
    },
    {
      "cell_type": "code",
      "source": [
        "from sklearn.metrics import classification_report\n",
        "print(classification_report(test_labels, y_pred))"
      ],
      "metadata": {
        "colab": {
          "base_uri": "https://localhost:8080/"
        },
        "id": "mUZGcDygKJIB",
        "outputId": "a9a584d9-a40d-4b8e-facb-ac0cd8a353e8"
      },
      "execution_count": null,
      "outputs": [
        {
          "output_type": "stream",
          "name": "stdout",
          "text": [
            "              precision    recall  f1-score   support\n",
            "\n",
            "           0       0.91      0.92      0.92     47465\n",
            "           1       0.86      0.85      0.86     28404\n",
            "\n",
            "    accuracy                           0.89     75869\n",
            "   macro avg       0.89      0.89      0.89     75869\n",
            "weighted avg       0.89      0.89      0.89     75869\n",
            "\n"
          ]
        }
      ]
    },
    {
      "cell_type": "code",
      "source": [
        "%matplotlib inline  \n",
        "import seaborn as sns\n",
        "import matplotlib.pyplot as plt\n",
        "import pandas as pd\n",
        "from sklearn.metrics import classification_report\n",
        "\n",
        "def visualize_confusion_matrix(y_pred_argmax, y_true):\n",
        "    cm = tf.math.confusion_matrix(y_true, y_pred_argmax).numpy()\n",
        "    con_mat_df = pd.DataFrame(cm)\n",
        "    \n",
        "    print(classification_report(y_pred_argmax, y_true))\n",
        "\n",
        "    sns.heatmap(con_mat_df, annot=True, fmt='g', cmap=plt.cm.Greys)\n",
        "    plt.tight_layout()\n",
        "    plt.ylabel('True label')\n",
        "    plt.xlabel('Predicted label')\n",
        "    plt.show()\n",
        "\n",
        "visualize_confusion_matrix(y_pred, test_labels)"
      ],
      "metadata": {
        "id": "tr-9-2qiGFkg",
        "colab": {
          "base_uri": "https://localhost:8080/",
          "height": 475
        },
        "outputId": "db5d750c-be73-4270-f66b-6936ddc872bf"
      },
      "execution_count": null,
      "outputs": [
        {
          "output_type": "stream",
          "name": "stdout",
          "text": [
            "              precision    recall  f1-score   support\n",
            "\n",
            "           0       0.92      0.91      0.92     47848\n",
            "           1       0.85      0.86      0.86     28021\n",
            "\n",
            "    accuracy                           0.89     75869\n",
            "   macro avg       0.89      0.89      0.89     75869\n",
            "weighted avg       0.90      0.89      0.89     75869\n",
            "\n"
          ]
        },
        {
          "output_type": "display_data",
          "data": {
            "text/plain": [
              "<Figure size 432x288 with 2 Axes>"
            ],
            "image/png": "[encoded data removed]"
          },
          "metadata": {
            "needs_background": "light"
          }
        }
      ]
    },
    {
      "cell_type": "markdown",
      "source": [
        "# 에브리타임 강의평 "
      ],
      "metadata": {
        "id": "lSkPW3xs4Gb-"
      }
    },
    {
      "cell_type": "code",
      "source": [
        "#데이터 전처리를 좀 해줘야 할 것 같음\n",
        "\n",
        "import pandas as pd\n",
        "lecture_review = pd.read_csv(path + 'review_list.txt', sep = '\\t', encoding = 'utf-8')"
      ],
      "metadata": {
        "id": "J3aVsoiP96ca"
      },
      "execution_count": null,
      "outputs": []
    },
    {
      "cell_type": "code",
      "source": [
        "lecture_review_lst = lecture_review.values.tolist()\n",
        "lecture_review_lst"
      ],
      "metadata": {
        "id": "KodpgGYc97H4"
      },
      "execution_count": null,
      "outputs": []
    },
    {
      "cell_type": "code",
      "source": [
        ""
      ],
      "metadata": {
        "id": "haiYc_DrlilD"
      },
      "execution_count": null,
      "outputs": []
    }
  ]
}