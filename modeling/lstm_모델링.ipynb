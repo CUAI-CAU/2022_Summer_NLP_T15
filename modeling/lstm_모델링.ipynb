{
  "nbformat": 4,
  "nbformat_minor": 0,
  "metadata": {
    "colab": {
      "name": "lstm_모델링.ipynb",
      "provenance": [],
      "collapsed_sections": []
    },
    "kernelspec": {
      "name": "python3",
      "display_name": "Python 3"
    },
    "language_info": {
      "name": "python"
    },
    "gpuClass": "standard"
  },
  "cells": [
    {
      "cell_type": "markdown",
      "source": [
        "# 0. 구글 드라이브와 연결 및 각종 라이브러리 설정"
      ],
      "metadata": {
        "id": "ecmjLwiHMo5q"
      }
    },
    {
      "cell_type": "code",
      "source": [
        "from google.colab import drive\n",
        "drive.mount('/content/gdrive')"
      ],
      "metadata": {
        "colab": {
          "base_uri": "https://localhost:8080/"
        },
        "id": "fz-h9DUQNRUq",
        "outputId": "45bb77f3-22cd-4cba-b995-38af94687ee7"
      },
      "execution_count": null,
      "outputs": [
        {
          "output_type": "stream",
          "name": "stdout",
          "text": [
            "Mounted at /content/gdrive\n"
          ]
        }
      ]
    },
    {
      "cell_type": "code",
      "source": [
        "!pip install konlpy"
      ],
      "metadata": {
        "colab": {
          "base_uri": "https://localhost:8080/"
        },
        "id": "jrv0IQctX84X",
        "outputId": "c943dfb7-83a0-4d18-da7e-2dd1cbd0daa1"
      },
      "execution_count": null,
      "outputs": [
        {
          "output_type": "stream",
          "name": "stdout",
          "text": [
            "Looking in indexes: https://pypi.org/simple, https://us-python.pkg.dev/colab-wheels/public/simple/\n",
            "Collecting konlpy\n",
            "  Downloading konlpy-0.6.0-py2.py3-none-any.whl (19.4 MB)\n",
            "\u001b[K     |████████████████████████████████| 19.4 MB 1.2 MB/s \n",
            "\u001b[?25hRequirement already satisfied: lxml>=4.1.0 in /usr/local/lib/python3.7/dist-packages (from konlpy) (4.9.1)\n",
            "Requirement already satisfied: numpy>=1.6 in /usr/local/lib/python3.7/dist-packages (from konlpy) (1.21.6)\n",
            "Collecting JPype1>=0.7.0\n",
            "  Downloading JPype1-1.4.0-cp37-cp37m-manylinux_2_5_x86_64.manylinux1_x86_64.whl (453 kB)\n",
            "\u001b[K     |████████████████████████████████| 453 kB 54.8 MB/s \n",
            "\u001b[?25hRequirement already satisfied: typing-extensions in /usr/local/lib/python3.7/dist-packages (from JPype1>=0.7.0->konlpy) (4.1.1)\n",
            "Installing collected packages: JPype1, konlpy\n",
            "Successfully installed JPype1-1.4.0 konlpy-0.6.0\n"
          ]
        }
      ]
    },
    {
      "cell_type": "code",
      "source": [
        "import pandas as pd\n",
        "import numpy as np\n",
        "from sklearn.model_selection import train_test_split\n",
        "from konlpy.tag import Okt\n",
        "from tqdm import tqdm\n",
        "from tensorflow.keras.preprocessing.text import Tokenizer\n",
        "from tensorflow.keras.preprocessing.sequence import pad_sequences\n",
        "import matplotlib.pyplot as plt\n",
        "import tensorflow as tf"
      ],
      "metadata": {
        "id": "Xz2Qc3zZNRZU"
      },
      "execution_count": null,
      "outputs": []
    },
    {
      "cell_type": "markdown",
      "source": [
        "# 1. 데이터 로드"
      ],
      "metadata": {
        "id": "IQogE2WLNRd3"
      }
    },
    {
      "cell_type": "markdown",
      "source": [
        "### 데이터 로드 및 최종 점검"
      ],
      "metadata": {
        "id": "xIB58AHfNRiX"
      }
    },
    {
      "cell_type": "code",
      "source": [
        "data = pd.read_excel('/content/gdrive/MyDrive/CUAI 하계 컨퍼런스 프로젝트/data preprocessing 최종/final_data.xlsx', engine='openpyxl')"
      ],
      "metadata": {
        "id": "VpGk5SIZNRm8"
      },
      "execution_count": null,
      "outputs": []
    },
    {
      "cell_type": "code",
      "source": [
        "data.head(2)"
      ],
      "metadata": {
        "id": "lto9XPTINRq2",
        "colab": {
          "base_uri": "https://localhost:8080/",
          "height": 112
        },
        "outputId": "3d0621bb-686a-4806-e37b-bbc0f49ac20c"
      },
      "execution_count": null,
      "outputs": [
        {
          "output_type": "execute_result",
          "data": {
            "text/plain": [
              "   Unnamed: 0                                           document  label\n",
              "0           0                             어릴 때 보고 지금 다시 봐도 재밌어ㅋㅋ      1\n",
              "1           1  디자인을 배우는 학생으로 외국 디자이너와 그들이 일군 전통을 통해 발전해가는 문화산...      1"
            ],
            "text/html": [
              "\n",
              "  <div id=\"df-66084623-5e5a-482c-be12-e864c502afbf\">\n",
              "    <div class=\"colab-df-container\">\n",
              "      <div>\n",
              "<style scoped>\n",
              "    .dataframe tbody tr th:only-of-type {\n",
              "        vertical-align: middle;\n",
              "    }\n",
              "\n",
              "    .dataframe tbody tr th {\n",
              "        vertical-align: top;\n",
              "    }\n",
              "\n",
              "    .dataframe thead th {\n",
              "        text-align: right;\n",
              "    }\n",
              "</style>\n",
              "<table border=\"1\" class=\"dataframe\">\n",
              "  <thead>\n",
              "    <tr style=\"text-align: right;\">\n",
              "      <th></th>\n",
              "      <th>Unnamed: 0</th>\n",
              "      <th>document</th>\n",
              "      <th>label</th>\n",
              "    </tr>\n",
              "  </thead>\n",
              "  <tbody>\n",
              "    <tr>\n",
              "      <th>0</th>\n",
              "      <td>0</td>\n",
              "      <td>어릴 때 보고 지금 다시 봐도 재밌어ㅋㅋ</td>\n",
              "      <td>1</td>\n",
              "    </tr>\n",
              "    <tr>\n",
              "      <th>1</th>\n",
              "      <td>1</td>\n",
              "      <td>디자인을 배우는 학생으로 외국 디자이너와 그들이 일군 전통을 통해 발전해가는 문화산...</td>\n",
              "      <td>1</td>\n",
              "    </tr>\n",
              "  </tbody>\n",
              "</table>\n",
              "</div>\n",
              "      <button class=\"colab-df-convert\" onclick=\"convertToInteractive('df-66084623-5e5a-482c-be12-e864c502afbf')\"\n",
              "              title=\"Convert this dataframe to an interactive table.\"\n",
              "              style=\"display:none;\">\n",
              "        \n",
              "  <svg xmlns=\"http://www.w3.org/2000/svg\" height=\"24px\"viewBox=\"0 0 24 24\"\n",
              "       width=\"24px\">\n",
              "    <path d=\"M0 0h24v24H0V0z\" fill=\"none\"/>\n",
              "    <path d=\"M18.56 5.44l.94 2.06.94-2.06 2.06-.94-2.06-.94-.94-2.06-.94 2.06-2.06.94zm-11 1L8.5 8.5l.94-2.06 2.06-.94-2.06-.94L8.5 2.5l-.94 2.06-2.06.94zm10 10l.94 2.06.94-2.06 2.06-.94-2.06-.94-.94-2.06-.94 2.06-2.06.94z\"/><path d=\"M17.41 7.96l-1.37-1.37c-.4-.4-.92-.59-1.43-.59-.52 0-1.04.2-1.43.59L10.3 9.45l-7.72 7.72c-.78.78-.78 2.05 0 2.83L4 21.41c.39.39.9.59 1.41.59.51 0 1.02-.2 1.41-.59l7.78-7.78 2.81-2.81c.8-.78.8-2.07 0-2.86zM5.41 20L4 18.59l7.72-7.72 1.47 1.35L5.41 20z\"/>\n",
              "  </svg>\n",
              "      </button>\n",
              "      \n",
              "  <style>\n",
              "    .colab-df-container {\n",
              "      display:flex;\n",
              "      flex-wrap:wrap;\n",
              "      gap: 12px;\n",
              "    }\n",
              "\n",
              "    .colab-df-convert {\n",
              "      background-color: #E8F0FE;\n",
              "      border: none;\n",
              "      border-radius: 50%;\n",
              "      cursor: pointer;\n",
              "      display: none;\n",
              "      fill: #1967D2;\n",
              "      height: 32px;\n",
              "      padding: 0 0 0 0;\n",
              "      width: 32px;\n",
              "    }\n",
              "\n",
              "    .colab-df-convert:hover {\n",
              "      background-color: #E2EBFA;\n",
              "      box-shadow: 0px 1px 2px rgba(60, 64, 67, 0.3), 0px 1px 3px 1px rgba(60, 64, 67, 0.15);\n",
              "      fill: #174EA6;\n",
              "    }\n",
              "\n",
              "    [theme=dark] .colab-df-convert {\n",
              "      background-color: #3B4455;\n",
              "      fill: #D2E3FC;\n",
              "    }\n",
              "\n",
              "    [theme=dark] .colab-df-convert:hover {\n",
              "      background-color: #434B5C;\n",
              "      box-shadow: 0px 1px 3px 1px rgba(0, 0, 0, 0.15);\n",
              "      filter: drop-shadow(0px 1px 2px rgba(0, 0, 0, 0.3));\n",
              "      fill: #FFFFFF;\n",
              "    }\n",
              "  </style>\n",
              "\n",
              "      <script>\n",
              "        const buttonEl =\n",
              "          document.querySelector('#df-66084623-5e5a-482c-be12-e864c502afbf button.colab-df-convert');\n",
              "        buttonEl.style.display =\n",
              "          google.colab.kernel.accessAllowed ? 'block' : 'none';\n",
              "\n",
              "        async function convertToInteractive(key) {\n",
              "          const element = document.querySelector('#df-66084623-5e5a-482c-be12-e864c502afbf');\n",
              "          const dataTable =\n",
              "            await google.colab.kernel.invokeFunction('convertToInteractive',\n",
              "                                                     [key], {});\n",
              "          if (!dataTable) return;\n",
              "\n",
              "          const docLinkHtml = 'Like what you see? Visit the ' +\n",
              "            '<a target=\"_blank\" href=https://colab.research.google.com/notebooks/data_table.ipynb>data table notebook</a>'\n",
              "            + ' to learn more about interactive tables.';\n",
              "          element.innerHTML = '';\n",
              "          dataTable['output_type'] = 'display_data';\n",
              "          await google.colab.output.renderOutput(dataTable, element);\n",
              "          const docLink = document.createElement('div');\n",
              "          docLink.innerHTML = docLinkHtml;\n",
              "          element.appendChild(docLink);\n",
              "        }\n",
              "      </script>\n",
              "    </div>\n",
              "  </div>\n",
              "  "
            ]
          },
          "metadata": {},
          "execution_count": 10
        }
      ]
    },
    {
      "cell_type": "code",
      "source": [
        "data['document'].shape[0], data['document'].nunique()"
      ],
      "metadata": {
        "id": "AzKvSymeNRvM",
        "colab": {
          "base_uri": "https://localhost:8080/"
        },
        "outputId": "8f4bf125-0908-4e05-ca04-abb32befbdd0"
      },
      "execution_count": null,
      "outputs": [
        {
          "output_type": "execute_result",
          "data": {
            "text/plain": [
              "(303475, 293106)"
            ]
          },
          "metadata": {},
          "execution_count": 11
        }
      ]
    },
    {
      "cell_type": "code",
      "source": [
        "data = data.drop_duplicates(subset=['document'], ignore_index=True)"
      ],
      "metadata": {
        "id": "HTDh_tHlNRy_"
      },
      "execution_count": null,
      "outputs": []
    },
    {
      "cell_type": "code",
      "source": [
        "data['document'].shape[0], data['document'].nunique()"
      ],
      "metadata": {
        "id": "QwWrgrrzNR2w",
        "colab": {
          "base_uri": "https://localhost:8080/"
        },
        "outputId": "ac0aace8-f467-4e15-954e-592adfae0255"
      },
      "execution_count": null,
      "outputs": [
        {
          "output_type": "execute_result",
          "data": {
            "text/plain": [
              "(293106, 293106)"
            ]
          },
          "metadata": {},
          "execution_count": 13
        }
      ]
    },
    {
      "cell_type": "code",
      "source": [
        "data = data[['document', 'label']]"
      ],
      "metadata": {
        "id": "w-R2EXkYNR6q"
      },
      "execution_count": null,
      "outputs": []
    },
    {
      "cell_type": "code",
      "source": [
        "data"
      ],
      "metadata": {
        "id": "8HPEwTCqNR-o",
        "colab": {
          "base_uri": "https://localhost:8080/",
          "height": 424
        },
        "outputId": "98a3360e-c2ff-4864-f70c-61bc3fc48a12"
      },
      "execution_count": null,
      "outputs": [
        {
          "output_type": "execute_result",
          "data": {
            "text/plain": [
              "                                                 document  label\n",
              "0                                  어릴 때 보고 지금 다시 봐도 재밌어ㅋㅋ      1\n",
              "1       디자인을 배우는 학생으로 외국 디자이너와 그들이 일군 전통을 통해 발전해가는 문화산...      1\n",
              "2                        폴리스 스토리 시리즈는부터 뉴까지 버릴게 하나도 없음 최고      1\n",
              "3       와 연기가 진짜 개쩔구나 지루할 거라고 생각했는데 몰입해서 봤다 그래 이런 게 진짜...      1\n",
              "4                              안개 자욱한 밤하늘에 떠 있는 초승달 같은 영화      1\n",
              "...                                                   ...    ...\n",
              "293101                         내가 게을러서 다른 방법을 아직 생각하진 못했어      0\n",
              "293102                      댄스 동호회는 좀 괜찮은 것 같은데 이참에 가입해볼까      0\n",
              "293103                           당장 내일 밥은 어떡하고 내 병원비는 어쩌지      0\n",
              "293104                      응 이제 다들 독립해가지고 명절 아니면 찾아오질 않아      0\n",
              "293105                                   안부전화라도 해주면 좋을 텐데      0\n",
              "\n",
              "[293106 rows x 2 columns]"
            ],
            "text/html": [
              "\n",
              "  <div id=\"df-2d7948ec-c6ca-4978-87ec-ccc235d4e345\">\n",
              "    <div class=\"colab-df-container\">\n",
              "      <div>\n",
              "<style scoped>\n",
              "    .dataframe tbody tr th:only-of-type {\n",
              "        vertical-align: middle;\n",
              "    }\n",
              "\n",
              "    .dataframe tbody tr th {\n",
              "        vertical-align: top;\n",
              "    }\n",
              "\n",
              "    .dataframe thead th {\n",
              "        text-align: right;\n",
              "    }\n",
              "</style>\n",
              "<table border=\"1\" class=\"dataframe\">\n",
              "  <thead>\n",
              "    <tr style=\"text-align: right;\">\n",
              "      <th></th>\n",
              "      <th>document</th>\n",
              "      <th>label</th>\n",
              "    </tr>\n",
              "  </thead>\n",
              "  <tbody>\n",
              "    <tr>\n",
              "      <th>0</th>\n",
              "      <td>어릴 때 보고 지금 다시 봐도 재밌어ㅋㅋ</td>\n",
              "      <td>1</td>\n",
              "    </tr>\n",
              "    <tr>\n",
              "      <th>1</th>\n",
              "      <td>디자인을 배우는 학생으로 외국 디자이너와 그들이 일군 전통을 통해 발전해가는 문화산...</td>\n",
              "      <td>1</td>\n",
              "    </tr>\n",
              "    <tr>\n",
              "      <th>2</th>\n",
              "      <td>폴리스 스토리 시리즈는부터 뉴까지 버릴게 하나도 없음 최고</td>\n",
              "      <td>1</td>\n",
              "    </tr>\n",
              "    <tr>\n",
              "      <th>3</th>\n",
              "      <td>와 연기가 진짜 개쩔구나 지루할 거라고 생각했는데 몰입해서 봤다 그래 이런 게 진짜...</td>\n",
              "      <td>1</td>\n",
              "    </tr>\n",
              "    <tr>\n",
              "      <th>4</th>\n",
              "      <td>안개 자욱한 밤하늘에 떠 있는 초승달 같은 영화</td>\n",
              "      <td>1</td>\n",
              "    </tr>\n",
              "    <tr>\n",
              "      <th>...</th>\n",
              "      <td>...</td>\n",
              "      <td>...</td>\n",
              "    </tr>\n",
              "    <tr>\n",
              "      <th>293101</th>\n",
              "      <td>내가 게을러서 다른 방법을 아직 생각하진 못했어</td>\n",
              "      <td>0</td>\n",
              "    </tr>\n",
              "    <tr>\n",
              "      <th>293102</th>\n",
              "      <td>댄스 동호회는 좀 괜찮은 것 같은데 이참에 가입해볼까</td>\n",
              "      <td>0</td>\n",
              "    </tr>\n",
              "    <tr>\n",
              "      <th>293103</th>\n",
              "      <td>당장 내일 밥은 어떡하고 내 병원비는 어쩌지</td>\n",
              "      <td>0</td>\n",
              "    </tr>\n",
              "    <tr>\n",
              "      <th>293104</th>\n",
              "      <td>응 이제 다들 독립해가지고 명절 아니면 찾아오질 않아</td>\n",
              "      <td>0</td>\n",
              "    </tr>\n",
              "    <tr>\n",
              "      <th>293105</th>\n",
              "      <td>안부전화라도 해주면 좋을 텐데</td>\n",
              "      <td>0</td>\n",
              "    </tr>\n",
              "  </tbody>\n",
              "</table>\n",
              "<p>293106 rows × 2 columns</p>\n",
              "</div>\n",
              "      <button class=\"colab-df-convert\" onclick=\"convertToInteractive('df-2d7948ec-c6ca-4978-87ec-ccc235d4e345')\"\n",
              "              title=\"Convert this dataframe to an interactive table.\"\n",
              "              style=\"display:none;\">\n",
              "        \n",
              "  <svg xmlns=\"http://www.w3.org/2000/svg\" height=\"24px\"viewBox=\"0 0 24 24\"\n",
              "       width=\"24px\">\n",
              "    <path d=\"M0 0h24v24H0V0z\" fill=\"none\"/>\n",
              "    <path d=\"M18.56 5.44l.94 2.06.94-2.06 2.06-.94-2.06-.94-.94-2.06-.94 2.06-2.06.94zm-11 1L8.5 8.5l.94-2.06 2.06-.94-2.06-.94L8.5 2.5l-.94 2.06-2.06.94zm10 10l.94 2.06.94-2.06 2.06-.94-2.06-.94-.94-2.06-.94 2.06-2.06.94z\"/><path d=\"M17.41 7.96l-1.37-1.37c-.4-.4-.92-.59-1.43-.59-.52 0-1.04.2-1.43.59L10.3 9.45l-7.72 7.72c-.78.78-.78 2.05 0 2.83L4 21.41c.39.39.9.59 1.41.59.51 0 1.02-.2 1.41-.59l7.78-7.78 2.81-2.81c.8-.78.8-2.07 0-2.86zM5.41 20L4 18.59l7.72-7.72 1.47 1.35L5.41 20z\"/>\n",
              "  </svg>\n",
              "      </button>\n",
              "      \n",
              "  <style>\n",
              "    .colab-df-container {\n",
              "      display:flex;\n",
              "      flex-wrap:wrap;\n",
              "      gap: 12px;\n",
              "    }\n",
              "\n",
              "    .colab-df-convert {\n",
              "      background-color: #E8F0FE;\n",
              "      border: none;\n",
              "      border-radius: 50%;\n",
              "      cursor: pointer;\n",
              "      display: none;\n",
              "      fill: #1967D2;\n",
              "      height: 32px;\n",
              "      padding: 0 0 0 0;\n",
              "      width: 32px;\n",
              "    }\n",
              "\n",
              "    .colab-df-convert:hover {\n",
              "      background-color: #E2EBFA;\n",
              "      box-shadow: 0px 1px 2px rgba(60, 64, 67, 0.3), 0px 1px 3px 1px rgba(60, 64, 67, 0.15);\n",
              "      fill: #174EA6;\n",
              "    }\n",
              "\n",
              "    [theme=dark] .colab-df-convert {\n",
              "      background-color: #3B4455;\n",
              "      fill: #D2E3FC;\n",
              "    }\n",
              "\n",
              "    [theme=dark] .colab-df-convert:hover {\n",
              "      background-color: #434B5C;\n",
              "      box-shadow: 0px 1px 3px 1px rgba(0, 0, 0, 0.15);\n",
              "      filter: drop-shadow(0px 1px 2px rgba(0, 0, 0, 0.3));\n",
              "      fill: #FFFFFF;\n",
              "    }\n",
              "  </style>\n",
              "\n",
              "      <script>\n",
              "        const buttonEl =\n",
              "          document.querySelector('#df-2d7948ec-c6ca-4978-87ec-ccc235d4e345 button.colab-df-convert');\n",
              "        buttonEl.style.display =\n",
              "          google.colab.kernel.accessAllowed ? 'block' : 'none';\n",
              "\n",
              "        async function convertToInteractive(key) {\n",
              "          const element = document.querySelector('#df-2d7948ec-c6ca-4978-87ec-ccc235d4e345');\n",
              "          const dataTable =\n",
              "            await google.colab.kernel.invokeFunction('convertToInteractive',\n",
              "                                                     [key], {});\n",
              "          if (!dataTable) return;\n",
              "\n",
              "          const docLinkHtml = 'Like what you see? Visit the ' +\n",
              "            '<a target=\"_blank\" href=https://colab.research.google.com/notebooks/data_table.ipynb>data table notebook</a>'\n",
              "            + ' to learn more about interactive tables.';\n",
              "          element.innerHTML = '';\n",
              "          dataTable['output_type'] = 'display_data';\n",
              "          await google.colab.output.renderOutput(dataTable, element);\n",
              "          const docLink = document.createElement('div');\n",
              "          docLink.innerHTML = docLinkHtml;\n",
              "          element.appendChild(docLink);\n",
              "        }\n",
              "      </script>\n",
              "    </div>\n",
              "  </div>\n",
              "  "
            ]
          },
          "metadata": {},
          "execution_count": 15
        }
      ]
    },
    {
      "cell_type": "markdown",
      "source": [
        "# 2. 학습용 데이터와 테스트용 데이터 나누기"
      ],
      "metadata": {
        "id": "Ym3e2grRNSCP"
      }
    },
    {
      "cell_type": "code",
      "source": [
        "train_data, test_data = train_test_split(data, test_size=0.25, random_state=42, shuffle=True)"
      ],
      "metadata": {
        "id": "4sO9NLEnUp7S"
      },
      "execution_count": null,
      "outputs": []
    },
    {
      "cell_type": "code",
      "source": [
        "train_data.shape, test_data.shape"
      ],
      "metadata": {
        "colab": {
          "base_uri": "https://localhost:8080/"
        },
        "id": "nNSIu9PwUp_9",
        "outputId": "d9dc4eff-0ff8-42da-ca9d-533b94a7597f"
      },
      "execution_count": null,
      "outputs": [
        {
          "output_type": "execute_result",
          "data": {
            "text/plain": [
              "((219829, 2), (73277, 2))"
            ]
          },
          "metadata": {},
          "execution_count": 17
        }
      ]
    },
    {
      "cell_type": "code",
      "source": [
        "train_data"
      ],
      "metadata": {
        "colab": {
          "base_uri": "https://localhost:8080/",
          "height": 424
        },
        "id": "UnLbfzuUUqEf",
        "outputId": "48b0f28f-c841-4e1d-9a25-d47469954900"
      },
      "execution_count": null,
      "outputs": [
        {
          "output_type": "execute_result",
          "data": {
            "text/plain": [
              "                                                 document  label\n",
              "13946                                 만 점짜리 한국 최고의 코미디 영화      1\n",
              "255599              다들 새로운 친구를 잘 사귀는데 나만 아무도 만나지 못하는 것 같아      0\n",
              "240953  전에 잘못했을 때에는 격려해주셨는데 이번에는 작은 실수로 이러시니 어떻게 받아들여야...      0\n",
              "265024                            딸들한테 전화하고 싶은데 용기가 나질 않네      0\n",
              "26781                                  가히 최고의 시리즈라 할 수 있다      1\n",
              "...                                                   ...    ...\n",
              "119879                       자아에 대한 해묵은 고찰마저 방해하는 단조로운 진행      0\n",
              "259178                                             대화가 뭐야      0\n",
              "131932                                      말이 필요 없다 ㅡ명작ㅡ      1\n",
              "146867                               편식이가 좀 줬다 그냥 닥치고 보란다      1\n",
              "121958                                별로 재미없음 런닝맨이 더 재미있음      0\n",
              "\n",
              "[219829 rows x 2 columns]"
            ],
            "text/html": [
              "\n",
              "  <div id=\"df-746193c2-06ae-48ff-a3ad-bc57a92c2a2a\">\n",
              "    <div class=\"colab-df-container\">\n",
              "      <div>\n",
              "<style scoped>\n",
              "    .dataframe tbody tr th:only-of-type {\n",
              "        vertical-align: middle;\n",
              "    }\n",
              "\n",
              "    .dataframe tbody tr th {\n",
              "        vertical-align: top;\n",
              "    }\n",
              "\n",
              "    .dataframe thead th {\n",
              "        text-align: right;\n",
              "    }\n",
              "</style>\n",
              "<table border=\"1\" class=\"dataframe\">\n",
              "  <thead>\n",
              "    <tr style=\"text-align: right;\">\n",
              "      <th></th>\n",
              "      <th>document</th>\n",
              "      <th>label</th>\n",
              "    </tr>\n",
              "  </thead>\n",
              "  <tbody>\n",
              "    <tr>\n",
              "      <th>13946</th>\n",
              "      <td>만 점짜리 한국 최고의 코미디 영화</td>\n",
              "      <td>1</td>\n",
              "    </tr>\n",
              "    <tr>\n",
              "      <th>255599</th>\n",
              "      <td>다들 새로운 친구를 잘 사귀는데 나만 아무도 만나지 못하는 것 같아</td>\n",
              "      <td>0</td>\n",
              "    </tr>\n",
              "    <tr>\n",
              "      <th>240953</th>\n",
              "      <td>전에 잘못했을 때에는 격려해주셨는데 이번에는 작은 실수로 이러시니 어떻게 받아들여야...</td>\n",
              "      <td>0</td>\n",
              "    </tr>\n",
              "    <tr>\n",
              "      <th>265024</th>\n",
              "      <td>딸들한테 전화하고 싶은데 용기가 나질 않네</td>\n",
              "      <td>0</td>\n",
              "    </tr>\n",
              "    <tr>\n",
              "      <th>26781</th>\n",
              "      <td>가히 최고의 시리즈라 할 수 있다</td>\n",
              "      <td>1</td>\n",
              "    </tr>\n",
              "    <tr>\n",
              "      <th>...</th>\n",
              "      <td>...</td>\n",
              "      <td>...</td>\n",
              "    </tr>\n",
              "    <tr>\n",
              "      <th>119879</th>\n",
              "      <td>자아에 대한 해묵은 고찰마저 방해하는 단조로운 진행</td>\n",
              "      <td>0</td>\n",
              "    </tr>\n",
              "    <tr>\n",
              "      <th>259178</th>\n",
              "      <td>대화가 뭐야</td>\n",
              "      <td>0</td>\n",
              "    </tr>\n",
              "    <tr>\n",
              "      <th>131932</th>\n",
              "      <td>말이 필요 없다 ㅡ명작ㅡ</td>\n",
              "      <td>1</td>\n",
              "    </tr>\n",
              "    <tr>\n",
              "      <th>146867</th>\n",
              "      <td>편식이가 좀 줬다 그냥 닥치고 보란다</td>\n",
              "      <td>1</td>\n",
              "    </tr>\n",
              "    <tr>\n",
              "      <th>121958</th>\n",
              "      <td>별로 재미없음 런닝맨이 더 재미있음</td>\n",
              "      <td>0</td>\n",
              "    </tr>\n",
              "  </tbody>\n",
              "</table>\n",
              "<p>219829 rows × 2 columns</p>\n",
              "</div>\n",
              "      <button class=\"colab-df-convert\" onclick=\"convertToInteractive('df-746193c2-06ae-48ff-a3ad-bc57a92c2a2a')\"\n",
              "              title=\"Convert this dataframe to an interactive table.\"\n",
              "              style=\"display:none;\">\n",
              "        \n",
              "  <svg xmlns=\"http://www.w3.org/2000/svg\" height=\"24px\"viewBox=\"0 0 24 24\"\n",
              "       width=\"24px\">\n",
              "    <path d=\"M0 0h24v24H0V0z\" fill=\"none\"/>\n",
              "    <path d=\"M18.56 5.44l.94 2.06.94-2.06 2.06-.94-2.06-.94-.94-2.06-.94 2.06-2.06.94zm-11 1L8.5 8.5l.94-2.06 2.06-.94-2.06-.94L8.5 2.5l-.94 2.06-2.06.94zm10 10l.94 2.06.94-2.06 2.06-.94-2.06-.94-.94-2.06-.94 2.06-2.06.94z\"/><path d=\"M17.41 7.96l-1.37-1.37c-.4-.4-.92-.59-1.43-.59-.52 0-1.04.2-1.43.59L10.3 9.45l-7.72 7.72c-.78.78-.78 2.05 0 2.83L4 21.41c.39.39.9.59 1.41.59.51 0 1.02-.2 1.41-.59l7.78-7.78 2.81-2.81c.8-.78.8-2.07 0-2.86zM5.41 20L4 18.59l7.72-7.72 1.47 1.35L5.41 20z\"/>\n",
              "  </svg>\n",
              "      </button>\n",
              "      \n",
              "  <style>\n",
              "    .colab-df-container {\n",
              "      display:flex;\n",
              "      flex-wrap:wrap;\n",
              "      gap: 12px;\n",
              "    }\n",
              "\n",
              "    .colab-df-convert {\n",
              "      background-color: #E8F0FE;\n",
              "      border: none;\n",
              "      border-radius: 50%;\n",
              "      cursor: pointer;\n",
              "      display: none;\n",
              "      fill: #1967D2;\n",
              "      height: 32px;\n",
              "      padding: 0 0 0 0;\n",
              "      width: 32px;\n",
              "    }\n",
              "\n",
              "    .colab-df-convert:hover {\n",
              "      background-color: #E2EBFA;\n",
              "      box-shadow: 0px 1px 2px rgba(60, 64, 67, 0.3), 0px 1px 3px 1px rgba(60, 64, 67, 0.15);\n",
              "      fill: #174EA6;\n",
              "    }\n",
              "\n",
              "    [theme=dark] .colab-df-convert {\n",
              "      background-color: #3B4455;\n",
              "      fill: #D2E3FC;\n",
              "    }\n",
              "\n",
              "    [theme=dark] .colab-df-convert:hover {\n",
              "      background-color: #434B5C;\n",
              "      box-shadow: 0px 1px 3px 1px rgba(0, 0, 0, 0.15);\n",
              "      filter: drop-shadow(0px 1px 2px rgba(0, 0, 0, 0.3));\n",
              "      fill: #FFFFFF;\n",
              "    }\n",
              "  </style>\n",
              "\n",
              "      <script>\n",
              "        const buttonEl =\n",
              "          document.querySelector('#df-746193c2-06ae-48ff-a3ad-bc57a92c2a2a button.colab-df-convert');\n",
              "        buttonEl.style.display =\n",
              "          google.colab.kernel.accessAllowed ? 'block' : 'none';\n",
              "\n",
              "        async function convertToInteractive(key) {\n",
              "          const element = document.querySelector('#df-746193c2-06ae-48ff-a3ad-bc57a92c2a2a');\n",
              "          const dataTable =\n",
              "            await google.colab.kernel.invokeFunction('convertToInteractive',\n",
              "                                                     [key], {});\n",
              "          if (!dataTable) return;\n",
              "\n",
              "          const docLinkHtml = 'Like what you see? Visit the ' +\n",
              "            '<a target=\"_blank\" href=https://colab.research.google.com/notebooks/data_table.ipynb>data table notebook</a>'\n",
              "            + ' to learn more about interactive tables.';\n",
              "          element.innerHTML = '';\n",
              "          dataTable['output_type'] = 'display_data';\n",
              "          await google.colab.output.renderOutput(dataTable, element);\n",
              "          const docLink = document.createElement('div');\n",
              "          docLink.innerHTML = docLinkHtml;\n",
              "          element.appendChild(docLink);\n",
              "        }\n",
              "      </script>\n",
              "    </div>\n",
              "  </div>\n",
              "  "
            ]
          },
          "metadata": {},
          "execution_count": 18
        }
      ]
    },
    {
      "cell_type": "code",
      "source": [
        "print(\"train_data 클래스별 샘플 개수:\\n\",\n",
        "     {n: v for n, v in zip([0, 1], np.bincount(train_data['label']))}, '긍정의 비율:', train_data['label'].sum()/train_data.shape[0]) \n",
        "print(\"test_data 클래스별 샘플 개수:\\n\",\n",
        "     {n: v for n, v in zip([0, 1], np.bincount(test_data['label']))}, '긍정의 비율:', test_data['label'].sum()/test_data.shape[0]) \n",
        "\n",
        "# 잘 나눠진 것을 볼 수 있다."
      ],
      "metadata": {
        "colab": {
          "base_uri": "https://localhost:8080/"
        },
        "id": "O4sVSqAQUqIe",
        "outputId": "230830f6-cd90-4171-b175-691d8f60a0ef"
      },
      "execution_count": null,
      "outputs": [
        {
          "output_type": "stream",
          "name": "stdout",
          "text": [
            "train_data 클래스별 샘플 개수:\n",
            " {0: 136435, 1: 83394} 긍정의 비율: 0.37935850138061855\n",
            "test_data 클래스별 샘플 개수:\n",
            " {0: 45501, 1: 27776} 긍정의 비율: 0.37905481938398133\n"
          ]
        }
      ]
    },
    {
      "cell_type": "markdown",
      "source": [
        "# 3. 토큰화"
      ],
      "metadata": {
        "id": "dPiH9XBCUqMX"
      }
    },
    {
      "cell_type": "code",
      "source": [
        "stopwords = ['ㅋ', 'ㅎ', 'ㅠ', 'ㅉ', 'ㅡ']"
      ],
      "metadata": {
        "id": "GYGgomaNUqQG"
      },
      "execution_count": null,
      "outputs": []
    },
    {
      "cell_type": "code",
      "source": [
        "okt = Okt()"
      ],
      "metadata": {
        "id": "FCm8uut7UqTx"
      },
      "execution_count": null,
      "outputs": []
    },
    {
      "cell_type": "code",
      "source": [
        "okt.tagset"
      ],
      "metadata": {
        "colab": {
          "base_uri": "https://localhost:8080/"
        },
        "id": "VsT81d0jtR94",
        "outputId": "cdedf525-50cc-494b-ced9-dcf8d547e495"
      },
      "execution_count": null,
      "outputs": [
        {
          "output_type": "execute_result",
          "data": {
            "text/plain": [
              "{'Adjective': '형용사',\n",
              " 'Adverb': '부사',\n",
              " 'Alpha': '알파벳',\n",
              " 'Conjunction': '접속사',\n",
              " 'Determiner': '관형사',\n",
              " 'Eomi': '어미',\n",
              " 'Exclamation': '감탄사',\n",
              " 'Foreign': '외국어, 한자 및 기타기호',\n",
              " 'Hashtag': '트위터 해쉬태그',\n",
              " 'Josa': '조사',\n",
              " 'KoreanParticle': '(ex: ㅋㅋ)',\n",
              " 'Noun': '명사',\n",
              " 'Number': '숫자',\n",
              " 'PreEomi': '선어말어미',\n",
              " 'Punctuation': '구두점',\n",
              " 'ScreenName': '트위터 아이디',\n",
              " 'Suffix': '접미사',\n",
              " 'Unknown': '미등록어',\n",
              " 'Verb': '동사'}"
            ]
          },
          "metadata": {},
          "execution_count": 22
        }
      ]
    },
    {
      "cell_type": "code",
      "source": [
        "X_train = []\n",
        "for sentence in tqdm(train_data['document']):\n",
        "    tokenized_sentence = okt.pos(sentence, stem=True) # 토큰화\n",
        "    stopwords_removed_sentence = [word for word, pos in tokenized_sentence if (not word in stopwords) and (not pos in ['Josa', 'Eomi', 'PreEomi', 'Suffix'])] # 불용어 제거\n",
        "    X_train.append(stopwords_removed_sentence)"
      ],
      "metadata": {
        "colab": {
          "base_uri": "https://localhost:8080/"
        },
        "id": "CnzZdSHxUqXC",
        "outputId": "31c2c02e-b341-4619-ffcf-047085107e06"
      },
      "execution_count": null,
      "outputs": [
        {
          "output_type": "stream",
          "name": "stderr",
          "text": [
            "100%|██████████| 219829/219829 [05:43<00:00, 639.41it/s]\n"
          ]
        }
      ]
    },
    {
      "cell_type": "code",
      "source": [
        "X_test = []\n",
        "for sentence in tqdm(test_data['document']):\n",
        "    tokenized_sentence = okt.pos(sentence, stem=True) # 토큰화\n",
        "    stopwords_removed_sentence = [word for word, pos in tokenized_sentence if (not word in stopwords) and (not pos in ['Josa', 'Eomi', 'PreEomi', 'Suffix'])] # 불용어 제거\n",
        "    X_test.append(stopwords_removed_sentence)"
      ],
      "metadata": {
        "colab": {
          "base_uri": "https://localhost:8080/"
        },
        "id": "oQCUmoo_Uqae",
        "outputId": "29c68ac2-fb5b-485b-e49e-2ea5435bbb11"
      },
      "execution_count": null,
      "outputs": [
        {
          "output_type": "stream",
          "name": "stderr",
          "text": [
            "100%|██████████| 73277/73277 [01:46<00:00, 689.23it/s]\n"
          ]
        }
      ]
    },
    {
      "cell_type": "code",
      "source": [
        "X_train[:10]"
      ],
      "metadata": {
        "id": "v_KlaDbdNSF_",
        "colab": {
          "base_uri": "https://localhost:8080/"
        },
        "outputId": "422f54a8-655d-452c-fe6d-9e7e8f9aa849"
      },
      "execution_count": null,
      "outputs": [
        {
          "output_type": "execute_result",
          "data": {
            "text/plain": [
              "[['만', '점', '짜다', '한국', '최고', '코미디', '영화'],\n",
              " ['다', '들다', '새롭다', '친구', '자다', '사귀다', '나', '아무', '만나다', '못', '하다', '것', '같다'],\n",
              " ['전',\n",
              "  '잘',\n",
              "  '못',\n",
              "  '하다',\n",
              "  '때',\n",
              "  '격려',\n",
              "  '해주다',\n",
              "  '이번',\n",
              "  '작다',\n",
              "  '실수',\n",
              "  '이',\n",
              "  '러시',\n",
              "  '어떻다',\n",
              "  '받아들이다',\n",
              "  '하다',\n",
              "  '모르다'],\n",
              " ['딸', '전화하다', '싶다', '용기', '나다', '않다'],\n",
              " ['가히', '최고', '시리즈', '하다', '수', '있다'],\n",
              " ['너무', '영화', '허다', '술', '허다', '접'],\n",
              " ['확실하다', '뭔가', '좀', '어색하다', '제시카', '알바', '연기'],\n",
              " ['투사부일체', '다른', '재미', '있다', '특히', '주인공', '표정', '연기', '일품'],\n",
              " ['액션',\n",
              "  '쓰리다',\n",
              "  '로맨스',\n",
              "  '리얼리티',\n",
              "  '모든',\n",
              "  '것',\n",
              "  '갖추다',\n",
              "  '최고',\n",
              "  '영화',\n",
              "  '이다',\n",
              "  '마지막',\n",
              "  '열리다',\n",
              "  '결말',\n",
              "  '정말',\n",
              "  '좋다',\n",
              "  '점',\n",
              "  '만점',\n",
              "  '점'],\n",
              " ['내', '평생', '가장', '좋아하다', '영화', '잊다', '수가', '없다']]"
            ]
          },
          "metadata": {},
          "execution_count": 23
        }
      ]
    },
    {
      "cell_type": "code",
      "source": [
        "tokenizer = Tokenizer()\n",
        "tokenizer.fit_on_texts(X_train)"
      ],
      "metadata": {
        "id": "pcRNvHEDNSJX"
      },
      "execution_count": null,
      "outputs": []
    },
    {
      "cell_type": "code",
      "source": [
        "len(tokenizer.word_index)"
      ],
      "metadata": {
        "colab": {
          "base_uri": "https://localhost:8080/"
        },
        "id": "Jo4-usv9caWT",
        "outputId": "4f84b98b-5e9b-49e8-8020-11d7ea9f4b03"
      },
      "execution_count": null,
      "outputs": [
        {
          "output_type": "execute_result",
          "data": {
            "text/plain": [
              "38543"
            ]
          },
          "metadata": {},
          "execution_count": 26
        }
      ]
    },
    {
      "cell_type": "code",
      "source": [
        "tokenizer.word_index  "
      ],
      "metadata": {
        "colab": {
          "base_uri": "https://localhost:8080/"
        },
        "id": "83p3g9jDcaaq",
        "outputId": "c85d2577-e85a-46a6-c94c-87bd3e0fd7b1"
      },
      "execution_count": null,
      "outputs": [
        {
          "output_type": "execute_result",
          "data": {
            "text/plain": [
              "{'하다': 1,\n",
              " '영화': 2,\n",
              " '보다': 3,\n",
              " '있다': 4,\n",
              " '없다': 5,\n",
              " '너무': 6,\n",
              " '것': 7,\n",
              " '이': 8,\n",
              " '내': 9,\n",
              " '같다': 10,\n",
              " '좋다': 11,\n",
              " '나': 12,\n",
              " '안': 13,\n",
              " '되다': 14,\n",
              " '않다': 15,\n",
              " '정말': 16,\n",
              " '거': 17,\n",
              " '재밌다': 18,\n",
              " '못': 19,\n",
              " '아니다': 20,\n",
              " '말': 21,\n",
              " '친구': 22,\n",
              " '수': 23,\n",
              " '이다': 24,\n",
              " '사람': 25,\n",
              " '생각': 26,\n",
              " '싶다': 27,\n",
              " '진짜': 28,\n",
              " 'ㅋㅋ': 29,\n",
              " '나오다': 30,\n",
              " '자다': 31,\n",
              " '더': 32,\n",
              " '다': 33,\n",
              " '게': 34,\n",
              " '보고': 35,\n",
              " '그': 36,\n",
              " '때': 37,\n",
              " '만들다': 38,\n",
              " '이렇다': 39,\n",
              " '점': 40,\n",
              " '들다': 41,\n",
              " '왜': 42,\n",
              " '연기': 43,\n",
              " '모르다': 44,\n",
              " '평점': 45,\n",
              " '가다': 46,\n",
              " '그렇다': 47,\n",
              " '나다': 48,\n",
              " '최고': 49,\n",
              " '좀': 50,\n",
              " '스토리': 51,\n",
              " '받다': 52,\n",
              " '그냥': 53,\n",
              " '돈': 54,\n",
              " '주다': 55,\n",
              " '돼다': 56,\n",
              " '드라마': 57,\n",
              " '시간': 58,\n",
              " '감동': 59,\n",
              " '뭐': 60,\n",
              " '볼': 61,\n",
              " '오다': 62,\n",
              " '아깝다': 63,\n",
              " '듯': 64,\n",
              " '걸': 65,\n",
              " '많이': 66,\n",
              " '내용': 67,\n",
              " '일': 68,\n",
              " '배우': 69,\n",
              " '중': 70,\n",
              " '많다': 71,\n",
              " '하나': 72,\n",
              " '재미있다': 73,\n",
              " 'ㅠㅠ': 74,\n",
              " '감독': 75,\n",
              " '때문': 76,\n",
              " '어떻다': 77,\n",
              " '지금': 78,\n",
              " '알다': 79,\n",
              " '재미없다': 80,\n",
              " '줄': 81,\n",
              " '이렇게': 82,\n",
              " '마음': 83,\n",
              " '지루하다': 84,\n",
              " '쓰레기': 85,\n",
              " '재미': 86,\n",
              " '사랑': 87,\n",
              " '먹다': 88,\n",
              " '건': 89,\n",
              " '다시': 90,\n",
              " '전': 91,\n",
              " '요즘': 92,\n",
              " '우리': 93,\n",
              " '난': 94,\n",
              " '정도': 95,\n",
              " '년': 96,\n",
              " '힘들다': 97,\n",
              " '작품': 98,\n",
              " '아': 99,\n",
              " '해주다': 100,\n",
              " '다른': 101,\n",
              " '이야기': 102,\n",
              " '번': 103,\n",
              " '슬프다': 104,\n",
              " '처음': 105,\n",
              " '좋아하다': 106,\n",
              " '걱정': 107,\n",
              " '차다': 108,\n",
              " '마지막': 109,\n",
              " '액션': 110,\n",
              " '되어다': 111,\n",
              " '알': 112,\n",
              " '해': 113,\n",
              " '기분': 114,\n",
              " '아이': 115,\n",
              " '회사': 116,\n",
              " '오늘': 117,\n",
              " '버리다': 118,\n",
              " '이건': 119,\n",
              " '저': 120,\n",
              " '이제': 121,\n",
              " '장면': 122,\n",
              " '나르다': 123,\n",
              " '느낌': 124,\n",
              " '별로': 125,\n",
              " '주인공': 126,\n",
              " '짜증': 127,\n",
              " '잘': 128,\n",
              " '또': 129,\n",
              " '아프다': 130,\n",
              " '가족': 131,\n",
              " '이해': 132,\n",
              " '스럽다': 133,\n",
              " '애': 134,\n",
              " '여자': 135,\n",
              " '남다': 136,\n",
              " '맞다': 137,\n",
              " '집': 138,\n",
              " '크다': 139,\n",
              " '만': 140,\n",
              " '끝': 141,\n",
              " '아내': 142,\n",
              " '느끼다': 143,\n",
              " '괜찮다': 144,\n",
              " '그리고': 145,\n",
              " '내다': 146,\n",
              " '살다': 147,\n",
              " '최악': 148,\n",
              " '결혼': 149,\n",
              " '남편': 150,\n",
              " '계속': 151,\n",
              " '어리다': 152,\n",
              " '이번': 153,\n",
              " '없이': 154,\n",
              " '역시': 155,\n",
              " '연출': 156,\n",
              " '한국': 157,\n",
              " '무슨': 158,\n",
              " '개': 159,\n",
              " '꼭': 160,\n",
              " '분': 161,\n",
              " '죽다': 162,\n",
              " '나이': 163,\n",
              " 'ㅡㅡ': 164,\n",
              " '엄마': 165,\n",
              " '무섭다': 166,\n",
              " '명작': 167,\n",
              " '보기': 168,\n",
              " '별': 169,\n",
              " 'ㅎㅎ': 170,\n",
              " '임': 171,\n",
              " '말다': 172,\n",
              " '아들': 173,\n",
              " '남자': 174,\n",
              " '눈물': 175,\n",
              " '기억': 176,\n",
              " '날': 177,\n",
              " '편': 178,\n",
              " '뻔하다': 179,\n",
              " '인생': 180,\n",
              " '아무': 181,\n",
              " '화가': 182,\n",
              " '아름답다': 183,\n",
              " '두': 184,\n",
              " '준비': 185,\n",
              " '혼자': 186,\n",
              " '믿다': 187,\n",
              " '완전': 188,\n",
              " '끝나다': 189,\n",
              " '내내': 190,\n",
              " '떨어지다': 191,\n",
              " '건지다': 192,\n",
              " '앞': 193,\n",
              " '일이': 194,\n",
              " '가장': 195,\n",
              " '후': 196,\n",
              " '싫다': 197,\n",
              " '하지만': 198,\n",
              " '씨': 199,\n",
              " '보여주다': 200,\n",
              " '보이다': 201,\n",
              " '모두': 202,\n",
              " '살': 203,\n",
              " '속': 204,\n",
              " '아쉽다': 205,\n",
              " '쓰다': 206,\n",
              " '자식': 207,\n",
              " '몇': 208,\n",
              " '당하다': 209,\n",
              " '자꾸': 210,\n",
              " '높다': 211,\n",
              " '결말': 212,\n",
              " '현실': 213,\n",
              " '기대': 214,\n",
              " '소재': 215,\n",
              " '모습': 216,\n",
              " '부모님': 217,\n",
              " '직장': 218,\n",
              " '감': 219,\n",
              " '그래도': 220,\n",
              " '같이': 221,\n",
              " '낮다': 222,\n",
              " '가슴': 223,\n",
              " '수준': 224,\n",
              " '시키다': 225,\n",
              " '반전': 226,\n",
              " '만나다': 227,\n",
              " '모든': 228,\n",
              " '보지': 229,\n",
              " '건강': 230,\n",
              " '다니다': 231,\n",
              " '끄다': 232,\n",
              " '영': 233,\n",
              " '이상': 234,\n",
              " '한': 235,\n",
              " '솔직하다': 236,\n",
              " '코미디': 237,\n",
              " '일본': 238,\n",
              " '매력': 239,\n",
              " '아주': 240,\n",
              " '전개': 241,\n",
              " '대한': 242,\n",
              " '고민': 243,\n",
              " '눈': 244,\n",
              " '몸': 245,\n",
              " '멋지다': 246,\n",
              " '데': 247,\n",
              " '조금': 248,\n",
              " '웃기다': 249,\n",
              " '얘기': 250,\n",
              " '생기다': 251,\n",
              " '불안하다': 252,\n",
              " '공부': 253,\n",
              " '잼': 254,\n",
              " '해보다': 255,\n",
              " '제': 256,\n",
              " '음악': 257,\n",
              " '남': 258,\n",
              " '학교': 259,\n",
              " '수가': 260,\n",
              " '병원': 261,\n",
              " '열심히': 262,\n",
              " '근데': 263,\n",
              " '아직': 264,\n",
              " '나가다': 265,\n",
              " '딸': 266,\n",
              " '추천': 267,\n",
              " '원작': 268,\n",
              " '함': 269,\n",
              " '유치하다': 270,\n",
              " '인간': 271,\n",
              " '문제': 272,\n",
              " '시작': 273,\n",
              " '위해': 274,\n",
              " '지다': 275,\n",
              " '전혀': 276,\n",
              " '자체': 277,\n",
              " '그래서': 278,\n",
              " '캐릭터': 279,\n",
              " '뭔가': 280,\n",
              " '갑자기': 281,\n",
              " '자기': 282,\n",
              " '오랜': 283,\n",
              " '세상': 284,\n",
              " '이유': 285,\n",
              " '자신': 286,\n",
              " '미치다': 287,\n",
              " '가지': 288,\n",
              " '나서다': 289,\n",
              " '사실': 290,\n",
              " '취업': 291,\n",
              " '비': 292,\n",
              " '실망': 293,\n",
              " '느껴지다': 294,\n",
              " '기': 295,\n",
              " '도': 296,\n",
              " '당황': 297,\n",
              " '제대로': 298,\n",
              " '기대하다': 299,\n",
              " '반': 300,\n",
              " '표현': 301,\n",
              " '어렵다': 302,\n",
              " '대다': 303,\n",
              " '찍다': 304,\n",
              " '부분': 305,\n",
              " '준': 306,\n",
              " '제일': 307,\n",
              " '위': 308,\n",
              " '치다': 309,\n",
              " '그렇게': 310,\n",
              " '아빠': 311,\n",
              " '요': 312,\n",
              " '대해': 313,\n",
              " '해도': 314,\n",
              " '놈': 315,\n",
              " '이쁘다': 316,\n",
              " '속상하다': 317,\n",
              " '빠지다': 318,\n",
              " '대박': 319,\n",
              " '걸다': 320,\n",
              " '시리즈': 321,\n",
              " '써다': 322,\n",
              " '여운': 323,\n",
              " '신': 324,\n",
              " '중간': 325,\n",
              " '노후': 326,\n",
              " '연기력': 327,\n",
              " '항상': 328,\n",
              " '영상': 329,\n",
              " '뭘': 330,\n",
              " '공감': 331,\n",
              " '허다': 332,\n",
              " '이상하다': 333,\n",
              " '아직도': 334,\n",
              " '욕': 335,\n",
              " '개봉': 336,\n",
              " '기쁘다': 337,\n",
              " '삶': 338,\n",
              " '넘다': 339,\n",
              " '개인': 340,\n",
              " '답답하다': 341,\n",
              " '울다': 342,\n",
              " '상황': 343,\n",
              " '진심': 344,\n",
              " '나쁘다': 345,\n",
              " '필요': 346,\n",
              " '뭔': 347,\n",
              " '거지': 348,\n",
              " '적': 349,\n",
              " '움': 350,\n",
              " '스트레스': 351,\n",
              " '후회': 352,\n",
              " '새롭다': 353,\n",
              " '점수': 354,\n",
              " '뿐': 355,\n",
              " '찾다': 356,\n",
              " '빼다': 357,\n",
              " '싸우다': 358,\n",
              " '안되다': 359,\n",
              " '예쁘다': 360,\n",
              " '함께': 361,\n",
              " '곳': 362,\n",
              " '대단하다': 363,\n",
              " '귀엽다': 364,\n",
              " '놓다': 365,\n",
              " '우울하다': 366,\n",
              " '짜다': 367,\n",
              " '걸리다': 368,\n",
              " '두다': 369,\n",
              " '선생님': 370,\n",
              " '명': 371,\n",
              " '부족하다': 372,\n",
              " '몰입': 373,\n",
              " '제목': 374,\n",
              " '극장': 375,\n",
              " '웃다': 376,\n",
              " '급': 377,\n",
              " '은퇴': 378,\n",
              " '소리': 379,\n",
              " '뒤': 380,\n",
              " '대사': 381,\n",
              " '쉬다': 382,\n",
              " '무엇': 383,\n",
              " '노래': 384,\n",
              " '충격': 385,\n",
              " '얼마나': 386,\n",
              " '연락': 387,\n",
              " '여': 388,\n",
              " '잔잔하다': 389,\n",
              " '나름': 390,\n",
              " '작가': 391,\n",
              " '공포': 392,\n",
              " '특히': 393,\n",
              " '행복하다': 394,\n",
              " '업무': 395,\n",
              " '잊다': 396,\n",
              " '시': 397,\n",
              " '예전': 398,\n",
              " '성적': 399,\n",
              " '한번': 400,\n",
              " '감정': 401,\n",
              " '도대체': 402,\n",
              " '짱': 403,\n",
              " '어제': 404,\n",
              " '딱': 405,\n",
              " '긴장감': 406,\n",
              " '애니': 407,\n",
              " '스릴러': 408,\n",
              " '의미': 409,\n",
              " '엄청': 410,\n",
              " '심하다': 411,\n",
              " '아무리': 412,\n",
              " '보내다': 413,\n",
              " '더럽다': 414,\n",
              " '빨리': 415,\n",
              " '차라리': 416,\n",
              " '깊다': 417,\n",
              " '세': 418,\n",
              " '언제': 419,\n",
              " '절대': 420,\n",
              " '힘드다': 421,\n",
              " '술': 422,\n",
              " '점도': 423,\n",
              " '보': 424,\n",
              " '굿': 425,\n",
              " '결국': 426,\n",
              " '영화로': 427,\n",
              " '친하다': 428,\n",
              " '남자친구': 429,\n",
              " '당시': 430,\n",
              " '우리나라': 431,\n",
              " '미안하다': 432,\n",
              " '생각나다': 433,\n",
              " '물': 434,\n",
              " '얼굴': 435,\n",
              " '훌륭하다': 436,\n",
              " '정신': 437,\n",
              " '노력': 438,\n",
              " '상처': 439,\n",
              " '작': 440,\n",
              " '따뜻하다': 441,\n",
              " '시험': 442,\n",
              " '놀라다': 443,\n",
              " '분위기': 444,\n",
              " '필요하다': 445,\n",
              " '둘': 446,\n",
              " '용': 447,\n",
              " '상사': 448,\n",
              " '다음': 449,\n",
              " '잘못': 450,\n",
              " '어설프다': 451,\n",
              " '들어가다': 452,\n",
              " '운동': 453,\n",
              " '떠나다': 454,\n",
              " '동안': 455,\n",
              " '주': 456,\n",
              " '듣다': 457,\n",
              " '막장': 458,\n",
              " '웃음': 459,\n",
              " '점점': 460,\n",
              " '건강하다': 461,\n",
              " '얼마': 462,\n",
              " '미국': 463,\n",
              " '모으다': 464,\n",
              " '시대': 465,\n",
              " '어디': 466,\n",
              " '공포영화': 467,\n",
              " '생활': 468,\n",
              " '장난': 469,\n",
              " '대화': 470,\n",
              " '한심하다': 471,\n",
              " '서다': 472,\n",
              " '봄': 473,\n",
              " '오': 474,\n",
              " '머리': 475,\n",
              " '다르다': 476,\n",
              " '매우': 477,\n",
              " '쓸다': 478,\n",
              " '그리다': 479,\n",
              " '동생': 480,\n",
              " '적다': 481,\n",
              " '멋있다': 482,\n",
              " '갈다': 483,\n",
              " '엔딩': 484,\n",
              " '챙기다': 485,\n",
              " '어이없다': 486,\n",
              " '매일': 487,\n",
              " '감사하다': 488,\n",
              " '네': 489,\n",
              " '배우다': 490,\n",
              " '훨씬': 491,\n",
              " '연대': 492,\n",
              " '초반': 493,\n",
              " '등': 494,\n",
              " '그저': 495,\n",
              " '즐겁다': 496,\n",
              " '수도': 497,\n",
              " '꿈': 498,\n",
              " '이후': 499,\n",
              " '화': 500,\n",
              " '평가': 501,\n",
              " '소름': 502,\n",
              " '관객': 503,\n",
              " '건가': 504,\n",
              " '라면': 505,\n",
              " '직원': 506,\n",
              " '마르다': 507,\n",
              " '추억': 508,\n",
              " '설정': 509,\n",
              " '신경': 510,\n",
              " '빌리다': 511,\n",
              " '안타깝다': 512,\n",
              " '시절': 513,\n",
              " '원': 514,\n",
              " '알바': 515,\n",
              " '수작': 516,\n",
              " '팬': 517,\n",
              " '이르다': 518,\n",
              " '먼저': 519,\n",
              " '망하다': 520,\n",
              " '캐스팅': 521,\n",
              " '누구': 522,\n",
              " '주변': 523,\n",
              " '신선하다': 524,\n",
              " '시나리오': 525,\n",
              " '병': 526,\n",
              " '노': 527,\n",
              " '출연': 528,\n",
              " '그런데': 529,\n",
              " '다행': 530,\n",
              " '인상': 531,\n",
              " '맘': 532,\n",
              " '멀다': 533,\n",
              " '두렵다': 534,\n",
              " '연애': 535,\n",
              " '젊다': 536,\n",
              " '애니메이션': 537,\n",
              " '팀': 538,\n",
              " '여자친구': 539,\n",
              " '암': 540,\n",
              " '힘': 541,\n",
              " '집중': 542,\n",
              " '졸작': 543,\n",
              " '접': 544,\n",
              " '고': 545,\n",
              " '어색하다': 546,\n",
              " '그것': 547,\n",
              " '기다': 548,\n",
              " '지내다': 549,\n",
              " '비교': 550,\n",
              " '최고다': 551,\n",
              " '영화인': 552,\n",
              " '답': 553,\n",
              " '죽이다': 554,\n",
              " '갈수록': 555,\n",
              " '부끄럽다': 556,\n",
              " '달라': 557,\n",
              " '구': 558,\n",
              " '어울리다': 559,\n",
              " '억지': 560,\n",
              " '옛날': 561,\n",
              " '여러': 562,\n",
              " '기다리다': 563,\n",
              " '살리다': 564,\n",
              " '서로': 565,\n",
              " '제발': 566,\n",
              " '결과': 567,\n",
              " '대': 568,\n",
              " '무시': 569,\n",
              " '영화관': 570,\n",
              " '사이': 571,\n",
              " '여행': 572,\n",
              " '기도': 573,\n",
              " '너': 574,\n",
              " '고맙다': 575,\n",
              " '전쟁': 576,\n",
              " '하': 577,\n",
              " '편하다': 578,\n",
              " '따다': 579,\n",
              " '원하다': 580,\n",
              " '코믹': 581,\n",
              " '괴롭히다': 582,\n",
              " '비다': 583,\n",
              " '이름': 584,\n",
              " '읽다': 585,\n",
              " '지루함': 586,\n",
              " '따르다': 587,\n",
              " '불편하다': 588,\n",
              " '너무나': 589,\n",
              " '늘다': 590,\n",
              " '더빙': 591,\n",
              " '포스터': 592,\n",
              " '꽤': 593,\n",
              " '달': 594,\n",
              " '동료': 595,\n",
              " '충분하다': 596,\n",
              " '누가': 597,\n",
              " '젠': 598,\n",
              " '이딴': 599,\n",
              " '구성': 600,\n",
              " '온': 601,\n",
              " '책': 602,\n",
              " '오래': 603,\n",
              " '언니': 604,\n",
              " '어느': 605,\n",
              " '완벽하다': 606,\n",
              " '낫다': 607,\n",
              " '바로': 608,\n",
              " '개연': 609,\n",
              " '여기': 610,\n",
              " '드리다': 611,\n",
              " '역사': 612,\n",
              " '중이': 613,\n",
              " '초등학생': 614,\n",
              " '비슷하다': 615,\n",
              " '배경': 616,\n",
              " '고생': 617,\n",
              " '중요하다': 618,\n",
              " '죽': 619,\n",
              " '킬링타임': 620,\n",
              " '좋아지다': 621,\n",
              " '지': 622,\n",
              " '진': 623,\n",
              " '치료': 624,\n",
              " '척': 625,\n",
              " '약': 626,\n",
              " '궁금하다': 627,\n",
              " '대학': 628,\n",
              " '괴롭다': 629,\n",
              " '대체': 630,\n",
              " '예술': 631,\n",
              " '들이다': 632,\n",
              " '관심': 633,\n",
              " '울': 634,\n",
              " '면접': 635,\n",
              " '자주': 636,\n",
              " '엉': 637,\n",
              " '스릴': 638,\n",
              " '티브이': 639,\n",
              " '관계': 640,\n",
              " '사회': 641,\n",
              " '열': 642,\n",
              " '유쾌하다': 643,\n",
              " '불쌍하다': 644,\n",
              " '만화': 645,\n",
              " '이리': 646,\n",
              " '실수': 647,\n",
              " '잠': 648,\n",
              " '자': 649,\n",
              " '질': 650,\n",
              " '한마디': 651,\n",
              " '주연': 652,\n",
              " '혼란': 653,\n",
              " '진부하다': 654,\n",
              " '머': 655,\n",
              " '몰입도': 656,\n",
              " '사': 657,\n",
              " '아버지': 658,\n",
              " '음': 659,\n",
              " '돌리다': 660,\n",
              " '최근': 661,\n",
              " '간': 662,\n",
              " '후반': 663,\n",
              " '약간': 664,\n",
              " '조': 665,\n",
              " '들어오다': 666,\n",
              " '첨': 667,\n",
              " '거의': 668,\n",
              " '그대로': 669,\n",
              " '억울하다': 670,\n",
              " '그때': 671,\n",
              " '밥': 672,\n",
              " '갖다': 673,\n",
              " '그나마': 674,\n",
              " '바라다': 675,\n",
              " '그동안': 676,\n",
              " '그게': 677,\n",
              " '굉장하다': 678,\n",
              " '웃기': 679,\n",
              " '관리': 680,\n",
              " '놀다': 681,\n",
              " '행동': 682,\n",
              " '터지다': 683,\n",
              " '뜨다': 684,\n",
              " '편이': 685,\n",
              " '사다': 686,\n",
              " 'ㅉㅉ': 687,\n",
              " '성': 688,\n",
              " '바람': 689,\n",
              " '전부': 690,\n",
              " '형': 691,\n",
              " '손': 692,\n",
              " '벌써': 693,\n",
              " '장르': 694,\n",
              " '시즌': 695,\n",
              " '늦다': 696,\n",
              " '순간': 697,\n",
              " '로맨스': 698,\n",
              " '부': 699,\n",
              " '바꾸다': 700,\n",
              " '잡다': 701,\n",
              " '방송': 702,\n",
              " '걸작': 703,\n",
              " '도와주다': 704,\n",
              " '인정': 705,\n",
              " '내일': 706,\n",
              " '총': 707,\n",
              " '괜히': 708,\n",
              " '뭐라다': 709,\n",
              " '그만': 710,\n",
              " '회': 711,\n",
              " '수술': 712,\n",
              " '타다': 713,\n",
              " '맞추다': 714,\n",
              " '풀다': 715,\n",
              " '류': 716,\n",
              " '지나다': 717,\n",
              " '메시지': 718,\n",
              " '넣다': 719,\n",
              " '엄청나다': 720,\n",
              " '때리다': 721,\n",
              " '늙다': 722,\n",
              " '도움': 723,\n",
              " '인물': 724,\n",
              " '은': 725,\n",
              " '땜': 726,\n",
              " '의사': 727,\n",
              " '강추': 728,\n",
              " '가지다': 729,\n",
              " '선택': 730,\n",
              " '잃다': 731,\n",
              " '어쩔': 732,\n",
              " '막': 733,\n",
              " '다큐': 734,\n",
              " '만큼': 735,\n",
              " '망치다': 736,\n",
              " '실망하다': 737,\n",
              " '실화': 738,\n",
              " '들어서다': 739,\n",
              " '바쁘다': 740,\n",
              " '원래': 741,\n",
              " '따돌림': 742,\n",
              " '발': 743,\n",
              " '선': 744,\n",
              " '올리다': 745,\n",
              " '연': 746,\n",
              " '전체': 747,\n",
              " '남기다': 748,\n",
              " '투자': 749,\n",
              " '순수하다': 750,\n",
              " '목소리': 751,\n",
              " '일단': 752,\n",
              " '글': 753,\n",
              " '상당하다': 754,\n",
              " '배신': 755,\n",
              " '보이': 756,\n",
              " '밉다': 757,\n",
              " '평생': 758,\n",
              " '하루': 759,\n",
              " '존나': 760,\n",
              " '화나다': 761,\n",
              " '소설': 762,\n",
              " '키우다': 763,\n",
              " '돌아가다': 764,\n",
              " '면': 765,\n",
              " '간다': 766,\n",
              " '네이버': 767,\n",
              " '진행': 768,\n",
              " '마': 769,\n",
              " '한다는': 770,\n",
              " '존재': 771,\n",
              " '배': 772,\n",
              " '리': 773,\n",
              " '길': 774,\n",
              " '나라': 775,\n",
              " '평소': 776,\n",
              " '즐기다': 777,\n",
              " '크게': 778,\n",
              " '화려하다': 779,\n",
              " '중국': 780,\n",
              " '판': 781,\n",
              " '부르다': 782,\n",
              " '잔인하다': 783,\n",
              " '맛': 784,\n",
              " '하니': 785,\n",
              " '차': 786,\n",
              " '첫': 787,\n",
              " '판타지': 788,\n",
              " '이기다': 789,\n",
              " '비디오': 790,\n",
              " '여배우': 791,\n",
              " '감성': 792,\n",
              " '죽음': 793,\n",
              " '찾아보다': 794,\n",
              " '선물': 795,\n",
              " '로': 796,\n",
              " '피': 797,\n",
              " '늘': 798,\n",
              " '거리': 799,\n",
              " '주제': 800,\n",
              " '할머니': 801,\n",
              " '바': 802,\n",
              " '능력': 803,\n",
              " '성하다': 804,\n",
              " '게임': 805,\n",
              " '실제': 806,\n",
              " '드': 807,\n",
              " '세계': 808,\n",
              " '오래간만': 809,\n",
              " '교훈': 810,\n",
              " '가끔': 811,\n",
              " '물어보다': 812,\n",
              " '극': 813,\n",
              " '김': 814,\n",
              " '어른': 815,\n",
              " '진정하다': 816,\n",
              " '그다지': 817,\n",
              " '그녀': 818,\n",
              " '다운로드': 819,\n",
              " '가볍다': 820,\n",
              " '아침': 821,\n",
              " '싫어하다': 822,\n",
              " '돋다': 823,\n",
              " '제작': 824,\n",
              " '시청률': 825,\n",
              " '땐': 826,\n",
              " '여주': 827,\n",
              " '방법': 828,\n",
              " '너무하다': 829,\n",
              " '아기': 830,\n",
              " '만점': 831,\n",
              " '코로나': 832,\n",
              " '히': 833,\n",
              " '짓': 834,\n",
              " '오르다': 835,\n",
              " '사랑스럽다': 836,\n",
              " '성룡': 837,\n",
              " '당신': 838,\n",
              " '오히려': 839,\n",
              " '저런': 840,\n",
              " '발연기': 841,\n",
              " '오빠': 842,\n",
              " '작다': 843,\n",
              " '새끼': 844,\n",
              " '의도': 845,\n",
              " '확실하다': 846,\n",
              " '허무하다': 847,\n",
              " '삼류': 848,\n",
              " '산': 849,\n",
              " '불다': 850,\n",
              " '동기': 851,\n",
              " '역': 852,\n",
              " '똑같다': 853,\n",
              " '더욱': 854,\n",
              " '질질': 855,\n",
              " '파이팅': 856,\n",
              " '거기': 857,\n",
              " '만하': 858,\n",
              " '관': 859,\n",
              " '꿀': 860,\n",
              " '정': 861,\n",
              " '가치': 862,\n",
              " '귀찮다': 863,\n",
              " '할리우드': 864,\n",
              " '벌다': 865,\n",
              " '상영': 866,\n",
              " '웬만하다': 867,\n",
              " '멜로': 868,\n",
              " '극장판': 869,\n",
              " '곧': 870,\n",
              " '나중': 871,\n",
              " '어디서': 872,\n",
              " '독특하다': 873,\n",
              " '엉망': 874,\n",
              " '낭비': 875,\n",
              " '방': 876,\n",
              " '단순하다': 877,\n",
              " '덕분': 878,\n",
              " '초': 879,\n",
              " '참고': 880,\n",
              " '진로': 881,\n",
              " '드디어': 882,\n",
              " '성우': 883,\n",
              " '생': 884,\n",
              " '밑': 885,\n",
              " '음식': 886,\n",
              " '맡다': 887,\n",
              " '소': 888,\n",
              " '노인': 889,\n",
              " '넘치다': 890,\n",
              " '티': 891,\n",
              " '편안하다': 892,\n",
              " '복수': 893,\n",
              " '각본': 894,\n",
              " '스타일': 895,\n",
              " '란': 896,\n",
              " '혹시': 897,\n",
              " '연도': 898,\n",
              " '만들어지다': 899,\n",
              " '그러나': 900,\n",
              " '상태': 901,\n",
              " '한편': 902,\n",
              " '어이': 903,\n",
              " '폭력': 904,\n",
              " '담다': 905,\n",
              " '평론가': 906,\n",
              " '재': 907,\n",
              " '줄거리': 908,\n",
              " '전화': 909,\n",
              " '좀비': 910,\n",
              " '지겹다': 911,\n",
              " '야하다': 912,\n",
              " '새': 913,\n",
              " '흥미롭다': 914,\n",
              " '평': 915,\n",
              " '없어지다': 916,\n",
              " '미래': 917,\n",
              " '포기': 918,\n",
              " '재미나': 919,\n",
              " '터': 920,\n",
              " '이하': 921,\n",
              " '프로젝트': 922,\n",
              " '시선': 923,\n",
              " '낳다': 924,\n",
              " '마무리': 925,\n",
              " '요새': 926,\n",
              " '굳다': 927,\n",
              " '물론': 928,\n",
              " '똥': 929,\n",
              " '가게': 930,\n",
              " '그만두다': 931,\n",
              " '짐': 932,\n",
              " '소중하다': 933,\n",
              " '옆': 934,\n",
              " '외': 935,\n",
              " '달다': 936,\n",
              " '끼리': 937,\n",
              " '바뀌다': 938,\n",
              " '오글거리다': 939,\n",
              " '승진': 940,\n",
              " '사고': 941,\n",
              " '합격': 942,\n",
              " '되게': 943,\n",
              " '도저히': 944,\n",
              " '요소': 945,\n",
              " '응': 946,\n",
              " '가기': 947,\n",
              " '설명': 948,\n",
              " '옷': 949,\n",
              " '예상': 950,\n",
              " '주말': 951,\n",
              " '화면': 952,\n",
              " '모': 953,\n",
              " '자리': 954,\n",
              " '짧다': 955,\n",
              " '이미': 956,\n",
              " '흥행': 957,\n",
              " '식': 958,\n",
              " '헤어지다': 959,\n",
              " '가면': 960,\n",
              " '댓글': 961,\n",
              " '얻다': 962,\n",
              " '지키다': 963,\n",
              " '해결': 964,\n",
              " '사라지다': 965,\n",
              " '살아가다': 966,\n",
              " '무조건': 967,\n",
              " '질투': 968,\n",
              " '매번': 969,\n",
              " '적당하다': 970,\n",
              " '피우다': 971,\n",
              " '단': 972,\n",
              " '거짓말': 973,\n",
              " '인하다': 974,\n",
              " '효과': 975,\n",
              " '희생': 976,\n",
              " '올해': 977,\n",
              " '과': 978,\n",
              " '바보': 979,\n",
              " '뛰어나다': 980,\n",
              " '억지스럽다': 981,\n",
              " '또한': 982,\n",
              " '타임': 983,\n",
              " '부부': 984,\n",
              " '모임': 985,\n",
              " '억지로': 986,\n",
              " '누나': 987,\n",
              " '역겹다': 988,\n",
              " '눈치': 989,\n",
              " '완성': 990,\n",
              " '통해': 991,\n",
              " '입다': 992,\n",
              " '흐르다': 993,\n",
              " '우연히': 994,\n",
              " '귀': 995,\n",
              " '일어나다': 996,\n",
              " '밤': 997,\n",
              " '스스로': 998,\n",
              " '맨날': 999,\n",
              " '사건': 1000,\n",
              " ...}"
            ]
          },
          "metadata": {},
          "execution_count": 27
        }
      ]
    },
    {
      "cell_type": "code",
      "source": [
        "threshold = 3\n",
        "total_cnt = len(tokenizer.word_index) # 단어의 수\n",
        "rare_cnt = 0 # 등장 빈도수가 threshold보다 작은 단어의 개수를 카운트\n",
        "total_freq = 0 # 훈련 데이터의 전체 단어 빈도수 총 합\n",
        "rare_freq = 0 # 등장 빈도수가 threshold보다 작은 단어의 등장 빈도수의 총 합\n",
        "\n",
        "# 단어와 빈도수의 쌍(pair)을 key와 value로 받는다.\n",
        "for key, value in tokenizer.word_counts.items():\n",
        "    total_freq = total_freq + value\n",
        "\n",
        "    # 단어의 등장 빈도수가 threshold보다 작으면\n",
        "    if(value < threshold):\n",
        "        rare_cnt = rare_cnt + 1\n",
        "        rare_freq = rare_freq + value\n",
        "\n",
        "print('단어 집합(vocabulary)의 크기 :',total_cnt)\n",
        "print('등장 빈도가 %s번 이하인 희귀 단어의 수: %s'%(threshold - 1, rare_cnt))\n",
        "print(\"단어 집합에서 희귀 단어의 비율:\", (rare_cnt / total_cnt)*100)\n",
        "print(\"전체 등장 빈도에서 희귀 단어 등장 빈도 비율:\", (rare_freq / total_freq)*100)"
      ],
      "metadata": {
        "colab": {
          "base_uri": "https://localhost:8080/"
        },
        "id": "RwpJ4YVpcaez",
        "outputId": "6372dc58-13e6-4bed-b7c0-38e96932ee2c"
      },
      "execution_count": null,
      "outputs": [
        {
          "output_type": "stream",
          "name": "stdout",
          "text": [
            "단어 집합(vocabulary)의 크기 : 38543\n",
            "등장 빈도가 2번 이하인 희귀 단어의 수: 18717\n",
            "단어 집합에서 희귀 단어의 비율: 48.56134706691228\n",
            "전체 등장 빈도에서 희귀 단어 등장 빈도 비율: 1.0859015167259198\n"
          ]
        }
      ]
    },
    {
      "cell_type": "code",
      "source": [
        "# 전체 단어 개수 중 빈도수 2이하인 단어는 제거.\n",
        "# 0번 패딩 토큰을 고려하여 + 1\n",
        "vocab_size = total_cnt - rare_cnt + 1\n",
        "print('단어 집합의 크기 :',vocab_size)"
      ],
      "metadata": {
        "colab": {
          "base_uri": "https://localhost:8080/"
        },
        "id": "FG0QR1Y8cai1",
        "outputId": "ed07cf17-f7c4-4f10-e828-bbec9fc4d515"
      },
      "execution_count": null,
      "outputs": [
        {
          "output_type": "stream",
          "name": "stdout",
          "text": [
            "단어 집합의 크기 : 19827\n"
          ]
        }
      ]
    },
    {
      "cell_type": "code",
      "source": [
        "tokenizer = Tokenizer(vocab_size) #\tthe maximum number of words to keep, based on word frequency. Only the most common num_words-1 words will be kept.\n",
        "tokenizer.fit_on_texts(X_train)\n",
        "X_train = tokenizer.texts_to_sequences(X_train)\n",
        "X_test = tokenizer.texts_to_sequences(X_test)"
      ],
      "metadata": {
        "id": "lAELVKSsNSMs"
      },
      "execution_count": null,
      "outputs": []
    },
    {
      "cell_type": "code",
      "source": [
        "print(X_train[0])"
      ],
      "metadata": {
        "colab": {
          "base_uri": "https://localhost:8080/"
        },
        "id": "j_lrCSg3erjm",
        "outputId": "0d56ae08-16b5-4c86-ba55-8dddfad7d11e"
      },
      "execution_count": null,
      "outputs": [
        {
          "output_type": "stream",
          "name": "stdout",
          "text": [
            "[140, 40, 367, 157, 49, 237, 2]\n"
          ]
        }
      ]
    },
    {
      "cell_type": "code",
      "source": [
        "reversed = {n:w for w, n in tokenizer.word_index.items()} "
      ],
      "metadata": {
        "id": "adIQ-jnwes3Z"
      },
      "execution_count": null,
      "outputs": []
    },
    {
      "cell_type": "code",
      "source": [
        "y_train = np.array(train_data['label'])\n",
        "y_test = np.array(test_data['label'])"
      ],
      "metadata": {
        "id": "KxmD2xUpe8fV"
      },
      "execution_count": null,
      "outputs": []
    },
    {
      "cell_type": "code",
      "source": [
        "drop_train = [index for index, sentence in enumerate(X_train) if len(sentence) < 1]\n",
        "drop_test = [index for index, sentence in enumerate(X_test) if len(sentence) < 1]"
      ],
      "metadata": {
        "id": "YJ1OpxwYfVOa"
      },
      "execution_count": null,
      "outputs": []
    },
    {
      "cell_type": "code",
      "source": [
        "# 빈 샘플들을 제거\n",
        "X_train = np.delete(X_train, drop_train, axis=0)\n",
        "y_train = np.delete(y_train, drop_train, axis=0)\n",
        "print(len(X_train))\n",
        "print(len(y_train))\n",
        "\n",
        "# 빈 샘플들을 제거\n",
        "X_test = np.delete(X_test, drop_test, axis=0)\n",
        "y_test = np.delete(y_test, drop_test, axis=0)\n",
        "print(len(X_test))\n",
        "print(len(y_test))"
      ],
      "metadata": {
        "colab": {
          "base_uri": "https://localhost:8080/"
        },
        "id": "kEPlqmR5fpyN",
        "outputId": "04e4f722-08cc-496f-9681-cf7f19bc0b93"
      },
      "execution_count": null,
      "outputs": [
        {
          "output_type": "stream",
          "name": "stdout",
          "text": [
            "219666\n",
            "219666\n",
            "73186\n",
            "73186\n"
          ]
        },
        {
          "output_type": "stream",
          "name": "stderr",
          "text": [
            "/usr/local/lib/python3.7/dist-packages/numpy/lib/function_base.py:4454: VisibleDeprecationWarning: Creating an ndarray from ragged nested sequences (which is a list-or-tuple of lists-or-tuples-or ndarrays with different lengths or shapes) is deprecated. If you meant to do this, you must specify 'dtype=object' when creating the ndarray.\n",
            "  arr = asarray(arr)\n"
          ]
        }
      ]
    },
    {
      "cell_type": "code",
      "source": [
        "print('리뷰의 최대 길이 :',max(len(review) for review in X_train))\n",
        "print('리뷰의 평균 길이 :',sum(map(len, X_train))/len(X_train))\n",
        "plt.hist([len(review) for review in X_train], bins=50)\n",
        "plt.xlabel('length of samples')\n",
        "plt.ylabel('number of samples')\n",
        "plt.show()"
      ],
      "metadata": {
        "colab": {
          "base_uri": "https://localhost:8080/",
          "height": 316
        },
        "id": "3zUoS3zUfp2h",
        "outputId": "a4864ad4-3431-407a-f320-0c79513a25a3"
      },
      "execution_count": null,
      "outputs": [
        {
          "output_type": "stream",
          "name": "stdout",
          "text": [
            "리뷰의 최대 길이 : 66\n",
            "리뷰의 평균 길이 : 9.728624366083054\n"
          ]
        },
        {
          "output_type": "display_data",
          "data": {
            "text/plain": [
              "<Figure size 432x288 with 1 Axes>"
            ],
            "image/png": "[encoded data removed]"
          },
          "metadata": {
            "needs_background": "light"
          }
        }
      ]
    },
    {
      "cell_type": "code",
      "source": [
        "def below_threshold_len(max_len, nested_list):\n",
        "  count = 0\n",
        "  for sentence in nested_list:\n",
        "    if(len(sentence) <= max_len):\n",
        "        count = count + 1\n",
        "  print('전체 샘플 중 길이가 %s 이하인 샘플의 비율: %s'%(max_len, (count / len(nested_list))*100))"
      ],
      "metadata": {
        "id": "062DjJjbfp7e"
      },
      "execution_count": null,
      "outputs": []
    },
    {
      "cell_type": "code",
      "source": [
        "max_len = 30\n",
        "below_threshold_len(max_len, X_train)"
      ],
      "metadata": {
        "colab": {
          "base_uri": "https://localhost:8080/"
        },
        "id": "rYL5iq8Nfp_s",
        "outputId": "20a79568-90a3-4103-a5bb-eee3d80c36ee"
      },
      "execution_count": null,
      "outputs": [
        {
          "output_type": "stream",
          "name": "stdout",
          "text": [
            "전체 샘플 중 길이가 30 이하인 샘플의 비율: 96.58253894548997\n"
          ]
        }
      ]
    },
    {
      "cell_type": "code",
      "source": [
        "X_train = pad_sequences(X_train, maxlen=max_len)\n",
        "X_test = pad_sequences(X_test, maxlen=max_len)"
      ],
      "metadata": {
        "id": "RLMzH3WffqD9"
      },
      "execution_count": null,
      "outputs": []
    },
    {
      "cell_type": "code",
      "source": [
        "X_train"
      ],
      "metadata": {
        "colab": {
          "base_uri": "https://localhost:8080/"
        },
        "id": "-4Cu9mz8fqH9",
        "outputId": "226b05b3-14ca-49cd-a3c9-72dcd9766e09"
      },
      "execution_count": null,
      "outputs": [
        {
          "output_type": "execute_result",
          "data": {
            "text/plain": [
              "array([[   0,    0,    0, ...,   49,  237,    2],\n",
              "       [   0,    0,    0, ...,    1,    7,   10],\n",
              "       [   0,    0,    0, ..., 1924,    1,   44],\n",
              "       ...,\n",
              "       [   0,    0,    0, ...,  346,    5,  167],\n",
              "       [   0,    0,    0, ...,   53, 3271,    3],\n",
              "       [   0,    0,    0, ..., 4240,   32,   73]], dtype=int32)"
            ]
          },
          "metadata": {},
          "execution_count": 40
        }
      ]
    },
    {
      "cell_type": "code",
      "source": [
        "np.save('/content/gdrive/MyDrive/CUAI 하계 컨퍼런스 프로젝트/data preprocessing 최종/X_train.npy', X_train)\n",
        "np.save('/content/gdrive/MyDrive/CUAI 하계 컨퍼런스 프로젝트/data preprocessing 최종/X_test.npy', X_test)\n",
        "\n",
        "np.save('/content/gdrive/MyDrive/CUAI 하계 컨퍼런스 프로젝트/data preprocessing 최종/y_train.npy', y_train)\n",
        "np.save('/content/gdrive/MyDrive/CUAI 하계 컨퍼런스 프로젝트/data preprocessing 최종/y_test.npy', y_test)"
      ],
      "metadata": {
        "id": "ODxmx9KzfqMH"
      },
      "execution_count": null,
      "outputs": []
    },
    {
      "cell_type": "markdown",
      "source": [
        "# 여기서부터 시작하면 된다."
      ],
      "metadata": {
        "id": "qYr375S72_qo"
      }
    },
    {
      "cell_type": "code",
      "source": [
        "X_train = np.load('/content/gdrive/MyDrive/CUAI 하계 컨퍼런스 프로젝트/data preprocessing 최종/X_train.npy', allow_pickle=True)\n",
        "X_test = np.load('/content/gdrive/MyDrive/CUAI 하계 컨퍼런스 프로젝트/data preprocessing 최종/X_test.npy', allow_pickle=True)\n",
        "\n",
        "y_train = np.load('/content/gdrive/MyDrive/CUAI 하계 컨퍼런스 프로젝트/data preprocessing 최종/y_train.npy', allow_pickle=True)\n",
        "y_test = np.load('/content/gdrive/MyDrive/CUAI 하계 컨퍼런스 프로젝트/data preprocessing 최종/y_test.npy', allow_pickle=True)"
      ],
      "metadata": {
        "id": "xlFomUu_fqPw"
      },
      "execution_count": null,
      "outputs": []
    },
    {
      "cell_type": "code",
      "source": [
        "X_train.shape"
      ],
      "metadata": {
        "colab": {
          "base_uri": "https://localhost:8080/"
        },
        "id": "aK4gtBfnhD0j",
        "outputId": "292b3521-3633-4a20-9f68-43e0ce0f4b50"
      },
      "execution_count": null,
      "outputs": [
        {
          "output_type": "execute_result",
          "data": {
            "text/plain": [
              "(219666, 30)"
            ]
          },
          "metadata": {},
          "execution_count": 46
        }
      ]
    },
    {
      "cell_type": "code",
      "source": [
        "X_test.shape"
      ],
      "metadata": {
        "colab": {
          "base_uri": "https://localhost:8080/"
        },
        "id": "Xw4xULJPhFqB",
        "outputId": "d2f12402-2696-4cd5-c90b-49d87b002f9a"
      },
      "execution_count": null,
      "outputs": [
        {
          "output_type": "execute_result",
          "data": {
            "text/plain": [
              "(73186, 30)"
            ]
          },
          "metadata": {},
          "execution_count": 47
        }
      ]
    },
    {
      "cell_type": "code",
      "source": [
        "from tensorflow.keras.layers import Embedding, Dense, LSTM\n",
        "from tensorflow.keras.models import Sequential\n",
        "from tensorflow.keras.models import load_model\n",
        "from tensorflow.keras.callbacks import EarlyStopping, ModelCheckpoint\n",
        "\n",
        "embedding_dim = 100\n",
        "hidden_units = 128\n",
        "\n",
        "model = Sequential()\n",
        "model.add(Embedding(vocab_size, embedding_dim))\n",
        "model.add(LSTM(hidden_units))\n",
        "model.add(Dense(1, activation='sigmoid'))\n",
        "\n",
        "es = EarlyStopping(monitor='val_loss', mode='min', verbose=1, patience=4)\n",
        "mc = ModelCheckpoint('/content/gdrive/MyDrive/CUAI 하계 컨퍼런스 프로젝트/data preprocessing 최종/best_lstm_model.h5', monitor='val_acc', mode='max', verbose=1, save_best_only=True)\n",
        "\n",
        "model.compile(optimizer='rmsprop', loss='binary_crossentropy', metrics=['acc'])\n",
        "\n",
        "with tf.device('/GPU:0'):\n",
        "  history = model.fit(X_train, y_train, epochs=15, callbacks=[es, mc], batch_size=64, validation_split=0.2)"
      ],
      "metadata": {
        "colab": {
          "base_uri": "https://localhost:8080/"
        },
        "id": "jd1e6pXCkWlA",
        "outputId": "b0409c81-ae06-444d-e9c9-1f3ffa0cdfb0"
      },
      "execution_count": null,
      "outputs": [
        {
          "output_type": "stream",
          "name": "stdout",
          "text": [
            "Epoch 1/15\n",
            "2743/2746 [============================>.] - ETA: 0s - loss: 0.3779 - acc: 0.8339\n",
            "Epoch 1: val_acc improved from -inf to 0.85460, saving model to /content/gdrive/MyDrive/CUAI 하계 컨퍼런스 프로젝트/data preprocessing 최종/best_lstm_model.h5\n",
            "2746/2746 [==============================] - 33s 9ms/step - loss: 0.3779 - acc: 0.8338 - val_loss: 0.3373 - val_acc: 0.8546\n",
            "Epoch 2/15\n",
            "2743/2746 [============================>.] - ETA: 0s - loss: 0.3219 - acc: 0.8635\n",
            "Epoch 2: val_acc improved from 0.85460 to 0.86186, saving model to /content/gdrive/MyDrive/CUAI 하계 컨퍼런스 프로젝트/data preprocessing 최종/best_lstm_model.h5\n",
            "2746/2746 [==============================] - 24s 9ms/step - loss: 0.3218 - acc: 0.8635 - val_loss: 0.3226 - val_acc: 0.8619\n",
            "Epoch 3/15\n",
            "2741/2746 [============================>.] - ETA: 0s - loss: 0.2986 - acc: 0.8760\n",
            "Epoch 3: val_acc improved from 0.86186 to 0.86584, saving model to /content/gdrive/MyDrive/CUAI 하계 컨퍼런스 프로젝트/data preprocessing 최종/best_lstm_model.h5\n",
            "2746/2746 [==============================] - 22s 8ms/step - loss: 0.2985 - acc: 0.8760 - val_loss: 0.3201 - val_acc: 0.8658\n",
            "Epoch 4/15\n",
            "2745/2746 [============================>.] - ETA: 0s - loss: 0.2813 - acc: 0.8845\n",
            "Epoch 4: val_acc improved from 0.86584 to 0.86607, saving model to /content/gdrive/MyDrive/CUAI 하계 컨퍼런스 프로젝트/data preprocessing 최종/best_lstm_model.h5\n",
            "2746/2746 [==============================] - 22s 8ms/step - loss: 0.2813 - acc: 0.8845 - val_loss: 0.3124 - val_acc: 0.8661\n",
            "Epoch 5/15\n",
            "2742/2746 [============================>.] - ETA: 0s - loss: 0.2663 - acc: 0.8923\n",
            "Epoch 5: val_acc did not improve from 0.86607\n",
            "2746/2746 [==============================] - 22s 8ms/step - loss: 0.2664 - acc: 0.8923 - val_loss: 0.3172 - val_acc: 0.8644\n",
            "Epoch 6/15\n",
            "2746/2746 [==============================] - ETA: 0s - loss: 0.2532 - acc: 0.8985\n",
            "Epoch 6: val_acc improved from 0.86607 to 0.86757, saving model to /content/gdrive/MyDrive/CUAI 하계 컨퍼런스 프로젝트/data preprocessing 최종/best_lstm_model.h5\n",
            "2746/2746 [==============================] - 22s 8ms/step - loss: 0.2532 - acc: 0.8985 - val_loss: 0.3121 - val_acc: 0.8676\n",
            "Epoch 7/15\n",
            "2743/2746 [============================>.] - ETA: 0s - loss: 0.2396 - acc: 0.9046\n",
            "Epoch 7: val_acc did not improve from 0.86757\n",
            "2746/2746 [==============================] - 23s 8ms/step - loss: 0.2395 - acc: 0.9046 - val_loss: 0.3229 - val_acc: 0.8646\n",
            "Epoch 8/15\n",
            "2744/2746 [============================>.] - ETA: 0s - loss: 0.2259 - acc: 0.9102\n",
            "Epoch 8: val_acc did not improve from 0.86757\n",
            "2746/2746 [==============================] - 22s 8ms/step - loss: 0.2260 - acc: 0.9102 - val_loss: 0.3269 - val_acc: 0.8618\n",
            "Epoch 9/15\n",
            "2744/2746 [============================>.] - ETA: 0s - loss: 0.2119 - acc: 0.9180\n",
            "Epoch 9: val_acc did not improve from 0.86757\n",
            "2746/2746 [==============================] - 21s 8ms/step - loss: 0.2119 - acc: 0.9180 - val_loss: 0.3301 - val_acc: 0.8633\n",
            "Epoch 10/15\n",
            "2742/2746 [============================>.] - ETA: 0s - loss: 0.1983 - acc: 0.9236\n",
            "Epoch 10: val_acc did not improve from 0.86757\n",
            "2746/2746 [==============================] - 22s 8ms/step - loss: 0.1984 - acc: 0.9235 - val_loss: 0.3514 - val_acc: 0.8601\n",
            "Epoch 10: early stopping\n"
          ]
        }
      ]
    },
    {
      "cell_type": "markdown",
      "source": [
        "# 모델을 여기서부터"
      ],
      "metadata": {
        "id": "zKChH8wn3YpZ"
      }
    },
    {
      "cell_type": "code",
      "source": [
        "from tensorflow.keras.models import load_model"
      ],
      "metadata": {
        "id": "c2ZxkUoe3cIq"
      },
      "execution_count": null,
      "outputs": []
    },
    {
      "cell_type": "code",
      "source": [
        "loaded_model = load_model('/content/gdrive/MyDrive/CUAI 하계 컨퍼런스 프로젝트/data preprocessing 최종/best_lstm_model.h5')\n",
        "print(\"\\n 테스트 정확도: %.4f\" % (loaded_model.evaluate(X_test, y_test)[1]))"
      ],
      "metadata": {
        "id": "qc6EevPvkY2F",
        "colab": {
          "base_uri": "https://localhost:8080/"
        },
        "outputId": "ac358d37-42a4-470d-d36f-8ef9263d930a"
      },
      "execution_count": null,
      "outputs": [
        {
          "output_type": "stream",
          "name": "stdout",
          "text": [
            "2288/2288 [==============================] - 32s 13ms/step - loss: 0.3158 - acc: 0.8675\n",
            "\n",
            " 테스트 정확도: 0.8675\n"
          ]
        }
      ]
    },
    {
      "cell_type": "code",
      "source": [
        ""
      ],
      "metadata": {
        "id": "6ydHK0O_r_fB"
      },
      "execution_count": null,
      "outputs": []
    },
    {
      "cell_type": "code",
      "source": [
        ""
      ],
      "metadata": {
        "id": "KAex1dQvtwe6"
      },
      "execution_count": null,
      "outputs": []
    },
    {
      "cell_type": "code",
      "source": [
        ""
      ],
      "metadata": {
        "id": "80YGbGaOBVTM"
      },
      "execution_count": null,
      "outputs": []
    },
    {
      "cell_type": "code",
      "source": [
        ""
      ],
      "metadata": {
        "id": "utGBAzF9D2Je"
      },
      "execution_count": null,
      "outputs": []
    }
  ]
}